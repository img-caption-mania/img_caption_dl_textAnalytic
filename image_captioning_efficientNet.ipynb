{
 "cells": [
  {
   "cell_type": "markdown",
   "metadata": {
    "colab_type": "text",
    "id": "K2s1A9eLRPEj"
   },
   "source": [
    "##### Copyright 2018 The TensorFlow Authors.\n"
   ]
  },
  {
   "cell_type": "code",
   "execution_count": null,
   "metadata": {
    "cellView": "form",
    "colab": {},
    "colab_type": "code",
    "id": "VRLVEKiTEn04"
   },
   "outputs": [],
   "source": [
    "#@title Licensed under the Apache License, Version 2.0 (the \"License\");\n",
    "# you may not use this file except in compliance with the License.\n",
    "# You may obtain a copy of the License at\n",
    "#\n",
    "# https://www.apache.org/licenses/LICENSE-2.0\n",
    "#\n",
    "# Unless required by applicable law or agreed to in writing, software\n",
    "# distributed under the License is distributed on an \"AS IS\" BASIS,\n",
    "# WITHOUT WARRANTIES OR CONDITIONS OF ANY KIND, either express or implied.\n",
    "# See the License for the specific language governing permissions and\n",
    "# limitations under the License."
   ]
  },
  {
   "cell_type": "markdown",
   "metadata": {
    "colab_type": "text",
    "id": "Cffg2i257iMS"
   },
   "source": [
    "# Image captioning with visual attention\n",
    "\n"
   ]
  },
  {
   "cell_type": "markdown",
   "metadata": {
    "colab_type": "text",
    "id": "QASbY_HGo4Lq"
   },
   "source": [
    "Given an image like the example below, our goal is to generate a caption such as \"a surfer riding on a wave\".\n",
    "\n",
    "*[Image Source](https://commons.wikimedia.org/wiki/Surfing#/media/File:Surfing_in_Hawaii.jpg); License: Public Domain*\n",
    "\n",
    "To accomplish this, you'll use an attention-based model, which enables us to see what parts of the image the model focuses on as it generates a caption.\n",
    "\n",
    "The model architecture is similar to [Show, Attend and Tell: Neural Image Caption Generation with Visual Attention](https://arxiv.org/abs/1502.03044).\n",
    "\n"
   ]
  },
  {
   "cell_type": "code",
   "execution_count": null,
   "metadata": {
    "colab": {},
    "colab_type": "code",
    "id": "tbZAa_xRpnOo"
   },
   "outputs": [],
   "source": [
    "# from google.colab import drive\n",
    "# drive.mount('/content/drive')"
   ]
  },
  {
   "cell_type": "code",
   "execution_count": 1,
   "metadata": {
    "colab": {},
    "colab_type": "code",
    "id": "U8l4RJ0XRPEm"
   },
   "outputs": [],
   "source": [
    "import tensorflow as tf\n",
    "\n",
    "# You'll generate plots of attention in order to see which parts of an image\n",
    "# our model focuses on during captioning\n",
    "import matplotlib.pyplot as plt\n",
    "\n",
    "# Scikit-learn includes many helpful utilities\n",
    "from sklearn.model_selection import train_test_split\n",
    "from sklearn.utils import shuffle\n",
    "\n",
    "import re\n",
    "import numpy as np\n",
    "import os\n",
    "import time\n",
    "import json\n",
    "from glob import glob\n",
    "from PIL import Image\n",
    "import pickle"
   ]
  },
  {
   "cell_type": "code",
   "execution_count": 2,
   "metadata": {
    "colab": {
     "base_uri": "https://localhost:8080/",
     "height": 34
    },
    "colab_type": "code",
    "id": "wgMhxSCeWdc9",
    "outputId": "e08dd14b-4dd5-4c70-c789-e1000e91f50b"
   },
   "outputs": [
    {
     "data": {
      "text/plain": [
       "'2.3.0'"
      ]
     },
     "execution_count": 2,
     "metadata": {},
     "output_type": "execute_result"
    }
   ],
   "source": [
    "tf.__version__"
   ]
  },
  {
   "cell_type": "code",
   "execution_count": 3,
   "metadata": {
    "colab": {},
    "colab_type": "code",
    "id": "u3IhMP10arpL"
   },
   "outputs": [],
   "source": [
    "# PATH = \"/content/drive/My Drive/img_caption/clean_data\""
   ]
  },
  {
   "cell_type": "code",
   "execution_count": 4,
   "metadata": {},
   "outputs": [],
   "source": [
    "PATH= \"/home/yurio/mainan_yurio/img_cap_to_icitda/img_caption_dl_textAnalytic\""
   ]
  },
  {
   "cell_type": "markdown",
   "metadata": {
    "colab_type": "text",
    "id": "aANEzb5WwSzg"
   },
   "source": [
    "## Read annotation json file "
   ]
  },
  {
   "cell_type": "code",
   "execution_count": 5,
   "metadata": {
    "colab": {},
    "colab_type": "code",
    "id": "4G3b8x8_RPFD"
   },
   "outputs": [],
   "source": [
    "# # Read the json file\n",
    "# with open(PATH + \"/caption_tugu.json\", 'r') as f:\n",
    "#     annotations_tugu = json.load(f)\n",
    "\n",
    "# # Read the json file\n",
    "# with open(PATH + \"/jeram.json\", 'r') as f:\n",
    "#     annotations_jeram = json.load(f)\n",
    "\n",
    "# # Read the json file\n",
    "# with open(PATH + \"/malioboro_1.json\", 'r') as f:\n",
    "#     annotations_malioboro = json.load(f)\n",
    "\n",
    "# # Read the json file\n",
    "# with open(PATH + \"/pendaki.json\", 'r') as f:\n",
    "#     annotations_pendaki = json.load(f)\n",
    "\n",
    "# # Read the json file\n",
    "# with open(PATH + \"/wisata_jeep.json\", 'r') as f:\n",
    "#     annotations_wj = json.load(f)\n"
   ]
  },
  {
   "cell_type": "code",
   "execution_count": 6,
   "metadata": {
    "colab": {
     "base_uri": "https://localhost:8080/",
     "height": 104
    },
    "colab_type": "code",
    "id": "3_eGidc_I9jG",
    "outputId": "2a1c4248-882d-4c49-d138-243340c898b5"
   },
   "outputs": [],
   "source": [
    "# print(len(annotations_tugu))\n",
    "# print(len(annotations_jeram))\n",
    "# print(len(annotations_malioboro))\n",
    "# print(len(annotations_pendaki))\n",
    "# print(len(annotations_wj))"
   ]
  },
  {
   "cell_type": "code",
   "execution_count": 7,
   "metadata": {
    "colab": {},
    "colab_type": "code",
    "id": "H22vKSM2JOvu"
   },
   "outputs": [],
   "source": [
    "# annotations = annotations_tugu + annotations_jeram + annotations_malioboro + annotations_pendaki + annotations_wj"
   ]
  },
  {
   "cell_type": "code",
   "execution_count": 8,
   "metadata": {
    "colab": {},
    "colab_type": "code",
    "id": "P_r7g4fPHOCd"
   },
   "outputs": [],
   "source": [
    "# with open('/content/drive/My Drive/img_caption/clean_data/all_caption.json', 'w') as fp:\n",
    "#     json.dump(annotations, fp)"
   ]
  },
  {
   "cell_type": "code",
   "execution_count": 9,
   "metadata": {
    "colab": {},
    "colab_type": "code",
    "id": "TVOAOlGfqxS1"
   },
   "outputs": [],
   "source": [
    "with open(PATH + \"/all_caption.json\", 'r') as f:\n",
    "  annotations = json.load(f)"
   ]
  },
  {
   "cell_type": "code",
   "execution_count": 10,
   "metadata": {
    "colab": {
     "base_uri": "https://localhost:8080/",
     "height": 34
    },
    "colab_type": "code",
    "id": "d5veRUD_JgjB",
    "outputId": "cac40642-2718-47f6-b44b-fb27a2a312da"
   },
   "outputs": [
    {
     "data": {
      "text/plain": [
       "502"
      ]
     },
     "execution_count": 10,
     "metadata": {},
     "output_type": "execute_result"
    }
   ],
   "source": [
    "len(annotations)"
   ]
  },
  {
   "cell_type": "code",
   "execution_count": 11,
   "metadata": {
    "colab": {
     "base_uri": "https://localhost:8080/",
     "height": 364
    },
    "colab_type": "code",
    "id": "o1J49tEjdNc-",
    "outputId": "787ea0a5-914e-4c5c-92cc-67a9725740ee"
   },
   "outputs": [
    {
     "data": {
      "text/plain": [
       "[{'caption': 'wisata Merapi Kaliadem Private Jeep Tour Yogyakarta',\n",
       "  'image_id': 'bpxyq3gif29ueadrjsk4.jpeg'},\n",
       " {'caption': 'wisata Merapi Kaliadem Private Jeep Tour Yogyakarta',\n",
       "  'image_id': 'wzp84130cv97ehfjod65.jpg'},\n",
       " {'caption': 'foto di atas mobil jeep keren',\n",
       "  'image_id': 'oalhni36vc54x71ywdzm.jpg'},\n",
       " {'caption': 'wisata jeep gunung merapi sleman',\n",
       "  'image_id': '10xw7yod4hm6ucqf3tik.jpg'},\n",
       " {'caption': 'foto di atas mobil jeep keren',\n",
       "  'image_id': '2t5v3lbxsrzuckwhp4oi.jpg'},\n",
       " {'caption': 'wisata jeep gunung merapi sleman',\n",
       "  'image_id': 'fno8gyi0q419dtphs7v2.jpg'},\n",
       " {'caption': 'wisata jeep gunung merapi sleman',\n",
       "  'image_id': '8zy0to4ar1pscw6f5l9k.jpeg'},\n",
       " {'caption': 'serunya naik mobil jeep di medan batu',\n",
       "  'image_id': '8au3feqcg5416z07owml.jpg'},\n",
       " {'caption': 'foto di atas mobil jeep keren',\n",
       "  'image_id': 'mgof6y583zu0itv7cq2w.jpeg'},\n",
       " {'caption': 'foto di atas mobil jeep keren',\n",
       "  'image_id': 'r73sufm4nh0gc9jy2klb.jpg'}]"
      ]
     },
     "execution_count": 11,
     "metadata": {},
     "output_type": "execute_result"
    }
   ],
   "source": [
    "annotations[-10:]"
   ]
  },
  {
   "cell_type": "code",
   "execution_count": 12,
   "metadata": {
    "colab": {},
    "colab_type": "code",
    "id": "ImvqO-8fcdYD"
   },
   "outputs": [],
   "source": [
    "# Store captions and image names in vectors\n",
    "all_captions = []\n",
    "all_img_name_vector = []\n",
    "\n",
    "for annot in annotations:\n",
    "    caption = '<start> ' + annot['caption'] + ' <end>'\n",
    "    image_id = annot['image_id']\n",
    "    full_image_path = PATH + '/dataset_efficientNet/' + '{IMG}'.format(IMG=image_id)\n",
    "# /content/drive/My Drive/img_caption/clean_data/img_gabung\n",
    "    all_img_name_vector.append(full_image_path)\n",
    "    all_captions.append(caption)\n",
    "\n",
    "# Shuffle captions and image_names together\n",
    "# Set a random state\n",
    "train_captions, img_name_vector = shuffle(all_captions,\n",
    "                                          all_img_name_vector,\n",
    "                                          random_state=1)\n",
    "\n",
    "num_examples = 480\n",
    "train_captions = train_captions[:num_examples]\n",
    "img_name_vector = img_name_vector[:num_examples]"
   ]
  },
  {
   "cell_type": "code",
   "execution_count": 13,
   "metadata": {
    "colab": {
     "base_uri": "https://localhost:8080/",
     "height": 190
    },
    "colab_type": "code",
    "id": "cnuDvwJ-ehdO",
    "outputId": "9185a08d-e10e-4a0a-b1ea-36d480b8b580"
   },
   "outputs": [
    {
     "data": {
      "text/plain": [
       "['<start> suasana yang Hanya Bisa Dirasakan Saat Mendaki gunung <end>',\n",
       " '<start> main ke gunung yuk bersama aku iya aku <end>',\n",
       " '<start> sore yang cerah di tugu jogja <end>',\n",
       " '<start> eh ada bapak-bapak bersepeda di tugu jogjakarta <end>',\n",
       " '<start> pendaki perempuan cantik yang buktikan wanita itu tangguh <end>',\n",
       " '<start> tukang becak membawa penumpang di siang hari <end>',\n",
       " '<start> pendaki perempuan cantik yang buktikan wanita itu tangguh <end>',\n",
       " '<start> suasana tugu jogja di sore hari <end>',\n",
       " '<start> tukang becak membawa penumpang di siang hari <end>',\n",
       " '<start> sore yang cerah di tugu jogja <end>']"
      ]
     },
     "execution_count": 13,
     "metadata": {},
     "output_type": "execute_result"
    }
   ],
   "source": [
    "train_captions[:10]"
   ]
  },
  {
   "cell_type": "code",
   "execution_count": 14,
   "metadata": {
    "colab": {
     "base_uri": "https://localhost:8080/",
     "height": 190
    },
    "colab_type": "code",
    "id": "8oD6z2oFej-t",
    "outputId": "df399682-25c0-4897-ee48-b7cee46e651d"
   },
   "outputs": [
    {
     "data": {
      "text/plain": [
       "['/home/yurio/mainan_yurio/img_cap_to_icitda/img_caption_dl_textAnalytic/dataset_efficientNet/2zlw9eoxp4msfn6qakhu.jpg',\n",
       " '/home/yurio/mainan_yurio/img_cap_to_icitda/img_caption_dl_textAnalytic/dataset_efficientNet/gmt8r0ohyk91fzejulbn.jpg',\n",
       " '/home/yurio/mainan_yurio/img_cap_to_icitda/img_caption_dl_textAnalytic/dataset_efficientNet/dp8hgn1735lkvrquioza.jpg',\n",
       " '/home/yurio/mainan_yurio/img_cap_to_icitda/img_caption_dl_textAnalytic/dataset_efficientNet/krucsed29oyvw17zhai6.jpg',\n",
       " '/home/yurio/mainan_yurio/img_cap_to_icitda/img_caption_dl_textAnalytic/dataset_efficientNet/odsibz7uqryf30a8g6xw.jpg',\n",
       " '/home/yurio/mainan_yurio/img_cap_to_icitda/img_caption_dl_textAnalytic/dataset_efficientNet/IMG-20200116-WA0043-1200x900.jpg',\n",
       " '/home/yurio/mainan_yurio/img_cap_to_icitda/img_caption_dl_textAnalytic/dataset_efficientNet/8zox6fsaldq1vcb7eh59.jpg',\n",
       " '/home/yurio/mainan_yurio/img_cap_to_icitda/img_caption_dl_textAnalytic/dataset_efficientNet/57j8ni64gm2tqucdbzv9.jpg',\n",
       " '/home/yurio/mainan_yurio/img_cap_to_icitda/img_caption_dl_textAnalytic/dataset_efficientNet/Maret-2020-Jalan-Malioboro-bakal-bebas-asap-rokok.jpg',\n",
       " '/home/yurio/mainan_yurio/img_cap_to_icitda/img_caption_dl_textAnalytic/dataset_efficientNet/wprxejb97ik5gou2dz41.jpg']"
      ]
     },
     "execution_count": 14,
     "metadata": {},
     "output_type": "execute_result"
    }
   ],
   "source": [
    "img_name_vector[:10]"
   ]
  },
  {
   "cell_type": "code",
   "execution_count": 15,
   "metadata": {
    "colab": {
     "base_uri": "https://localhost:8080/",
     "height": 1000
    },
    "colab_type": "code",
    "id": "n1j2ULHWe0aP",
    "outputId": "aaea9a1f-33d3-4810-8fab-3cb5e588c702",
    "tags": []
   },
   "outputs": [
    {
     "name": "stdout",
     "output_type": "stream",
     "text": [
      "Populating the interactive namespace from numpy and matplotlib\n"
     ]
    },
    {
     "name": "stderr",
     "output_type": "stream",
     "text": [
      "/home/yurio/anaconda3/envs/img_cap/lib/python3.7/site-packages/IPython/core/magics/pylab.py:160: UserWarning: pylab import has clobbered these variables: ['shuffle', 'f']\n",
      "`%matplotlib` prevents importing * from pylab and numpy\n",
      "  \"\\n`%matplotlib` prevents importing * from pylab and numpy\"\n"
     ]
    },
    {
     "data": {
      "image/png": "[encoded data removed]",
      "text/plain": [
       "<Figure size 432x288 with 1 Axes>"
      ]
     },
     "metadata": {
      "needs_background": "light"
     },
     "output_type": "display_data"
    },
    {
     "name": "stdout",
     "output_type": "stream",
     "text": [
      "<start> suasana tugu jogja di sore hari <end>\n",
      "(556, 830, 3)\n",
      "[[[ 49  45  44]\n",
      "  [ 48  44  43]\n",
      "  [ 48  44  43]\n",
      "  ...\n",
      "  [224 229 232]\n",
      "  [224 229 232]\n",
      "  [224 229 232]]\n",
      "\n",
      " [[ 49  45  44]\n",
      "  [ 49  45  44]\n",
      "  [ 50  46  45]\n",
      "  ...\n",
      "  [224 229 232]\n",
      "  [224 229 232]\n",
      "  [224 229 232]]\n",
      "\n",
      " [[ 49  45  44]\n",
      "  [ 50  46  45]\n",
      "  [ 51  47  46]\n",
      "  ...\n",
      "  [224 229 232]\n",
      "  [223 228 231]\n",
      "  [224 229 232]]\n",
      "\n",
      " ...\n",
      "\n",
      " [[248 255 255]\n",
      "  [247 255 255]\n",
      "  [246 254 255]\n",
      "  ...\n",
      "  [ 58  78  69]\n",
      "  [ 57  77  68]\n",
      "  [ 56  76  67]]\n",
      "\n",
      " [[245 253 255]\n",
      "  [245 253 255]\n",
      "  [244 252 254]\n",
      "  ...\n",
      "  [ 55  75  66]\n",
      "  [ 57  77  68]\n",
      "  [ 58  78  69]]\n",
      "\n",
      " [[235 243 245]\n",
      "  [235 243 245]\n",
      "  [235 243 245]\n",
      "  ...\n",
      "  [ 56  76  67]\n",
      "  [ 59  79  70]\n",
      "  [ 61  81  72]]]\n"
     ]
    },
    {
     "data": {
      "image/png": "[encoded data removed]",
      "text/plain": [
       "<Figure size 432x288 with 1 Axes>"
      ]
     },
     "metadata": {
      "needs_background": "light"
     },
     "output_type": "display_data"
    },
    {
     "name": "stdout",
     "output_type": "stream",
     "text": [
      "<start> sore yang cerah di tugu jogja <end>\n",
      "(168, 299, 3)\n",
      "[[[159 163 172]\n",
      "  [152 156 165]\n",
      "  [138 142 151]\n",
      "  ...\n",
      "  [126 141 162]\n",
      "  [126 141 162]\n",
      "  [126 141 162]]\n",
      "\n",
      " [[153 157 166]\n",
      "  [168 172 181]\n",
      "  [149 153 162]\n",
      "  ...\n",
      "  [126 141 162]\n",
      "  [126 141 162]\n",
      "  [126 141 162]]\n",
      "\n",
      " [[146 150 161]\n",
      "  [150 154 165]\n",
      "  [174 178 189]\n",
      "  ...\n",
      "  [126 141 162]\n",
      "  [126 141 162]\n",
      "  [126 141 162]]\n",
      "\n",
      " ...\n",
      "\n",
      " [[ 53  51  52]\n",
      "  [ 53  51  52]\n",
      "  [ 54  52  53]\n",
      "  ...\n",
      "  [ 91  90  88]\n",
      "  [126 125 123]\n",
      "  [ 47  46  44]]\n",
      "\n",
      " [[ 55  53  54]\n",
      "  [ 55  53  54]\n",
      "  [ 55  53  54]\n",
      "  ...\n",
      "  [ 71  70  68]\n",
      "  [ 84  83  81]\n",
      "  [ 54  53  51]]\n",
      "\n",
      " [[ 60  58  59]\n",
      "  [ 60  58  59]\n",
      "  [ 60  58  59]\n",
      "  ...\n",
      "  [ 59  58  56]\n",
      "  [ 57  56  54]\n",
      "  [ 63  62  60]]]\n"
     ]
    }
   ],
   "source": [
    "%pylab inline\n",
    "import matplotlib.image as mpimg\n",
    "img=mpimg.imread(img_name_vector[220])\n",
    "imgplot = plt.imshow(img)\n",
    "plt.show()\n",
    "\n",
    "print(train_captions[220])\n",
    "print(img.shape)\n",
    "print(img)\n",
    "\n",
    "img=mpimg.imread(img_name_vector[370])\n",
    "imgplot = plt.imshow(img)\n",
    "plt.show()\n",
    "\n",
    "print(train_captions[370])\n",
    "print(img.shape)\n",
    "print(img)"
   ]
  },
  {
   "cell_type": "code",
   "execution_count": 16,
   "metadata": {
    "colab": {
     "base_uri": "https://localhost:8080/",
     "height": 34
    },
    "colab_type": "code",
    "id": "mPBMgK34RPFL",
    "outputId": "2f6bde3c-c468-41b3-dc0c-e1cdc1fbe56d"
   },
   "outputs": [
    {
     "data": {
      "text/plain": [
       "(480, 502)"
      ]
     },
     "execution_count": 16,
     "metadata": {},
     "output_type": "execute_result"
    }
   ],
   "source": [
    "len(train_captions), len(all_captions)"
   ]
  },
  {
   "cell_type": "markdown",
   "metadata": {
    "colab_type": "text",
    "id": "8cSW4u-ORPFQ"
   },
   "source": [
    "## Preprocess the images using InceptionV3\n",
    "Next, you will use InceptionV3 (which is pretrained on Imagenet) to classify each image. You will extract features from the last convolutional layer.\n",
    "\n",
    "First, you will convert the images into InceptionV3's expected format by:\n",
    "* Resizing the image to 299px by 299px\n",
    "* [Preprocess the images](https://cloud.google.com/tpu/docs/inception-v3-advanced#preprocessing_stage) using the [preprocess_input](https://www.tensorflow.org/api_docs/python/tf/keras/applications/inception_v3/preprocess_input) method to normalize the image so that it contains pixels in the range of -1 to 1, which matches the format of the images used to train InceptionV3."
   ]
  },
  {
   "cell_type": "code",
   "execution_count": null,
   "metadata": {
    "colab": {},
    "colab_type": "code",
    "id": "zXR0217aRPFR"
   },
   "outputs": [],
   "source": [
    "# def load_image(image_path):\n",
    "#     img = tf.io.read_file(image_path)\n",
    "#     img = tf.image.decode_jpeg(img, channels=3)\n",
    "#     img = tf.image.resize(img, (299, 299))\n",
    "#     img = tf.keras.applications.inception_v3.preprocess_input(img)\n",
    "#     return img, image_path"
   ]
  },
  {
   "cell_type": "code",
   "execution_count": null,
   "metadata": {},
   "outputs": [],
   "source": [
    "# def load_image(image_path):\n",
    "#     img = tf.io.read_file(image_path)\n",
    "#     img = tf.image.decode_jpeg(img, channels=3)\n",
    "#     img = tf.image.resize(img, (224, 224))\n",
    "#     img = tf.keras.applications.vgg16.preprocess_input(img)\n",
    "#     return img, image_path"
   ]
  },
  {
   "cell_type": "code",
   "execution_count": 17,
   "metadata": {},
   "outputs": [],
   "source": [
    "def load_image(image_path):\n",
    "    img = tf.io.read_file(image_path)\n",
    "    img = tf.image.decode_jpeg(img, channels=3)\n",
    "    img = tf.image.resize(img, (224, 224))\n",
    "    img = tf.keras.applications.efficientnet.preprocess_input(img)\n",
    "    return img, image_path"
   ]
  },
  {
   "cell_type": "markdown",
   "metadata": {
    "colab_type": "text",
    "id": "MDvIu4sXRPFV"
   },
   "source": [
    "## Initialize efficientNet and load the pretrained Imagenet weights\n",
    "\n",
    "Now you'll create a tf.keras model where the output layer is the last convolutional layer in the InceptionV3 architecture. The shape of the output of this layer is ```7, 7, 1280```. You use the last convolutional layer because you are using attention in this example. You don't perform this initialization during training because it could become a bottleneck.\n",
    "\n",
    "* You forward each image through the network and store the resulting vector in a dictionary (image_name --> feature_vector).\n",
    "* After all the images are passed through the network, you pickle the dictionary and save it to disk.\n",
    "\n",
    "#### help(tf.keras.Model)\n",
    "\n",
    "`Model` groups layers into an object with training and inference features.\n",
    "There are two ways to instantiate a `Model`:\n",
    "\n",
    "1. With the \"functional API\", where you start from `Input`,\n",
    "you chain layer calls to specify the model's forward pass,\n",
    "and finally you create your model from inputs and outputs:\n",
    "\n",
    "### it's use this form\n",
    "```python\n",
    "import tensorflow as tf\n",
    "\n",
    "inputs = tf.keras.Input(shape=(3,))\n",
    "x = tf.keras.layers.Dense(4, activation=tf.nn.relu)(inputs)\n",
    "outputs = tf.keras.layers.Dense(5, activation=tf.nn.softmax)(x)\n",
    "model = tf.keras.Model(inputs=inputs, outputs=outputs)\n"
   ]
  },
  {
   "cell_type": "code",
   "execution_count": null,
   "metadata": {
    "colab": {},
    "colab_type": "code",
    "id": "RD3vW4SsRPFW"
   },
   "outputs": [],
   "source": [
    "# image_model = tf.keras.applications.InceptionV3(include_top=False,\n",
    "#                                                 weights='imagenet')\n",
    "# # tf.keras.applications.InceptionV3(weights='imagenet').summary()\n",
    "# new_input = image_model.input\n",
    "# hidden_layer = image_model.layers[-1].output\n",
    "\n",
    "# image_features_extract_model = tf.keras.Model(new_input, hidden_layer)\n",
    "# # image_features_extract_model # image features extractor\n",
    "\n",
    "# image_features_extract_model.summary()"
   ]
  },
  {
   "cell_type": "code",
   "execution_count": null,
   "metadata": {
    "tags": []
   },
   "outputs": [],
   "source": [
    "# image_model = tf.keras.applications.VGG16(include_top=False,\n",
    "#                                                 weights='imagenet')\n",
    "# new_input = image_model.input\n",
    "# hidden_layer = image_model.layers[-1].output\n",
    "\n",
    "# image_features_extract_model = tf.keras.Model(new_input, hidden_layer)\n",
    "# image_features_extract_model.summary()\n",
    "\n",
    "# tf.keras.applications.VGG16(weights='imagenet').summary()\n",
    "\n"
   ]
  },
  {
   "cell_type": "code",
   "execution_count": 18,
   "metadata": {},
   "outputs": [
    {
     "name": "stdout",
     "output_type": "stream",
     "text": [
      "Model: \"functional_1\"\n",
      "__________________________________________________________________________________________________\n",
      "Layer (type)                    Output Shape         Param #     Connected to                     \n",
      "==================================================================================================\n",
      "input_1 (InputLayer)            [(None, None, None,  0                                            \n",
      "__________________________________________________________________________________________________\n",
      "rescaling (Rescaling)           (None, None, None, 3 0           input_1[0][0]                    \n",
      "__________________________________________________________________________________________________\n",
      "normalization (Normalization)   (None, None, None, 3 7           rescaling[0][0]                  \n",
      "__________________________________________________________________________________________________\n",
      "stem_conv_pad (ZeroPadding2D)   (None, None, None, 3 0           normalization[0][0]              \n",
      "__________________________________________________________________________________________________\n",
      "stem_conv (Conv2D)              (None, None, None, 3 864         stem_conv_pad[0][0]              \n",
      "__________________________________________________________________________________________________\n",
      "stem_bn (BatchNormalization)    (None, None, None, 3 128         stem_conv[0][0]                  \n",
      "__________________________________________________________________________________________________\n",
      "stem_activation (Activation)    (None, None, None, 3 0           stem_bn[0][0]                    \n",
      "__________________________________________________________________________________________________\n",
      "block1a_dwconv (DepthwiseConv2D (None, None, None, 3 288         stem_activation[0][0]            \n",
      "__________________________________________________________________________________________________\n",
      "block1a_bn (BatchNormalization) (None, None, None, 3 128         block1a_dwconv[0][0]             \n",
      "__________________________________________________________________________________________________\n",
      "block1a_activation (Activation) (None, None, None, 3 0           block1a_bn[0][0]                 \n",
      "__________________________________________________________________________________________________\n",
      "block1a_se_squeeze (GlobalAvera (None, 32)           0           block1a_activation[0][0]         \n",
      "__________________________________________________________________________________________________\n",
      "block1a_se_reshape (Reshape)    (None, 1, 1, 32)     0           block1a_se_squeeze[0][0]         \n",
      "__________________________________________________________________________________________________\n",
      "block1a_se_reduce (Conv2D)      (None, 1, 1, 8)      264         block1a_se_reshape[0][0]         \n",
      "__________________________________________________________________________________________________\n",
      "block1a_se_expand (Conv2D)      (None, 1, 1, 32)     288         block1a_se_reduce[0][0]          \n",
      "__________________________________________________________________________________________________\n",
      "block1a_se_excite (Multiply)    (None, None, None, 3 0           block1a_activation[0][0]         \n",
      "                                                                 block1a_se_expand[0][0]          \n",
      "__________________________________________________________________________________________________\n",
      "block1a_project_conv (Conv2D)   (None, None, None, 1 512         block1a_se_excite[0][0]          \n",
      "__________________________________________________________________________________________________\n",
      "block1a_project_bn (BatchNormal (None, None, None, 1 64          block1a_project_conv[0][0]       \n",
      "__________________________________________________________________________________________________\n",
      "block2a_expand_conv (Conv2D)    (None, None, None, 9 1536        block1a_project_bn[0][0]         \n",
      "__________________________________________________________________________________________________\n",
      "block2a_expand_bn (BatchNormali (None, None, None, 9 384         block2a_expand_conv[0][0]        \n",
      "__________________________________________________________________________________________________\n",
      "block2a_expand_activation (Acti (None, None, None, 9 0           block2a_expand_bn[0][0]          \n",
      "__________________________________________________________________________________________________\n",
      "block2a_dwconv_pad (ZeroPadding (None, None, None, 9 0           block2a_expand_activation[0][0]  \n",
      "__________________________________________________________________________________________________\n",
      "block2a_dwconv (DepthwiseConv2D (None, None, None, 9 864         block2a_dwconv_pad[0][0]         \n",
      "__________________________________________________________________________________________________\n",
      "block2a_bn (BatchNormalization) (None, None, None, 9 384         block2a_dwconv[0][0]             \n",
      "__________________________________________________________________________________________________\n",
      "block2a_activation (Activation) (None, None, None, 9 0           block2a_bn[0][0]                 \n",
      "__________________________________________________________________________________________________\n",
      "block2a_se_squeeze (GlobalAvera (None, 96)           0           block2a_activation[0][0]         \n",
      "__________________________________________________________________________________________________\n",
      "block2a_se_reshape (Reshape)    (None, 1, 1, 96)     0           block2a_se_squeeze[0][0]         \n",
      "__________________________________________________________________________________________________\n",
      "block2a_se_reduce (Conv2D)      (None, 1, 1, 4)      388         block2a_se_reshape[0][0]         \n",
      "__________________________________________________________________________________________________\n",
      "block2a_se_expand (Conv2D)      (None, 1, 1, 96)     480         block2a_se_reduce[0][0]          \n",
      "__________________________________________________________________________________________________\n",
      "block2a_se_excite (Multiply)    (None, None, None, 9 0           block2a_activation[0][0]         \n",
      "                                                                 block2a_se_expand[0][0]          \n",
      "__________________________________________________________________________________________________\n",
      "block2a_project_conv (Conv2D)   (None, None, None, 2 2304        block2a_se_excite[0][0]          \n",
      "__________________________________________________________________________________________________\n",
      "block2a_project_bn (BatchNormal (None, None, None, 2 96          block2a_project_conv[0][0]       \n",
      "__________________________________________________________________________________________________\n",
      "block2b_expand_conv (Conv2D)    (None, None, None, 1 3456        block2a_project_bn[0][0]         \n",
      "__________________________________________________________________________________________________\n",
      "block2b_expand_bn (BatchNormali (None, None, None, 1 576         block2b_expand_conv[0][0]        \n",
      "__________________________________________________________________________________________________\n",
      "block2b_expand_activation (Acti (None, None, None, 1 0           block2b_expand_bn[0][0]          \n",
      "__________________________________________________________________________________________________\n",
      "block2b_dwconv (DepthwiseConv2D (None, None, None, 1 1296        block2b_expand_activation[0][0]  \n",
      "__________________________________________________________________________________________________\n",
      "block2b_bn (BatchNormalization) (None, None, None, 1 576         block2b_dwconv[0][0]             \n",
      "__________________________________________________________________________________________________\n",
      "block2b_activation (Activation) (None, None, None, 1 0           block2b_bn[0][0]                 \n",
      "__________________________________________________________________________________________________\n",
      "block2b_se_squeeze (GlobalAvera (None, 144)          0           block2b_activation[0][0]         \n",
      "__________________________________________________________________________________________________\n",
      "block2b_se_reshape (Reshape)    (None, 1, 1, 144)    0           block2b_se_squeeze[0][0]         \n",
      "__________________________________________________________________________________________________\n",
      "block2b_se_reduce (Conv2D)      (None, 1, 1, 6)      870         block2b_se_reshape[0][0]         \n",
      "__________________________________________________________________________________________________\n",
      "block2b_se_expand (Conv2D)      (None, 1, 1, 144)    1008        block2b_se_reduce[0][0]          \n",
      "__________________________________________________________________________________________________\n",
      "block2b_se_excite (Multiply)    (None, None, None, 1 0           block2b_activation[0][0]         \n",
      "                                                                 block2b_se_expand[0][0]          \n",
      "__________________________________________________________________________________________________\n",
      "block2b_project_conv (Conv2D)   (None, None, None, 2 3456        block2b_se_excite[0][0]          \n",
      "__________________________________________________________________________________________________\n",
      "block2b_project_bn (BatchNormal (None, None, None, 2 96          block2b_project_conv[0][0]       \n",
      "__________________________________________________________________________________________________\n",
      "block2b_drop (Dropout)          (None, None, None, 2 0           block2b_project_bn[0][0]         \n",
      "__________________________________________________________________________________________________\n",
      "block2b_add (Add)               (None, None, None, 2 0           block2b_drop[0][0]               \n",
      "                                                                 block2a_project_bn[0][0]         \n",
      "__________________________________________________________________________________________________\n",
      "block3a_expand_conv (Conv2D)    (None, None, None, 1 3456        block2b_add[0][0]                \n",
      "__________________________________________________________________________________________________\n",
      "block3a_expand_bn (BatchNormali (None, None, None, 1 576         block3a_expand_conv[0][0]        \n",
      "__________________________________________________________________________________________________\n",
      "block3a_expand_activation (Acti (None, None, None, 1 0           block3a_expand_bn[0][0]          \n",
      "__________________________________________________________________________________________________\n",
      "block3a_dwconv_pad (ZeroPadding (None, None, None, 1 0           block3a_expand_activation[0][0]  \n",
      "__________________________________________________________________________________________________\n",
      "block3a_dwconv (DepthwiseConv2D (None, None, None, 1 3600        block3a_dwconv_pad[0][0]         \n",
      "__________________________________________________________________________________________________\n",
      "block3a_bn (BatchNormalization) (None, None, None, 1 576         block3a_dwconv[0][0]             \n",
      "__________________________________________________________________________________________________\n",
      "block3a_activation (Activation) (None, None, None, 1 0           block3a_bn[0][0]                 \n",
      "__________________________________________________________________________________________________\n",
      "block3a_se_squeeze (GlobalAvera (None, 144)          0           block3a_activation[0][0]         \n",
      "__________________________________________________________________________________________________\n",
      "block3a_se_reshape (Reshape)    (None, 1, 1, 144)    0           block3a_se_squeeze[0][0]         \n",
      "__________________________________________________________________________________________________\n",
      "block3a_se_reduce (Conv2D)      (None, 1, 1, 6)      870         block3a_se_reshape[0][0]         \n",
      "__________________________________________________________________________________________________\n",
      "block3a_se_expand (Conv2D)      (None, 1, 1, 144)    1008        block3a_se_reduce[0][0]          \n",
      "__________________________________________________________________________________________________\n",
      "block3a_se_excite (Multiply)    (None, None, None, 1 0           block3a_activation[0][0]         \n",
      "                                                                 block3a_se_expand[0][0]          \n",
      "__________________________________________________________________________________________________\n",
      "block3a_project_conv (Conv2D)   (None, None, None, 4 5760        block3a_se_excite[0][0]          \n",
      "__________________________________________________________________________________________________\n",
      "block3a_project_bn (BatchNormal (None, None, None, 4 160         block3a_project_conv[0][0]       \n",
      "__________________________________________________________________________________________________\n",
      "block3b_expand_conv (Conv2D)    (None, None, None, 2 9600        block3a_project_bn[0][0]         \n",
      "__________________________________________________________________________________________________\n",
      "block3b_expand_bn (BatchNormali (None, None, None, 2 960         block3b_expand_conv[0][0]        \n",
      "__________________________________________________________________________________________________\n",
      "block3b_expand_activation (Acti (None, None, None, 2 0           block3b_expand_bn[0][0]          \n",
      "__________________________________________________________________________________________________\n",
      "block3b_dwconv (DepthwiseConv2D (None, None, None, 2 6000        block3b_expand_activation[0][0]  \n",
      "__________________________________________________________________________________________________\n",
      "block3b_bn (BatchNormalization) (None, None, None, 2 960         block3b_dwconv[0][0]             \n",
      "__________________________________________________________________________________________________\n",
      "block3b_activation (Activation) (None, None, None, 2 0           block3b_bn[0][0]                 \n",
      "__________________________________________________________________________________________________\n",
      "block3b_se_squeeze (GlobalAvera (None, 240)          0           block3b_activation[0][0]         \n",
      "__________________________________________________________________________________________________\n",
      "block3b_se_reshape (Reshape)    (None, 1, 1, 240)    0           block3b_se_squeeze[0][0]         \n",
      "__________________________________________________________________________________________________\n",
      "block3b_se_reduce (Conv2D)      (None, 1, 1, 10)     2410        block3b_se_reshape[0][0]         \n",
      "__________________________________________________________________________________________________\n",
      "block3b_se_expand (Conv2D)      (None, 1, 1, 240)    2640        block3b_se_reduce[0][0]          \n",
      "__________________________________________________________________________________________________\n",
      "block3b_se_excite (Multiply)    (None, None, None, 2 0           block3b_activation[0][0]         \n",
      "                                                                 block3b_se_expand[0][0]          \n",
      "__________________________________________________________________________________________________\n",
      "block3b_project_conv (Conv2D)   (None, None, None, 4 9600        block3b_se_excite[0][0]          \n",
      "__________________________________________________________________________________________________\n",
      "block3b_project_bn (BatchNormal (None, None, None, 4 160         block3b_project_conv[0][0]       \n",
      "__________________________________________________________________________________________________\n",
      "block3b_drop (Dropout)          (None, None, None, 4 0           block3b_project_bn[0][0]         \n",
      "__________________________________________________________________________________________________\n",
      "block3b_add (Add)               (None, None, None, 4 0           block3b_drop[0][0]               \n",
      "                                                                 block3a_project_bn[0][0]         \n",
      "__________________________________________________________________________________________________\n",
      "block4a_expand_conv (Conv2D)    (None, None, None, 2 9600        block3b_add[0][0]                \n",
      "__________________________________________________________________________________________________\n",
      "block4a_expand_bn (BatchNormali (None, None, None, 2 960         block4a_expand_conv[0][0]        \n",
      "__________________________________________________________________________________________________\n",
      "block4a_expand_activation (Acti (None, None, None, 2 0           block4a_expand_bn[0][0]          \n",
      "__________________________________________________________________________________________________\n",
      "block4a_dwconv_pad (ZeroPadding (None, None, None, 2 0           block4a_expand_activation[0][0]  \n",
      "__________________________________________________________________________________________________\n",
      "block4a_dwconv (DepthwiseConv2D (None, None, None, 2 2160        block4a_dwconv_pad[0][0]         \n",
      "__________________________________________________________________________________________________\n",
      "block4a_bn (BatchNormalization) (None, None, None, 2 960         block4a_dwconv[0][0]             \n",
      "__________________________________________________________________________________________________\n",
      "block4a_activation (Activation) (None, None, None, 2 0           block4a_bn[0][0]                 \n",
      "__________________________________________________________________________________________________\n",
      "block4a_se_squeeze (GlobalAvera (None, 240)          0           block4a_activation[0][0]         \n",
      "__________________________________________________________________________________________________\n",
      "block4a_se_reshape (Reshape)    (None, 1, 1, 240)    0           block4a_se_squeeze[0][0]         \n",
      "__________________________________________________________________________________________________\n",
      "block4a_se_reduce (Conv2D)      (None, 1, 1, 10)     2410        block4a_se_reshape[0][0]         \n",
      "__________________________________________________________________________________________________\n",
      "block4a_se_expand (Conv2D)      (None, 1, 1, 240)    2640        block4a_se_reduce[0][0]          \n",
      "__________________________________________________________________________________________________\n",
      "block4a_se_excite (Multiply)    (None, None, None, 2 0           block4a_activation[0][0]         \n",
      "                                                                 block4a_se_expand[0][0]          \n",
      "__________________________________________________________________________________________________\n",
      "block4a_project_conv (Conv2D)   (None, None, None, 8 19200       block4a_se_excite[0][0]          \n",
      "__________________________________________________________________________________________________\n",
      "block4a_project_bn (BatchNormal (None, None, None, 8 320         block4a_project_conv[0][0]       \n",
      "__________________________________________________________________________________________________\n",
      "block4b_expand_conv (Conv2D)    (None, None, None, 4 38400       block4a_project_bn[0][0]         \n",
      "__________________________________________________________________________________________________\n",
      "block4b_expand_bn (BatchNormali (None, None, None, 4 1920        block4b_expand_conv[0][0]        \n",
      "__________________________________________________________________________________________________\n",
      "block4b_expand_activation (Acti (None, None, None, 4 0           block4b_expand_bn[0][0]          \n",
      "__________________________________________________________________________________________________\n",
      "block4b_dwconv (DepthwiseConv2D (None, None, None, 4 4320        block4b_expand_activation[0][0]  \n",
      "__________________________________________________________________________________________________\n",
      "block4b_bn (BatchNormalization) (None, None, None, 4 1920        block4b_dwconv[0][0]             \n",
      "__________________________________________________________________________________________________\n",
      "block4b_activation (Activation) (None, None, None, 4 0           block4b_bn[0][0]                 \n",
      "__________________________________________________________________________________________________\n",
      "block4b_se_squeeze (GlobalAvera (None, 480)          0           block4b_activation[0][0]         \n",
      "__________________________________________________________________________________________________\n",
      "block4b_se_reshape (Reshape)    (None, 1, 1, 480)    0           block4b_se_squeeze[0][0]         \n",
      "__________________________________________________________________________________________________\n",
      "block4b_se_reduce (Conv2D)      (None, 1, 1, 20)     9620        block4b_se_reshape[0][0]         \n",
      "__________________________________________________________________________________________________\n",
      "block4b_se_expand (Conv2D)      (None, 1, 1, 480)    10080       block4b_se_reduce[0][0]          \n",
      "__________________________________________________________________________________________________\n",
      "block4b_se_excite (Multiply)    (None, None, None, 4 0           block4b_activation[0][0]         \n",
      "                                                                 block4b_se_expand[0][0]          \n",
      "__________________________________________________________________________________________________\n",
      "block4b_project_conv (Conv2D)   (None, None, None, 8 38400       block4b_se_excite[0][0]          \n",
      "__________________________________________________________________________________________________\n",
      "block4b_project_bn (BatchNormal (None, None, None, 8 320         block4b_project_conv[0][0]       \n",
      "__________________________________________________________________________________________________\n",
      "block4b_drop (Dropout)          (None, None, None, 8 0           block4b_project_bn[0][0]         \n",
      "__________________________________________________________________________________________________\n",
      "block4b_add (Add)               (None, None, None, 8 0           block4b_drop[0][0]               \n",
      "                                                                 block4a_project_bn[0][0]         \n",
      "__________________________________________________________________________________________________\n",
      "block4c_expand_conv (Conv2D)    (None, None, None, 4 38400       block4b_add[0][0]                \n",
      "__________________________________________________________________________________________________\n",
      "block4c_expand_bn (BatchNormali (None, None, None, 4 1920        block4c_expand_conv[0][0]        \n",
      "__________________________________________________________________________________________________\n",
      "block4c_expand_activation (Acti (None, None, None, 4 0           block4c_expand_bn[0][0]          \n",
      "__________________________________________________________________________________________________\n",
      "block4c_dwconv (DepthwiseConv2D (None, None, None, 4 4320        block4c_expand_activation[0][0]  \n",
      "__________________________________________________________________________________________________\n",
      "block4c_bn (BatchNormalization) (None, None, None, 4 1920        block4c_dwconv[0][0]             \n",
      "__________________________________________________________________________________________________\n",
      "block4c_activation (Activation) (None, None, None, 4 0           block4c_bn[0][0]                 \n",
      "__________________________________________________________________________________________________\n",
      "block4c_se_squeeze (GlobalAvera (None, 480)          0           block4c_activation[0][0]         \n",
      "__________________________________________________________________________________________________\n",
      "block4c_se_reshape (Reshape)    (None, 1, 1, 480)    0           block4c_se_squeeze[0][0]         \n",
      "__________________________________________________________________________________________________\n",
      "block4c_se_reduce (Conv2D)      (None, 1, 1, 20)     9620        block4c_se_reshape[0][0]         \n",
      "__________________________________________________________________________________________________\n",
      "block4c_se_expand (Conv2D)      (None, 1, 1, 480)    10080       block4c_se_reduce[0][0]          \n",
      "__________________________________________________________________________________________________\n",
      "block4c_se_excite (Multiply)    (None, None, None, 4 0           block4c_activation[0][0]         \n",
      "                                                                 block4c_se_expand[0][0]          \n",
      "__________________________________________________________________________________________________\n",
      "block4c_project_conv (Conv2D)   (None, None, None, 8 38400       block4c_se_excite[0][0]          \n",
      "__________________________________________________________________________________________________\n",
      "block4c_project_bn (BatchNormal (None, None, None, 8 320         block4c_project_conv[0][0]       \n",
      "__________________________________________________________________________________________________\n",
      "block4c_drop (Dropout)          (None, None, None, 8 0           block4c_project_bn[0][0]         \n",
      "__________________________________________________________________________________________________\n",
      "block4c_add (Add)               (None, None, None, 8 0           block4c_drop[0][0]               \n",
      "                                                                 block4b_add[0][0]                \n",
      "__________________________________________________________________________________________________\n",
      "block5a_expand_conv (Conv2D)    (None, None, None, 4 38400       block4c_add[0][0]                \n",
      "__________________________________________________________________________________________________\n",
      "block5a_expand_bn (BatchNormali (None, None, None, 4 1920        block5a_expand_conv[0][0]        \n",
      "__________________________________________________________________________________________________\n",
      "block5a_expand_activation (Acti (None, None, None, 4 0           block5a_expand_bn[0][0]          \n",
      "__________________________________________________________________________________________________\n",
      "block5a_dwconv (DepthwiseConv2D (None, None, None, 4 12000       block5a_expand_activation[0][0]  \n",
      "__________________________________________________________________________________________________\n",
      "block5a_bn (BatchNormalization) (None, None, None, 4 1920        block5a_dwconv[0][0]             \n",
      "__________________________________________________________________________________________________\n",
      "block5a_activation (Activation) (None, None, None, 4 0           block5a_bn[0][0]                 \n",
      "__________________________________________________________________________________________________\n",
      "block5a_se_squeeze (GlobalAvera (None, 480)          0           block5a_activation[0][0]         \n",
      "__________________________________________________________________________________________________\n",
      "block5a_se_reshape (Reshape)    (None, 1, 1, 480)    0           block5a_se_squeeze[0][0]         \n",
      "__________________________________________________________________________________________________\n",
      "block5a_se_reduce (Conv2D)      (None, 1, 1, 20)     9620        block5a_se_reshape[0][0]         \n",
      "__________________________________________________________________________________________________\n",
      "block5a_se_expand (Conv2D)      (None, 1, 1, 480)    10080       block5a_se_reduce[0][0]          \n",
      "__________________________________________________________________________________________________\n",
      "block5a_se_excite (Multiply)    (None, None, None, 4 0           block5a_activation[0][0]         \n",
      "                                                                 block5a_se_expand[0][0]          \n",
      "__________________________________________________________________________________________________\n",
      "block5a_project_conv (Conv2D)   (None, None, None, 1 53760       block5a_se_excite[0][0]          \n",
      "__________________________________________________________________________________________________\n",
      "block5a_project_bn (BatchNormal (None, None, None, 1 448         block5a_project_conv[0][0]       \n",
      "__________________________________________________________________________________________________\n",
      "block5b_expand_conv (Conv2D)    (None, None, None, 6 75264       block5a_project_bn[0][0]         \n",
      "__________________________________________________________________________________________________\n",
      "block5b_expand_bn (BatchNormali (None, None, None, 6 2688        block5b_expand_conv[0][0]        \n",
      "__________________________________________________________________________________________________\n",
      "block5b_expand_activation (Acti (None, None, None, 6 0           block5b_expand_bn[0][0]          \n",
      "__________________________________________________________________________________________________\n",
      "block5b_dwconv (DepthwiseConv2D (None, None, None, 6 16800       block5b_expand_activation[0][0]  \n",
      "__________________________________________________________________________________________________\n",
      "block5b_bn (BatchNormalization) (None, None, None, 6 2688        block5b_dwconv[0][0]             \n",
      "__________________________________________________________________________________________________\n",
      "block5b_activation (Activation) (None, None, None, 6 0           block5b_bn[0][0]                 \n",
      "__________________________________________________________________________________________________\n",
      "block5b_se_squeeze (GlobalAvera (None, 672)          0           block5b_activation[0][0]         \n",
      "__________________________________________________________________________________________________\n",
      "block5b_se_reshape (Reshape)    (None, 1, 1, 672)    0           block5b_se_squeeze[0][0]         \n",
      "__________________________________________________________________________________________________\n",
      "block5b_se_reduce (Conv2D)      (None, 1, 1, 28)     18844       block5b_se_reshape[0][0]         \n",
      "__________________________________________________________________________________________________\n",
      "block5b_se_expand (Conv2D)      (None, 1, 1, 672)    19488       block5b_se_reduce[0][0]          \n",
      "__________________________________________________________________________________________________\n",
      "block5b_se_excite (Multiply)    (None, None, None, 6 0           block5b_activation[0][0]         \n",
      "                                                                 block5b_se_expand[0][0]          \n",
      "__________________________________________________________________________________________________\n",
      "block5b_project_conv (Conv2D)   (None, None, None, 1 75264       block5b_se_excite[0][0]          \n",
      "__________________________________________________________________________________________________\n",
      "block5b_project_bn (BatchNormal (None, None, None, 1 448         block5b_project_conv[0][0]       \n",
      "__________________________________________________________________________________________________\n",
      "block5b_drop (Dropout)          (None, None, None, 1 0           block5b_project_bn[0][0]         \n",
      "__________________________________________________________________________________________________\n",
      "block5b_add (Add)               (None, None, None, 1 0           block5b_drop[0][0]               \n",
      "                                                                 block5a_project_bn[0][0]         \n",
      "__________________________________________________________________________________________________\n",
      "block5c_expand_conv (Conv2D)    (None, None, None, 6 75264       block5b_add[0][0]                \n",
      "__________________________________________________________________________________________________\n",
      "block5c_expand_bn (BatchNormali (None, None, None, 6 2688        block5c_expand_conv[0][0]        \n",
      "__________________________________________________________________________________________________\n",
      "block5c_expand_activation (Acti (None, None, None, 6 0           block5c_expand_bn[0][0]          \n",
      "__________________________________________________________________________________________________\n",
      "block5c_dwconv (DepthwiseConv2D (None, None, None, 6 16800       block5c_expand_activation[0][0]  \n",
      "__________________________________________________________________________________________________\n",
      "block5c_bn (BatchNormalization) (None, None, None, 6 2688        block5c_dwconv[0][0]             \n",
      "__________________________________________________________________________________________________\n",
      "block5c_activation (Activation) (None, None, None, 6 0           block5c_bn[0][0]                 \n",
      "__________________________________________________________________________________________________\n",
      "block5c_se_squeeze (GlobalAvera (None, 672)          0           block5c_activation[0][0]         \n",
      "__________________________________________________________________________________________________\n",
      "block5c_se_reshape (Reshape)    (None, 1, 1, 672)    0           block5c_se_squeeze[0][0]         \n",
      "__________________________________________________________________________________________________\n",
      "block5c_se_reduce (Conv2D)      (None, 1, 1, 28)     18844       block5c_se_reshape[0][0]         \n",
      "__________________________________________________________________________________________________\n",
      "block5c_se_expand (Conv2D)      (None, 1, 1, 672)    19488       block5c_se_reduce[0][0]          \n",
      "__________________________________________________________________________________________________\n",
      "block5c_se_excite (Multiply)    (None, None, None, 6 0           block5c_activation[0][0]         \n",
      "                                                                 block5c_se_expand[0][0]          \n",
      "__________________________________________________________________________________________________\n",
      "block5c_project_conv (Conv2D)   (None, None, None, 1 75264       block5c_se_excite[0][0]          \n",
      "__________________________________________________________________________________________________\n",
      "block5c_project_bn (BatchNormal (None, None, None, 1 448         block5c_project_conv[0][0]       \n",
      "__________________________________________________________________________________________________\n",
      "block5c_drop (Dropout)          (None, None, None, 1 0           block5c_project_bn[0][0]         \n",
      "__________________________________________________________________________________________________\n",
      "block5c_add (Add)               (None, None, None, 1 0           block5c_drop[0][0]               \n",
      "                                                                 block5b_add[0][0]                \n",
      "__________________________________________________________________________________________________\n",
      "block6a_expand_conv (Conv2D)    (None, None, None, 6 75264       block5c_add[0][0]                \n",
      "__________________________________________________________________________________________________\n",
      "block6a_expand_bn (BatchNormali (None, None, None, 6 2688        block6a_expand_conv[0][0]        \n",
      "__________________________________________________________________________________________________\n",
      "block6a_expand_activation (Acti (None, None, None, 6 0           block6a_expand_bn[0][0]          \n",
      "__________________________________________________________________________________________________\n",
      "block6a_dwconv_pad (ZeroPadding (None, None, None, 6 0           block6a_expand_activation[0][0]  \n",
      "__________________________________________________________________________________________________\n",
      "block6a_dwconv (DepthwiseConv2D (None, None, None, 6 16800       block6a_dwconv_pad[0][0]         \n",
      "__________________________________________________________________________________________________\n",
      "block6a_bn (BatchNormalization) (None, None, None, 6 2688        block6a_dwconv[0][0]             \n",
      "__________________________________________________________________________________________________\n",
      "block6a_activation (Activation) (None, None, None, 6 0           block6a_bn[0][0]                 \n",
      "__________________________________________________________________________________________________\n",
      "block6a_se_squeeze (GlobalAvera (None, 672)          0           block6a_activation[0][0]         \n",
      "__________________________________________________________________________________________________\n",
      "block6a_se_reshape (Reshape)    (None, 1, 1, 672)    0           block6a_se_squeeze[0][0]         \n",
      "__________________________________________________________________________________________________\n",
      "block6a_se_reduce (Conv2D)      (None, 1, 1, 28)     18844       block6a_se_reshape[0][0]         \n",
      "__________________________________________________________________________________________________\n",
      "block6a_se_expand (Conv2D)      (None, 1, 1, 672)    19488       block6a_se_reduce[0][0]          \n",
      "__________________________________________________________________________________________________\n",
      "block6a_se_excite (Multiply)    (None, None, None, 6 0           block6a_activation[0][0]         \n",
      "                                                                 block6a_se_expand[0][0]          \n",
      "__________________________________________________________________________________________________\n",
      "block6a_project_conv (Conv2D)   (None, None, None, 1 129024      block6a_se_excite[0][0]          \n",
      "__________________________________________________________________________________________________\n",
      "block6a_project_bn (BatchNormal (None, None, None, 1 768         block6a_project_conv[0][0]       \n",
      "__________________________________________________________________________________________________\n",
      "block6b_expand_conv (Conv2D)    (None, None, None, 1 221184      block6a_project_bn[0][0]         \n",
      "__________________________________________________________________________________________________\n",
      "block6b_expand_bn (BatchNormali (None, None, None, 1 4608        block6b_expand_conv[0][0]        \n",
      "__________________________________________________________________________________________________\n",
      "block6b_expand_activation (Acti (None, None, None, 1 0           block6b_expand_bn[0][0]          \n",
      "__________________________________________________________________________________________________\n",
      "block6b_dwconv (DepthwiseConv2D (None, None, None, 1 28800       block6b_expand_activation[0][0]  \n",
      "__________________________________________________________________________________________________\n",
      "block6b_bn (BatchNormalization) (None, None, None, 1 4608        block6b_dwconv[0][0]             \n",
      "__________________________________________________________________________________________________\n",
      "block6b_activation (Activation) (None, None, None, 1 0           block6b_bn[0][0]                 \n",
      "__________________________________________________________________________________________________\n",
      "block6b_se_squeeze (GlobalAvera (None, 1152)         0           block6b_activation[0][0]         \n",
      "__________________________________________________________________________________________________\n",
      "block6b_se_reshape (Reshape)    (None, 1, 1, 1152)   0           block6b_se_squeeze[0][0]         \n",
      "__________________________________________________________________________________________________\n",
      "block6b_se_reduce (Conv2D)      (None, 1, 1, 48)     55344       block6b_se_reshape[0][0]         \n",
      "__________________________________________________________________________________________________\n",
      "block6b_se_expand (Conv2D)      (None, 1, 1, 1152)   56448       block6b_se_reduce[0][0]          \n",
      "__________________________________________________________________________________________________\n",
      "block6b_se_excite (Multiply)    (None, None, None, 1 0           block6b_activation[0][0]         \n",
      "                                                                 block6b_se_expand[0][0]          \n",
      "__________________________________________________________________________________________________\n",
      "block6b_project_conv (Conv2D)   (None, None, None, 1 221184      block6b_se_excite[0][0]          \n",
      "__________________________________________________________________________________________________\n",
      "block6b_project_bn (BatchNormal (None, None, None, 1 768         block6b_project_conv[0][0]       \n",
      "__________________________________________________________________________________________________\n",
      "block6b_drop (Dropout)          (None, None, None, 1 0           block6b_project_bn[0][0]         \n",
      "__________________________________________________________________________________________________\n",
      "block6b_add (Add)               (None, None, None, 1 0           block6b_drop[0][0]               \n",
      "                                                                 block6a_project_bn[0][0]         \n",
      "__________________________________________________________________________________________________\n",
      "block6c_expand_conv (Conv2D)    (None, None, None, 1 221184      block6b_add[0][0]                \n",
      "__________________________________________________________________________________________________\n",
      "block6c_expand_bn (BatchNormali (None, None, None, 1 4608        block6c_expand_conv[0][0]        \n",
      "__________________________________________________________________________________________________\n",
      "block6c_expand_activation (Acti (None, None, None, 1 0           block6c_expand_bn[0][0]          \n",
      "__________________________________________________________________________________________________\n",
      "block6c_dwconv (DepthwiseConv2D (None, None, None, 1 28800       block6c_expand_activation[0][0]  \n",
      "__________________________________________________________________________________________________\n",
      "block6c_bn (BatchNormalization) (None, None, None, 1 4608        block6c_dwconv[0][0]             \n",
      "__________________________________________________________________________________________________\n",
      "block6c_activation (Activation) (None, None, None, 1 0           block6c_bn[0][0]                 \n",
      "__________________________________________________________________________________________________\n",
      "block6c_se_squeeze (GlobalAvera (None, 1152)         0           block6c_activation[0][0]         \n",
      "__________________________________________________________________________________________________\n",
      "block6c_se_reshape (Reshape)    (None, 1, 1, 1152)   0           block6c_se_squeeze[0][0]         \n",
      "__________________________________________________________________________________________________\n",
      "block6c_se_reduce (Conv2D)      (None, 1, 1, 48)     55344       block6c_se_reshape[0][0]         \n",
      "__________________________________________________________________________________________________\n",
      "block6c_se_expand (Conv2D)      (None, 1, 1, 1152)   56448       block6c_se_reduce[0][0]          \n",
      "__________________________________________________________________________________________________\n",
      "block6c_se_excite (Multiply)    (None, None, None, 1 0           block6c_activation[0][0]         \n",
      "                                                                 block6c_se_expand[0][0]          \n",
      "__________________________________________________________________________________________________\n",
      "block6c_project_conv (Conv2D)   (None, None, None, 1 221184      block6c_se_excite[0][0]          \n",
      "__________________________________________________________________________________________________\n",
      "block6c_project_bn (BatchNormal (None, None, None, 1 768         block6c_project_conv[0][0]       \n",
      "__________________________________________________________________________________________________\n",
      "block6c_drop (Dropout)          (None, None, None, 1 0           block6c_project_bn[0][0]         \n",
      "__________________________________________________________________________________________________\n",
      "block6c_add (Add)               (None, None, None, 1 0           block6c_drop[0][0]               \n",
      "                                                                 block6b_add[0][0]                \n",
      "__________________________________________________________________________________________________\n",
      "block6d_expand_conv (Conv2D)    (None, None, None, 1 221184      block6c_add[0][0]                \n",
      "__________________________________________________________________________________________________\n",
      "block6d_expand_bn (BatchNormali (None, None, None, 1 4608        block6d_expand_conv[0][0]        \n",
      "__________________________________________________________________________________________________\n",
      "block6d_expand_activation (Acti (None, None, None, 1 0           block6d_expand_bn[0][0]          \n",
      "__________________________________________________________________________________________________\n",
      "block6d_dwconv (DepthwiseConv2D (None, None, None, 1 28800       block6d_expand_activation[0][0]  \n",
      "__________________________________________________________________________________________________\n",
      "block6d_bn (BatchNormalization) (None, None, None, 1 4608        block6d_dwconv[0][0]             \n",
      "__________________________________________________________________________________________________\n",
      "block6d_activation (Activation) (None, None, None, 1 0           block6d_bn[0][0]                 \n",
      "__________________________________________________________________________________________________\n",
      "block6d_se_squeeze (GlobalAvera (None, 1152)         0           block6d_activation[0][0]         \n",
      "__________________________________________________________________________________________________\n",
      "block6d_se_reshape (Reshape)    (None, 1, 1, 1152)   0           block6d_se_squeeze[0][0]         \n",
      "__________________________________________________________________________________________________\n",
      "block6d_se_reduce (Conv2D)      (None, 1, 1, 48)     55344       block6d_se_reshape[0][0]         \n",
      "__________________________________________________________________________________________________\n",
      "block6d_se_expand (Conv2D)      (None, 1, 1, 1152)   56448       block6d_se_reduce[0][0]          \n",
      "__________________________________________________________________________________________________\n",
      "block6d_se_excite (Multiply)    (None, None, None, 1 0           block6d_activation[0][0]         \n",
      "                                                                 block6d_se_expand[0][0]          \n",
      "__________________________________________________________________________________________________\n",
      "block6d_project_conv (Conv2D)   (None, None, None, 1 221184      block6d_se_excite[0][0]          \n",
      "__________________________________________________________________________________________________\n",
      "block6d_project_bn (BatchNormal (None, None, None, 1 768         block6d_project_conv[0][0]       \n",
      "__________________________________________________________________________________________________\n",
      "block6d_drop (Dropout)          (None, None, None, 1 0           block6d_project_bn[0][0]         \n",
      "__________________________________________________________________________________________________\n",
      "block6d_add (Add)               (None, None, None, 1 0           block6d_drop[0][0]               \n",
      "                                                                 block6c_add[0][0]                \n",
      "__________________________________________________________________________________________________\n",
      "block7a_expand_conv (Conv2D)    (None, None, None, 1 221184      block6d_add[0][0]                \n",
      "__________________________________________________________________________________________________\n",
      "block7a_expand_bn (BatchNormali (None, None, None, 1 4608        block7a_expand_conv[0][0]        \n",
      "__________________________________________________________________________________________________\n",
      "block7a_expand_activation (Acti (None, None, None, 1 0           block7a_expand_bn[0][0]          \n",
      "__________________________________________________________________________________________________\n",
      "block7a_dwconv (DepthwiseConv2D (None, None, None, 1 10368       block7a_expand_activation[0][0]  \n",
      "__________________________________________________________________________________________________\n",
      "block7a_bn (BatchNormalization) (None, None, None, 1 4608        block7a_dwconv[0][0]             \n",
      "__________________________________________________________________________________________________\n",
      "block7a_activation (Activation) (None, None, None, 1 0           block7a_bn[0][0]                 \n",
      "__________________________________________________________________________________________________\n",
      "block7a_se_squeeze (GlobalAvera (None, 1152)         0           block7a_activation[0][0]         \n",
      "__________________________________________________________________________________________________\n",
      "block7a_se_reshape (Reshape)    (None, 1, 1, 1152)   0           block7a_se_squeeze[0][0]         \n",
      "__________________________________________________________________________________________________\n",
      "block7a_se_reduce (Conv2D)      (None, 1, 1, 48)     55344       block7a_se_reshape[0][0]         \n",
      "__________________________________________________________________________________________________\n",
      "block7a_se_expand (Conv2D)      (None, 1, 1, 1152)   56448       block7a_se_reduce[0][0]          \n",
      "__________________________________________________________________________________________________\n",
      "block7a_se_excite (Multiply)    (None, None, None, 1 0           block7a_activation[0][0]         \n",
      "                                                                 block7a_se_expand[0][0]          \n",
      "__________________________________________________________________________________________________\n",
      "block7a_project_conv (Conv2D)   (None, None, None, 3 368640      block7a_se_excite[0][0]          \n",
      "__________________________________________________________________________________________________\n",
      "block7a_project_bn (BatchNormal (None, None, None, 3 1280        block7a_project_conv[0][0]       \n",
      "__________________________________________________________________________________________________\n",
      "top_conv (Conv2D)               (None, None, None, 1 409600      block7a_project_bn[0][0]         \n",
      "__________________________________________________________________________________________________\n",
      "top_bn (BatchNormalization)     (None, None, None, 1 5120        top_conv[0][0]                   \n",
      "__________________________________________________________________________________________________\n",
      "top_activation (Activation)     (None, None, None, 1 0           top_bn[0][0]                     \n",
      "==================================================================================================\n",
      "Total params: 4,049,571\n",
      "Trainable params: 4,007,548\n",
      "Non-trainable params: 42,023\n",
      "__________________________________________________________________________________________________\n"
     ]
    }
   ],
   "source": [
    "image_model = tf.keras.applications.EfficientNetB0(include_top=False,weights='imagenet')\n",
    "\n",
    "new_input = image_model.input\n",
    "hidden_layer = image_model.layers[-1].output\n",
    "\n",
    "image_features_extract_model = tf.keras.Model(new_input, hidden_layer)\n",
    "image_features_extract_model.summary()\n"
   ]
  },
  {
   "cell_type": "markdown",
   "metadata": {
    "colab_type": "text",
    "id": "rERqlR3WRPGO"
   },
   "source": [
    "## Caching the features extracted from InceptionV3\n",
    "\n",
    "You will pre-process each image with InceptionV3 and cache the output to disk. Caching the output in RAM would be faster but also memory intensive, requiring 8 \\* 8 \\* 2048 floats per image. At the time of writing, this exceeds the memory limitations of Colab (currently 12GB of memory).\n",
    "\n",
    "Performance could be improved with a more sophisticated caching strategy (for example, by sharding the images to reduce random access disk I/O), but that would require more code.\n",
    "\n",
    "The caching will take about 10 minutes to run in Colab with a GPU. If you'd like to see a progress bar, you can: \n",
    "\n",
    "1. install [tqdm](https://github.com/tqdm/tqdm):\n",
    "\n",
    "    `!pip install tqdm`\n",
    "\n",
    "2. Import tqdm:\n",
    "\n",
    "    `from tqdm import tqdm`\n",
    "\n",
    "3. Change the following line:\n",
    "\n",
    "    `for img, path in image_dataset:`\n",
    "\n",
    "    to:\n",
    "\n",
    "    `for img, path in tqdm(image_dataset):`\n"
   ]
  },
  {
   "cell_type": "code",
   "execution_count": null,
   "metadata": {
    "colab": {},
    "colab_type": "code",
    "id": "WX_fFWO0POom"
   },
   "outputs": [],
   "source": [
    "# !pip install tqdm"
   ]
  },
  {
   "cell_type": "code",
   "execution_count": 19,
   "metadata": {
    "colab": {},
    "colab_type": "code",
    "id": "5uimmiiQ_oYZ"
   },
   "outputs": [],
   "source": [
    "from tqdm import tqdm"
   ]
  },
  {
   "cell_type": "code",
   "execution_count": 20,
   "metadata": {
    "colab": {},
    "colab_type": "code",
    "id": "Dx_fvbVgRPGQ"
   },
   "outputs": [],
   "source": [
    "# Get unique images\n",
    "encode_train = sorted(set(img_name_vector))"
   ]
  },
  {
   "cell_type": "code",
   "execution_count": 21,
   "metadata": {
    "colab": {
     "base_uri": "https://localhost:8080/",
     "height": 34
    },
    "colab_type": "code",
    "id": "2WWAA3jN7sfd",
    "outputId": "93c7a2ea-79cc-4717-a4c6-e2e964bc95d8"
   },
   "outputs": [
    {
     "data": {
      "text/plain": [
       "480"
      ]
     },
     "execution_count": 21,
     "metadata": {},
     "output_type": "execute_result"
    }
   ],
   "source": [
    "len(encode_train) # "
   ]
  },
  {
   "cell_type": "code",
   "execution_count": 22,
   "metadata": {
    "colab": {
     "base_uri": "https://localhost:8080/",
     "height": 104
    },
    "colab_type": "code",
    "id": "Nl-O8D4B8O3v",
    "outputId": "e07c2516-18d7-47bf-a9ce-1168ef15bbe5"
   },
   "outputs": [
    {
     "data": {
      "text/plain": [
       "['/home/yurio/mainan_yurio/img_cap_to_icitda/img_caption_dl_textAnalytic/dataset_efficientNet/02jsutdihcmo58exvz7q.jpeg',\n",
       " '/home/yurio/mainan_yurio/img_cap_to_icitda/img_caption_dl_textAnalytic/dataset_efficientNet/04z6v1thy3xomadl5s7i.jpg',\n",
       " '/home/yurio/mainan_yurio/img_cap_to_icitda/img_caption_dl_textAnalytic/dataset_efficientNet/07ei89fazvcts1rdnuhb.jpg',\n",
       " '/home/yurio/mainan_yurio/img_cap_to_icitda/img_caption_dl_textAnalytic/dataset_efficientNet/0boltxze17pvqajg4ink.jpeg',\n",
       " '/home/yurio/mainan_yurio/img_cap_to_icitda/img_caption_dl_textAnalytic/dataset_efficientNet/0dkmsct9n2f63raxqp7v.jpg']"
      ]
     },
     "execution_count": 22,
     "metadata": {},
     "output_type": "execute_result"
    }
   ],
   "source": [
    "encode_train[:5]"
   ]
  },
  {
   "cell_type": "code",
   "execution_count": 23,
   "metadata": {
    "colab": {},
    "colab_type": "code",
    "id": "RNWvi_9T7qhy"
   },
   "outputs": [],
   "source": [
    "image_dataset = tf.data.Dataset.from_tensor_slices(encode_train)"
   ]
  },
  {
   "cell_type": "code",
   "execution_count": 24,
   "metadata": {
    "colab": {
     "base_uri": "https://localhost:8080/",
     "height": 34
    },
    "colab_type": "code",
    "id": "9fuNC3fs9DBp",
    "outputId": "514e5783-3160-4aca-cab4-ed7e67fab088"
   },
   "outputs": [
    {
     "data": {
      "text/plain": [
       "<TensorSliceDataset shapes: (), types: tf.string>"
      ]
     },
     "execution_count": 24,
     "metadata": {},
     "output_type": "execute_result"
    }
   ],
   "source": [
    "image_dataset"
   ]
  },
  {
   "cell_type": "code",
   "execution_count": 25,
   "metadata": {
    "colab": {},
    "colab_type": "code",
    "id": "RM-w5n558_dh"
   },
   "outputs": [],
   "source": [
    "image_dataset = image_dataset.map(\n",
    "  load_image, num_parallel_calls=tf.data.experimental.AUTOTUNE).batch(16) # map functional programming\n"
   ]
  },
  {
   "cell_type": "code",
   "execution_count": 26,
   "metadata": {
    "colab": {
     "base_uri": "https://localhost:8080/",
     "height": 34
    },
    "colab_type": "code",
    "id": "WuHJ7r5D_Pbr",
    "outputId": "7ebe02f8-d218-4d25-b0fe-d506038c676b"
   },
   "outputs": [
    {
     "data": {
      "text/plain": [
       "<BatchDataset shapes: ((None, 224, 224, 3), (None,)), types: (tf.float32, tf.string)>"
      ]
     },
     "execution_count": 26,
     "metadata": {},
     "output_type": "execute_result"
    }
   ],
   "source": [
    "image_dataset"
   ]
  },
  {
   "cell_type": "code",
   "execution_count": 27,
   "metadata": {
    "colab": {},
    "colab_type": "code",
    "id": "T-5dJ7fO9Btx"
   },
   "outputs": [
    {
     "name": "stderr",
     "output_type": "stream",
     "text": [
      "100%|██████████| 30/30 [00:02<00:00, 10.55it/s]\n"
     ]
    }
   ],
   "source": [
    "for img, path in tqdm(image_dataset):\n",
    "  batch_features = image_features_extract_model(img) # image features extractor model\n",
    "  batch_features = tf.reshape(batch_features,\n",
    "                              (batch_features.shape[0], -1, batch_features.shape[3]))\n",
    "\n",
    "  for bf, p in zip(batch_features, path): # bf : batch feature , p : path\n",
    "    path_of_feature = p.numpy().decode(\"utf-8\")\n",
    "    np.save(path_of_feature, bf.numpy())\n",
    "# - `store the resulting vector` `in a dictionary` (image_name --> feature_vector).\n",
    "# - you pickle the dictionary and save it to disk."
   ]
  },
  {
   "cell_type": "markdown",
   "metadata": {
    "colab_type": "text",
    "id": "nyqH3zFwRPFi"
   },
   "source": [
    "## Preprocess and tokenize the captions\n",
    "\n",
    "* First, you'll tokenize the captions (for example, by splitting on spaces). This gives us a  vocabulary of all of the unique words in the data (for example, \"surfing\", \"football\", and so on).\n",
    "* Next, you'll limit the vocabulary size to the top 5,000 words (to save memory). You'll replace all other words with the token \"UNK\" (unknown).\n",
    "* You then create word-to-index and index-to-word mappings.\n",
    "* Finally, you pad all sequences to be the same length as the longest one."
   ]
  },
  {
   "cell_type": "code",
   "execution_count": 28,
   "metadata": {
    "colab": {},
    "colab_type": "code",
    "id": "HZfK8RhQRPFj"
   },
   "outputs": [],
   "source": [
    "# Find the maximum length of any caption in our dataset\n",
    "def calc_max_length(tensor):\n",
    "    return max(len(t) for t in tensor)"
   ]
  },
  {
   "cell_type": "code",
   "execution_count": 29,
   "metadata": {
    "colab": {},
    "colab_type": "code",
    "id": "oJGE34aiRPFo"
   },
   "outputs": [],
   "source": [
    "# Choose the top 5000 words from the vocabulary\n",
    "top_k = 200\n",
    "tokenizer = tf.keras.preprocessing.text.Tokenizer(num_words=top_k,\n",
    "                                                  oov_token=\"<unk>\",\n",
    "                                                  filters='!\"#$%&()*+.,-/:;=?@[\\]^_`{|}~ ')\n",
    "tokenizer.fit_on_texts(train_captions)\n",
    "train_seqs = tokenizer.texts_to_sequences(train_captions)"
   ]
  },
  {
   "cell_type": "code",
   "execution_count": 30,
   "metadata": {
    "colab": {
     "base_uri": "https://localhost:8080/",
     "height": 104
    },
    "colab_type": "code",
    "id": "JtRJBtkuBv5q",
    "outputId": "11b3d3b0-a102-45bc-95f7-c28c2f3012b9"
   },
   "outputs": [
    {
     "data": {
      "text/plain": [
       "[[2, 17, 10, 87, 88, 89, 25, 26, 7, 3],\n",
       " [2, 51, 52, 7, 53, 54, 13, 55, 13, 3],\n",
       " [2, 11, 10, 43, 4, 5, 24, 3],\n",
       " [2, 60, 61, 29, 29, 32, 4, 5, 18, 3],\n",
       " [2, 14, 44, 36, 10, 45, 22, 46, 47, 3]]"
      ]
     },
     "execution_count": 30,
     "metadata": {},
     "output_type": "execute_result"
    }
   ],
   "source": [
    "train_seqs[:5]"
   ]
  },
  {
   "cell_type": "code",
   "execution_count": 31,
   "metadata": {
    "colab": {},
    "colab_type": "code",
    "id": "8Q44tNQVRPFt"
   },
   "outputs": [],
   "source": [
    "tokenizer.word_index['<pad>'] = 0\n",
    "tokenizer.index_word[0] = '<pad>'"
   ]
  },
  {
   "cell_type": "code",
   "execution_count": 32,
   "metadata": {
    "colab": {
     "base_uri": "https://localhost:8080/",
     "height": 34
    },
    "colab_type": "code",
    "id": "Sr055W_YD4R3",
    "outputId": "565a97bc-96c8-467b-86e7-76d15010eaa6"
   },
   "outputs": [
    {
     "data": {
      "text/plain": [
       "'<pad>'"
      ]
     },
     "execution_count": 32,
     "metadata": {},
     "output_type": "execute_result"
    }
   ],
   "source": [
    "tokenizer.index_word[0]"
   ]
  },
  {
   "cell_type": "code",
   "execution_count": 33,
   "metadata": {
    "colab": {
     "base_uri": "https://localhost:8080/",
     "height": 416
    },
    "colab_type": "code",
    "id": "t0Rx4CLlB85E",
    "outputId": "9e27054a-197e-4ae6-e464-fd1e29836de3"
   },
   "outputs": [
    {
     "name": "stdout",
     "output_type": "stream",
     "text": [
      "0 <unk> 1\n",
      "1 <start> 2\n",
      "2 <end> 3\n",
      "3 di 4\n",
      "4 tugu 5\n",
      "5 jeep 6\n",
      "6 gunung 7\n",
      "7 wisata 8\n",
      "8 malioboro 9\n",
      "9 yang 10\n",
      "10 sore 11\n",
      "----------\n",
      "0 1 <unk>\n",
      "1 2 <start>\n",
      "2 3 <end>\n",
      "3 4 di\n",
      "4 5 tugu\n",
      "5 6 jeep\n",
      "6 7 gunung\n",
      "7 8 wisata\n",
      "8 9 malioboro\n",
      "9 10 yang\n",
      "10 11 sore\n"
     ]
    }
   ],
   "source": [
    "# print(tokenizer.word_index.items()[:5])\n",
    "for i, (k,v) in enumerate(tokenizer.word_index.items()):\n",
    "  print(i,k,v)\n",
    "  if i == 10:\n",
    "    break\n",
    "# print(tokenizer.index_word.items()[:5])\n",
    "print(\"-\"*10)\n",
    "for i, (k,v) in enumerate(tokenizer.index_word.items()):\n",
    "  print(i,k,v)\n",
    "  if i == 10:\n",
    "    break"
   ]
  },
  {
   "cell_type": "code",
   "execution_count": 34,
   "metadata": {
    "colab": {
     "base_uri": "https://localhost:8080/",
     "height": 34
    },
    "colab_type": "code",
    "id": "1bUul5ljrelN",
    "outputId": "964ffa15-6539-4830-924a-bc27ecb8fea6"
   },
   "outputs": [
    {
     "data": {
      "text/plain": [
       "102"
      ]
     },
     "execution_count": 34,
     "metadata": {},
     "output_type": "execute_result"
    }
   ],
   "source": [
    "len(tokenizer.word_index.items())"
   ]
  },
  {
   "cell_type": "code",
   "execution_count": 35,
   "metadata": {
    "colab": {},
    "colab_type": "code",
    "id": "0fpJb5ojRPFv"
   },
   "outputs": [],
   "source": [
    "# Create the tokenized vectors\n",
    "train_seqs = tokenizer.texts_to_sequences(train_captions)"
   ]
  },
  {
   "cell_type": "code",
   "execution_count": 36,
   "metadata": {
    "colab": {
     "base_uri": "https://localhost:8080/",
     "height": 104
    },
    "colab_type": "code",
    "id": "LD8hcDo5KcJR",
    "outputId": "e76602de-6c6c-40c9-d14d-e54fec0a4eb4"
   },
   "outputs": [
    {
     "data": {
      "text/plain": [
       "[[2, 17, 10, 87, 88, 89, 25, 26, 7, 3],\n",
       " [2, 51, 52, 7, 53, 54, 13, 55, 13, 3],\n",
       " [2, 11, 10, 43, 4, 5, 24, 3],\n",
       " [2, 60, 61, 29, 29, 32, 4, 5, 18, 3],\n",
       " [2, 14, 44, 36, 10, 45, 22, 46, 47, 3]]"
      ]
     },
     "execution_count": 36,
     "metadata": {},
     "output_type": "execute_result"
    }
   ],
   "source": [
    "train_seqs[:5]"
   ]
  },
  {
   "cell_type": "code",
   "execution_count": 37,
   "metadata": {
    "colab": {},
    "colab_type": "code",
    "id": "AidglIZVRPF4"
   },
   "outputs": [],
   "source": [
    "# Pad each vector to the max_length of the captions\n",
    "# If you do not provide a max_length value, pad_sequences calculates it automatically\n",
    "cap_vector = tf.keras.preprocessing.sequence.pad_sequences(train_seqs, padding='post')"
   ]
  },
  {
   "cell_type": "code",
   "execution_count": 38,
   "metadata": {
    "colab": {
     "base_uri": "https://localhost:8080/",
     "height": 34
    },
    "colab_type": "code",
    "id": "xKlAHampKwlJ",
    "outputId": "728405bc-63e8-4c60-f490-dbca8c8b6668"
   },
   "outputs": [
    {
     "data": {
      "text/plain": [
       "(480, 13)"
      ]
     },
     "execution_count": 38,
     "metadata": {},
     "output_type": "execute_result"
    }
   ],
   "source": [
    "cap_vector.shape"
   ]
  },
  {
   "cell_type": "code",
   "execution_count": 39,
   "metadata": {
    "colab": {
     "base_uri": "https://localhost:8080/",
     "height": 104
    },
    "colab_type": "code",
    "id": "8YbiSQ40L3sR",
    "outputId": "7dd1ed2e-fccf-4d8a-9c6d-ad66b09e69fb"
   },
   "outputs": [
    {
     "data": {
      "text/plain": [
       "array([[ 2, 17, 10, 87, 88, 89, 25, 26,  7,  3,  0,  0,  0],\n",
       "       [ 2, 51, 52,  7, 53, 54, 13, 55, 13,  3,  0,  0,  0],\n",
       "       [ 2, 11, 10, 43,  4,  5, 24,  3,  0,  0,  0,  0,  0],\n",
       "       [ 2, 60, 61, 29, 29, 32,  4,  5, 18,  3,  0,  0,  0],\n",
       "       [ 2, 14, 44, 36, 10, 45, 22, 46, 47,  3,  0,  0,  0]], dtype=int32)"
      ]
     },
     "execution_count": 39,
     "metadata": {},
     "output_type": "execute_result"
    }
   ],
   "source": [
    "cap_vector[:5]"
   ]
  },
  {
   "cell_type": "code",
   "execution_count": 40,
   "metadata": {
    "colab": {},
    "colab_type": "code",
    "id": "gL0wkttkRPGA"
   },
   "outputs": [],
   "source": [
    "# Calculates the max_length, which is used to store the attention weights\n",
    "max_length = calc_max_length(train_seqs)"
   ]
  },
  {
   "cell_type": "code",
   "execution_count": 41,
   "metadata": {
    "colab": {
     "base_uri": "https://localhost:8080/",
     "height": 34
    },
    "colab_type": "code",
    "id": "kPGrUJzKK7Da",
    "outputId": "bcfc74d9-3183-4c76-bb1e-9e4f5dccc122"
   },
   "outputs": [
    {
     "data": {
      "text/plain": [
       "13"
      ]
     },
     "execution_count": 41,
     "metadata": {},
     "output_type": "execute_result"
    }
   ],
   "source": [
    "max_length"
   ]
  },
  {
   "cell_type": "markdown",
   "metadata": {
    "colab_type": "text",
    "id": "M3CD75nDpvTI"
   },
   "source": [
    "## Split the data into training and testing"
   ]
  },
  {
   "cell_type": "code",
   "execution_count": 42,
   "metadata": {
    "colab": {},
    "colab_type": "code",
    "id": "iS7DDMszRPGF"
   },
   "outputs": [],
   "source": [
    "# Create training and validation sets using an 80-20 split\n",
    "img_name_train, img_name_val, cap_train, cap_val = train_test_split(img_name_vector,\n",
    "                                                                    cap_vector,\n",
    "                                                                    test_size=0.2,\n",
    "                                                                    random_state=0)"
   ]
  },
  {
   "cell_type": "code",
   "execution_count": 43,
   "metadata": {
    "colab": {
     "base_uri": "https://localhost:8080/",
     "height": 34
    },
    "colab_type": "code",
    "id": "XmViPkRFRPGH",
    "outputId": "4873d346-a8eb-4697-98a0-ce30252db3b9"
   },
   "outputs": [
    {
     "data": {
      "text/plain": [
       "(384, 384, 96, 96)"
      ]
     },
     "execution_count": 43,
     "metadata": {},
     "output_type": "execute_result"
    }
   ],
   "source": [
    "len(img_name_train), len(cap_train), len(img_name_val), len(cap_val)"
   ]
  },
  {
   "cell_type": "code",
   "execution_count": 44,
   "metadata": {
    "colab": {
     "base_uri": "https://localhost:8080/",
     "height": 104
    },
    "colab_type": "code",
    "id": "m0H_zrIILb5p",
    "outputId": "a9f7f963-d871-4f0d-a99e-d2e7671d210f"
   },
   "outputs": [
    {
     "data": {
      "text/plain": [
       "['/home/yurio/mainan_yurio/img_cap_to_icitda/img_caption_dl_textAnalytic/dataset_efficientNet/whatsapp_image_2019-06-18_at_21.32.11.jpg',\n",
       " '/home/yurio/mainan_yurio/img_cap_to_icitda/img_caption_dl_textAnalytic/dataset_efficientNet/caozxvjw18reuq2h09tp.png',\n",
       " '/home/yurio/mainan_yurio/img_cap_to_icitda/img_caption_dl_textAnalytic/dataset_efficientNet/eod0f8y6bntahxzlw2uv.jpg',\n",
       " '/home/yurio/mainan_yurio/img_cap_to_icitda/img_caption_dl_textAnalytic/dataset_efficientNet/9nlpyqhv5mc2j743se8r.jpeg',\n",
       " '/home/yurio/mainan_yurio/img_cap_to_icitda/img_caption_dl_textAnalytic/dataset_efficientNet/Jalan-Malioboro-1280x720.jpg']"
      ]
     },
     "execution_count": 44,
     "metadata": {},
     "output_type": "execute_result"
    }
   ],
   "source": [
    "img_name_train[:5]"
   ]
  },
  {
   "cell_type": "code",
   "execution_count": 45,
   "metadata": {
    "colab": {
     "base_uri": "https://localhost:8080/",
     "height": 104
    },
    "colab_type": "code",
    "id": "Xgb4UPCJLhwb",
    "outputId": "228fa8d7-5a72-46e3-9d36-2f32e49d716c"
   },
   "outputs": [
    {
     "data": {
      "text/plain": [
       "array([[ 2, 17, 75,  9, 76, 77, 78, 15,  3,  0,  0,  0,  0],\n",
       "       [ 2, 37,  4, 28, 23,  6, 38,  3,  0,  0,  0,  0,  0],\n",
       "       [ 2, 37,  4, 28, 23,  6, 38,  3,  0,  0,  0,  0,  0],\n",
       "       [ 2,  6, 27, 16, 96,  4,  8, 21,  3,  0,  0,  0,  0],\n",
       "       [ 2, 17, 75,  9, 76, 77, 78, 15,  3,  0,  0,  0,  0]], dtype=int32)"
      ]
     },
     "execution_count": 45,
     "metadata": {},
     "output_type": "execute_result"
    }
   ],
   "source": [
    "cap_train[:5]"
   ]
  },
  {
   "cell_type": "markdown",
   "metadata": {
    "colab_type": "text",
    "id": "uEWM9xrYcg45"
   },
   "source": [
    "## Create a tf.data dataset for training\n"
   ]
  },
  {
   "cell_type": "markdown",
   "metadata": {
    "colab_type": "text",
    "id": "horagNvhhZiy"
   },
   "source": [
    " Our images and captions are ready! Next, let's create a tf.data dataset to use for training our model."
   ]
  },
  {
   "cell_type": "code",
   "execution_count": 46,
   "metadata": {
    "colab": {},
    "colab_type": "code",
    "id": "Q3TnZ1ToRPGV"
   },
   "outputs": [],
   "source": [
    "# Feel free to change these parameters according to your system's configuration\n",
    "\n",
    "BATCH_SIZE = 64\n",
    "BUFFER_SIZE = 1000\n",
    "embedding_dim = 256\n",
    "units = 512\n",
    "vocab_size = top_k + 1\n",
    "num_steps = len(img_name_train) // BATCH_SIZE  # 384 / 64"
   ]
  },
  {
   "cell_type": "code",
   "execution_count": 47,
   "metadata": {
    "colab": {
     "base_uri": "https://localhost:8080/",
     "height": 34
    },
    "colab_type": "code",
    "id": "_UTQsTOEN-TD",
    "outputId": "9200b728-5ee8-48f1-b804-fd10a2bc76d7"
   },
   "outputs": [
    {
     "data": {
      "text/plain": [
       "6"
      ]
     },
     "execution_count": 47,
     "metadata": {},
     "output_type": "execute_result"
    }
   ],
   "source": [
    "num_steps"
   ]
  },
  {
   "cell_type": "code",
   "execution_count": 48,
   "metadata": {
    "colab": {},
    "colab_type": "code",
    "id": "FTegIHPWN8mq"
   },
   "outputs": [],
   "source": [
    "# Shape of the vector extracted from InceptionV3 is (64, 2048)\n",
    "# These two variables represent that vector shape\n",
    "features_shape = 1280\n",
    "attention_features_shape = 49"
   ]
  },
  {
   "cell_type": "code",
   "execution_count": 49,
   "metadata": {
    "colab": {},
    "colab_type": "code",
    "id": "SmZS2N0bXG3T"
   },
   "outputs": [],
   "source": [
    "# Load the numpy files\n",
    "def map_func(img_name, cap):\n",
    "  img_tensor = np.load(img_name.decode('utf-8')+'.npy')\n",
    "  return img_tensor, cap"
   ]
  },
  {
   "cell_type": "code",
   "execution_count": 50,
   "metadata": {
    "colab": {},
    "colab_type": "code",
    "id": "FDF_Nm3tRPGZ"
   },
   "outputs": [],
   "source": [
    "dataset = tf.data.Dataset.from_tensor_slices((img_name_train, cap_train))"
   ]
  },
  {
   "cell_type": "code",
   "execution_count": 51,
   "metadata": {
    "colab": {
     "base_uri": "https://localhost:8080/",
     "height": 34
    },
    "colab_type": "code",
    "id": "uYreg76zPlNR",
    "outputId": "c3441105-1128-4c0f-c8b2-dac507165b27"
   },
   "outputs": [
    {
     "data": {
      "text/plain": [
       "<TensorSliceDataset shapes: ((), (13,)), types: (tf.string, tf.int32)>"
      ]
     },
     "execution_count": 51,
     "metadata": {},
     "output_type": "execute_result"
    }
   ],
   "source": [
    "dataset"
   ]
  },
  {
   "cell_type": "code",
   "execution_count": 52,
   "metadata": {
    "colab": {},
    "colab_type": "code",
    "id": "3ctKhAAePhsV"
   },
   "outputs": [],
   "source": [
    "# Use map to load the numpy files in parallel\n",
    "dataset = dataset.map(lambda item1, item2: tf.numpy_function(\n",
    "          map_func, [item1, item2], [tf.float32, tf.int32]),\n",
    "          num_parallel_calls=tf.data.experimental.AUTOTUNE)"
   ]
  },
  {
   "cell_type": "code",
   "execution_count": 53,
   "metadata": {
    "colab": {
     "base_uri": "https://localhost:8080/",
     "height": 34
    },
    "colab_type": "code",
    "id": "uV2ukIF8QlaB",
    "outputId": "d745615f-5274-4869-da4a-db77a7c35e96"
   },
   "outputs": [
    {
     "data": {
      "text/plain": [
       "<ParallelMapDataset shapes: (<unknown>, <unknown>), types: (tf.float32, tf.int32)>"
      ]
     },
     "execution_count": 53,
     "metadata": {},
     "output_type": "execute_result"
    }
   ],
   "source": [
    "dataset"
   ]
  },
  {
   "cell_type": "code",
   "execution_count": 54,
   "metadata": {
    "colab": {},
    "colab_type": "code",
    "id": "So9A-j6dPjlC"
   },
   "outputs": [],
   "source": [
    "# Shuffle and batch\n",
    "dataset = dataset.shuffle(BUFFER_SIZE).batch(BATCH_SIZE)"
   ]
  },
  {
   "cell_type": "code",
   "execution_count": 55,
   "metadata": {
    "colab": {
     "base_uri": "https://localhost:8080/",
     "height": 34
    },
    "colab_type": "code",
    "id": "gcmA0EryRV3i",
    "outputId": "f0baf20a-516c-4a33-9e13-756997fe5de8"
   },
   "outputs": [
    {
     "data": {
      "text/plain": [
       "<BatchDataset shapes: (<unknown>, <unknown>), types: (tf.float32, tf.int32)>"
      ]
     },
     "execution_count": 55,
     "metadata": {},
     "output_type": "execute_result"
    }
   ],
   "source": [
    "dataset"
   ]
  },
  {
   "cell_type": "code",
   "execution_count": 56,
   "metadata": {
    "colab": {},
    "colab_type": "code",
    "id": "JJZmNZX-RK3T"
   },
   "outputs": [],
   "source": [
    "dataset = dataset.prefetch(buffer_size=tf.data.experimental.AUTOTUNE)"
   ]
  },
  {
   "cell_type": "code",
   "execution_count": 57,
   "metadata": {
    "colab": {
     "base_uri": "https://localhost:8080/",
     "height": 34
    },
    "colab_type": "code",
    "id": "_ykagxpQRyu1",
    "outputId": "eafbb293-d055-4909-972b-31c687564026"
   },
   "outputs": [
    {
     "data": {
      "text/plain": [
       "<PrefetchDataset shapes: (<unknown>, <unknown>), types: (tf.float32, tf.int32)>"
      ]
     },
     "execution_count": 57,
     "metadata": {},
     "output_type": "execute_result"
    }
   ],
   "source": [
    "dataset"
   ]
  },
  {
   "cell_type": "markdown",
   "metadata": {
    "colab_type": "text",
    "id": "nrvoDphgRPGd"
   },
   "source": [
    "## Model\n",
    "\n",
    "Fun fact: the decoder below is identical to the one in the example for [Neural Machine Translation with Attention](../sequences/nmt_with_attention.ipynb).\n",
    "\n",
    "The model architecture is inspired by the [Show, Attend and Tell](https://arxiv.org/pdf/1502.03044.pdf) paper.\n",
    "\n",
    "* In this example, you extract the features from the lower convolutional layer of InceptionV3 giving us a vector of shape (8, 8, 2048).\n",
    "* You squash that to a shape of (64, 2048).\n",
    "* This vector is then passed through the CNN Encoder (which consists of a single Fully connected layer).\n",
    "* The RNN (here GRU) attends over the image to predict the next word."
   ]
  },
  {
   "cell_type": "code",
   "execution_count": 58,
   "metadata": {
    "colab": {},
    "colab_type": "code",
    "id": "ja2LFTMSdeV3"
   },
   "outputs": [],
   "source": [
    "class BahdanauAttention(tf.keras.Model):\n",
    "  def __init__(self, units):\n",
    "    super(BahdanauAttention, self).__init__()\n",
    "    self.W1 = tf.keras.layers.Dense(units)\n",
    "    self.W2 = tf.keras.layers.Dense(units)\n",
    "    self.V = tf.keras.layers.Dense(1)\n",
    "\n",
    "  def call(self, features, hidden):\n",
    "    # features(CNN_encoder output) shape == (batch_size, 64, embedding_dim)\n",
    "\n",
    "    # hidden shape == (batch_size, hidden_size)\n",
    "    # hidden_with_time_axis shape == (batch_size, 1, hidden_size)\n",
    "    hidden_with_time_axis = tf.expand_dims(hidden, 1)\n",
    "\n",
    "    # score shape == (batch_size, 64, hidden_size)\n",
    "    score = tf.nn.tanh(self.W1(features) + self.W2(hidden_with_time_axis)) # vector_size 512 + vector_size 512\n",
    "\n",
    "    # attention_weights shape == (batch_size, 64, 1) # from 512 --> 1 fc\n",
    "    # you get 1 at the last axis because you are applying score to self.V\n",
    "    attention_weights = tf.nn.softmax(self.V(score), axis=1)\n",
    "    print(\"attention_weights: \",attention_weights)\n",
    "\n",
    "    # context_vector shape after sum == (batch_size, hidden_size)\n",
    "    context_vector = attention_weights * features # dot_prod feature x attention\n",
    "    context_vector = tf.reduce_sum(context_vector, axis=1) # vector sum\n",
    "\n",
    "    return context_vector, attention_weights"
   ]
  },
  {
   "cell_type": "code",
   "execution_count": 59,
   "metadata": {
    "colab": {},
    "colab_type": "code",
    "id": "AZ7R1RxHRPGf"
   },
   "outputs": [],
   "source": [
    "class CNN_Encoder(tf.keras.Model):\n",
    "    # Since you have already extracted the features and dumped it using pickle\n",
    "    # This encoder passes those features through a Fully connected layer\n",
    "    def __init__(self, embedding_dim):\n",
    "        super(CNN_Encoder, self).__init__()\n",
    "        # shape after fc == (batch_size, 64, embedding_dim)\n",
    "        self.fc = tf.keras.layers.Dense(embedding_dim)\n",
    "\n",
    "    def call(self, x):\n",
    "        x = self.fc(x)\n",
    "        x = tf.nn.relu(x)\n",
    "        return x"
   ]
  },
  {
   "cell_type": "code",
   "execution_count": 60,
   "metadata": {
    "colab": {},
    "colab_type": "code",
    "id": "V9UbGQmERPGi"
   },
   "outputs": [],
   "source": [
    "class RNN_Decoder(tf.keras.Model):\n",
    "  def __init__(self, embedding_dim, units, vocab_size):\n",
    "    super(RNN_Decoder, self).__init__()\n",
    "    self.units = units\n",
    "\n",
    "    self.embedding = tf.keras.layers.Embedding(vocab_size, embedding_dim)\n",
    "    self.gru = tf.keras.layers.GRU(self.units,\n",
    "                                   return_sequences=True,\n",
    "                                   return_state=True,\n",
    "                                   recurrent_initializer='glorot_uniform')\n",
    "    self.fc1 = tf.keras.layers.Dense(self.units)\n",
    "    self.fc2 = tf.keras.layers.Dense(vocab_size)\n",
    "\n",
    "    self.attention = BahdanauAttention(self.units)\n",
    "\n",
    "  def call(self, x, features, hidden):\n",
    "    # defining attention as a separate model\n",
    "    context_vector, attention_weights = self.attention(features, hidden)\n",
    "\n",
    "    # x shape after passing through embedding == (batch_size, 1, embedding_dim)\n",
    "    x = self.embedding(x)\n",
    "\n",
    "    # x shape after concatenation == (batch_size, 1, embedding_dim + hidden_size)\n",
    "    x = tf.concat([tf.expand_dims(context_vector, 1), x], axis=-1)\n",
    "\n",
    "    # passing the concatenated vector to the GRU\n",
    "    output, state = self.gru(x)\n",
    "\n",
    "    # shape == (batch_size, max_length, hidden_size)\n",
    "    x = self.fc1(output)\n",
    "\n",
    "    # x shape == (batch_size * max_length, hidden_size)\n",
    "    x = tf.reshape(x, (-1, x.shape[2]))\n",
    "\n",
    "    # output shape == (batch_size * max_length, vocab)\n",
    "    x = self.fc2(x)\n",
    "\n",
    "    return x, state, attention_weights\n",
    "\n",
    "  def reset_state(self, batch_size):\n",
    "    return tf.zeros((batch_size, self.units))"
   ]
  },
  {
   "cell_type": "code",
   "execution_count": 61,
   "metadata": {
    "colab": {},
    "colab_type": "code",
    "id": "Qs_Sr03wRPGk"
   },
   "outputs": [],
   "source": [
    "encoder = CNN_Encoder(embedding_dim)\n",
    "decoder = RNN_Decoder(embedding_dim, units, vocab_size)"
   ]
  },
  {
   "cell_type": "code",
   "execution_count": 62,
   "metadata": {
    "colab": {},
    "colab_type": "code",
    "id": "-bYN7xA0RPGl"
   },
   "outputs": [],
   "source": [
    "optimizer = tf.keras.optimizers.Adam()\n",
    "loss_object = tf.keras.losses.SparseCategoricalCrossentropy(\n",
    "    from_logits=True, reduction='none')\n",
    "\n",
    "def loss_function(real, pred):\n",
    "  mask = tf.math.logical_not(tf.math.equal(real, 0))\n",
    "  loss_ = loss_object(real, pred)\n",
    "\n",
    "  mask = tf.cast(mask, dtype=loss_.dtype)\n",
    "  loss_ *= mask\n",
    "\n",
    "  return tf.reduce_mean(loss_)"
   ]
  },
  {
   "cell_type": "markdown",
   "metadata": {
    "colab_type": "text",
    "id": "6A3Ni64joyab"
   },
   "source": [
    "## Checkpoint"
   ]
  },
  {
   "cell_type": "code",
   "execution_count": 63,
   "metadata": {
    "colab": {},
    "colab_type": "code",
    "id": "PpJAqPMWo0uE"
   },
   "outputs": [],
   "source": [
    "checkpoint_path = PATH + \"/checkpoints/efficientNet\"\n",
    "ckpt = tf.train.Checkpoint(encoder=encoder,\n",
    "                           decoder=decoder,\n",
    "                           optimizer = optimizer)\n",
    "ckpt_manager = tf.train.CheckpointManager(ckpt, checkpoint_path, max_to_keep=5)"
   ]
  },
  {
   "cell_type": "code",
   "execution_count": 64,
   "metadata": {
    "colab": {},
    "colab_type": "code",
    "id": "fUkbqhc_uObw"
   },
   "outputs": [],
   "source": [
    "start_epoch = 0\n",
    "if ckpt_manager.latest_checkpoint:\n",
    "  start_epoch = int(ckpt_manager.latest_checkpoint.split('-')[-1])\n",
    "  # restoring the latest checkpoint in checkpoint_path\n",
    "  ckpt.restore(ckpt_manager.latest_checkpoint)"
   ]
  },
  {
   "cell_type": "markdown",
   "metadata": {
    "colab_type": "text",
    "id": "PHod7t72RPGn"
   },
   "source": [
    "## Training\n",
    "\n",
    "* You extract the features stored in the respective `.npy` files and then pass those features through the encoder.\n",
    "* The encoder output, hidden state(initialized to 0) and the decoder input (which is the start token) is passed to the decoder.\n",
    "* The decoder returns the predictions and the decoder hidden state.\n",
    "* The decoder hidden state is then passed back into the model and the predictions are used to calculate the loss.\n",
    "* Use teacher forcing to decide the next input to the decoder.\n",
    "* Teacher forcing is the technique where the target word is passed as the next input to the decoder.\n",
    "* The final step is to calculate the gradients and apply it to the optimizer and backpropagate.\n"
   ]
  },
  {
   "cell_type": "code",
   "execution_count": 65,
   "metadata": {
    "colab": {},
    "colab_type": "code",
    "id": "Vt4WZ5mhJE-E"
   },
   "outputs": [],
   "source": [
    "# adding this in a separate cell because if you run the training cell\n",
    "# many times, the loss_plot array will be reset\n",
    "loss_plot = []"
   ]
  },
  {
   "cell_type": "code",
   "execution_count": 66,
   "metadata": {
    "colab": {},
    "colab_type": "code",
    "id": "sqgyz2ANKlpU"
   },
   "outputs": [],
   "source": [
    "@tf.function\n",
    "def train_step(img_tensor, target): # input from img tensor, n target word captions\n",
    "  loss = 0\n",
    "\n",
    "  # initializing the hidden state for each batch\n",
    "  # because the captions are not related from image to image\n",
    "  hidden = decoder.reset_state(batch_size=target.shape[0])\n",
    "\n",
    "  dec_input = tf.expand_dims([tokenizer.word_index['<start>']] * target.shape[0], 1) # decide input\n",
    "  \n",
    "  print(\"target.shape[0]: \", target.shape[0])\n",
    "  print(\"dec_input: \", dec_input)\n",
    "\n",
    "  with tf.GradientTape() as tape:\n",
    "      features = encoder(img_tensor)  # 64 x 256\n",
    "      print(\"target.shape[1]: \", target.shape[1])\n",
    "\n",
    "      for i in range(1, target.shape[1]): # loop over the target\n",
    "          # passing the features through the decoder\n",
    "          # overwrite hidden from attention\n",
    "          predictions, hidden, _ = decoder(dec_input, features, hidden)\n",
    "          print(i)\n",
    "\n",
    "          loss += loss_function(target[:, i], predictions)\n",
    "          print(\"target[:, i]: \", target[:, i])\n",
    "\n",
    "          # using teacher forcing # overwrite new decide_input\n",
    "          dec_input = tf.expand_dims(target[:, i], 1)\n",
    "\n",
    "  total_loss = (loss / int(target.shape[1]))\n",
    "\n",
    "  trainable_variables = encoder.trainable_variables + decoder.trainable_variables\n",
    "\n",
    "  gradients = tape.gradient(loss, trainable_variables)\n",
    "\n",
    "  optimizer.apply_gradients(zip(gradients, trainable_variables))\n",
    "\n",
    "  return loss, total_loss"
   ]
  },
  {
   "cell_type": "code",
   "execution_count": 67,
   "metadata": {
    "colab": {
     "base_uri": "https://localhost:8080/",
     "height": 1000
    },
    "colab_type": "code",
    "id": "UlA4VIQpRPGo",
    "outputId": "776b2542-959d-482e-e743-b2d705717b98"
   },
   "outputs": [
    {
     "name": "stdout",
     "output_type": "stream",
     "text": [
      "target.shape[0]:  64\n",
      "dec_input:  Tensor(\"ExpandDims:0\", shape=(64, 1), dtype=int32)\n",
      "target.shape[1]:  13\n",
      "attention_weights:  Tensor(\"rnn__decoder/bahdanau_attention/transpose_1:0\", shape=(64, 49, 1), dtype=float32)\n",
      "1\n",
      "target[:, i]:  Tensor(\"strided_slice_1:0\", shape=(64,), dtype=int32)\n",
      "attention_weights:  Tensor(\"rnn__decoder/bahdanau_attention/transpose_3:0\", shape=(64, 49, 1), dtype=float32)\n",
      "2\n",
      "target[:, i]:  Tensor(\"strided_slice_4:0\", shape=(64,), dtype=int32)\n",
      "attention_weights:  Tensor(\"rnn__decoder/bahdanau_attention/transpose_5:0\", shape=(64, 49, 1), dtype=float32)\n",
      "3\n",
      "target[:, i]:  Tensor(\"strided_slice_7:0\", shape=(64,), dtype=int32)\n",
      "attention_weights:  Tensor(\"rnn__decoder/bahdanau_attention/transpose_7:0\", shape=(64, 49, 1), dtype=float32)\n",
      "4\n",
      "target[:, i]:  Tensor(\"strided_slice_10:0\", shape=(64,), dtype=int32)\n",
      "attention_weights:  Tensor(\"rnn__decoder/bahdanau_attention/transpose_9:0\", shape=(64, 49, 1), dtype=float32)\n",
      "5\n",
      "target[:, i]:  Tensor(\"strided_slice_13:0\", shape=(64,), dtype=int32)\n",
      "attention_weights:  Tensor(\"rnn__decoder/bahdanau_attention/transpose_11:0\", shape=(64, 49, 1), dtype=float32)\n",
      "6\n",
      "target[:, i]:  Tensor(\"strided_slice_16:0\", shape=(64,), dtype=int32)\n",
      "attention_weights:  Tensor(\"rnn__decoder/bahdanau_attention/transpose_13:0\", shape=(64, 49, 1), dtype=float32)\n",
      "7\n",
      "target[:, i]:  Tensor(\"strided_slice_19:0\", shape=(64,), dtype=int32)\n",
      "attention_weights:  Tensor(\"rnn__decoder/bahdanau_attention/transpose_15:0\", shape=(64, 49, 1), dtype=float32)\n",
      "8\n",
      "target[:, i]:  Tensor(\"strided_slice_22:0\", shape=(64,), dtype=int32)\n",
      "attention_weights:  Tensor(\"rnn__decoder/bahdanau_attention/transpose_17:0\", shape=(64, 49, 1), dtype=float32)\n",
      "9\n",
      "target[:, i]:  Tensor(\"strided_slice_25:0\", shape=(64,), dtype=int32)\n",
      "attention_weights:  Tensor(\"rnn__decoder/bahdanau_attention/transpose_19:0\", shape=(64, 49, 1), dtype=float32)\n",
      "10\n",
      "target[:, i]:  Tensor(\"strided_slice_28:0\", shape=(64,), dtype=int32)\n",
      "attention_weights:  Tensor(\"rnn__decoder/bahdanau_attention/transpose_21:0\", shape=(64, 49, 1), dtype=float32)\n",
      "11\n",
      "target[:, i]:  Tensor(\"strided_slice_31:0\", shape=(64,), dtype=int32)\n",
      "attention_weights:  Tensor(\"rnn__decoder/bahdanau_attention/transpose_23:0\", shape=(64, 49, 1), dtype=float32)\n",
      "12\n",
      "target[:, i]:  Tensor(\"strided_slice_34:0\", shape=(64,), dtype=int32)\n",
      "target.shape[0]:  64\n",
      "dec_input:  Tensor(\"ExpandDims:0\", shape=(64, 1), dtype=int32)\n",
      "target.shape[1]:  13\n",
      "attention_weights:  Tensor(\"rnn__decoder/bahdanau_attention/transpose_1:0\", shape=(64, 49, 1), dtype=float32)\n",
      "1\n",
      "target[:, i]:  Tensor(\"strided_slice_1:0\", shape=(64,), dtype=int32)\n",
      "attention_weights:  Tensor(\"rnn__decoder/bahdanau_attention/transpose_3:0\", shape=(64, 49, 1), dtype=float32)\n",
      "2\n",
      "target[:, i]:  Tensor(\"strided_slice_4:0\", shape=(64,), dtype=int32)\n",
      "attention_weights:  Tensor(\"rnn__decoder/bahdanau_attention/transpose_5:0\", shape=(64, 49, 1), dtype=float32)\n",
      "3\n",
      "target[:, i]:  Tensor(\"strided_slice_7:0\", shape=(64,), dtype=int32)\n",
      "attention_weights:  Tensor(\"rnn__decoder/bahdanau_attention/transpose_7:0\", shape=(64, 49, 1), dtype=float32)\n",
      "4\n",
      "target[:, i]:  Tensor(\"strided_slice_10:0\", shape=(64,), dtype=int32)\n",
      "attention_weights:  Tensor(\"rnn__decoder/bahdanau_attention/transpose_9:0\", shape=(64, 49, 1), dtype=float32)\n",
      "5\n",
      "target[:, i]:  Tensor(\"strided_slice_13:0\", shape=(64,), dtype=int32)\n",
      "attention_weights:  Tensor(\"rnn__decoder/bahdanau_attention/transpose_11:0\", shape=(64, 49, 1), dtype=float32)\n",
      "6\n",
      "target[:, i]:  Tensor(\"strided_slice_16:0\", shape=(64,), dtype=int32)\n",
      "attention_weights:  Tensor(\"rnn__decoder/bahdanau_attention/transpose_13:0\", shape=(64, 49, 1), dtype=float32)\n",
      "7\n",
      "target[:, i]:  Tensor(\"strided_slice_19:0\", shape=(64,), dtype=int32)\n",
      "attention_weights:  Tensor(\"rnn__decoder/bahdanau_attention/transpose_15:0\", shape=(64, 49, 1), dtype=float32)\n",
      "8\n",
      "target[:, i]:  Tensor(\"strided_slice_22:0\", shape=(64,), dtype=int32)\n",
      "attention_weights:  Tensor(\"rnn__decoder/bahdanau_attention/transpose_17:0\", shape=(64, 49, 1), dtype=float32)\n",
      "9\n",
      "target[:, i]:  Tensor(\"strided_slice_25:0\", shape=(64,), dtype=int32)\n",
      "attention_weights:  Tensor(\"rnn__decoder/bahdanau_attention/transpose_19:0\", shape=(64, 49, 1), dtype=float32)\n",
      "10\n",
      "target[:, i]:  Tensor(\"strided_slice_28:0\", shape=(64,), dtype=int32)\n",
      "attention_weights:  Tensor(\"rnn__decoder/bahdanau_attention/transpose_21:0\", shape=(64, 49, 1), dtype=float32)\n",
      "11\n",
      "target[:, i]:  Tensor(\"strided_slice_31:0\", shape=(64,), dtype=int32)\n",
      "attention_weights:  Tensor(\"rnn__decoder/bahdanau_attention/transpose_23:0\", shape=(64, 49, 1), dtype=float32)\n",
      "12\n",
      "target[:, i]:  Tensor(\"strided_slice_34:0\", shape=(64,), dtype=int32)\n",
      "Epoch 1 Batch 0 Loss 3.1314\n",
      "Epoch 1 Loss 2.746501\n",
      "Time taken for 1 epoch 7.214641571044922 sec\n",
      "\n",
      "Epoch 2 Batch 0 Loss 2.4976\n",
      "Epoch 2 Loss 2.305575\n",
      "Time taken for 1 epoch 0.2747957706451416 sec\n",
      "\n",
      "Epoch 3 Batch 0 Loss 2.0216\n",
      "Epoch 3 Loss 1.903247\n",
      "Time taken for 1 epoch 0.283527135848999 sec\n",
      "\n",
      "Epoch 4 Batch 0 Loss 1.6611\n",
      "Epoch 4 Loss 1.721495\n",
      "Time taken for 1 epoch 0.286562442779541 sec\n",
      "\n",
      "Epoch 5 Batch 0 Loss 1.7710\n",
      "Epoch 5 Loss 1.581728\n",
      "Time taken for 1 epoch 0.3348572254180908 sec\n",
      "\n"
     ]
    }
   ],
   "source": [
    "EPOCHS = 5\n",
    "\n",
    "for epoch in range(start_epoch, EPOCHS):\n",
    "    start = time.time()\n",
    "    total_loss = 0\n",
    "\n",
    "    for (batch, (img_tensor, target)) in enumerate(dataset):\n",
    "        batch_loss, t_loss = train_step(img_tensor, target)\n",
    "        total_loss += t_loss\n",
    "\n",
    "        if batch % 100 == 0:\n",
    "            print ('Epoch {} Batch {} Loss {:.4f}'.format(\n",
    "              epoch + 1, batch, batch_loss.numpy() / int(target.shape[1])))\n",
    "    # storing the epoch end loss value to plot later\n",
    "    loss_plot.append(total_loss / num_steps)\n",
    "\n",
    "    if epoch % 5 == 0:\n",
    "      ckpt_manager.save()\n",
    "\n",
    "    print ('Epoch {} Loss {:.6f}'.format(epoch + 1,\n",
    "                                         total_loss/num_steps))\n",
    "    print ('Time taken for 1 epoch {} sec\\n'.format(time.time() - start))"
   ]
  },
  {
   "cell_type": "code",
   "execution_count": 68,
   "metadata": {
    "colab": {
     "base_uri": "https://localhost:8080/",
     "height": 294
    },
    "colab_type": "code",
    "id": "1Wm83G-ZBPcC",
    "outputId": "2733cd4e-40c2-4c91-86ad-d522c1aae45a"
   },
   "outputs": [
    {
     "data": {
      "image/png": "[encoded data removed]",
      "text/plain": [
       "<Figure size 432x288 with 1 Axes>"
      ]
     },
     "metadata": {
      "needs_background": "light"
     },
     "output_type": "display_data"
    }
   ],
   "source": [
    "plt.plot(loss_plot)\n",
    "plt.xlabel('Epochs')\n",
    "plt.ylabel('Loss')\n",
    "plt.title('Loss Plot')\n",
    "plt.show()"
   ]
  },
  {
   "cell_type": "markdown",
   "metadata": {
    "colab_type": "text",
    "id": "xGvOcLQKghXN"
   },
   "source": [
    "## Caption!\n",
    "\n",
    "* The evaluate function is similar to the training loop, except you don't use teacher forcing here. The input to the decoder at each time step is its previous predictions along with the hidden state and the encoder output.\n",
    "* Stop predicting when the model predicts the end token.\n",
    "* And store the attention weights for every time step."
   ]
  },
  {
   "cell_type": "code",
   "execution_count": 69,
   "metadata": {
    "colab": {},
    "colab_type": "code",
    "id": "RCWpDtyNRPGs"
   },
   "outputs": [],
   "source": [
    "def evaluate(image):\n",
    "    attention_plot = np.zeros((max_length, attention_features_shape))\n",
    "\n",
    "    hidden = decoder.reset_state(batch_size=1)\n",
    "\n",
    "    temp_input = tf.expand_dims(load_image(image)[0], 0)\n",
    "    img_tensor_val = image_features_extract_model(temp_input)\n",
    "    img_tensor_val = tf.reshape(img_tensor_val, (img_tensor_val.shape[0], -1, img_tensor_val.shape[3]))\n",
    "\n",
    "    features = encoder(img_tensor_val)\n",
    "\n",
    "    dec_input = tf.expand_dims([tokenizer.word_index['<start>']], 0)\n",
    "    result = []\n",
    "\n",
    "    for i in range(max_length):\n",
    "        predictions, hidden, attention_weights = decoder(dec_input, features, hidden)\n",
    "\n",
    "        attention_plot[i] = tf.reshape(attention_weights, (-1, )).numpy()\n",
    "\n",
    "        predicted_id = tf.random.categorical(predictions, 1)[0][0].numpy()\n",
    "        result.append(tokenizer.index_word[predicted_id])\n",
    "\n",
    "        if tokenizer.index_word[predicted_id] == '<end>':\n",
    "            return result, attention_plot\n",
    "\n",
    "        dec_input = tf.expand_dims([predicted_id], 0)\n",
    "\n",
    "    attention_plot = attention_plot[:len(result), :]\n",
    "    return result, attention_plot"
   ]
  },
  {
   "cell_type": "code",
   "execution_count": 70,
   "metadata": {
    "colab": {},
    "colab_type": "code",
    "id": "fD_y7PD6RPGt"
   },
   "outputs": [],
   "source": [
    "def plot_attention(image, result, attention_plot):\n",
    "    temp_image = np.array(Image.open(image))\n",
    "\n",
    "    fig = plt.figure(figsize=(10, 10))\n",
    "\n",
    "    len_result = len(result)\n",
    "    for l in range(len_result):\n",
    "        temp_att = np.resize(attention_plot[l], (8, 8))\n",
    "        ax = fig.add_subplot(len_result//2, len_result//2, l+1)\n",
    "        ax.set_title(result[l])\n",
    "        img = ax.imshow(temp_image)\n",
    "        ax.imshow(temp_att, cmap='gray', alpha=0.6, extent=img.get_extent())\n",
    "\n",
    "    plt.tight_layout()\n",
    "    plt.show()"
   ]
  },
  {
   "cell_type": "code",
   "execution_count": 71,
   "metadata": {
    "colab": {
     "base_uri": "https://localhost:8080/",
     "height": 1000
    },
    "colab_type": "code",
    "id": "7x8RiPHe_4qI",
    "outputId": "4ec7dfb6-0cf9-431a-edbb-f47391d87936"
   },
   "outputs": [
    {
     "name": "stdout",
     "output_type": "stream",
     "text": [
      "attention_weights:  tf.Tensor(\n",
      "[[[4.27542545e-04]\n",
      "  [4.57921051e-05]\n",
      "  [2.32050138e-06]\n",
      "  [1.26095338e-05]\n",
      "  [1.69759624e-05]\n",
      "  [3.79646022e-04]\n",
      "  [4.81538428e-03]\n",
      "  [1.17807556e-02]\n",
      "  [2.33338033e-05]\n",
      "  [1.69250088e-05]\n",
      "  [1.77918264e-05]\n",
      "  [2.81817833e-04]\n",
      "  [6.22179545e-03]\n",
      "  [5.39709032e-02]\n",
      "  [1.94146521e-02]\n",
      "  [8.84483052e-06]\n",
      "  [1.84576173e-04]\n",
      "  [1.45758968e-04]\n",
      "  [6.75920382e-05]\n",
      "  [2.95797072e-04]\n",
      "  [1.15150283e-03]\n",
      "  [6.49012029e-02]\n",
      "  [8.76658942e-06]\n",
      "  [2.19846552e-04]\n",
      "  [1.04285090e-03]\n",
      "  [4.81009437e-03]\n",
      "  [5.87879959e-03]\n",
      "  [1.82578166e-03]\n",
      "  [7.71488296e-03]\n",
      "  [3.33895674e-04]\n",
      "  [1.25033548e-03]\n",
      "  [4.07388341e-03]\n",
      "  [5.75685780e-03]\n",
      "  [6.68758387e-03]\n",
      "  [7.60314520e-03]\n",
      "  [4.34632087e-03]\n",
      "  [1.38591170e-01]\n",
      "  [1.68261141e-01]\n",
      "  [2.02444382e-02]\n",
      "  [4.26736777e-04]\n",
      "  [9.06367262e-04]\n",
      "  [1.18830976e-04]\n",
      "  [1.89552386e-03]\n",
      "  [3.31972510e-01]\n",
      "  [1.19409166e-01]\n",
      "  [2.24307552e-03]\n",
      "  [1.02756603e-04]\n",
      "  [7.63293137e-05]\n",
      "  [1.53947367e-05]]], shape=(1, 49, 1), dtype=float32)\n",
      "attention_weights:  tf.Tensor(\n",
      "[[[2.8829105e-04]\n",
      "  [3.4530436e-05]\n",
      "  [1.7736975e-06]\n",
      "  [7.6155702e-06]\n",
      "  [9.2140053e-06]\n",
      "  [2.3252063e-04]\n",
      "  [3.5349641e-03]\n",
      "  [7.5814007e-03]\n",
      "  [1.0251263e-05]\n",
      "  [8.7743911e-06]\n",
      "  [1.1039043e-05]\n",
      "  [2.2233523e-04]\n",
      "  [4.0308041e-03]\n",
      "  [4.9712691e-02]\n",
      "  [8.7982398e-03]\n",
      "  [5.9799986e-06]\n",
      "  [2.8355341e-04]\n",
      "  [1.8077045e-04]\n",
      "  [5.7384419e-05]\n",
      "  [1.6877586e-04]\n",
      "  [4.9877039e-04]\n",
      "  [4.2507328e-02]\n",
      "  [6.2268191e-06]\n",
      "  [3.7741932e-04]\n",
      "  [1.2842572e-03]\n",
      "  [3.1267432e-03]\n",
      "  [4.0549710e-03]\n",
      "  [7.4218551e-04]\n",
      "  [3.8460700e-03]\n",
      "  [2.6564847e-04]\n",
      "  [2.9007692e-03]\n",
      "  [8.2817450e-03]\n",
      "  [7.0192884e-03]\n",
      "  [4.6660434e-03]\n",
      "  [3.5983806e-03]\n",
      "  [2.0555316e-03]\n",
      "  [1.0453825e-01]\n",
      "  [3.1559193e-01]\n",
      "  [2.2056669e-02]\n",
      "  [1.9429837e-04]\n",
      "  [3.2902337e-04]\n",
      "  [5.0638384e-05]\n",
      "  [8.2349963e-04]\n",
      "  [3.0602866e-01]\n",
      "  [8.8924177e-02]\n",
      "  [9.6438447e-04]\n",
      "  [4.6002551e-05]\n",
      "  [3.1724976e-05]\n",
      "  [8.4140138e-06]]], shape=(1, 49, 1), dtype=float32)\n",
      "attention_weights:  tf.Tensor(\n",
      "[[[2.8997299e-04]\n",
      "  [3.4221284e-05]\n",
      "  [1.7049396e-06]\n",
      "  [7.1029272e-06]\n",
      "  [8.6439513e-06]\n",
      "  [2.2290494e-04]\n",
      "  [3.4975337e-03]\n",
      "  [7.4119903e-03]\n",
      "  [9.3955196e-06]\n",
      "  [8.1389953e-06]\n",
      "  [1.0473476e-05]\n",
      "  [2.0942437e-04]\n",
      "  [3.8691082e-03]\n",
      "  [4.9667023e-02]\n",
      "  [8.6023510e-03]\n",
      "  [6.0166026e-06]\n",
      "  [2.9303250e-04]\n",
      "  [1.8980097e-04]\n",
      "  [5.6407480e-05]\n",
      "  [1.5827241e-04]\n",
      "  [4.6954173e-04]\n",
      "  [4.2045400e-02]\n",
      "  [5.9728222e-06]\n",
      "  [3.8444632e-04]\n",
      "  [1.2673844e-03]\n",
      "  [2.9407912e-03]\n",
      "  [3.8940562e-03]\n",
      "  [6.9976097e-04]\n",
      "  [3.6856865e-03]\n",
      "  [2.5958676e-04]\n",
      "  [3.0130390e-03]\n",
      "  [8.3728358e-03]\n",
      "  [6.8700179e-03]\n",
      "  [4.4665337e-03]\n",
      "  [3.4625868e-03]\n",
      "  [1.9827392e-03]\n",
      "  [1.0147767e-01]\n",
      "  [3.2437879e-01]\n",
      "  [2.1226315e-02]\n",
      "  [1.7799740e-04]\n",
      "  [3.0395287e-04]\n",
      "  [4.7215872e-05]\n",
      "  [7.8959618e-04]\n",
      "  [3.0442548e-01]\n",
      "  [8.7817244e-02]\n",
      "  [9.0137136e-04]\n",
      "  [4.2761843e-05]\n",
      "  [2.9666484e-05]\n",
      "  [7.9517149e-06]]], shape=(1, 49, 1), dtype=float32)\n",
      "attention_weights:  tf.Tensor(\n",
      "[[[2.8879306e-04]\n",
      "  [3.4269458e-05]\n",
      "  [1.7308770e-06]\n",
      "  [7.2828389e-06]\n",
      "  [8.8606239e-06]\n",
      "  [2.2665240e-04]\n",
      "  [3.4990951e-03]\n",
      "  [7.4603558e-03]\n",
      "  [9.6281847e-06]\n",
      "  [8.3138293e-06]\n",
      "  [1.0654726e-05]\n",
      "  [2.1352943e-04]\n",
      "  [3.9351704e-03]\n",
      "  [4.9500316e-02]\n",
      "  [8.6156754e-03]\n",
      "  [6.0132238e-06]\n",
      "  [2.9040375e-04]\n",
      "  [1.8606227e-04]\n",
      "  [5.6886773e-05]\n",
      "  [1.6113007e-04]\n",
      "  [4.7694411e-04]\n",
      "  [4.1987099e-02]\n",
      "  [6.0881221e-06]\n",
      "  [3.8501868e-04]\n",
      "  [1.3040452e-03]\n",
      "  [3.0371032e-03]\n",
      "  [3.9689858e-03]\n",
      "  [7.0809730e-04]\n",
      "  [3.7275781e-03]\n",
      "  [2.6395972e-04]\n",
      "  [2.9914351e-03]\n",
      "  [8.4864032e-03]\n",
      "  [7.0392536e-03]\n",
      "  [4.5814547e-03]\n",
      "  [3.4744702e-03]\n",
      "  [2.0072123e-03]\n",
      "  [1.0280240e-01]\n",
      "  [3.2229182e-01]\n",
      "  [2.1511594e-02]\n",
      "  [1.8292536e-04]\n",
      "  [3.1027402e-04]\n",
      "  [4.8305101e-05]\n",
      "  [7.9713465e-04]\n",
      "  [3.0438048e-01]\n",
      "  [8.7711282e-02]\n",
      "  [9.1569254e-04]\n",
      "  [4.3713044e-05]\n",
      "  [3.0348288e-05]\n",
      "  [8.1243079e-06]]], shape=(1, 49, 1), dtype=float32)\n",
      "attention_weights:  tf.Tensor(\n",
      "[[[2.8579554e-04]\n",
      "  [3.3683860e-05]\n",
      "  [1.6854093e-06]\n",
      "  [6.9893381e-06]\n",
      "  [8.4820913e-06]\n",
      "  [2.1946817e-04]\n",
      "  [3.4399880e-03]\n",
      "  [7.2476286e-03]\n",
      "  [9.0765716e-06]\n",
      "  [7.9481588e-06]\n",
      "  [1.0416150e-05]\n",
      "  [2.0808495e-04]\n",
      "  [3.8020788e-03]\n",
      "  [4.8877452e-02]\n",
      "  [8.3499309e-03]\n",
      "  [5.8992073e-06]\n",
      "  [3.0058165e-04]\n",
      "  [1.9227713e-04]\n",
      "  [5.5610926e-05]\n",
      "  [1.5477886e-04]\n",
      "  [4.5493597e-04]\n",
      "  [4.1293785e-02]\n",
      "  [5.9035174e-06]\n",
      "  [3.9103950e-04]\n",
      "  [1.2835695e-03]\n",
      "  [2.8962907e-03]\n",
      "  [3.8184689e-03]\n",
      "  [6.7639328e-04]\n",
      "  [3.6184082e-03]\n",
      "  [2.5882578e-04]\n",
      "  [3.0928242e-03]\n",
      "  [8.6014895e-03]\n",
      "  [6.9333394e-03]\n",
      "  [4.3815719e-03]\n",
      "  [3.3569986e-03]\n",
      "  [1.9422314e-03]\n",
      "  [1.0018180e-01]\n",
      "  [3.2983693e-01]\n",
      "  [2.1123845e-02]\n",
      "  [1.7244500e-04]\n",
      "  [2.9493182e-04]\n",
      "  [4.6343368e-05]\n",
      "  [7.6856639e-04]\n",
      "  [3.0326205e-01]\n",
      "  [8.7128408e-02]\n",
      "  [8.8179903e-04]\n",
      "  [4.1989224e-05]\n",
      "  [2.9126388e-05]\n",
      "  [7.8497933e-06]]], shape=(1, 49, 1), dtype=float32)\n",
      "attention_weights:  tf.Tensor(\n",
      "[[[2.8729643e-04]\n",
      "  [3.4030902e-05]\n",
      "  [1.7148054e-06]\n",
      "  [7.1376267e-06]\n",
      "  [8.6320651e-06]\n",
      "  [2.2307999e-04]\n",
      "  [3.4883569e-03]\n",
      "  [7.3819961e-03]\n",
      "  [9.3923945e-06]\n",
      "  [8.1063145e-06]\n",
      "  [1.0442689e-05]\n",
      "  [2.1019737e-04]\n",
      "  [3.8700111e-03]\n",
      "  [4.9480282e-02]\n",
      "  [8.5405884e-03]\n",
      "  [5.9530330e-06]\n",
      "  [2.8808575e-04]\n",
      "  [1.8598503e-04]\n",
      "  [5.5535515e-05]\n",
      "  [1.5764975e-04]\n",
      "  [4.6705114e-04]\n",
      "  [4.1880127e-02]\n",
      "  [5.9538906e-06]\n",
      "  [3.8306642e-04]\n",
      "  [1.2755857e-03]\n",
      "  [2.9704976e-03]\n",
      "  [3.8861288e-03]\n",
      "  [6.9773832e-04]\n",
      "  [3.6748138e-03]\n",
      "  [2.5828200e-04]\n",
      "  [2.9992913e-03]\n",
      "  [8.4290737e-03]\n",
      "  [6.9362721e-03]\n",
      "  [4.4629937e-03]\n",
      "  [3.4507590e-03]\n",
      "  [1.9648280e-03]\n",
      "  [1.0136457e-01]\n",
      "  [3.2553726e-01]\n",
      "  [2.1318451e-02]\n",
      "  [1.7800098e-04]\n",
      "  [3.0249401e-04]\n",
      "  [4.7320686e-05]\n",
      "  [7.8426790e-04]\n",
      "  [3.0384007e-01]\n",
      "  [8.7648794e-02]\n",
      "  [9.0150430e-04]\n",
      "  [4.2783795e-05]\n",
      "  [2.9584413e-05]\n",
      "  [7.9898446e-06]]], shape=(1, 49, 1), dtype=float32)\n",
      "attention_weights:  tf.Tensor(\n",
      "[[[2.8909423e-04]\n",
      "  [3.3975863e-05]\n",
      "  [1.6932355e-06]\n",
      "  [7.0171754e-06]\n",
      "  [8.5509409e-06]\n",
      "  [2.2102971e-04]\n",
      "  [3.4932215e-03]\n",
      "  [7.3898854e-03]\n",
      "  [9.1940083e-06]\n",
      "  [7.9280735e-06]\n",
      "  [1.0252472e-05]\n",
      "  [2.0759020e-04]\n",
      "  [3.8599328e-03]\n",
      "  [4.9769770e-02]\n",
      "  [8.5313236e-03]\n",
      "  [5.8735131e-06]\n",
      "  [2.8890022e-04]\n",
      "  [1.8438591e-04]\n",
      "  [5.5181990e-05]\n",
      "  [1.5433467e-04]\n",
      "  [4.6385653e-04]\n",
      "  [4.1963898e-02]\n",
      "  [5.8414039e-06]\n",
      "  [3.7817590e-04]\n",
      "  [1.2553753e-03]\n",
      "  [2.9122108e-03]\n",
      "  [3.8418439e-03]\n",
      "  [6.9051940e-04]\n",
      "  [3.6572362e-03]\n",
      "  [2.5502808e-04]\n",
      "  [2.9586500e-03]\n",
      "  [8.3008055e-03]\n",
      "  [6.8347179e-03]\n",
      "  [4.4613392e-03]\n",
      "  [3.4267660e-03]\n",
      "  [1.9543734e-03]\n",
      "  [1.0093619e-01]\n",
      "  [3.2498193e-01]\n",
      "  [2.1144764e-02]\n",
      "  [1.7465782e-04]\n",
      "  [2.9765643e-04]\n",
      "  [4.6634330e-05]\n",
      "  [7.7856128e-04]\n",
      "  [3.0503720e-01]\n",
      "  [8.7739773e-02]\n",
      "  [8.9362019e-04]\n",
      "  [4.2189356e-05]\n",
      "  [2.9148003e-05]\n",
      "  [7.8482817e-06]]], shape=(1, 49, 1), dtype=float32)\n",
      "attention_weights:  tf.Tensor(\n",
      "[[[2.86733673e-04]\n",
      "  [3.43368229e-05]\n",
      "  [1.73680860e-06]\n",
      "  [7.24501751e-06]\n",
      "  [8.70561144e-06]\n",
      "  [2.23783267e-04]\n",
      "  [3.48892482e-03]\n",
      "  [7.30900560e-03]\n",
      "  [9.35166554e-06]\n",
      "  [8.05552918e-06]\n",
      "  [1.03686880e-05]\n",
      "  [2.04373428e-04]\n",
      "  [3.81214963e-03]\n",
      "  [4.96678874e-02]\n",
      "  [8.39454122e-03]\n",
      "  [6.00296335e-06]\n",
      "  [2.89855263e-04]\n",
      "  [1.87365542e-04]\n",
      "  [5.55871266e-05]\n",
      "  [1.56510068e-04]\n",
      "  [4.60705836e-04]\n",
      "  [4.13775146e-02]\n",
      "  [6.02957334e-06]\n",
      "  [3.85159423e-04]\n",
      "  [1.26686017e-03]\n",
      "  [3.00918450e-03]\n",
      "  [3.84376035e-03]\n",
      "  [6.82082435e-04]\n",
      "  [3.62230884e-03]\n",
      "  [2.59764929e-04]\n",
      "  [2.98759108e-03]\n",
      "  [8.46994948e-03]\n",
      "  [7.00212177e-03]\n",
      "  [4.47357073e-03]\n",
      "  [3.35610099e-03]\n",
      "  [1.93787913e-03]\n",
      "  [1.00769594e-01]\n",
      "  [3.27541202e-01]\n",
      "  [2.12832764e-02]\n",
      "  [1.76463742e-04]\n",
      "  [2.99357896e-04]\n",
      "  [4.68488433e-05]\n",
      "  [7.75304332e-04]\n",
      "  [3.03592891e-01]\n",
      "  [8.72390121e-02]\n",
      "  [8.93248885e-04]\n",
      "  [4.24249483e-05]\n",
      "  [2.93885296e-05]\n",
      "  [7.89639216e-06]]], shape=(1, 49, 1), dtype=float32)\n",
      "attention_weights:  tf.Tensor(\n",
      "[[[2.8711534e-04]\n",
      "  [3.3868433e-05]\n",
      "  [1.6924866e-06]\n",
      "  [7.0583601e-06]\n",
      "  [8.5581378e-06]\n",
      "  [2.2222573e-04]\n",
      "  [3.4883318e-03]\n",
      "  [7.3630982e-03]\n",
      "  [9.2566415e-06]\n",
      "  [8.0129957e-06]\n",
      "  [1.0331219e-05]\n",
      "  [2.0641217e-04]\n",
      "  [3.8404285e-03]\n",
      "  [4.9414948e-02]\n",
      "  [8.4852017e-03]\n",
      "  [5.8584483e-06]\n",
      "  [2.8754005e-04]\n",
      "  [1.8441593e-04]\n",
      "  [5.5426779e-05]\n",
      "  [1.5625352e-04]\n",
      "  [4.6543812e-04]\n",
      "  [4.1781291e-02]\n",
      "  [5.8797741e-06]\n",
      "  [3.7711658e-04]\n",
      "  [1.2619480e-03]\n",
      "  [2.9338389e-03]\n",
      "  [3.8596482e-03]\n",
      "  [6.9504348e-04]\n",
      "  [3.6739341e-03]\n",
      "  [2.5677474e-04]\n",
      "  [2.9265508e-03]\n",
      "  [8.2846247e-03]\n",
      "  [6.8274159e-03]\n",
      "  [4.4582030e-03]\n",
      "  [3.4365912e-03]\n",
      "  [1.9738241e-03]\n",
      "  [1.0190060e-01]\n",
      "  [3.2443914e-01]\n",
      "  [2.1297107e-02]\n",
      "  [1.7655471e-04]\n",
      "  [3.0048753e-04]\n",
      "  [4.6751011e-05]\n",
      "  [7.8343129e-04]\n",
      "  [3.0500627e-01]\n",
      "  [8.7777145e-02]\n",
      "  [8.9869986e-04]\n",
      "  [4.2372540e-05]\n",
      "  [2.9384630e-05]\n",
      "  [7.8702278e-06]]], shape=(1, 49, 1), dtype=float32)\n",
      "attention_weights:  tf.Tensor(\n",
      "[[[2.86712660e-04]\n",
      "  [3.43323773e-05]\n",
      "  [1.73646788e-06]\n",
      "  [7.24407892e-06]\n",
      "  [8.70483291e-06]\n",
      "  [2.23772135e-04]\n",
      "  [3.48884868e-03]\n",
      "  [7.30912527e-03]\n",
      "  [9.35103344e-06]\n",
      "  [8.05492436e-06]\n",
      "  [1.03679595e-05]\n",
      "  [2.04372773e-04]\n",
      "  [3.81237385e-03]\n",
      "  [4.96675894e-02]\n",
      "  [8.39514658e-03]\n",
      "  [6.00220301e-06]\n",
      "  [2.89828255e-04]\n",
      "  [1.87342972e-04]\n",
      "  [5.55821571e-05]\n",
      "  [1.56508147e-04]\n",
      "  [4.60719777e-04]\n",
      "  [4.13793363e-02]\n",
      "  [6.02884484e-06]\n",
      "  [3.85109364e-04]\n",
      "  [1.26674992e-03]\n",
      "  [3.00913909e-03]\n",
      "  [3.84401367e-03]\n",
      "  [6.82104030e-04]\n",
      "  [3.62234726e-03]\n",
      "  [2.59750726e-04]\n",
      "  [2.98730400e-03]\n",
      "  [8.46929289e-03]\n",
      "  [7.00184004e-03]\n",
      "  [4.47365455e-03]\n",
      "  [3.35625070e-03]\n",
      "  [1.93790090e-03]\n",
      "  [1.00776866e-01]\n",
      "  [3.27525645e-01]\n",
      "  [2.12822836e-02]\n",
      "  [1.76465299e-04]\n",
      "  [2.99378211e-04]\n",
      "  [4.68475591e-05]\n",
      "  [7.75321911e-04]\n",
      "  [3.03597838e-01]\n",
      "  [8.72417763e-02]\n",
      "  [8.93250399e-04]\n",
      "  [4.24230202e-05]\n",
      "  [2.93875564e-05]\n",
      "  [7.89564092e-06]]], shape=(1, 49, 1), dtype=float32)\n",
      "attention_weights:  tf.Tensor(\n",
      "[[[2.8869035e-04]\n",
      "  [3.4037337e-05]\n",
      "  [1.6962492e-06]\n",
      "  [6.9635735e-06]\n",
      "  [8.5212805e-06]\n",
      "  [2.2015124e-04]\n",
      "  [3.4566298e-03]\n",
      "  [7.2922157e-03]\n",
      "  [9.1265638e-06]\n",
      "  [7.9073661e-06]\n",
      "  [1.0283058e-05]\n",
      "  [2.0871268e-04]\n",
      "  [3.8331524e-03]\n",
      "  [4.9187660e-02]\n",
      "  [8.4065767e-03]\n",
      "  [5.9259710e-06]\n",
      "  [2.9568319e-04]\n",
      "  [1.9135501e-04]\n",
      "  [5.5816839e-05]\n",
      "  [1.5548449e-04]\n",
      "  [4.5409097e-04]\n",
      "  [4.1665118e-02]\n",
      "  [5.8799719e-06]\n",
      "  [3.8613984e-04]\n",
      "  [1.2861690e-03]\n",
      "  [2.8821160e-03]\n",
      "  [3.7740597e-03]\n",
      "  [6.7584391e-04]\n",
      "  [3.6359495e-03]\n",
      "  [2.5711351e-04]\n",
      "  [3.0660660e-03]\n",
      "  [8.4939813e-03]\n",
      "  [6.8288152e-03]\n",
      "  [4.3246583e-03]\n",
      "  [3.3747768e-03]\n",
      "  [1.9554251e-03]\n",
      "  [1.0064880e-01]\n",
      "  [3.2910687e-01]\n",
      "  [2.0959442e-02]\n",
      "  [1.7119164e-04]\n",
      "  [2.9280342e-04]\n",
      "  [4.6211917e-05]\n",
      "  [7.7155902e-04]\n",
      "  [3.0344850e-01]\n",
      "  [8.6855710e-02]\n",
      "  [8.7760563e-04]\n",
      "  [4.1784595e-05]\n",
      "  [2.8922677e-05]\n",
      "  [7.8413123e-06]]], shape=(1, 49, 1), dtype=float32)\n",
      "attention_weights:  tf.Tensor(\n",
      "[[[2.88750103e-04]\n",
      "  [3.40469014e-05]\n",
      "  [1.69682596e-06]\n",
      "  [6.96564985e-06]\n",
      "  [8.52284575e-06]\n",
      "  [2.20182206e-04]\n",
      "  [3.45706171e-03]\n",
      "  [7.29321735e-03]\n",
      "  [9.12891937e-06]\n",
      "  [7.90931608e-06]\n",
      "  [1.02844460e-05]\n",
      "  [2.08699334e-04]\n",
      "  [3.83324595e-03]\n",
      "  [4.91923057e-02]\n",
      "  [8.40741862e-03]\n",
      "  [5.92800870e-06]\n",
      "  [2.95669219e-04]\n",
      "  [1.91364030e-04]\n",
      "  [5.58211214e-05]\n",
      "  [1.55503687e-04]\n",
      "  [4.54141409e-04]\n",
      "  [4.16677035e-02]\n",
      "  [5.88157945e-06]\n",
      "  [3.86183150e-04]\n",
      "  [1.28634449e-03]\n",
      "  [2.88240309e-03]\n",
      "  [3.77420243e-03]\n",
      "  [6.75909047e-04]\n",
      "  [3.63628031e-03]\n",
      "  [2.57167092e-04]\n",
      "  [3.06639215e-03]\n",
      "  [8.49477947e-03]\n",
      "  [6.82948949e-03]\n",
      "  [4.32475563e-03]\n",
      "  [3.37506179e-03]\n",
      "  [1.95564539e-03]\n",
      "  [1.00646116e-01]\n",
      "  [3.29115808e-01]\n",
      "  [2.09598970e-02]\n",
      "  [1.71210442e-04]\n",
      "  [2.92836397e-04]\n",
      "  [4.62200951e-05]\n",
      "  [7.71644409e-04]\n",
      "  [3.03431869e-01]\n",
      "  [8.68521556e-02]\n",
      "  [8.77667626e-04]\n",
      "  [4.17918309e-05]\n",
      "  [2.89295313e-05]\n",
      "  [7.84311123e-06]]], shape=(1, 49, 1), dtype=float32)\n",
      "attention_weights:  tf.Tensor(\n",
      "[[[2.8602692e-04]\n",
      "  [3.3721608e-05]\n",
      "  [1.6876810e-06]\n",
      "  [6.9970179e-06]\n",
      "  [8.4878566e-06]\n",
      "  [2.1957231e-04]\n",
      "  [3.4412791e-03]\n",
      "  [7.2504114e-03]\n",
      "  [9.0830190e-06]\n",
      "  [7.9539714e-06]\n",
      "  [1.0420318e-05]\n",
      "  [2.0804159e-04]\n",
      "  [3.8019069e-03]\n",
      "  [4.8891507e-02]\n",
      "  [8.3508464e-03]\n",
      "  [5.9073386e-06]\n",
      "  [3.0063096e-04]\n",
      "  [1.9237518e-04]\n",
      "  [5.5635879e-05]\n",
      "  [1.5483120e-04]\n",
      "  [4.5499174e-04]\n",
      "  [4.1298661e-02]\n",
      "  [5.9093227e-06]\n",
      "  [3.9135924e-04]\n",
      "  [1.2845319e-03]\n",
      "  [2.8969175e-03]\n",
      "  [3.8180847e-03]\n",
      "  [6.7639322e-04]\n",
      "  [3.6188171e-03]\n",
      "  [2.5901641e-04]\n",
      "  [3.0955211e-03]\n",
      "  [8.6076166e-03]\n",
      "  [6.9364468e-03]\n",
      "  [4.3809512e-03]\n",
      "  [3.3569166e-03]\n",
      "  [1.9426232e-03]\n",
      "  [1.0015029e-01]\n",
      "  [3.2993776e-01]\n",
      "  [2.1125102e-02]\n",
      "  [1.7245009e-04]\n",
      "  [2.9493970e-04]\n",
      "  [4.6361736e-05]\n",
      "  [7.6867302e-04]\n",
      "  [3.0317816e-01]\n",
      "  [8.7103270e-02]\n",
      "  [8.8184286e-04]\n",
      "  [4.2006985e-05]\n",
      "  [2.9145349e-05]\n",
      "  [7.8558560e-06]]], shape=(1, 49, 1), dtype=float32)\n",
      "Real Caption: <start> perahu karet arung jeram berwarna merah tidak selalu merah <end>\n",
      "Prediction Caption: wisata liburan merah buktikan helm arung terjatuh arung jeram jeram merah helm perahu\n"
     ]
    },
    {
     "data": {
      "image/png": "[encoded data removed]",
      "text/plain": [
       "<Figure size 720x720 with 13 Axes>"
      ]
     },
     "metadata": {
      "needs_background": "light"
     },
     "output_type": "display_data"
    }
   ],
   "source": [
    "# captions on the validation set\n",
    "rid = np.random.randint(0, len(img_name_val))\n",
    "image = img_name_val[rid]\n",
    "real_caption = ' '.join([tokenizer.index_word[i] for i in cap_val[rid] if i not in [0]])\n",
    "result, attention_plot = evaluate(image)\n",
    "\n",
    "print ('Real Caption:', real_caption)\n",
    "print ('Prediction Caption:', ' '.join(result))\n",
    "plot_attention(image, result, attention_plot)\n"
   ]
  },
  {
   "cell_type": "markdown",
   "metadata": {
    "colab_type": "text",
    "id": "Rprk3HEvZuxb"
   },
   "source": [
    "## Try it on your own images\n",
    "For fun, below we've provided a method you can use to caption your own images with the model we've just trained. Keep in mind, it was trained on a relatively small amount of data, and your images may be different from the training data (so be prepared for weird results!)\n"
   ]
  },
  {
   "cell_type": "code",
   "execution_count": null,
   "metadata": {
    "colab": {
     "base_uri": "https://localhost:8080/",
     "height": 1000
    },
    "colab_type": "code",
    "id": "9Psd1quzaAWg",
    "outputId": "0ff90702-6cea-47ac-b1d1-dc9f19899339"
   },
   "outputs": [],
   "source": [
    "image_path = '/content/drive/My Drive/img_caption/data_test/IC5.jpg'\n",
    "# image_extension = image_url[-4:]\n",
    "# image_path = tf.keras.utils.get_file('image'+image_extension,\n",
    "#                                      origin=image_url)\n",
    "\n",
    "result, attention_plot = evaluate(image_path)\n",
    "print ('Prediction Caption:', ' '.join(result))\n",
    "plot_attention(image_path, result, attention_plot)\n",
    "# opening the image\n",
    "Image.open(image_path)"
   ]
  },
  {
   "cell_type": "code",
   "execution_count": null,
   "metadata": {
    "colab": {
     "base_uri": "https://localhost:8080/",
     "height": 1000
    },
    "colab_type": "code",
    "id": "sJdO2_1uUpB_",
    "outputId": "064977d5-f0a9-4714-ba3a-9969173b4314"
   },
   "outputs": [],
   "source": [
    "image_path = '/content/drive/My Drive/img_caption/data_test/IC4.jpg'\n",
    "# image_extension = image_url[-4:]\n",
    "# image_path = tf.keras.utils.get_file('image'+image_extension,\n",
    "#                                      origin=image_url)\n",
    "\n",
    "result, attention_plot = evaluate(image_path)\n",
    "print ('Prediction Caption:', ' '.join(result))\n",
    "plot_attention(image_path, result, attention_plot)\n",
    "# opening the image\n",
    "Image.open(image_path)"
   ]
  },
  {
   "cell_type": "code",
   "execution_count": null,
   "metadata": {
    "colab": {
     "base_uri": "https://localhost:8080/",
     "height": 1000
    },
    "colab_type": "code",
    "id": "8ZEwFQjwVmVn",
    "outputId": "286aa794-0d06-44b0-dea0-fa1c5be6e18f"
   },
   "outputs": [],
   "source": [
    "image_path = '/content/drive/My Drive/img_caption/data_test/IC3.JPG'\n",
    "# image_extension = image_url[-4:]\n",
    "# image_path = tf.keras.utils.get_file('image'+image_extension,\n",
    "#                                      origin=image_url)\n",
    "\n",
    "result, attention_plot = evaluate(image_path)\n",
    "print ('Prediction Caption:', ' '.join(result))\n",
    "plot_attention(image_path, result, attention_plot)\n",
    "# opening the image\n",
    "Image.open(image_path)"
   ]
  },
  {
   "cell_type": "code",
   "execution_count": null,
   "metadata": {
    "colab": {
     "base_uri": "https://localhost:8080/",
     "height": 1000
    },
    "colab_type": "code",
    "id": "OmTtYp4xV6WI",
    "outputId": "82373465-8958-415a-9f88-8e98f0bb26fa"
   },
   "outputs": [],
   "source": [
    "image_path = '/content/drive/My Drive/img_caption/data_test/IC2.jpg'\n",
    "# image_extension = image_url[-4:]\n",
    "# image_path = tf.keras.utils.get_file('image'+image_extension,\n",
    "#                                      origin=image_url)\n",
    "\n",
    "result, attention_plot = evaluate(image_path)\n",
    "print ('Prediction Caption:', ' '.join(result))\n",
    "plot_attention(image_path, result, attention_plot)\n",
    "# opening the image\n",
    "Image.open(image_path)"
   ]
  },
  {
   "cell_type": "code",
   "execution_count": null,
   "metadata": {
    "colab": {
     "base_uri": "https://localhost:8080/",
     "height": 1000
    },
    "colab_type": "code",
    "id": "QKVqriBPWJVx",
    "outputId": "4b1b6cba-935f-4ce0-91e1-1d23477f4f92"
   },
   "outputs": [],
   "source": [
    "image_path = '/content/drive/My Drive/img_caption/data_test/IC1.jpg'\n",
    "# image_extension = image_url[-4:]\n",
    "# image_path = tf.keras.utils.get_file('image'+image_extension,\n",
    "#                                      origin=image_url)\n",
    "\n",
    "result, attention_plot = evaluate(image_path)\n",
    "print ('Prediction Caption:', ' '.join(result))\n",
    "plot_attention(image_path, result, attention_plot)\n",
    "# opening the image\n",
    "Image.open(image_path)"
   ]
  },
  {
   "cell_type": "markdown",
   "metadata": {
    "colab_type": "text",
    "id": "VJZXyJco6uLO"
   },
   "source": [
    "# Next steps\n",
    "\n",
    "Congrats! You've just trained an image captioning model with attention. Next, take a look at this example [Neural Machine Translation with Attention](../sequences/nmt_with_attention.ipynb). It uses a similar architecture to translate between Spanish and English sentences. You can also experiment with training the code in this notebook on a different dataset."
   ]
  }
 ],
 "metadata": {
  "accelerator": "GPU",
  "colab": {
   "collapsed_sections": [],
   "name": "Salinan_yurio_cp_image_captioning.ipynb",
   "provenance": [],
   "toc_visible": true
  },
  "kernelspec": {
   "display_name": "Python 3.7.7 64-bit",
   "language": "python",
   "name": "python37764bitcacf4f5e383b409fad686b20c508589d"
  },
  "language_info": {
   "codemirror_mode": {
    "name": "ipython",
    "version": 3
   },
   "file_extension": ".py",
   "mimetype": "text/x-python",
   "name": "python",
   "nbconvert_exporter": "python",
   "pygments_lexer": "ipython3",
   "version": "3.7.7"
  }
 },
 "nbformat": 4,
 "nbformat_minor": 1
}
