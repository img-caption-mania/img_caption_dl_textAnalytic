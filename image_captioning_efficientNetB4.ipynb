{
 "cells": [
  {
   "cell_type": "markdown",
   "metadata": {
    "colab_type": "text",
    "id": "K2s1A9eLRPEj"
   },
   "source": [
    "##### Copyright 2018 The TensorFlow Authors.\n"
   ]
  },
  {
   "cell_type": "code",
   "execution_count": 81,
   "metadata": {
    "cellView": "form",
    "colab": {},
    "colab_type": "code",
    "id": "VRLVEKiTEn04"
   },
   "outputs": [],
   "source": [
    "#@title Licensed under the Apache License, Version 2.0 (the \"License\");\n",
    "# you may not use this file except in compliance with the License.\n",
    "# You may obtain a copy of the License at\n",
    "#\n",
    "# https://www.apache.org/licenses/LICENSE-2.0\n",
    "#\n",
    "# Unless required by applicable law or agreed to in writing, software\n",
    "# distributed under the License is distributed on an \"AS IS\" BASIS,\n",
    "# WITHOUT WARRANTIES OR CONDITIONS OF ANY KIND, either express or implied.\n",
    "# See the License for the specific language governing permissions and\n",
    "# limitations under the License."
   ]
  },
  {
   "cell_type": "markdown",
   "metadata": {
    "colab_type": "text",
    "id": "Cffg2i257iMS"
   },
   "source": [
    "# Image captioning with visual attention\n",
    "\n"
   ]
  },
  {
   "cell_type": "markdown",
   "metadata": {
    "colab_type": "text",
    "id": "QASbY_HGo4Lq"
   },
   "source": [
    "Given an image like the example below, our goal is to generate a caption such as \"a surfer riding on a wave\".\n",
    "\n",
    "*[Image Source](https://commons.wikimedia.org/wiki/Surfing#/media/File:Surfing_in_Hawaii.jpg); License: Public Domain*\n",
    "\n",
    "To accomplish this, you'll use an attention-based model, which enables us to see what parts of the image the model focuses on as it generates a caption.\n",
    "\n",
    "The model architecture is similar to [Show, Attend and Tell: Neural Image Caption Generation with Visual Attention](https://arxiv.org/abs/1502.03044).\n",
    "\n"
   ]
  },
  {
   "cell_type": "code",
   "execution_count": 82,
   "metadata": {
    "colab": {},
    "colab_type": "code",
    "id": "tbZAa_xRpnOo"
   },
   "outputs": [],
   "source": [
    "# from google.colab import drive\n",
    "# drive.mount('/content/drive')"
   ]
  },
  {
   "cell_type": "code",
   "execution_count": 83,
   "metadata": {
    "colab": {},
    "colab_type": "code",
    "id": "U8l4RJ0XRPEm"
   },
   "outputs": [],
   "source": [
    "import tensorflow as tf\n",
    "\n",
    "# You'll generate plots of attention in order to see which parts of an image\n",
    "# our model focuses on during captioning\n",
    "import matplotlib.pyplot as plt\n",
    "\n",
    "# Scikit-learn includes many helpful utilities\n",
    "from sklearn.model_selection import train_test_split\n",
    "from sklearn.utils import shuffle\n",
    "\n",
    "import re\n",
    "import numpy as np\n",
    "import os\n",
    "import time\n",
    "import json\n",
    "from glob import glob\n",
    "from PIL import Image\n",
    "import pickle"
   ]
  },
  {
   "cell_type": "code",
   "execution_count": 84,
   "metadata": {
    "colab": {
     "base_uri": "https://localhost:8080/",
     "height": 34
    },
    "colab_type": "code",
    "id": "wgMhxSCeWdc9",
    "outputId": "e08dd14b-4dd5-4c70-c789-e1000e91f50b"
   },
   "outputs": [
    {
     "data": {
      "text/plain": [
       "'2.3.0'"
      ]
     },
     "execution_count": 84,
     "metadata": {},
     "output_type": "execute_result"
    }
   ],
   "source": [
    "tf.__version__"
   ]
  },
  {
   "cell_type": "code",
   "execution_count": 85,
   "metadata": {
    "colab": {},
    "colab_type": "code",
    "id": "u3IhMP10arpL"
   },
   "outputs": [],
   "source": [
    "# PATH = \"/content/drive/My Drive/img_caption/clean_data\""
   ]
  },
  {
   "cell_type": "code",
   "execution_count": 86,
   "metadata": {},
   "outputs": [],
   "source": [
    "PATH= \"/home/yurio/mainan_yurio/img_cap_to_icitda/img_caption_dl_textAnalytic\""
   ]
  },
  {
   "cell_type": "markdown",
   "metadata": {
    "colab_type": "text",
    "id": "aANEzb5WwSzg"
   },
   "source": [
    "## Read annotation json file "
   ]
  },
  {
   "cell_type": "code",
   "execution_count": 87,
   "metadata": {
    "colab": {},
    "colab_type": "code",
    "id": "4G3b8x8_RPFD"
   },
   "outputs": [],
   "source": [
    "# # Read the json file\n",
    "# with open(PATH + \"/caption_tugu.json\", 'r') as f:\n",
    "#     annotations_tugu = json.load(f)\n",
    "\n",
    "# # Read the json file\n",
    "# with open(PATH + \"/jeram.json\", 'r') as f:\n",
    "#     annotations_jeram = json.load(f)\n",
    "\n",
    "# # Read the json file\n",
    "# with open(PATH + \"/malioboro_1.json\", 'r') as f:\n",
    "#     annotations_malioboro = json.load(f)\n",
    "\n",
    "# # Read the json file\n",
    "# with open(PATH + \"/pendaki.json\", 'r') as f:\n",
    "#     annotations_pendaki = json.load(f)\n",
    "\n",
    "# # Read the json file\n",
    "# with open(PATH + \"/wisata_jeep.json\", 'r') as f:\n",
    "#     annotations_wj = json.load(f)\n"
   ]
  },
  {
   "cell_type": "code",
   "execution_count": 88,
   "metadata": {
    "colab": {
     "base_uri": "https://localhost:8080/",
     "height": 104
    },
    "colab_type": "code",
    "id": "3_eGidc_I9jG",
    "outputId": "2a1c4248-882d-4c49-d138-243340c898b5"
   },
   "outputs": [],
   "source": [
    "# print(len(annotations_tugu))\n",
    "# print(len(annotations_jeram))\n",
    "# print(len(annotations_malioboro))\n",
    "# print(len(annotations_pendaki))\n",
    "# print(len(annotations_wj))"
   ]
  },
  {
   "cell_type": "code",
   "execution_count": 89,
   "metadata": {
    "colab": {},
    "colab_type": "code",
    "id": "H22vKSM2JOvu"
   },
   "outputs": [],
   "source": [
    "# annotations = annotations_tugu + annotations_jeram + annotations_malioboro + annotations_pendaki + annotations_wj"
   ]
  },
  {
   "cell_type": "code",
   "execution_count": 90,
   "metadata": {
    "colab": {},
    "colab_type": "code",
    "id": "P_r7g4fPHOCd"
   },
   "outputs": [],
   "source": [
    "# with open('/content/drive/My Drive/img_caption/clean_data/all_caption.json', 'w') as fp:\n",
    "#     json.dump(annotations, fp)"
   ]
  },
  {
   "cell_type": "code",
   "execution_count": 91,
   "metadata": {
    "colab": {},
    "colab_type": "code",
    "id": "TVOAOlGfqxS1"
   },
   "outputs": [],
   "source": [
    "with open(PATH + \"/all_caption.json\", 'r') as f:\n",
    "  annotations = json.load(f)"
   ]
  },
  {
   "cell_type": "code",
   "execution_count": 92,
   "metadata": {
    "colab": {
     "base_uri": "https://localhost:8080/",
     "height": 34
    },
    "colab_type": "code",
    "id": "d5veRUD_JgjB",
    "outputId": "cac40642-2718-47f6-b44b-fb27a2a312da"
   },
   "outputs": [
    {
     "data": {
      "text/plain": [
       "502"
      ]
     },
     "execution_count": 92,
     "metadata": {},
     "output_type": "execute_result"
    }
   ],
   "source": [
    "len(annotations)"
   ]
  },
  {
   "cell_type": "code",
   "execution_count": 93,
   "metadata": {
    "colab": {
     "base_uri": "https://localhost:8080/",
     "height": 364
    },
    "colab_type": "code",
    "id": "o1J49tEjdNc-",
    "outputId": "787ea0a5-914e-4c5c-92cc-67a9725740ee"
   },
   "outputs": [
    {
     "data": {
      "text/plain": [
       "[{'caption': 'wisata Merapi Kaliadem Private Jeep Tour Yogyakarta',\n",
       "  'image_id': 'bpxyq3gif29ueadrjsk4.jpeg'},\n",
       " {'caption': 'wisata Merapi Kaliadem Private Jeep Tour Yogyakarta',\n",
       "  'image_id': 'wzp84130cv97ehfjod65.jpg'},\n",
       " {'caption': 'foto di atas mobil jeep keren',\n",
       "  'image_id': 'oalhni36vc54x71ywdzm.jpg'},\n",
       " {'caption': 'wisata jeep gunung merapi sleman',\n",
       "  'image_id': '10xw7yod4hm6ucqf3tik.jpg'},\n",
       " {'caption': 'foto di atas mobil jeep keren',\n",
       "  'image_id': '2t5v3lbxsrzuckwhp4oi.jpg'},\n",
       " {'caption': 'wisata jeep gunung merapi sleman',\n",
       "  'image_id': 'fno8gyi0q419dtphs7v2.jpg'},\n",
       " {'caption': 'wisata jeep gunung merapi sleman',\n",
       "  'image_id': '8zy0to4ar1pscw6f5l9k.jpeg'},\n",
       " {'caption': 'serunya naik mobil jeep di medan batu',\n",
       "  'image_id': '8au3feqcg5416z07owml.jpg'},\n",
       " {'caption': 'foto di atas mobil jeep keren',\n",
       "  'image_id': 'mgof6y583zu0itv7cq2w.jpeg'},\n",
       " {'caption': 'foto di atas mobil jeep keren',\n",
       "  'image_id': 'r73sufm4nh0gc9jy2klb.jpg'}]"
      ]
     },
     "execution_count": 93,
     "metadata": {},
     "output_type": "execute_result"
    }
   ],
   "source": [
    "annotations[-10:]"
   ]
  },
  {
   "cell_type": "code",
   "execution_count": 94,
   "metadata": {
    "colab": {},
    "colab_type": "code",
    "id": "ImvqO-8fcdYD"
   },
   "outputs": [],
   "source": [
    "# Store captions and image names in vectors\n",
    "all_captions = []\n",
    "all_img_name_vector = []\n",
    "\n",
    "for annot in annotations:\n",
    "    caption = '<start> ' + annot['caption'] + ' <end>'\n",
    "    image_id = annot['image_id']\n",
    "    full_image_path = PATH + '/dataset_efficientNetB4/' + '{IMG}'.format(IMG=image_id)\n",
    "# /content/drive/My Drive/img_caption/clean_data/img_gabung\n",
    "    all_img_name_vector.append(full_image_path)\n",
    "    all_captions.append(caption)\n",
    "\n",
    "# Shuffle captions and image_names together\n",
    "# Set a random state\n",
    "train_captions, img_name_vector = shuffle(all_captions,\n",
    "                                          all_img_name_vector,\n",
    "                                          random_state=1)\n",
    "\n",
    "num_examples = 480\n",
    "train_captions = train_captions[:num_examples]\n",
    "img_name_vector = img_name_vector[:num_examples]"
   ]
  },
  {
   "cell_type": "code",
   "execution_count": 95,
   "metadata": {
    "colab": {
     "base_uri": "https://localhost:8080/",
     "height": 190
    },
    "colab_type": "code",
    "id": "cnuDvwJ-ehdO",
    "outputId": "9185a08d-e10e-4a0a-b1ea-36d480b8b580"
   },
   "outputs": [
    {
     "data": {
      "text/plain": [
       "['<start> suasana yang Hanya Bisa Dirasakan Saat Mendaki gunung <end>',\n",
       " '<start> main ke gunung yuk bersama aku iya aku <end>',\n",
       " '<start> sore yang cerah di tugu jogja <end>',\n",
       " '<start> eh ada bapak-bapak bersepeda di tugu jogjakarta <end>',\n",
       " '<start> pendaki perempuan cantik yang buktikan wanita itu tangguh <end>',\n",
       " '<start> tukang becak membawa penumpang di siang hari <end>',\n",
       " '<start> pendaki perempuan cantik yang buktikan wanita itu tangguh <end>',\n",
       " '<start> suasana tugu jogja di sore hari <end>',\n",
       " '<start> tukang becak membawa penumpang di siang hari <end>',\n",
       " '<start> sore yang cerah di tugu jogja <end>']"
      ]
     },
     "execution_count": 95,
     "metadata": {},
     "output_type": "execute_result"
    }
   ],
   "source": [
    "train_captions[:10]"
   ]
  },
  {
   "cell_type": "code",
   "execution_count": 96,
   "metadata": {
    "colab": {
     "base_uri": "https://localhost:8080/",
     "height": 190
    },
    "colab_type": "code",
    "id": "8oD6z2oFej-t",
    "outputId": "df399682-25c0-4897-ee48-b7cee46e651d"
   },
   "outputs": [
    {
     "data": {
      "text/plain": [
       "['/home/yurio/mainan_yurio/img_cap_to_icitda/img_caption_dl_textAnalytic/dataset_efficientNetB4/2zlw9eoxp4msfn6qakhu.jpg',\n",
       " '/home/yurio/mainan_yurio/img_cap_to_icitda/img_caption_dl_textAnalytic/dataset_efficientNetB4/gmt8r0ohyk91fzejulbn.jpg',\n",
       " '/home/yurio/mainan_yurio/img_cap_to_icitda/img_caption_dl_textAnalytic/dataset_efficientNetB4/dp8hgn1735lkvrquioza.jpg',\n",
       " '/home/yurio/mainan_yurio/img_cap_to_icitda/img_caption_dl_textAnalytic/dataset_efficientNetB4/krucsed29oyvw17zhai6.jpg',\n",
       " '/home/yurio/mainan_yurio/img_cap_to_icitda/img_caption_dl_textAnalytic/dataset_efficientNetB4/odsibz7uqryf30a8g6xw.jpg',\n",
       " '/home/yurio/mainan_yurio/img_cap_to_icitda/img_caption_dl_textAnalytic/dataset_efficientNetB4/IMG-20200116-WA0043-1200x900.jpg',\n",
       " '/home/yurio/mainan_yurio/img_cap_to_icitda/img_caption_dl_textAnalytic/dataset_efficientNetB4/8zox6fsaldq1vcb7eh59.jpg',\n",
       " '/home/yurio/mainan_yurio/img_cap_to_icitda/img_caption_dl_textAnalytic/dataset_efficientNetB4/57j8ni64gm2tqucdbzv9.jpg',\n",
       " '/home/yurio/mainan_yurio/img_cap_to_icitda/img_caption_dl_textAnalytic/dataset_efficientNetB4/Maret-2020-Jalan-Malioboro-bakal-bebas-asap-rokok.jpg',\n",
       " '/home/yurio/mainan_yurio/img_cap_to_icitda/img_caption_dl_textAnalytic/dataset_efficientNetB4/wprxejb97ik5gou2dz41.jpg']"
      ]
     },
     "execution_count": 96,
     "metadata": {},
     "output_type": "execute_result"
    }
   ],
   "source": [
    "img_name_vector[:10]"
   ]
  },
  {
   "cell_type": "code",
   "execution_count": 97,
   "metadata": {
    "colab": {
     "base_uri": "https://localhost:8080/",
     "height": 1000
    },
    "colab_type": "code",
    "id": "n1j2ULHWe0aP",
    "outputId": "aaea9a1f-33d3-4810-8fab-3cb5e588c702",
    "tags": []
   },
   "outputs": [
    {
     "name": "stdout",
     "output_type": "stream",
     "text": [
      "Populating the interactive namespace from numpy and matplotlib\n"
     ]
    },
    {
     "data": {
      "image/png": "[encoded data removed]",
      "text/plain": [
       "<Figure size 432x288 with 1 Axes>"
      ]
     },
     "metadata": {
      "needs_background": "light"
     },
     "output_type": "display_data"
    },
    {
     "name": "stdout",
     "output_type": "stream",
     "text": [
      "<start> suasana tugu jogja di sore hari <end>\n",
      "(556, 830, 3)\n",
      "[[[ 49  45  44]\n",
      "  [ 48  44  43]\n",
      "  [ 48  44  43]\n",
      "  ...\n",
      "  [224 229 232]\n",
      "  [224 229 232]\n",
      "  [224 229 232]]\n",
      "\n",
      " [[ 49  45  44]\n",
      "  [ 49  45  44]\n",
      "  [ 50  46  45]\n",
      "  ...\n",
      "  [224 229 232]\n",
      "  [224 229 232]\n",
      "  [224 229 232]]\n",
      "\n",
      " [[ 49  45  44]\n",
      "  [ 50  46  45]\n",
      "  [ 51  47  46]\n",
      "  ...\n",
      "  [224 229 232]\n",
      "  [223 228 231]\n",
      "  [224 229 232]]\n",
      "\n",
      " ...\n",
      "\n",
      " [[248 255 255]\n",
      "  [247 255 255]\n",
      "  [246 254 255]\n",
      "  ...\n",
      "  [ 58  78  69]\n",
      "  [ 57  77  68]\n",
      "  [ 56  76  67]]\n",
      "\n",
      " [[245 253 255]\n",
      "  [245 253 255]\n",
      "  [244 252 254]\n",
      "  ...\n",
      "  [ 55  75  66]\n",
      "  [ 57  77  68]\n",
      "  [ 58  78  69]]\n",
      "\n",
      " [[235 243 245]\n",
      "  [235 243 245]\n",
      "  [235 243 245]\n",
      "  ...\n",
      "  [ 56  76  67]\n",
      "  [ 59  79  70]\n",
      "  [ 61  81  72]]]\n"
     ]
    },
    {
     "data": {
      "image/png": "[encoded data removed]",
      "text/plain": [
       "<Figure size 432x288 with 1 Axes>"
      ]
     },
     "metadata": {
      "needs_background": "light"
     },
     "output_type": "display_data"
    },
    {
     "name": "stdout",
     "output_type": "stream",
     "text": [
      "<start> sore yang cerah di tugu jogja <end>\n",
      "(168, 299, 3)\n",
      "[[[159 163 172]\n",
      "  [152 156 165]\n",
      "  [138 142 151]\n",
      "  ...\n",
      "  [126 141 162]\n",
      "  [126 141 162]\n",
      "  [126 141 162]]\n",
      "\n",
      " [[153 157 166]\n",
      "  [168 172 181]\n",
      "  [149 153 162]\n",
      "  ...\n",
      "  [126 141 162]\n",
      "  [126 141 162]\n",
      "  [126 141 162]]\n",
      "\n",
      " [[146 150 161]\n",
      "  [150 154 165]\n",
      "  [174 178 189]\n",
      "  ...\n",
      "  [126 141 162]\n",
      "  [126 141 162]\n",
      "  [126 141 162]]\n",
      "\n",
      " ...\n",
      "\n",
      " [[ 53  51  52]\n",
      "  [ 53  51  52]\n",
      "  [ 54  52  53]\n",
      "  ...\n",
      "  [ 91  90  88]\n",
      "  [126 125 123]\n",
      "  [ 47  46  44]]\n",
      "\n",
      " [[ 55  53  54]\n",
      "  [ 55  53  54]\n",
      "  [ 55  53  54]\n",
      "  ...\n",
      "  [ 71  70  68]\n",
      "  [ 84  83  81]\n",
      "  [ 54  53  51]]\n",
      "\n",
      " [[ 60  58  59]\n",
      "  [ 60  58  59]\n",
      "  [ 60  58  59]\n",
      "  ...\n",
      "  [ 59  58  56]\n",
      "  [ 57  56  54]\n",
      "  [ 63  62  60]]]\n"
     ]
    }
   ],
   "source": [
    "%pylab inline\n",
    "import matplotlib.image as mpimg\n",
    "img=mpimg.imread(img_name_vector[220])\n",
    "imgplot = plt.imshow(img)\n",
    "plt.show()\n",
    "\n",
    "print(train_captions[220])\n",
    "print(img.shape)\n",
    "print(img)\n",
    "\n",
    "img=mpimg.imread(img_name_vector[370])\n",
    "imgplot = plt.imshow(img)\n",
    "plt.show()\n",
    "\n",
    "print(train_captions[370])\n",
    "print(img.shape)\n",
    "print(img)"
   ]
  },
  {
   "cell_type": "code",
   "execution_count": 98,
   "metadata": {
    "colab": {
     "base_uri": "https://localhost:8080/",
     "height": 34
    },
    "colab_type": "code",
    "id": "mPBMgK34RPFL",
    "outputId": "2f6bde3c-c468-41b3-dc0c-e1cdc1fbe56d"
   },
   "outputs": [
    {
     "data": {
      "text/plain": [
       "(480, 502)"
      ]
     },
     "execution_count": 98,
     "metadata": {},
     "output_type": "execute_result"
    }
   ],
   "source": [
    "len(train_captions), len(all_captions)"
   ]
  },
  {
   "cell_type": "markdown",
   "metadata": {
    "colab_type": "text",
    "id": "8cSW4u-ORPFQ"
   },
   "source": [
    "## Preprocess the images using InceptionV3\n",
    "Next, you will use InceptionV3 (which is pretrained on Imagenet) to classify each image. You will extract features from the last convolutional layer.\n",
    "\n",
    "First, you will convert the images into InceptionV3's expected format by:\n",
    "* Resizing the image to 299px by 299px\n",
    "* [Preprocess the images](https://cloud.google.com/tpu/docs/inception-v3-advanced#preprocessing_stage) using the [preprocess_input](https://www.tensorflow.org/api_docs/python/tf/keras/applications/inception_v3/preprocess_input) method to normalize the image so that it contains pixels in the range of -1 to 1, which matches the format of the images used to train InceptionV3."
   ]
  },
  {
   "cell_type": "code",
   "execution_count": 99,
   "metadata": {
    "colab": {},
    "colab_type": "code",
    "id": "zXR0217aRPFR"
   },
   "outputs": [],
   "source": [
    "# def load_image(image_path):\n",
    "#     img = tf.io.read_file(image_path)\n",
    "#     img = tf.image.decode_jpeg(img, channels=3)\n",
    "#     img = tf.image.resize(img, (299, 299))\n",
    "#     img = tf.keras.applications.inception_v3.preprocess_input(img)\n",
    "#     return img, image_path"
   ]
  },
  {
   "cell_type": "code",
   "execution_count": 100,
   "metadata": {},
   "outputs": [],
   "source": [
    "# def load_image(image_path):\n",
    "#     img = tf.io.read_file(image_path)\n",
    "#     img = tf.image.decode_jpeg(img, channels=3)\n",
    "#     img = tf.image.resize(img, (224, 224))\n",
    "#     img = tf.keras.applications.vgg16.preprocess_input(img)\n",
    "#     return img, image_path"
   ]
  },
  {
   "cell_type": "code",
   "execution_count": 101,
   "metadata": {},
   "outputs": [],
   "source": [
    "def load_image(image_path):\n",
    "    img = tf.io.read_file(image_path)\n",
    "    img = tf.image.decode_jpeg(img, channels=3)\n",
    "    img = tf.image.resize(img, (380, 380))\n",
    "    img = tf.keras.applications.efficientnet.preprocess_input(img)\n",
    "    return img, image_path"
   ]
  },
  {
   "cell_type": "markdown",
   "metadata": {
    "colab_type": "text",
    "id": "MDvIu4sXRPFV"
   },
   "source": [
    "## Initialize efficientNet and load the pretrained Imagenet weights\n",
    "\n",
    "Now you'll create a tf.keras model where the output layer is the last convolutional layer in the InceptionV3 architecture. The shape of the output of this layer is ```7, 7, 1280```. You use the last convolutional layer because you are using attention in this example. You don't perform this initialization during training because it could become a bottleneck.\n",
    "\n",
    "* You forward each image through the network and store the resulting vector in a dictionary (image_name --> feature_vector).\n",
    "* After all the images are passed through the network, you pickle the dictionary and save it to disk.\n",
    "\n",
    "#### help(tf.keras.Model)\n",
    "\n",
    "`Model` groups layers into an object with training and inference features.\n",
    "There are two ways to instantiate a `Model`:\n",
    "\n",
    "1. With the \"functional API\", where you start from `Input`,\n",
    "you chain layer calls to specify the model's forward pass,\n",
    "and finally you create your model from inputs and outputs:\n",
    "\n",
    "### it's use this form\n",
    "```python\n",
    "import tensorflow as tf\n",
    "\n",
    "inputs = tf.keras.Input(shape=(3,))\n",
    "x = tf.keras.layers.Dense(4, activation=tf.nn.relu)(inputs)\n",
    "outputs = tf.keras.layers.Dense(5, activation=tf.nn.softmax)(x)\n",
    "model = tf.keras.Model(inputs=inputs, outputs=outputs)\n"
   ]
  },
  {
   "cell_type": "code",
   "execution_count": 102,
   "metadata": {
    "colab": {},
    "colab_type": "code",
    "id": "RD3vW4SsRPFW"
   },
   "outputs": [],
   "source": [
    "# image_model = tf.keras.applications.InceptionV3(include_top=False,\n",
    "#                                                 weights='imagenet')\n",
    "# # tf.keras.applications.InceptionV3(weights='imagenet').summary()\n",
    "# new_input = image_model.input\n",
    "# hidden_layer = image_model.layers[-1].output\n",
    "\n",
    "# image_features_extract_model = tf.keras.Model(new_input, hidden_layer)\n",
    "# # image_features_extract_model # image features extractor\n",
    "\n",
    "# image_features_extract_model.summary()"
   ]
  },
  {
   "cell_type": "code",
   "execution_count": 103,
   "metadata": {
    "tags": []
   },
   "outputs": [],
   "source": [
    "# image_model = tf.keras.applications.VGG16(include_top=False,\n",
    "#                                                 weights='imagenet')\n",
    "# new_input = image_model.input\n",
    "# hidden_layer = image_model.layers[-1].output\n",
    "\n",
    "# image_features_extract_model = tf.keras.Model(new_input, hidden_layer)\n",
    "# image_features_extract_model.summary()\n",
    "\n",
    "# tf.keras.applications.VGG16(weights='imagenet').summary()\n",
    "\n"
   ]
  },
  {
   "cell_type": "code",
   "execution_count": 104,
   "metadata": {},
   "outputs": [],
   "source": [
    "# image_model = tf.keras.applications.EfficientNetB0(include_top=False,weights='imagenet')\n",
    "\n",
    "# new_input = image_model.input\n",
    "# hidden_layer = image_model.layers[-1].output\n",
    "\n",
    "# image_features_extract_model = tf.keras.Model(new_input, hidden_layer)\n",
    "# image_features_extract_model.summary()\n"
   ]
  },
  {
   "cell_type": "code",
   "execution_count": 105,
   "metadata": {},
   "outputs": [
    {
     "name": "stdout",
     "output_type": "stream",
     "text": [
      "Model: \"functional_3\"\n",
      "__________________________________________________________________________________________________\n",
      "Layer (type)                    Output Shape         Param #     Connected to                     \n",
      "==================================================================================================\n",
      "input_2 (InputLayer)            [(None, None, None,  0                                            \n",
      "__________________________________________________________________________________________________\n",
      "rescaling_1 (Rescaling)         (None, None, None, 3 0           input_2[0][0]                    \n",
      "__________________________________________________________________________________________________\n",
      "normalization_1 (Normalization) (None, None, None, 3 7           rescaling_1[0][0]                \n",
      "__________________________________________________________________________________________________\n",
      "stem_conv_pad (ZeroPadding2D)   (None, None, None, 3 0           normalization_1[0][0]            \n",
      "__________________________________________________________________________________________________\n",
      "stem_conv (Conv2D)              (None, None, None, 4 1296        stem_conv_pad[0][0]              \n",
      "__________________________________________________________________________________________________\n",
      "stem_bn (BatchNormalization)    (None, None, None, 4 192         stem_conv[0][0]                  \n",
      "__________________________________________________________________________________________________\n",
      "stem_activation (Activation)    (None, None, None, 4 0           stem_bn[0][0]                    \n",
      "__________________________________________________________________________________________________\n",
      "block1a_dwconv (DepthwiseConv2D (None, None, None, 4 432         stem_activation[0][0]            \n",
      "__________________________________________________________________________________________________\n",
      "block1a_bn (BatchNormalization) (None, None, None, 4 192         block1a_dwconv[0][0]             \n",
      "__________________________________________________________________________________________________\n",
      "block1a_activation (Activation) (None, None, None, 4 0           block1a_bn[0][0]                 \n",
      "__________________________________________________________________________________________________\n",
      "block1a_se_squeeze (GlobalAvera (None, 48)           0           block1a_activation[0][0]         \n",
      "__________________________________________________________________________________________________\n",
      "block1a_se_reshape (Reshape)    (None, 1, 1, 48)     0           block1a_se_squeeze[0][0]         \n",
      "__________________________________________________________________________________________________\n",
      "block1a_se_reduce (Conv2D)      (None, 1, 1, 12)     588         block1a_se_reshape[0][0]         \n",
      "__________________________________________________________________________________________________\n",
      "block1a_se_expand (Conv2D)      (None, 1, 1, 48)     624         block1a_se_reduce[0][0]          \n",
      "__________________________________________________________________________________________________\n",
      "block1a_se_excite (Multiply)    (None, None, None, 4 0           block1a_activation[0][0]         \n",
      "                                                                 block1a_se_expand[0][0]          \n",
      "__________________________________________________________________________________________________\n",
      "block1a_project_conv (Conv2D)   (None, None, None, 2 1152        block1a_se_excite[0][0]          \n",
      "__________________________________________________________________________________________________\n",
      "block1a_project_bn (BatchNormal (None, None, None, 2 96          block1a_project_conv[0][0]       \n",
      "__________________________________________________________________________________________________\n",
      "block1b_dwconv (DepthwiseConv2D (None, None, None, 2 216         block1a_project_bn[0][0]         \n",
      "__________________________________________________________________________________________________\n",
      "block1b_bn (BatchNormalization) (None, None, None, 2 96          block1b_dwconv[0][0]             \n",
      "__________________________________________________________________________________________________\n",
      "block1b_activation (Activation) (None, None, None, 2 0           block1b_bn[0][0]                 \n",
      "__________________________________________________________________________________________________\n",
      "block1b_se_squeeze (GlobalAvera (None, 24)           0           block1b_activation[0][0]         \n",
      "__________________________________________________________________________________________________\n",
      "block1b_se_reshape (Reshape)    (None, 1, 1, 24)     0           block1b_se_squeeze[0][0]         \n",
      "__________________________________________________________________________________________________\n",
      "block1b_se_reduce (Conv2D)      (None, 1, 1, 6)      150         block1b_se_reshape[0][0]         \n",
      "__________________________________________________________________________________________________\n",
      "block1b_se_expand (Conv2D)      (None, 1, 1, 24)     168         block1b_se_reduce[0][0]          \n",
      "__________________________________________________________________________________________________\n",
      "block1b_se_excite (Multiply)    (None, None, None, 2 0           block1b_activation[0][0]         \n",
      "                                                                 block1b_se_expand[0][0]          \n",
      "__________________________________________________________________________________________________\n",
      "block1b_project_conv (Conv2D)   (None, None, None, 2 576         block1b_se_excite[0][0]          \n",
      "__________________________________________________________________________________________________\n",
      "block1b_project_bn (BatchNormal (None, None, None, 2 96          block1b_project_conv[0][0]       \n",
      "__________________________________________________________________________________________________\n",
      "block1b_drop (Dropout)          (None, None, None, 2 0           block1b_project_bn[0][0]         \n",
      "__________________________________________________________________________________________________\n",
      "block1b_add (Add)               (None, None, None, 2 0           block1b_drop[0][0]               \n",
      "                                                                 block1a_project_bn[0][0]         \n",
      "__________________________________________________________________________________________________\n",
      "block2a_expand_conv (Conv2D)    (None, None, None, 1 3456        block1b_add[0][0]                \n",
      "__________________________________________________________________________________________________\n",
      "block2a_expand_bn (BatchNormali (None, None, None, 1 576         block2a_expand_conv[0][0]        \n",
      "__________________________________________________________________________________________________\n",
      "block2a_expand_activation (Acti (None, None, None, 1 0           block2a_expand_bn[0][0]          \n",
      "__________________________________________________________________________________________________\n",
      "block2a_dwconv_pad (ZeroPadding (None, None, None, 1 0           block2a_expand_activation[0][0]  \n",
      "__________________________________________________________________________________________________\n",
      "block2a_dwconv (DepthwiseConv2D (None, None, None, 1 1296        block2a_dwconv_pad[0][0]         \n",
      "__________________________________________________________________________________________________\n",
      "block2a_bn (BatchNormalization) (None, None, None, 1 576         block2a_dwconv[0][0]             \n",
      "__________________________________________________________________________________________________\n",
      "block2a_activation (Activation) (None, None, None, 1 0           block2a_bn[0][0]                 \n",
      "__________________________________________________________________________________________________\n",
      "block2a_se_squeeze (GlobalAvera (None, 144)          0           block2a_activation[0][0]         \n",
      "__________________________________________________________________________________________________\n",
      "block2a_se_reshape (Reshape)    (None, 1, 1, 144)    0           block2a_se_squeeze[0][0]         \n",
      "__________________________________________________________________________________________________\n",
      "block2a_se_reduce (Conv2D)      (None, 1, 1, 6)      870         block2a_se_reshape[0][0]         \n",
      "__________________________________________________________________________________________________\n",
      "block2a_se_expand (Conv2D)      (None, 1, 1, 144)    1008        block2a_se_reduce[0][0]          \n",
      "__________________________________________________________________________________________________\n",
      "block2a_se_excite (Multiply)    (None, None, None, 1 0           block2a_activation[0][0]         \n",
      "                                                                 block2a_se_expand[0][0]          \n",
      "__________________________________________________________________________________________________\n",
      "block2a_project_conv (Conv2D)   (None, None, None, 3 4608        block2a_se_excite[0][0]          \n",
      "__________________________________________________________________________________________________\n",
      "block2a_project_bn (BatchNormal (None, None, None, 3 128         block2a_project_conv[0][0]       \n",
      "__________________________________________________________________________________________________\n",
      "block2b_expand_conv (Conv2D)    (None, None, None, 1 6144        block2a_project_bn[0][0]         \n",
      "__________________________________________________________________________________________________\n",
      "block2b_expand_bn (BatchNormali (None, None, None, 1 768         block2b_expand_conv[0][0]        \n",
      "__________________________________________________________________________________________________\n",
      "block2b_expand_activation (Acti (None, None, None, 1 0           block2b_expand_bn[0][0]          \n",
      "__________________________________________________________________________________________________\n",
      "block2b_dwconv (DepthwiseConv2D (None, None, None, 1 1728        block2b_expand_activation[0][0]  \n",
      "__________________________________________________________________________________________________\n",
      "block2b_bn (BatchNormalization) (None, None, None, 1 768         block2b_dwconv[0][0]             \n",
      "__________________________________________________________________________________________________\n",
      "block2b_activation (Activation) (None, None, None, 1 0           block2b_bn[0][0]                 \n",
      "__________________________________________________________________________________________________\n",
      "block2b_se_squeeze (GlobalAvera (None, 192)          0           block2b_activation[0][0]         \n",
      "__________________________________________________________________________________________________\n",
      "block2b_se_reshape (Reshape)    (None, 1, 1, 192)    0           block2b_se_squeeze[0][0]         \n",
      "__________________________________________________________________________________________________\n",
      "block2b_se_reduce (Conv2D)      (None, 1, 1, 8)      1544        block2b_se_reshape[0][0]         \n",
      "__________________________________________________________________________________________________\n",
      "block2b_se_expand (Conv2D)      (None, 1, 1, 192)    1728        block2b_se_reduce[0][0]          \n",
      "__________________________________________________________________________________________________\n",
      "block2b_se_excite (Multiply)    (None, None, None, 1 0           block2b_activation[0][0]         \n",
      "                                                                 block2b_se_expand[0][0]          \n",
      "__________________________________________________________________________________________________\n",
      "block2b_project_conv (Conv2D)   (None, None, None, 3 6144        block2b_se_excite[0][0]          \n",
      "__________________________________________________________________________________________________\n",
      "block2b_project_bn (BatchNormal (None, None, None, 3 128         block2b_project_conv[0][0]       \n",
      "__________________________________________________________________________________________________\n",
      "block2b_drop (Dropout)          (None, None, None, 3 0           block2b_project_bn[0][0]         \n",
      "__________________________________________________________________________________________________\n",
      "block2b_add (Add)               (None, None, None, 3 0           block2b_drop[0][0]               \n",
      "                                                                 block2a_project_bn[0][0]         \n",
      "__________________________________________________________________________________________________\n",
      "block2c_expand_conv (Conv2D)    (None, None, None, 1 6144        block2b_add[0][0]                \n",
      "__________________________________________________________________________________________________\n",
      "block2c_expand_bn (BatchNormali (None, None, None, 1 768         block2c_expand_conv[0][0]        \n",
      "__________________________________________________________________________________________________\n",
      "block2c_expand_activation (Acti (None, None, None, 1 0           block2c_expand_bn[0][0]          \n",
      "__________________________________________________________________________________________________\n",
      "block2c_dwconv (DepthwiseConv2D (None, None, None, 1 1728        block2c_expand_activation[0][0]  \n",
      "__________________________________________________________________________________________________\n",
      "block2c_bn (BatchNormalization) (None, None, None, 1 768         block2c_dwconv[0][0]             \n",
      "__________________________________________________________________________________________________\n",
      "block2c_activation (Activation) (None, None, None, 1 0           block2c_bn[0][0]                 \n",
      "__________________________________________________________________________________________________\n",
      "block2c_se_squeeze (GlobalAvera (None, 192)          0           block2c_activation[0][0]         \n",
      "__________________________________________________________________________________________________\n",
      "block2c_se_reshape (Reshape)    (None, 1, 1, 192)    0           block2c_se_squeeze[0][0]         \n",
      "__________________________________________________________________________________________________\n",
      "block2c_se_reduce (Conv2D)      (None, 1, 1, 8)      1544        block2c_se_reshape[0][0]         \n",
      "__________________________________________________________________________________________________\n",
      "block2c_se_expand (Conv2D)      (None, 1, 1, 192)    1728        block2c_se_reduce[0][0]          \n",
      "__________________________________________________________________________________________________\n",
      "block2c_se_excite (Multiply)    (None, None, None, 1 0           block2c_activation[0][0]         \n",
      "                                                                 block2c_se_expand[0][0]          \n",
      "__________________________________________________________________________________________________\n",
      "block2c_project_conv (Conv2D)   (None, None, None, 3 6144        block2c_se_excite[0][0]          \n",
      "__________________________________________________________________________________________________\n",
      "block2c_project_bn (BatchNormal (None, None, None, 3 128         block2c_project_conv[0][0]       \n",
      "__________________________________________________________________________________________________\n",
      "block2c_drop (Dropout)          (None, None, None, 3 0           block2c_project_bn[0][0]         \n",
      "__________________________________________________________________________________________________\n",
      "block2c_add (Add)               (None, None, None, 3 0           block2c_drop[0][0]               \n",
      "                                                                 block2b_add[0][0]                \n",
      "__________________________________________________________________________________________________\n",
      "block2d_expand_conv (Conv2D)    (None, None, None, 1 6144        block2c_add[0][0]                \n",
      "__________________________________________________________________________________________________\n",
      "block2d_expand_bn (BatchNormali (None, None, None, 1 768         block2d_expand_conv[0][0]        \n",
      "__________________________________________________________________________________________________\n",
      "block2d_expand_activation (Acti (None, None, None, 1 0           block2d_expand_bn[0][0]          \n",
      "__________________________________________________________________________________________________\n",
      "block2d_dwconv (DepthwiseConv2D (None, None, None, 1 1728        block2d_expand_activation[0][0]  \n",
      "__________________________________________________________________________________________________\n",
      "block2d_bn (BatchNormalization) (None, None, None, 1 768         block2d_dwconv[0][0]             \n",
      "__________________________________________________________________________________________________\n",
      "block2d_activation (Activation) (None, None, None, 1 0           block2d_bn[0][0]                 \n",
      "__________________________________________________________________________________________________\n",
      "block2d_se_squeeze (GlobalAvera (None, 192)          0           block2d_activation[0][0]         \n",
      "__________________________________________________________________________________________________\n",
      "block2d_se_reshape (Reshape)    (None, 1, 1, 192)    0           block2d_se_squeeze[0][0]         \n",
      "__________________________________________________________________________________________________\n",
      "block2d_se_reduce (Conv2D)      (None, 1, 1, 8)      1544        block2d_se_reshape[0][0]         \n",
      "__________________________________________________________________________________________________\n",
      "block2d_se_expand (Conv2D)      (None, 1, 1, 192)    1728        block2d_se_reduce[0][0]          \n",
      "__________________________________________________________________________________________________\n",
      "block2d_se_excite (Multiply)    (None, None, None, 1 0           block2d_activation[0][0]         \n",
      "                                                                 block2d_se_expand[0][0]          \n",
      "__________________________________________________________________________________________________\n",
      "block2d_project_conv (Conv2D)   (None, None, None, 3 6144        block2d_se_excite[0][0]          \n",
      "__________________________________________________________________________________________________\n",
      "block2d_project_bn (BatchNormal (None, None, None, 3 128         block2d_project_conv[0][0]       \n",
      "__________________________________________________________________________________________________\n",
      "block2d_drop (Dropout)          (None, None, None, 3 0           block2d_project_bn[0][0]         \n",
      "__________________________________________________________________________________________________\n",
      "block2d_add (Add)               (None, None, None, 3 0           block2d_drop[0][0]               \n",
      "                                                                 block2c_add[0][0]                \n",
      "__________________________________________________________________________________________________\n",
      "block3a_expand_conv (Conv2D)    (None, None, None, 1 6144        block2d_add[0][0]                \n",
      "__________________________________________________________________________________________________\n",
      "block3a_expand_bn (BatchNormali (None, None, None, 1 768         block3a_expand_conv[0][0]        \n",
      "__________________________________________________________________________________________________\n",
      "block3a_expand_activation (Acti (None, None, None, 1 0           block3a_expand_bn[0][0]          \n",
      "__________________________________________________________________________________________________\n",
      "block3a_dwconv_pad (ZeroPadding (None, None, None, 1 0           block3a_expand_activation[0][0]  \n",
      "__________________________________________________________________________________________________\n",
      "block3a_dwconv (DepthwiseConv2D (None, None, None, 1 4800        block3a_dwconv_pad[0][0]         \n",
      "__________________________________________________________________________________________________\n",
      "block3a_bn (BatchNormalization) (None, None, None, 1 768         block3a_dwconv[0][0]             \n",
      "__________________________________________________________________________________________________\n",
      "block3a_activation (Activation) (None, None, None, 1 0           block3a_bn[0][0]                 \n",
      "__________________________________________________________________________________________________\n",
      "block3a_se_squeeze (GlobalAvera (None, 192)          0           block3a_activation[0][0]         \n",
      "__________________________________________________________________________________________________\n",
      "block3a_se_reshape (Reshape)    (None, 1, 1, 192)    0           block3a_se_squeeze[0][0]         \n",
      "__________________________________________________________________________________________________\n",
      "block3a_se_reduce (Conv2D)      (None, 1, 1, 8)      1544        block3a_se_reshape[0][0]         \n",
      "__________________________________________________________________________________________________\n",
      "block3a_se_expand (Conv2D)      (None, 1, 1, 192)    1728        block3a_se_reduce[0][0]          \n",
      "__________________________________________________________________________________________________\n",
      "block3a_se_excite (Multiply)    (None, None, None, 1 0           block3a_activation[0][0]         \n",
      "                                                                 block3a_se_expand[0][0]          \n",
      "__________________________________________________________________________________________________\n",
      "block3a_project_conv (Conv2D)   (None, None, None, 5 10752       block3a_se_excite[0][0]          \n",
      "__________________________________________________________________________________________________\n",
      "block3a_project_bn (BatchNormal (None, None, None, 5 224         block3a_project_conv[0][0]       \n",
      "__________________________________________________________________________________________________\n",
      "block3b_expand_conv (Conv2D)    (None, None, None, 3 18816       block3a_project_bn[0][0]         \n",
      "__________________________________________________________________________________________________\n",
      "block3b_expand_bn (BatchNormali (None, None, None, 3 1344        block3b_expand_conv[0][0]        \n",
      "__________________________________________________________________________________________________\n",
      "block3b_expand_activation (Acti (None, None, None, 3 0           block3b_expand_bn[0][0]          \n",
      "__________________________________________________________________________________________________\n",
      "block3b_dwconv (DepthwiseConv2D (None, None, None, 3 8400        block3b_expand_activation[0][0]  \n",
      "__________________________________________________________________________________________________\n",
      "block3b_bn (BatchNormalization) (None, None, None, 3 1344        block3b_dwconv[0][0]             \n",
      "__________________________________________________________________________________________________\n",
      "block3b_activation (Activation) (None, None, None, 3 0           block3b_bn[0][0]                 \n",
      "__________________________________________________________________________________________________\n",
      "block3b_se_squeeze (GlobalAvera (None, 336)          0           block3b_activation[0][0]         \n",
      "__________________________________________________________________________________________________\n",
      "block3b_se_reshape (Reshape)    (None, 1, 1, 336)    0           block3b_se_squeeze[0][0]         \n",
      "__________________________________________________________________________________________________\n",
      "block3b_se_reduce (Conv2D)      (None, 1, 1, 14)     4718        block3b_se_reshape[0][0]         \n",
      "__________________________________________________________________________________________________\n",
      "block3b_se_expand (Conv2D)      (None, 1, 1, 336)    5040        block3b_se_reduce[0][0]          \n",
      "__________________________________________________________________________________________________\n",
      "block3b_se_excite (Multiply)    (None, None, None, 3 0           block3b_activation[0][0]         \n",
      "                                                                 block3b_se_expand[0][0]          \n",
      "__________________________________________________________________________________________________\n",
      "block3b_project_conv (Conv2D)   (None, None, None, 5 18816       block3b_se_excite[0][0]          \n",
      "__________________________________________________________________________________________________\n",
      "block3b_project_bn (BatchNormal (None, None, None, 5 224         block3b_project_conv[0][0]       \n",
      "__________________________________________________________________________________________________\n",
      "block3b_drop (Dropout)          (None, None, None, 5 0           block3b_project_bn[0][0]         \n",
      "__________________________________________________________________________________________________\n",
      "block3b_add (Add)               (None, None, None, 5 0           block3b_drop[0][0]               \n",
      "                                                                 block3a_project_bn[0][0]         \n",
      "__________________________________________________________________________________________________\n",
      "block3c_expand_conv (Conv2D)    (None, None, None, 3 18816       block3b_add[0][0]                \n",
      "__________________________________________________________________________________________________\n",
      "block3c_expand_bn (BatchNormali (None, None, None, 3 1344        block3c_expand_conv[0][0]        \n",
      "__________________________________________________________________________________________________\n",
      "block3c_expand_activation (Acti (None, None, None, 3 0           block3c_expand_bn[0][0]          \n",
      "__________________________________________________________________________________________________\n",
      "block3c_dwconv (DepthwiseConv2D (None, None, None, 3 8400        block3c_expand_activation[0][0]  \n",
      "__________________________________________________________________________________________________\n",
      "block3c_bn (BatchNormalization) (None, None, None, 3 1344        block3c_dwconv[0][0]             \n",
      "__________________________________________________________________________________________________\n",
      "block3c_activation (Activation) (None, None, None, 3 0           block3c_bn[0][0]                 \n",
      "__________________________________________________________________________________________________\n",
      "block3c_se_squeeze (GlobalAvera (None, 336)          0           block3c_activation[0][0]         \n",
      "__________________________________________________________________________________________________\n",
      "block3c_se_reshape (Reshape)    (None, 1, 1, 336)    0           block3c_se_squeeze[0][0]         \n",
      "__________________________________________________________________________________________________\n",
      "block3c_se_reduce (Conv2D)      (None, 1, 1, 14)     4718        block3c_se_reshape[0][0]         \n",
      "__________________________________________________________________________________________________\n",
      "block3c_se_expand (Conv2D)      (None, 1, 1, 336)    5040        block3c_se_reduce[0][0]          \n",
      "__________________________________________________________________________________________________\n",
      "block3c_se_excite (Multiply)    (None, None, None, 3 0           block3c_activation[0][0]         \n",
      "                                                                 block3c_se_expand[0][0]          \n",
      "__________________________________________________________________________________________________\n",
      "block3c_project_conv (Conv2D)   (None, None, None, 5 18816       block3c_se_excite[0][0]          \n",
      "__________________________________________________________________________________________________\n",
      "block3c_project_bn (BatchNormal (None, None, None, 5 224         block3c_project_conv[0][0]       \n",
      "__________________________________________________________________________________________________\n",
      "block3c_drop (Dropout)          (None, None, None, 5 0           block3c_project_bn[0][0]         \n",
      "__________________________________________________________________________________________________\n",
      "block3c_add (Add)               (None, None, None, 5 0           block3c_drop[0][0]               \n",
      "                                                                 block3b_add[0][0]                \n",
      "__________________________________________________________________________________________________\n",
      "block3d_expand_conv (Conv2D)    (None, None, None, 3 18816       block3c_add[0][0]                \n",
      "__________________________________________________________________________________________________\n",
      "block3d_expand_bn (BatchNormali (None, None, None, 3 1344        block3d_expand_conv[0][0]        \n",
      "__________________________________________________________________________________________________\n",
      "block3d_expand_activation (Acti (None, None, None, 3 0           block3d_expand_bn[0][0]          \n",
      "__________________________________________________________________________________________________\n",
      "block3d_dwconv (DepthwiseConv2D (None, None, None, 3 8400        block3d_expand_activation[0][0]  \n",
      "__________________________________________________________________________________________________\n",
      "block3d_bn (BatchNormalization) (None, None, None, 3 1344        block3d_dwconv[0][0]             \n",
      "__________________________________________________________________________________________________\n",
      "block3d_activation (Activation) (None, None, None, 3 0           block3d_bn[0][0]                 \n",
      "__________________________________________________________________________________________________\n",
      "block3d_se_squeeze (GlobalAvera (None, 336)          0           block3d_activation[0][0]         \n",
      "__________________________________________________________________________________________________\n",
      "block3d_se_reshape (Reshape)    (None, 1, 1, 336)    0           block3d_se_squeeze[0][0]         \n",
      "__________________________________________________________________________________________________\n",
      "block3d_se_reduce (Conv2D)      (None, 1, 1, 14)     4718        block3d_se_reshape[0][0]         \n",
      "__________________________________________________________________________________________________\n",
      "block3d_se_expand (Conv2D)      (None, 1, 1, 336)    5040        block3d_se_reduce[0][0]          \n",
      "__________________________________________________________________________________________________\n",
      "block3d_se_excite (Multiply)    (None, None, None, 3 0           block3d_activation[0][0]         \n",
      "                                                                 block3d_se_expand[0][0]          \n",
      "__________________________________________________________________________________________________\n",
      "block3d_project_conv (Conv2D)   (None, None, None, 5 18816       block3d_se_excite[0][0]          \n",
      "__________________________________________________________________________________________________\n",
      "block3d_project_bn (BatchNormal (None, None, None, 5 224         block3d_project_conv[0][0]       \n",
      "__________________________________________________________________________________________________\n",
      "block3d_drop (Dropout)          (None, None, None, 5 0           block3d_project_bn[0][0]         \n",
      "__________________________________________________________________________________________________\n",
      "block3d_add (Add)               (None, None, None, 5 0           block3d_drop[0][0]               \n",
      "                                                                 block3c_add[0][0]                \n",
      "__________________________________________________________________________________________________\n",
      "block4a_expand_conv (Conv2D)    (None, None, None, 3 18816       block3d_add[0][0]                \n",
      "__________________________________________________________________________________________________\n",
      "block4a_expand_bn (BatchNormali (None, None, None, 3 1344        block4a_expand_conv[0][0]        \n",
      "__________________________________________________________________________________________________\n",
      "block4a_expand_activation (Acti (None, None, None, 3 0           block4a_expand_bn[0][0]          \n",
      "__________________________________________________________________________________________________\n",
      "block4a_dwconv_pad (ZeroPadding (None, None, None, 3 0           block4a_expand_activation[0][0]  \n",
      "__________________________________________________________________________________________________\n",
      "block4a_dwconv (DepthwiseConv2D (None, None, None, 3 3024        block4a_dwconv_pad[0][0]         \n",
      "__________________________________________________________________________________________________\n",
      "block4a_bn (BatchNormalization) (None, None, None, 3 1344        block4a_dwconv[0][0]             \n",
      "__________________________________________________________________________________________________\n",
      "block4a_activation (Activation) (None, None, None, 3 0           block4a_bn[0][0]                 \n",
      "__________________________________________________________________________________________________\n",
      "block4a_se_squeeze (GlobalAvera (None, 336)          0           block4a_activation[0][0]         \n",
      "__________________________________________________________________________________________________\n",
      "block4a_se_reshape (Reshape)    (None, 1, 1, 336)    0           block4a_se_squeeze[0][0]         \n",
      "__________________________________________________________________________________________________\n",
      "block4a_se_reduce (Conv2D)      (None, 1, 1, 14)     4718        block4a_se_reshape[0][0]         \n",
      "__________________________________________________________________________________________________\n",
      "block4a_se_expand (Conv2D)      (None, 1, 1, 336)    5040        block4a_se_reduce[0][0]          \n",
      "__________________________________________________________________________________________________\n",
      "block4a_se_excite (Multiply)    (None, None, None, 3 0           block4a_activation[0][0]         \n",
      "                                                                 block4a_se_expand[0][0]          \n",
      "__________________________________________________________________________________________________\n",
      "block4a_project_conv (Conv2D)   (None, None, None, 1 37632       block4a_se_excite[0][0]          \n",
      "__________________________________________________________________________________________________\n",
      "block4a_project_bn (BatchNormal (None, None, None, 1 448         block4a_project_conv[0][0]       \n",
      "__________________________________________________________________________________________________\n",
      "block4b_expand_conv (Conv2D)    (None, None, None, 6 75264       block4a_project_bn[0][0]         \n",
      "__________________________________________________________________________________________________\n",
      "block4b_expand_bn (BatchNormali (None, None, None, 6 2688        block4b_expand_conv[0][0]        \n",
      "__________________________________________________________________________________________________\n",
      "block4b_expand_activation (Acti (None, None, None, 6 0           block4b_expand_bn[0][0]          \n",
      "__________________________________________________________________________________________________\n",
      "block4b_dwconv (DepthwiseConv2D (None, None, None, 6 6048        block4b_expand_activation[0][0]  \n",
      "__________________________________________________________________________________________________\n",
      "block4b_bn (BatchNormalization) (None, None, None, 6 2688        block4b_dwconv[0][0]             \n",
      "__________________________________________________________________________________________________\n",
      "block4b_activation (Activation) (None, None, None, 6 0           block4b_bn[0][0]                 \n",
      "__________________________________________________________________________________________________\n",
      "block4b_se_squeeze (GlobalAvera (None, 672)          0           block4b_activation[0][0]         \n",
      "__________________________________________________________________________________________________\n",
      "block4b_se_reshape (Reshape)    (None, 1, 1, 672)    0           block4b_se_squeeze[0][0]         \n",
      "__________________________________________________________________________________________________\n",
      "block4b_se_reduce (Conv2D)      (None, 1, 1, 28)     18844       block4b_se_reshape[0][0]         \n",
      "__________________________________________________________________________________________________\n",
      "block4b_se_expand (Conv2D)      (None, 1, 1, 672)    19488       block4b_se_reduce[0][0]          \n",
      "__________________________________________________________________________________________________\n",
      "block4b_se_excite (Multiply)    (None, None, None, 6 0           block4b_activation[0][0]         \n",
      "                                                                 block4b_se_expand[0][0]          \n",
      "__________________________________________________________________________________________________\n",
      "block4b_project_conv (Conv2D)   (None, None, None, 1 75264       block4b_se_excite[0][0]          \n",
      "__________________________________________________________________________________________________\n",
      "block4b_project_bn (BatchNormal (None, None, None, 1 448         block4b_project_conv[0][0]       \n",
      "__________________________________________________________________________________________________\n",
      "block4b_drop (Dropout)          (None, None, None, 1 0           block4b_project_bn[0][0]         \n",
      "__________________________________________________________________________________________________\n",
      "block4b_add (Add)               (None, None, None, 1 0           block4b_drop[0][0]               \n",
      "                                                                 block4a_project_bn[0][0]         \n",
      "__________________________________________________________________________________________________\n",
      "block4c_expand_conv (Conv2D)    (None, None, None, 6 75264       block4b_add[0][0]                \n",
      "__________________________________________________________________________________________________\n",
      "block4c_expand_bn (BatchNormali (None, None, None, 6 2688        block4c_expand_conv[0][0]        \n",
      "__________________________________________________________________________________________________\n",
      "block4c_expand_activation (Acti (None, None, None, 6 0           block4c_expand_bn[0][0]          \n",
      "__________________________________________________________________________________________________\n",
      "block4c_dwconv (DepthwiseConv2D (None, None, None, 6 6048        block4c_expand_activation[0][0]  \n",
      "__________________________________________________________________________________________________\n",
      "block4c_bn (BatchNormalization) (None, None, None, 6 2688        block4c_dwconv[0][0]             \n",
      "__________________________________________________________________________________________________\n",
      "block4c_activation (Activation) (None, None, None, 6 0           block4c_bn[0][0]                 \n",
      "__________________________________________________________________________________________________\n",
      "block4c_se_squeeze (GlobalAvera (None, 672)          0           block4c_activation[0][0]         \n",
      "__________________________________________________________________________________________________\n",
      "block4c_se_reshape (Reshape)    (None, 1, 1, 672)    0           block4c_se_squeeze[0][0]         \n",
      "__________________________________________________________________________________________________\n",
      "block4c_se_reduce (Conv2D)      (None, 1, 1, 28)     18844       block4c_se_reshape[0][0]         \n",
      "__________________________________________________________________________________________________\n",
      "block4c_se_expand (Conv2D)      (None, 1, 1, 672)    19488       block4c_se_reduce[0][0]          \n",
      "__________________________________________________________________________________________________\n",
      "block4c_se_excite (Multiply)    (None, None, None, 6 0           block4c_activation[0][0]         \n",
      "                                                                 block4c_se_expand[0][0]          \n",
      "__________________________________________________________________________________________________\n",
      "block4c_project_conv (Conv2D)   (None, None, None, 1 75264       block4c_se_excite[0][0]          \n",
      "__________________________________________________________________________________________________\n",
      "block4c_project_bn (BatchNormal (None, None, None, 1 448         block4c_project_conv[0][0]       \n",
      "__________________________________________________________________________________________________\n",
      "block4c_drop (Dropout)          (None, None, None, 1 0           block4c_project_bn[0][0]         \n",
      "__________________________________________________________________________________________________\n",
      "block4c_add (Add)               (None, None, None, 1 0           block4c_drop[0][0]               \n",
      "                                                                 block4b_add[0][0]                \n",
      "__________________________________________________________________________________________________\n",
      "block4d_expand_conv (Conv2D)    (None, None, None, 6 75264       block4c_add[0][0]                \n",
      "__________________________________________________________________________________________________\n",
      "block4d_expand_bn (BatchNormali (None, None, None, 6 2688        block4d_expand_conv[0][0]        \n",
      "__________________________________________________________________________________________________\n",
      "block4d_expand_activation (Acti (None, None, None, 6 0           block4d_expand_bn[0][0]          \n",
      "__________________________________________________________________________________________________\n",
      "block4d_dwconv (DepthwiseConv2D (None, None, None, 6 6048        block4d_expand_activation[0][0]  \n",
      "__________________________________________________________________________________________________\n",
      "block4d_bn (BatchNormalization) (None, None, None, 6 2688        block4d_dwconv[0][0]             \n",
      "__________________________________________________________________________________________________\n",
      "block4d_activation (Activation) (None, None, None, 6 0           block4d_bn[0][0]                 \n",
      "__________________________________________________________________________________________________\n",
      "block4d_se_squeeze (GlobalAvera (None, 672)          0           block4d_activation[0][0]         \n",
      "__________________________________________________________________________________________________\n",
      "block4d_se_reshape (Reshape)    (None, 1, 1, 672)    0           block4d_se_squeeze[0][0]         \n",
      "__________________________________________________________________________________________________\n",
      "block4d_se_reduce (Conv2D)      (None, 1, 1, 28)     18844       block4d_se_reshape[0][0]         \n",
      "__________________________________________________________________________________________________\n",
      "block4d_se_expand (Conv2D)      (None, 1, 1, 672)    19488       block4d_se_reduce[0][0]          \n",
      "__________________________________________________________________________________________________\n",
      "block4d_se_excite (Multiply)    (None, None, None, 6 0           block4d_activation[0][0]         \n",
      "                                                                 block4d_se_expand[0][0]          \n",
      "__________________________________________________________________________________________________\n",
      "block4d_project_conv (Conv2D)   (None, None, None, 1 75264       block4d_se_excite[0][0]          \n",
      "__________________________________________________________________________________________________\n",
      "block4d_project_bn (BatchNormal (None, None, None, 1 448         block4d_project_conv[0][0]       \n",
      "__________________________________________________________________________________________________\n",
      "block4d_drop (Dropout)          (None, None, None, 1 0           block4d_project_bn[0][0]         \n",
      "__________________________________________________________________________________________________\n",
      "block4d_add (Add)               (None, None, None, 1 0           block4d_drop[0][0]               \n",
      "                                                                 block4c_add[0][0]                \n",
      "__________________________________________________________________________________________________\n",
      "block4e_expand_conv (Conv2D)    (None, None, None, 6 75264       block4d_add[0][0]                \n",
      "__________________________________________________________________________________________________\n",
      "block4e_expand_bn (BatchNormali (None, None, None, 6 2688        block4e_expand_conv[0][0]        \n",
      "__________________________________________________________________________________________________\n",
      "block4e_expand_activation (Acti (None, None, None, 6 0           block4e_expand_bn[0][0]          \n",
      "__________________________________________________________________________________________________\n",
      "block4e_dwconv (DepthwiseConv2D (None, None, None, 6 6048        block4e_expand_activation[0][0]  \n",
      "__________________________________________________________________________________________________\n",
      "block4e_bn (BatchNormalization) (None, None, None, 6 2688        block4e_dwconv[0][0]             \n",
      "__________________________________________________________________________________________________\n",
      "block4e_activation (Activation) (None, None, None, 6 0           block4e_bn[0][0]                 \n",
      "__________________________________________________________________________________________________\n",
      "block4e_se_squeeze (GlobalAvera (None, 672)          0           block4e_activation[0][0]         \n",
      "__________________________________________________________________________________________________\n",
      "block4e_se_reshape (Reshape)    (None, 1, 1, 672)    0           block4e_se_squeeze[0][0]         \n",
      "__________________________________________________________________________________________________\n",
      "block4e_se_reduce (Conv2D)      (None, 1, 1, 28)     18844       block4e_se_reshape[0][0]         \n",
      "__________________________________________________________________________________________________\n",
      "block4e_se_expand (Conv2D)      (None, 1, 1, 672)    19488       block4e_se_reduce[0][0]          \n",
      "__________________________________________________________________________________________________\n",
      "block4e_se_excite (Multiply)    (None, None, None, 6 0           block4e_activation[0][0]         \n",
      "                                                                 block4e_se_expand[0][0]          \n",
      "__________________________________________________________________________________________________\n",
      "block4e_project_conv (Conv2D)   (None, None, None, 1 75264       block4e_se_excite[0][0]          \n",
      "__________________________________________________________________________________________________\n",
      "block4e_project_bn (BatchNormal (None, None, None, 1 448         block4e_project_conv[0][0]       \n",
      "__________________________________________________________________________________________________\n",
      "block4e_drop (Dropout)          (None, None, None, 1 0           block4e_project_bn[0][0]         \n",
      "__________________________________________________________________________________________________\n",
      "block4e_add (Add)               (None, None, None, 1 0           block4e_drop[0][0]               \n",
      "                                                                 block4d_add[0][0]                \n",
      "__________________________________________________________________________________________________\n",
      "block4f_expand_conv (Conv2D)    (None, None, None, 6 75264       block4e_add[0][0]                \n",
      "__________________________________________________________________________________________________\n",
      "block4f_expand_bn (BatchNormali (None, None, None, 6 2688        block4f_expand_conv[0][0]        \n",
      "__________________________________________________________________________________________________\n",
      "block4f_expand_activation (Acti (None, None, None, 6 0           block4f_expand_bn[0][0]          \n",
      "__________________________________________________________________________________________________\n",
      "block4f_dwconv (DepthwiseConv2D (None, None, None, 6 6048        block4f_expand_activation[0][0]  \n",
      "__________________________________________________________________________________________________\n",
      "block4f_bn (BatchNormalization) (None, None, None, 6 2688        block4f_dwconv[0][0]             \n",
      "__________________________________________________________________________________________________\n",
      "block4f_activation (Activation) (None, None, None, 6 0           block4f_bn[0][0]                 \n",
      "__________________________________________________________________________________________________\n",
      "block4f_se_squeeze (GlobalAvera (None, 672)          0           block4f_activation[0][0]         \n",
      "__________________________________________________________________________________________________\n",
      "block4f_se_reshape (Reshape)    (None, 1, 1, 672)    0           block4f_se_squeeze[0][0]         \n",
      "__________________________________________________________________________________________________\n",
      "block4f_se_reduce (Conv2D)      (None, 1, 1, 28)     18844       block4f_se_reshape[0][0]         \n",
      "__________________________________________________________________________________________________\n",
      "block4f_se_expand (Conv2D)      (None, 1, 1, 672)    19488       block4f_se_reduce[0][0]          \n",
      "__________________________________________________________________________________________________\n",
      "block4f_se_excite (Multiply)    (None, None, None, 6 0           block4f_activation[0][0]         \n",
      "                                                                 block4f_se_expand[0][0]          \n",
      "__________________________________________________________________________________________________\n",
      "block4f_project_conv (Conv2D)   (None, None, None, 1 75264       block4f_se_excite[0][0]          \n",
      "__________________________________________________________________________________________________\n",
      "block4f_project_bn (BatchNormal (None, None, None, 1 448         block4f_project_conv[0][0]       \n",
      "__________________________________________________________________________________________________\n",
      "block4f_drop (Dropout)          (None, None, None, 1 0           block4f_project_bn[0][0]         \n",
      "__________________________________________________________________________________________________\n",
      "block4f_add (Add)               (None, None, None, 1 0           block4f_drop[0][0]               \n",
      "                                                                 block4e_add[0][0]                \n",
      "__________________________________________________________________________________________________\n",
      "block5a_expand_conv (Conv2D)    (None, None, None, 6 75264       block4f_add[0][0]                \n",
      "__________________________________________________________________________________________________\n",
      "block5a_expand_bn (BatchNormali (None, None, None, 6 2688        block5a_expand_conv[0][0]        \n",
      "__________________________________________________________________________________________________\n",
      "block5a_expand_activation (Acti (None, None, None, 6 0           block5a_expand_bn[0][0]          \n",
      "__________________________________________________________________________________________________\n",
      "block5a_dwconv (DepthwiseConv2D (None, None, None, 6 16800       block5a_expand_activation[0][0]  \n",
      "__________________________________________________________________________________________________\n",
      "block5a_bn (BatchNormalization) (None, None, None, 6 2688        block5a_dwconv[0][0]             \n",
      "__________________________________________________________________________________________________\n",
      "block5a_activation (Activation) (None, None, None, 6 0           block5a_bn[0][0]                 \n",
      "__________________________________________________________________________________________________\n",
      "block5a_se_squeeze (GlobalAvera (None, 672)          0           block5a_activation[0][0]         \n",
      "__________________________________________________________________________________________________\n",
      "block5a_se_reshape (Reshape)    (None, 1, 1, 672)    0           block5a_se_squeeze[0][0]         \n",
      "__________________________________________________________________________________________________\n",
      "block5a_se_reduce (Conv2D)      (None, 1, 1, 28)     18844       block5a_se_reshape[0][0]         \n",
      "__________________________________________________________________________________________________\n",
      "block5a_se_expand (Conv2D)      (None, 1, 1, 672)    19488       block5a_se_reduce[0][0]          \n",
      "__________________________________________________________________________________________________\n",
      "block5a_se_excite (Multiply)    (None, None, None, 6 0           block5a_activation[0][0]         \n",
      "                                                                 block5a_se_expand[0][0]          \n",
      "__________________________________________________________________________________________________\n",
      "block5a_project_conv (Conv2D)   (None, None, None, 1 107520      block5a_se_excite[0][0]          \n",
      "__________________________________________________________________________________________________\n",
      "block5a_project_bn (BatchNormal (None, None, None, 1 640         block5a_project_conv[0][0]       \n",
      "__________________________________________________________________________________________________\n",
      "block5b_expand_conv (Conv2D)    (None, None, None, 9 153600      block5a_project_bn[0][0]         \n",
      "__________________________________________________________________________________________________\n",
      "block5b_expand_bn (BatchNormali (None, None, None, 9 3840        block5b_expand_conv[0][0]        \n",
      "__________________________________________________________________________________________________\n",
      "block5b_expand_activation (Acti (None, None, None, 9 0           block5b_expand_bn[0][0]          \n",
      "__________________________________________________________________________________________________\n",
      "block5b_dwconv (DepthwiseConv2D (None, None, None, 9 24000       block5b_expand_activation[0][0]  \n",
      "__________________________________________________________________________________________________\n",
      "block5b_bn (BatchNormalization) (None, None, None, 9 3840        block5b_dwconv[0][0]             \n",
      "__________________________________________________________________________________________________\n",
      "block5b_activation (Activation) (None, None, None, 9 0           block5b_bn[0][0]                 \n",
      "__________________________________________________________________________________________________\n",
      "block5b_se_squeeze (GlobalAvera (None, 960)          0           block5b_activation[0][0]         \n",
      "__________________________________________________________________________________________________\n",
      "block5b_se_reshape (Reshape)    (None, 1, 1, 960)    0           block5b_se_squeeze[0][0]         \n",
      "__________________________________________________________________________________________________\n",
      "block5b_se_reduce (Conv2D)      (None, 1, 1, 40)     38440       block5b_se_reshape[0][0]         \n",
      "__________________________________________________________________________________________________\n",
      "block5b_se_expand (Conv2D)      (None, 1, 1, 960)    39360       block5b_se_reduce[0][0]          \n",
      "__________________________________________________________________________________________________\n",
      "block5b_se_excite (Multiply)    (None, None, None, 9 0           block5b_activation[0][0]         \n",
      "                                                                 block5b_se_expand[0][0]          \n",
      "__________________________________________________________________________________________________\n",
      "block5b_project_conv (Conv2D)   (None, None, None, 1 153600      block5b_se_excite[0][0]          \n",
      "__________________________________________________________________________________________________\n",
      "block5b_project_bn (BatchNormal (None, None, None, 1 640         block5b_project_conv[0][0]       \n",
      "__________________________________________________________________________________________________\n",
      "block5b_drop (Dropout)          (None, None, None, 1 0           block5b_project_bn[0][0]         \n",
      "__________________________________________________________________________________________________\n",
      "block5b_add (Add)               (None, None, None, 1 0           block5b_drop[0][0]               \n",
      "                                                                 block5a_project_bn[0][0]         \n",
      "__________________________________________________________________________________________________\n",
      "block5c_expand_conv (Conv2D)    (None, None, None, 9 153600      block5b_add[0][0]                \n",
      "__________________________________________________________________________________________________\n",
      "block5c_expand_bn (BatchNormali (None, None, None, 9 3840        block5c_expand_conv[0][0]        \n",
      "__________________________________________________________________________________________________\n",
      "block5c_expand_activation (Acti (None, None, None, 9 0           block5c_expand_bn[0][0]          \n",
      "__________________________________________________________________________________________________\n",
      "block5c_dwconv (DepthwiseConv2D (None, None, None, 9 24000       block5c_expand_activation[0][0]  \n",
      "__________________________________________________________________________________________________\n",
      "block5c_bn (BatchNormalization) (None, None, None, 9 3840        block5c_dwconv[0][0]             \n",
      "__________________________________________________________________________________________________\n",
      "block5c_activation (Activation) (None, None, None, 9 0           block5c_bn[0][0]                 \n",
      "__________________________________________________________________________________________________\n",
      "block5c_se_squeeze (GlobalAvera (None, 960)          0           block5c_activation[0][0]         \n",
      "__________________________________________________________________________________________________\n",
      "block5c_se_reshape (Reshape)    (None, 1, 1, 960)    0           block5c_se_squeeze[0][0]         \n",
      "__________________________________________________________________________________________________\n",
      "block5c_se_reduce (Conv2D)      (None, 1, 1, 40)     38440       block5c_se_reshape[0][0]         \n",
      "__________________________________________________________________________________________________\n",
      "block5c_se_expand (Conv2D)      (None, 1, 1, 960)    39360       block5c_se_reduce[0][0]          \n",
      "__________________________________________________________________________________________________\n",
      "block5c_se_excite (Multiply)    (None, None, None, 9 0           block5c_activation[0][0]         \n",
      "                                                                 block5c_se_expand[0][0]          \n",
      "__________________________________________________________________________________________________\n",
      "block5c_project_conv (Conv2D)   (None, None, None, 1 153600      block5c_se_excite[0][0]          \n",
      "__________________________________________________________________________________________________\n",
      "block5c_project_bn (BatchNormal (None, None, None, 1 640         block5c_project_conv[0][0]       \n",
      "__________________________________________________________________________________________________\n",
      "block5c_drop (Dropout)          (None, None, None, 1 0           block5c_project_bn[0][0]         \n",
      "__________________________________________________________________________________________________\n",
      "block5c_add (Add)               (None, None, None, 1 0           block5c_drop[0][0]               \n",
      "                                                                 block5b_add[0][0]                \n",
      "__________________________________________________________________________________________________\n",
      "block5d_expand_conv (Conv2D)    (None, None, None, 9 153600      block5c_add[0][0]                \n",
      "__________________________________________________________________________________________________\n",
      "block5d_expand_bn (BatchNormali (None, None, None, 9 3840        block5d_expand_conv[0][0]        \n",
      "__________________________________________________________________________________________________\n",
      "block5d_expand_activation (Acti (None, None, None, 9 0           block5d_expand_bn[0][0]          \n",
      "__________________________________________________________________________________________________\n",
      "block5d_dwconv (DepthwiseConv2D (None, None, None, 9 24000       block5d_expand_activation[0][0]  \n",
      "__________________________________________________________________________________________________\n",
      "block5d_bn (BatchNormalization) (None, None, None, 9 3840        block5d_dwconv[0][0]             \n",
      "__________________________________________________________________________________________________\n",
      "block5d_activation (Activation) (None, None, None, 9 0           block5d_bn[0][0]                 \n",
      "__________________________________________________________________________________________________\n",
      "block5d_se_squeeze (GlobalAvera (None, 960)          0           block5d_activation[0][0]         \n",
      "__________________________________________________________________________________________________\n",
      "block5d_se_reshape (Reshape)    (None, 1, 1, 960)    0           block5d_se_squeeze[0][0]         \n",
      "__________________________________________________________________________________________________\n",
      "block5d_se_reduce (Conv2D)      (None, 1, 1, 40)     38440       block5d_se_reshape[0][0]         \n",
      "__________________________________________________________________________________________________\n",
      "block5d_se_expand (Conv2D)      (None, 1, 1, 960)    39360       block5d_se_reduce[0][0]          \n",
      "__________________________________________________________________________________________________\n",
      "block5d_se_excite (Multiply)    (None, None, None, 9 0           block5d_activation[0][0]         \n",
      "                                                                 block5d_se_expand[0][0]          \n",
      "__________________________________________________________________________________________________\n",
      "block5d_project_conv (Conv2D)   (None, None, None, 1 153600      block5d_se_excite[0][0]          \n",
      "__________________________________________________________________________________________________\n",
      "block5d_project_bn (BatchNormal (None, None, None, 1 640         block5d_project_conv[0][0]       \n",
      "__________________________________________________________________________________________________\n",
      "block5d_drop (Dropout)          (None, None, None, 1 0           block5d_project_bn[0][0]         \n",
      "__________________________________________________________________________________________________\n",
      "block5d_add (Add)               (None, None, None, 1 0           block5d_drop[0][0]               \n",
      "                                                                 block5c_add[0][0]                \n",
      "__________________________________________________________________________________________________\n",
      "block5e_expand_conv (Conv2D)    (None, None, None, 9 153600      block5d_add[0][0]                \n",
      "__________________________________________________________________________________________________\n",
      "block5e_expand_bn (BatchNormali (None, None, None, 9 3840        block5e_expand_conv[0][0]        \n",
      "__________________________________________________________________________________________________\n",
      "block5e_expand_activation (Acti (None, None, None, 9 0           block5e_expand_bn[0][0]          \n",
      "__________________________________________________________________________________________________\n",
      "block5e_dwconv (DepthwiseConv2D (None, None, None, 9 24000       block5e_expand_activation[0][0]  \n",
      "__________________________________________________________________________________________________\n",
      "block5e_bn (BatchNormalization) (None, None, None, 9 3840        block5e_dwconv[0][0]             \n",
      "__________________________________________________________________________________________________\n",
      "block5e_activation (Activation) (None, None, None, 9 0           block5e_bn[0][0]                 \n",
      "__________________________________________________________________________________________________\n",
      "block5e_se_squeeze (GlobalAvera (None, 960)          0           block5e_activation[0][0]         \n",
      "__________________________________________________________________________________________________\n",
      "block5e_se_reshape (Reshape)    (None, 1, 1, 960)    0           block5e_se_squeeze[0][0]         \n",
      "__________________________________________________________________________________________________\n",
      "block5e_se_reduce (Conv2D)      (None, 1, 1, 40)     38440       block5e_se_reshape[0][0]         \n",
      "__________________________________________________________________________________________________\n",
      "block5e_se_expand (Conv2D)      (None, 1, 1, 960)    39360       block5e_se_reduce[0][0]          \n",
      "__________________________________________________________________________________________________\n",
      "block5e_se_excite (Multiply)    (None, None, None, 9 0           block5e_activation[0][0]         \n",
      "                                                                 block5e_se_expand[0][0]          \n",
      "__________________________________________________________________________________________________\n",
      "block5e_project_conv (Conv2D)   (None, None, None, 1 153600      block5e_se_excite[0][0]          \n",
      "__________________________________________________________________________________________________\n",
      "block5e_project_bn (BatchNormal (None, None, None, 1 640         block5e_project_conv[0][0]       \n",
      "__________________________________________________________________________________________________\n",
      "block5e_drop (Dropout)          (None, None, None, 1 0           block5e_project_bn[0][0]         \n",
      "__________________________________________________________________________________________________\n",
      "block5e_add (Add)               (None, None, None, 1 0           block5e_drop[0][0]               \n",
      "                                                                 block5d_add[0][0]                \n",
      "__________________________________________________________________________________________________\n",
      "block5f_expand_conv (Conv2D)    (None, None, None, 9 153600      block5e_add[0][0]                \n",
      "__________________________________________________________________________________________________\n",
      "block5f_expand_bn (BatchNormali (None, None, None, 9 3840        block5f_expand_conv[0][0]        \n",
      "__________________________________________________________________________________________________\n",
      "block5f_expand_activation (Acti (None, None, None, 9 0           block5f_expand_bn[0][0]          \n",
      "__________________________________________________________________________________________________\n",
      "block5f_dwconv (DepthwiseConv2D (None, None, None, 9 24000       block5f_expand_activation[0][0]  \n",
      "__________________________________________________________________________________________________\n",
      "block5f_bn (BatchNormalization) (None, None, None, 9 3840        block5f_dwconv[0][0]             \n",
      "__________________________________________________________________________________________________\n",
      "block5f_activation (Activation) (None, None, None, 9 0           block5f_bn[0][0]                 \n",
      "__________________________________________________________________________________________________\n",
      "block5f_se_squeeze (GlobalAvera (None, 960)          0           block5f_activation[0][0]         \n",
      "__________________________________________________________________________________________________\n",
      "block5f_se_reshape (Reshape)    (None, 1, 1, 960)    0           block5f_se_squeeze[0][0]         \n",
      "__________________________________________________________________________________________________\n",
      "block5f_se_reduce (Conv2D)      (None, 1, 1, 40)     38440       block5f_se_reshape[0][0]         \n",
      "__________________________________________________________________________________________________\n",
      "block5f_se_expand (Conv2D)      (None, 1, 1, 960)    39360       block5f_se_reduce[0][0]          \n",
      "__________________________________________________________________________________________________\n",
      "block5f_se_excite (Multiply)    (None, None, None, 9 0           block5f_activation[0][0]         \n",
      "                                                                 block5f_se_expand[0][0]          \n",
      "__________________________________________________________________________________________________\n",
      "block5f_project_conv (Conv2D)   (None, None, None, 1 153600      block5f_se_excite[0][0]          \n",
      "__________________________________________________________________________________________________\n",
      "block5f_project_bn (BatchNormal (None, None, None, 1 640         block5f_project_conv[0][0]       \n",
      "__________________________________________________________________________________________________\n",
      "block5f_drop (Dropout)          (None, None, None, 1 0           block5f_project_bn[0][0]         \n",
      "__________________________________________________________________________________________________\n",
      "block5f_add (Add)               (None, None, None, 1 0           block5f_drop[0][0]               \n",
      "                                                                 block5e_add[0][0]                \n",
      "__________________________________________________________________________________________________\n",
      "block6a_expand_conv (Conv2D)    (None, None, None, 9 153600      block5f_add[0][0]                \n",
      "__________________________________________________________________________________________________\n",
      "block6a_expand_bn (BatchNormali (None, None, None, 9 3840        block6a_expand_conv[0][0]        \n",
      "__________________________________________________________________________________________________\n",
      "block6a_expand_activation (Acti (None, None, None, 9 0           block6a_expand_bn[0][0]          \n",
      "__________________________________________________________________________________________________\n",
      "block6a_dwconv_pad (ZeroPadding (None, None, None, 9 0           block6a_expand_activation[0][0]  \n",
      "__________________________________________________________________________________________________\n",
      "block6a_dwconv (DepthwiseConv2D (None, None, None, 9 24000       block6a_dwconv_pad[0][0]         \n",
      "__________________________________________________________________________________________________\n",
      "block6a_bn (BatchNormalization) (None, None, None, 9 3840        block6a_dwconv[0][0]             \n",
      "__________________________________________________________________________________________________\n",
      "block6a_activation (Activation) (None, None, None, 9 0           block6a_bn[0][0]                 \n",
      "__________________________________________________________________________________________________\n",
      "block6a_se_squeeze (GlobalAvera (None, 960)          0           block6a_activation[0][0]         \n",
      "__________________________________________________________________________________________________\n",
      "block6a_se_reshape (Reshape)    (None, 1, 1, 960)    0           block6a_se_squeeze[0][0]         \n",
      "__________________________________________________________________________________________________\n",
      "block6a_se_reduce (Conv2D)      (None, 1, 1, 40)     38440       block6a_se_reshape[0][0]         \n",
      "__________________________________________________________________________________________________\n",
      "block6a_se_expand (Conv2D)      (None, 1, 1, 960)    39360       block6a_se_reduce[0][0]          \n",
      "__________________________________________________________________________________________________\n",
      "block6a_se_excite (Multiply)    (None, None, None, 9 0           block6a_activation[0][0]         \n",
      "                                                                 block6a_se_expand[0][0]          \n",
      "__________________________________________________________________________________________________\n",
      "block6a_project_conv (Conv2D)   (None, None, None, 2 261120      block6a_se_excite[0][0]          \n",
      "__________________________________________________________________________________________________\n",
      "block6a_project_bn (BatchNormal (None, None, None, 2 1088        block6a_project_conv[0][0]       \n",
      "__________________________________________________________________________________________________\n",
      "block6b_expand_conv (Conv2D)    (None, None, None, 1 443904      block6a_project_bn[0][0]         \n",
      "__________________________________________________________________________________________________\n",
      "block6b_expand_bn (BatchNormali (None, None, None, 1 6528        block6b_expand_conv[0][0]        \n",
      "__________________________________________________________________________________________________\n",
      "block6b_expand_activation (Acti (None, None, None, 1 0           block6b_expand_bn[0][0]          \n",
      "__________________________________________________________________________________________________\n",
      "block6b_dwconv (DepthwiseConv2D (None, None, None, 1 40800       block6b_expand_activation[0][0]  \n",
      "__________________________________________________________________________________________________\n",
      "block6b_bn (BatchNormalization) (None, None, None, 1 6528        block6b_dwconv[0][0]             \n",
      "__________________________________________________________________________________________________\n",
      "block6b_activation (Activation) (None, None, None, 1 0           block6b_bn[0][0]                 \n",
      "__________________________________________________________________________________________________\n",
      "block6b_se_squeeze (GlobalAvera (None, 1632)         0           block6b_activation[0][0]         \n",
      "__________________________________________________________________________________________________\n",
      "block6b_se_reshape (Reshape)    (None, 1, 1, 1632)   0           block6b_se_squeeze[0][0]         \n",
      "__________________________________________________________________________________________________\n",
      "block6b_se_reduce (Conv2D)      (None, 1, 1, 68)     111044      block6b_se_reshape[0][0]         \n",
      "__________________________________________________________________________________________________\n",
      "block6b_se_expand (Conv2D)      (None, 1, 1, 1632)   112608      block6b_se_reduce[0][0]          \n",
      "__________________________________________________________________________________________________\n",
      "block6b_se_excite (Multiply)    (None, None, None, 1 0           block6b_activation[0][0]         \n",
      "                                                                 block6b_se_expand[0][0]          \n",
      "__________________________________________________________________________________________________\n",
      "block6b_project_conv (Conv2D)   (None, None, None, 2 443904      block6b_se_excite[0][0]          \n",
      "__________________________________________________________________________________________________\n",
      "block6b_project_bn (BatchNormal (None, None, None, 2 1088        block6b_project_conv[0][0]       \n",
      "__________________________________________________________________________________________________\n",
      "block6b_drop (Dropout)          (None, None, None, 2 0           block6b_project_bn[0][0]         \n",
      "__________________________________________________________________________________________________\n",
      "block6b_add (Add)               (None, None, None, 2 0           block6b_drop[0][0]               \n",
      "                                                                 block6a_project_bn[0][0]         \n",
      "__________________________________________________________________________________________________\n",
      "block6c_expand_conv (Conv2D)    (None, None, None, 1 443904      block6b_add[0][0]                \n",
      "__________________________________________________________________________________________________\n",
      "block6c_expand_bn (BatchNormali (None, None, None, 1 6528        block6c_expand_conv[0][0]        \n",
      "__________________________________________________________________________________________________\n",
      "block6c_expand_activation (Acti (None, None, None, 1 0           block6c_expand_bn[0][0]          \n",
      "__________________________________________________________________________________________________\n",
      "block6c_dwconv (DepthwiseConv2D (None, None, None, 1 40800       block6c_expand_activation[0][0]  \n",
      "__________________________________________________________________________________________________\n",
      "block6c_bn (BatchNormalization) (None, None, None, 1 6528        block6c_dwconv[0][0]             \n",
      "__________________________________________________________________________________________________\n",
      "block6c_activation (Activation) (None, None, None, 1 0           block6c_bn[0][0]                 \n",
      "__________________________________________________________________________________________________\n",
      "block6c_se_squeeze (GlobalAvera (None, 1632)         0           block6c_activation[0][0]         \n",
      "__________________________________________________________________________________________________\n",
      "block6c_se_reshape (Reshape)    (None, 1, 1, 1632)   0           block6c_se_squeeze[0][0]         \n",
      "__________________________________________________________________________________________________\n",
      "block6c_se_reduce (Conv2D)      (None, 1, 1, 68)     111044      block6c_se_reshape[0][0]         \n",
      "__________________________________________________________________________________________________\n",
      "block6c_se_expand (Conv2D)      (None, 1, 1, 1632)   112608      block6c_se_reduce[0][0]          \n",
      "__________________________________________________________________________________________________\n",
      "block6c_se_excite (Multiply)    (None, None, None, 1 0           block6c_activation[0][0]         \n",
      "                                                                 block6c_se_expand[0][0]          \n",
      "__________________________________________________________________________________________________\n",
      "block6c_project_conv (Conv2D)   (None, None, None, 2 443904      block6c_se_excite[0][0]          \n",
      "__________________________________________________________________________________________________\n",
      "block6c_project_bn (BatchNormal (None, None, None, 2 1088        block6c_project_conv[0][0]       \n",
      "__________________________________________________________________________________________________\n",
      "block6c_drop (Dropout)          (None, None, None, 2 0           block6c_project_bn[0][0]         \n",
      "__________________________________________________________________________________________________\n",
      "block6c_add (Add)               (None, None, None, 2 0           block6c_drop[0][0]               \n",
      "                                                                 block6b_add[0][0]                \n",
      "__________________________________________________________________________________________________\n",
      "block6d_expand_conv (Conv2D)    (None, None, None, 1 443904      block6c_add[0][0]                \n",
      "__________________________________________________________________________________________________\n",
      "block6d_expand_bn (BatchNormali (None, None, None, 1 6528        block6d_expand_conv[0][0]        \n",
      "__________________________________________________________________________________________________\n",
      "block6d_expand_activation (Acti (None, None, None, 1 0           block6d_expand_bn[0][0]          \n",
      "__________________________________________________________________________________________________\n",
      "block6d_dwconv (DepthwiseConv2D (None, None, None, 1 40800       block6d_expand_activation[0][0]  \n",
      "__________________________________________________________________________________________________\n",
      "block6d_bn (BatchNormalization) (None, None, None, 1 6528        block6d_dwconv[0][0]             \n",
      "__________________________________________________________________________________________________\n",
      "block6d_activation (Activation) (None, None, None, 1 0           block6d_bn[0][0]                 \n",
      "__________________________________________________________________________________________________\n",
      "block6d_se_squeeze (GlobalAvera (None, 1632)         0           block6d_activation[0][0]         \n",
      "__________________________________________________________________________________________________\n",
      "block6d_se_reshape (Reshape)    (None, 1, 1, 1632)   0           block6d_se_squeeze[0][0]         \n",
      "__________________________________________________________________________________________________\n",
      "block6d_se_reduce (Conv2D)      (None, 1, 1, 68)     111044      block6d_se_reshape[0][0]         \n",
      "__________________________________________________________________________________________________\n",
      "block6d_se_expand (Conv2D)      (None, 1, 1, 1632)   112608      block6d_se_reduce[0][0]          \n",
      "__________________________________________________________________________________________________\n",
      "block6d_se_excite (Multiply)    (None, None, None, 1 0           block6d_activation[0][0]         \n",
      "                                                                 block6d_se_expand[0][0]          \n",
      "__________________________________________________________________________________________________\n",
      "block6d_project_conv (Conv2D)   (None, None, None, 2 443904      block6d_se_excite[0][0]          \n",
      "__________________________________________________________________________________________________\n",
      "block6d_project_bn (BatchNormal (None, None, None, 2 1088        block6d_project_conv[0][0]       \n",
      "__________________________________________________________________________________________________\n",
      "block6d_drop (Dropout)          (None, None, None, 2 0           block6d_project_bn[0][0]         \n",
      "__________________________________________________________________________________________________\n",
      "block6d_add (Add)               (None, None, None, 2 0           block6d_drop[0][0]               \n",
      "                                                                 block6c_add[0][0]                \n",
      "__________________________________________________________________________________________________\n",
      "block6e_expand_conv (Conv2D)    (None, None, None, 1 443904      block6d_add[0][0]                \n",
      "__________________________________________________________________________________________________\n",
      "block6e_expand_bn (BatchNormali (None, None, None, 1 6528        block6e_expand_conv[0][0]        \n",
      "__________________________________________________________________________________________________\n",
      "block6e_expand_activation (Acti (None, None, None, 1 0           block6e_expand_bn[0][0]          \n",
      "__________________________________________________________________________________________________\n",
      "block6e_dwconv (DepthwiseConv2D (None, None, None, 1 40800       block6e_expand_activation[0][0]  \n",
      "__________________________________________________________________________________________________\n",
      "block6e_bn (BatchNormalization) (None, None, None, 1 6528        block6e_dwconv[0][0]             \n",
      "__________________________________________________________________________________________________\n",
      "block6e_activation (Activation) (None, None, None, 1 0           block6e_bn[0][0]                 \n",
      "__________________________________________________________________________________________________\n",
      "block6e_se_squeeze (GlobalAvera (None, 1632)         0           block6e_activation[0][0]         \n",
      "__________________________________________________________________________________________________\n",
      "block6e_se_reshape (Reshape)    (None, 1, 1, 1632)   0           block6e_se_squeeze[0][0]         \n",
      "__________________________________________________________________________________________________\n",
      "block6e_se_reduce (Conv2D)      (None, 1, 1, 68)     111044      block6e_se_reshape[0][0]         \n",
      "__________________________________________________________________________________________________\n",
      "block6e_se_expand (Conv2D)      (None, 1, 1, 1632)   112608      block6e_se_reduce[0][0]          \n",
      "__________________________________________________________________________________________________\n",
      "block6e_se_excite (Multiply)    (None, None, None, 1 0           block6e_activation[0][0]         \n",
      "                                                                 block6e_se_expand[0][0]          \n",
      "__________________________________________________________________________________________________\n",
      "block6e_project_conv (Conv2D)   (None, None, None, 2 443904      block6e_se_excite[0][0]          \n",
      "__________________________________________________________________________________________________\n",
      "block6e_project_bn (BatchNormal (None, None, None, 2 1088        block6e_project_conv[0][0]       \n",
      "__________________________________________________________________________________________________\n",
      "block6e_drop (Dropout)          (None, None, None, 2 0           block6e_project_bn[0][0]         \n",
      "__________________________________________________________________________________________________\n",
      "block6e_add (Add)               (None, None, None, 2 0           block6e_drop[0][0]               \n",
      "                                                                 block6d_add[0][0]                \n",
      "__________________________________________________________________________________________________\n",
      "block6f_expand_conv (Conv2D)    (None, None, None, 1 443904      block6e_add[0][0]                \n",
      "__________________________________________________________________________________________________\n",
      "block6f_expand_bn (BatchNormali (None, None, None, 1 6528        block6f_expand_conv[0][0]        \n",
      "__________________________________________________________________________________________________\n",
      "block6f_expand_activation (Acti (None, None, None, 1 0           block6f_expand_bn[0][0]          \n",
      "__________________________________________________________________________________________________\n",
      "block6f_dwconv (DepthwiseConv2D (None, None, None, 1 40800       block6f_expand_activation[0][0]  \n",
      "__________________________________________________________________________________________________\n",
      "block6f_bn (BatchNormalization) (None, None, None, 1 6528        block6f_dwconv[0][0]             \n",
      "__________________________________________________________________________________________________\n",
      "block6f_activation (Activation) (None, None, None, 1 0           block6f_bn[0][0]                 \n",
      "__________________________________________________________________________________________________\n",
      "block6f_se_squeeze (GlobalAvera (None, 1632)         0           block6f_activation[0][0]         \n",
      "__________________________________________________________________________________________________\n",
      "block6f_se_reshape (Reshape)    (None, 1, 1, 1632)   0           block6f_se_squeeze[0][0]         \n",
      "__________________________________________________________________________________________________\n",
      "block6f_se_reduce (Conv2D)      (None, 1, 1, 68)     111044      block6f_se_reshape[0][0]         \n",
      "__________________________________________________________________________________________________\n",
      "block6f_se_expand (Conv2D)      (None, 1, 1, 1632)   112608      block6f_se_reduce[0][0]          \n",
      "__________________________________________________________________________________________________\n",
      "block6f_se_excite (Multiply)    (None, None, None, 1 0           block6f_activation[0][0]         \n",
      "                                                                 block6f_se_expand[0][0]          \n",
      "__________________________________________________________________________________________________\n",
      "block6f_project_conv (Conv2D)   (None, None, None, 2 443904      block6f_se_excite[0][0]          \n",
      "__________________________________________________________________________________________________\n",
      "block6f_project_bn (BatchNormal (None, None, None, 2 1088        block6f_project_conv[0][0]       \n",
      "__________________________________________________________________________________________________\n",
      "block6f_drop (Dropout)          (None, None, None, 2 0           block6f_project_bn[0][0]         \n",
      "__________________________________________________________________________________________________\n",
      "block6f_add (Add)               (None, None, None, 2 0           block6f_drop[0][0]               \n",
      "                                                                 block6e_add[0][0]                \n",
      "__________________________________________________________________________________________________\n",
      "block6g_expand_conv (Conv2D)    (None, None, None, 1 443904      block6f_add[0][0]                \n",
      "__________________________________________________________________________________________________\n",
      "block6g_expand_bn (BatchNormali (None, None, None, 1 6528        block6g_expand_conv[0][0]        \n",
      "__________________________________________________________________________________________________\n",
      "block6g_expand_activation (Acti (None, None, None, 1 0           block6g_expand_bn[0][0]          \n",
      "__________________________________________________________________________________________________\n",
      "block6g_dwconv (DepthwiseConv2D (None, None, None, 1 40800       block6g_expand_activation[0][0]  \n",
      "__________________________________________________________________________________________________\n",
      "block6g_bn (BatchNormalization) (None, None, None, 1 6528        block6g_dwconv[0][0]             \n",
      "__________________________________________________________________________________________________\n",
      "block6g_activation (Activation) (None, None, None, 1 0           block6g_bn[0][0]                 \n",
      "__________________________________________________________________________________________________\n",
      "block6g_se_squeeze (GlobalAvera (None, 1632)         0           block6g_activation[0][0]         \n",
      "__________________________________________________________________________________________________\n",
      "block6g_se_reshape (Reshape)    (None, 1, 1, 1632)   0           block6g_se_squeeze[0][0]         \n",
      "__________________________________________________________________________________________________\n",
      "block6g_se_reduce (Conv2D)      (None, 1, 1, 68)     111044      block6g_se_reshape[0][0]         \n",
      "__________________________________________________________________________________________________\n",
      "block6g_se_expand (Conv2D)      (None, 1, 1, 1632)   112608      block6g_se_reduce[0][0]          \n",
      "__________________________________________________________________________________________________\n",
      "block6g_se_excite (Multiply)    (None, None, None, 1 0           block6g_activation[0][0]         \n",
      "                                                                 block6g_se_expand[0][0]          \n",
      "__________________________________________________________________________________________________\n",
      "block6g_project_conv (Conv2D)   (None, None, None, 2 443904      block6g_se_excite[0][0]          \n",
      "__________________________________________________________________________________________________\n",
      "block6g_project_bn (BatchNormal (None, None, None, 2 1088        block6g_project_conv[0][0]       \n",
      "__________________________________________________________________________________________________\n",
      "block6g_drop (Dropout)          (None, None, None, 2 0           block6g_project_bn[0][0]         \n",
      "__________________________________________________________________________________________________\n",
      "block6g_add (Add)               (None, None, None, 2 0           block6g_drop[0][0]               \n",
      "                                                                 block6f_add[0][0]                \n",
      "__________________________________________________________________________________________________\n",
      "block6h_expand_conv (Conv2D)    (None, None, None, 1 443904      block6g_add[0][0]                \n",
      "__________________________________________________________________________________________________\n",
      "block6h_expand_bn (BatchNormali (None, None, None, 1 6528        block6h_expand_conv[0][0]        \n",
      "__________________________________________________________________________________________________\n",
      "block6h_expand_activation (Acti (None, None, None, 1 0           block6h_expand_bn[0][0]          \n",
      "__________________________________________________________________________________________________\n",
      "block6h_dwconv (DepthwiseConv2D (None, None, None, 1 40800       block6h_expand_activation[0][0]  \n",
      "__________________________________________________________________________________________________\n",
      "block6h_bn (BatchNormalization) (None, None, None, 1 6528        block6h_dwconv[0][0]             \n",
      "__________________________________________________________________________________________________\n",
      "block6h_activation (Activation) (None, None, None, 1 0           block6h_bn[0][0]                 \n",
      "__________________________________________________________________________________________________\n",
      "block6h_se_squeeze (GlobalAvera (None, 1632)         0           block6h_activation[0][0]         \n",
      "__________________________________________________________________________________________________\n",
      "block6h_se_reshape (Reshape)    (None, 1, 1, 1632)   0           block6h_se_squeeze[0][0]         \n",
      "__________________________________________________________________________________________________\n",
      "block6h_se_reduce (Conv2D)      (None, 1, 1, 68)     111044      block6h_se_reshape[0][0]         \n",
      "__________________________________________________________________________________________________\n",
      "block6h_se_expand (Conv2D)      (None, 1, 1, 1632)   112608      block6h_se_reduce[0][0]          \n",
      "__________________________________________________________________________________________________\n",
      "block6h_se_excite (Multiply)    (None, None, None, 1 0           block6h_activation[0][0]         \n",
      "                                                                 block6h_se_expand[0][0]          \n",
      "__________________________________________________________________________________________________\n",
      "block6h_project_conv (Conv2D)   (None, None, None, 2 443904      block6h_se_excite[0][0]          \n",
      "__________________________________________________________________________________________________\n",
      "block6h_project_bn (BatchNormal (None, None, None, 2 1088        block6h_project_conv[0][0]       \n",
      "__________________________________________________________________________________________________\n",
      "block6h_drop (Dropout)          (None, None, None, 2 0           block6h_project_bn[0][0]         \n",
      "__________________________________________________________________________________________________\n",
      "block6h_add (Add)               (None, None, None, 2 0           block6h_drop[0][0]               \n",
      "                                                                 block6g_add[0][0]                \n",
      "__________________________________________________________________________________________________\n",
      "block7a_expand_conv (Conv2D)    (None, None, None, 1 443904      block6h_add[0][0]                \n",
      "__________________________________________________________________________________________________\n",
      "block7a_expand_bn (BatchNormali (None, None, None, 1 6528        block7a_expand_conv[0][0]        \n",
      "__________________________________________________________________________________________________\n",
      "block7a_expand_activation (Acti (None, None, None, 1 0           block7a_expand_bn[0][0]          \n",
      "__________________________________________________________________________________________________\n",
      "block7a_dwconv (DepthwiseConv2D (None, None, None, 1 14688       block7a_expand_activation[0][0]  \n",
      "__________________________________________________________________________________________________\n",
      "block7a_bn (BatchNormalization) (None, None, None, 1 6528        block7a_dwconv[0][0]             \n",
      "__________________________________________________________________________________________________\n",
      "block7a_activation (Activation) (None, None, None, 1 0           block7a_bn[0][0]                 \n",
      "__________________________________________________________________________________________________\n",
      "block7a_se_squeeze (GlobalAvera (None, 1632)         0           block7a_activation[0][0]         \n",
      "__________________________________________________________________________________________________\n",
      "block7a_se_reshape (Reshape)    (None, 1, 1, 1632)   0           block7a_se_squeeze[0][0]         \n",
      "__________________________________________________________________________________________________\n",
      "block7a_se_reduce (Conv2D)      (None, 1, 1, 68)     111044      block7a_se_reshape[0][0]         \n",
      "__________________________________________________________________________________________________\n",
      "block7a_se_expand (Conv2D)      (None, 1, 1, 1632)   112608      block7a_se_reduce[0][0]          \n",
      "__________________________________________________________________________________________________\n",
      "block7a_se_excite (Multiply)    (None, None, None, 1 0           block7a_activation[0][0]         \n",
      "                                                                 block7a_se_expand[0][0]          \n",
      "__________________________________________________________________________________________________\n",
      "block7a_project_conv (Conv2D)   (None, None, None, 4 731136      block7a_se_excite[0][0]          \n",
      "__________________________________________________________________________________________________\n",
      "block7a_project_bn (BatchNormal (None, None, None, 4 1792        block7a_project_conv[0][0]       \n",
      "__________________________________________________________________________________________________\n",
      "block7b_expand_conv (Conv2D)    (None, None, None, 2 1204224     block7a_project_bn[0][0]         \n",
      "__________________________________________________________________________________________________\n",
      "block7b_expand_bn (BatchNormali (None, None, None, 2 10752       block7b_expand_conv[0][0]        \n",
      "__________________________________________________________________________________________________\n",
      "block7b_expand_activation (Acti (None, None, None, 2 0           block7b_expand_bn[0][0]          \n",
      "__________________________________________________________________________________________________\n",
      "block7b_dwconv (DepthwiseConv2D (None, None, None, 2 24192       block7b_expand_activation[0][0]  \n",
      "__________________________________________________________________________________________________\n",
      "block7b_bn (BatchNormalization) (None, None, None, 2 10752       block7b_dwconv[0][0]             \n",
      "__________________________________________________________________________________________________\n",
      "block7b_activation (Activation) (None, None, None, 2 0           block7b_bn[0][0]                 \n",
      "__________________________________________________________________________________________________\n",
      "block7b_se_squeeze (GlobalAvera (None, 2688)         0           block7b_activation[0][0]         \n",
      "__________________________________________________________________________________________________\n",
      "block7b_se_reshape (Reshape)    (None, 1, 1, 2688)   0           block7b_se_squeeze[0][0]         \n",
      "__________________________________________________________________________________________________\n",
      "block7b_se_reduce (Conv2D)      (None, 1, 1, 112)    301168      block7b_se_reshape[0][0]         \n",
      "__________________________________________________________________________________________________\n",
      "block7b_se_expand (Conv2D)      (None, 1, 1, 2688)   303744      block7b_se_reduce[0][0]          \n",
      "__________________________________________________________________________________________________\n",
      "block7b_se_excite (Multiply)    (None, None, None, 2 0           block7b_activation[0][0]         \n",
      "                                                                 block7b_se_expand[0][0]          \n",
      "__________________________________________________________________________________________________\n",
      "block7b_project_conv (Conv2D)   (None, None, None, 4 1204224     block7b_se_excite[0][0]          \n",
      "__________________________________________________________________________________________________\n",
      "block7b_project_bn (BatchNormal (None, None, None, 4 1792        block7b_project_conv[0][0]       \n",
      "__________________________________________________________________________________________________\n",
      "block7b_drop (Dropout)          (None, None, None, 4 0           block7b_project_bn[0][0]         \n",
      "__________________________________________________________________________________________________\n",
      "block7b_add (Add)               (None, None, None, 4 0           block7b_drop[0][0]               \n",
      "                                                                 block7a_project_bn[0][0]         \n",
      "__________________________________________________________________________________________________\n",
      "top_conv (Conv2D)               (None, None, None, 1 802816      block7b_add[0][0]                \n",
      "__________________________________________________________________________________________________\n",
      "top_bn (BatchNormalization)     (None, None, None, 1 7168        top_conv[0][0]                   \n",
      "__________________________________________________________________________________________________\n",
      "top_activation (Activation)     (None, None, None, 1 0           top_bn[0][0]                     \n",
      "==================================================================================================\n",
      "Total params: 17,673,823\n",
      "Trainable params: 17,548,616\n",
      "Non-trainable params: 125,207\n",
      "__________________________________________________________________________________________________\n"
     ]
    }
   ],
   "source": [
    "image_model = tf.keras.applications.EfficientNetB4(include_top=False,weights='imagenet')\n",
    "\n",
    "new_input = image_model.input\n",
    "hidden_layer = image_model.layers[-1].output\n",
    "\n",
    "image_features_extract_model = tf.keras.Model(new_input, hidden_layer)\n",
    "image_features_extract_model.summary()\n"
   ]
  },
  {
   "cell_type": "markdown",
   "metadata": {
    "colab_type": "text",
    "id": "rERqlR3WRPGO"
   },
   "source": [
    "## Caching the features extracted from InceptionV3\n",
    "\n",
    "You will pre-process each image with InceptionV3 and cache the output to disk. Caching the output in RAM would be faster but also memory intensive, requiring 8 \\* 8 \\* 2048 floats per image. At the time of writing, this exceeds the memory limitations of Colab (currently 12GB of memory).\n",
    "\n",
    "Performance could be improved with a more sophisticated caching strategy (for example, by sharding the images to reduce random access disk I/O), but that would require more code.\n",
    "\n",
    "The caching will take about 10 minutes to run in Colab with a GPU. If you'd like to see a progress bar, you can: \n",
    "\n",
    "1. install [tqdm](https://github.com/tqdm/tqdm):\n",
    "\n",
    "    `!pip install tqdm`\n",
    "\n",
    "2. Import tqdm:\n",
    "\n",
    "    `from tqdm import tqdm`\n",
    "\n",
    "3. Change the following line:\n",
    "\n",
    "    `for img, path in image_dataset:`\n",
    "\n",
    "    to:\n",
    "\n",
    "    `for img, path in tqdm(image_dataset):`\n"
   ]
  },
  {
   "cell_type": "code",
   "execution_count": 106,
   "metadata": {
    "colab": {},
    "colab_type": "code",
    "id": "WX_fFWO0POom"
   },
   "outputs": [],
   "source": [
    "# !pip install tqdm"
   ]
  },
  {
   "cell_type": "code",
   "execution_count": 107,
   "metadata": {
    "colab": {},
    "colab_type": "code",
    "id": "5uimmiiQ_oYZ"
   },
   "outputs": [],
   "source": [
    "from tqdm import tqdm"
   ]
  },
  {
   "cell_type": "code",
   "execution_count": 108,
   "metadata": {
    "colab": {},
    "colab_type": "code",
    "id": "Dx_fvbVgRPGQ"
   },
   "outputs": [],
   "source": [
    "# Get unique images\n",
    "encode_train = sorted(set(img_name_vector))"
   ]
  },
  {
   "cell_type": "code",
   "execution_count": 109,
   "metadata": {
    "colab": {
     "base_uri": "https://localhost:8080/",
     "height": 34
    },
    "colab_type": "code",
    "id": "2WWAA3jN7sfd",
    "outputId": "93c7a2ea-79cc-4717-a4c6-e2e964bc95d8"
   },
   "outputs": [
    {
     "data": {
      "text/plain": [
       "480"
      ]
     },
     "execution_count": 109,
     "metadata": {},
     "output_type": "execute_result"
    }
   ],
   "source": [
    "len(encode_train) # "
   ]
  },
  {
   "cell_type": "code",
   "execution_count": 110,
   "metadata": {
    "colab": {
     "base_uri": "https://localhost:8080/",
     "height": 104
    },
    "colab_type": "code",
    "id": "Nl-O8D4B8O3v",
    "outputId": "e07c2516-18d7-47bf-a9ce-1168ef15bbe5"
   },
   "outputs": [
    {
     "data": {
      "text/plain": [
       "['/home/yurio/mainan_yurio/img_cap_to_icitda/img_caption_dl_textAnalytic/dataset_efficientNetB4/02jsutdihcmo58exvz7q.jpeg',\n",
       " '/home/yurio/mainan_yurio/img_cap_to_icitda/img_caption_dl_textAnalytic/dataset_efficientNetB4/04z6v1thy3xomadl5s7i.jpg',\n",
       " '/home/yurio/mainan_yurio/img_cap_to_icitda/img_caption_dl_textAnalytic/dataset_efficientNetB4/07ei89fazvcts1rdnuhb.jpg',\n",
       " '/home/yurio/mainan_yurio/img_cap_to_icitda/img_caption_dl_textAnalytic/dataset_efficientNetB4/0boltxze17pvqajg4ink.jpeg',\n",
       " '/home/yurio/mainan_yurio/img_cap_to_icitda/img_caption_dl_textAnalytic/dataset_efficientNetB4/0dkmsct9n2f63raxqp7v.jpg']"
      ]
     },
     "execution_count": 110,
     "metadata": {},
     "output_type": "execute_result"
    }
   ],
   "source": [
    "encode_train[:5]"
   ]
  },
  {
   "cell_type": "code",
   "execution_count": 111,
   "metadata": {
    "colab": {},
    "colab_type": "code",
    "id": "RNWvi_9T7qhy"
   },
   "outputs": [],
   "source": [
    "image_dataset = tf.data.Dataset.from_tensor_slices(encode_train)"
   ]
  },
  {
   "cell_type": "code",
   "execution_count": 112,
   "metadata": {
    "colab": {
     "base_uri": "https://localhost:8080/",
     "height": 34
    },
    "colab_type": "code",
    "id": "9fuNC3fs9DBp",
    "outputId": "514e5783-3160-4aca-cab4-ed7e67fab088"
   },
   "outputs": [
    {
     "data": {
      "text/plain": [
       "<TensorSliceDataset shapes: (), types: tf.string>"
      ]
     },
     "execution_count": 112,
     "metadata": {},
     "output_type": "execute_result"
    }
   ],
   "source": [
    "image_dataset"
   ]
  },
  {
   "cell_type": "code",
   "execution_count": 113,
   "metadata": {
    "colab": {},
    "colab_type": "code",
    "id": "RM-w5n558_dh"
   },
   "outputs": [],
   "source": [
    "image_dataset = image_dataset.map(\n",
    "  load_image, num_parallel_calls=tf.data.experimental.AUTOTUNE).batch(16) # map functional programming\n"
   ]
  },
  {
   "cell_type": "code",
   "execution_count": 114,
   "metadata": {
    "colab": {
     "base_uri": "https://localhost:8080/",
     "height": 34
    },
    "colab_type": "code",
    "id": "WuHJ7r5D_Pbr",
    "outputId": "7ebe02f8-d218-4d25-b0fe-d506038c676b"
   },
   "outputs": [
    {
     "data": {
      "text/plain": [
       "<BatchDataset shapes: ((None, 380, 380, 3), (None,)), types: (tf.float32, tf.string)>"
      ]
     },
     "execution_count": 114,
     "metadata": {},
     "output_type": "execute_result"
    }
   ],
   "source": [
    "image_dataset"
   ]
  },
  {
   "cell_type": "code",
   "execution_count": 115,
   "metadata": {
    "colab": {},
    "colab_type": "code",
    "id": "T-5dJ7fO9Btx"
   },
   "outputs": [],
   "source": [
    "# for img, path in tqdm(image_dataset):\n",
    "#   batch_features = image_features_extract_model(img) # image features extractor model\n",
    "#   batch_features = tf.reshape(batch_features,\n",
    "#                               (batch_features.shape[0], -1, batch_features.shape[3]))\n",
    "\n",
    "#   for bf, p in zip(batch_features, path): # bf : batch feature , p : path\n",
    "#     path_of_feature = p.numpy().decode(\"utf-8\")\n",
    "#     np.save(path_of_feature, bf.numpy())\n",
    "# # - `store the resulting vector` `in a dictionary` (image_name --> feature_vector).\n",
    "# # - you pickle the dictionary and save it to disk."
   ]
  },
  {
   "cell_type": "markdown",
   "metadata": {
    "colab_type": "text",
    "id": "nyqH3zFwRPFi"
   },
   "source": [
    "## Preprocess and tokenize the captions\n",
    "\n",
    "* First, you'll tokenize the captions (for example, by splitting on spaces). This gives us a  vocabulary of all of the unique words in the data (for example, \"surfing\", \"football\", and so on).\n",
    "* Next, you'll limit the vocabulary size to the top 5,000 words (to save memory). You'll replace all other words with the token \"UNK\" (unknown).\n",
    "* You then create word-to-index and index-to-word mappings.\n",
    "* Finally, you pad all sequences to be the same length as the longest one."
   ]
  },
  {
   "cell_type": "code",
   "execution_count": 116,
   "metadata": {
    "colab": {},
    "colab_type": "code",
    "id": "HZfK8RhQRPFj"
   },
   "outputs": [],
   "source": [
    "# Find the maximum length of any caption in our dataset\n",
    "def calc_max_length(tensor):\n",
    "    return max(len(t) for t in tensor)"
   ]
  },
  {
   "cell_type": "code",
   "execution_count": 117,
   "metadata": {
    "colab": {},
    "colab_type": "code",
    "id": "oJGE34aiRPFo"
   },
   "outputs": [],
   "source": [
    "# Choose the top 5000 words from the vocabulary\n",
    "top_k = 200\n",
    "tokenizer = tf.keras.preprocessing.text.Tokenizer(num_words=top_k,\n",
    "                                                  oov_token=\"<unk>\",\n",
    "                                                  filters='!\"#$%&()*+.,-/:;=?@[\\]^_`{|}~ ')\n",
    "tokenizer.fit_on_texts(train_captions)\n",
    "train_seqs = tokenizer.texts_to_sequences(train_captions)"
   ]
  },
  {
   "cell_type": "code",
   "execution_count": 118,
   "metadata": {
    "colab": {
     "base_uri": "https://localhost:8080/",
     "height": 104
    },
    "colab_type": "code",
    "id": "JtRJBtkuBv5q",
    "outputId": "11b3d3b0-a102-45bc-95f7-c28c2f3012b9"
   },
   "outputs": [
    {
     "data": {
      "text/plain": [
       "[[2, 17, 10, 87, 88, 89, 25, 26, 7, 3],\n",
       " [2, 51, 52, 7, 53, 54, 13, 55, 13, 3],\n",
       " [2, 11, 10, 43, 4, 5, 24, 3],\n",
       " [2, 60, 61, 29, 29, 32, 4, 5, 18, 3],\n",
       " [2, 14, 44, 36, 10, 45, 22, 46, 47, 3]]"
      ]
     },
     "execution_count": 118,
     "metadata": {},
     "output_type": "execute_result"
    }
   ],
   "source": [
    "train_seqs[:5]"
   ]
  },
  {
   "cell_type": "code",
   "execution_count": 119,
   "metadata": {
    "colab": {},
    "colab_type": "code",
    "id": "8Q44tNQVRPFt"
   },
   "outputs": [],
   "source": [
    "tokenizer.word_index['<pad>'] = 0\n",
    "tokenizer.index_word[0] = '<pad>'"
   ]
  },
  {
   "cell_type": "code",
   "execution_count": 120,
   "metadata": {
    "colab": {
     "base_uri": "https://localhost:8080/",
     "height": 34
    },
    "colab_type": "code",
    "id": "Sr055W_YD4R3",
    "outputId": "565a97bc-96c8-467b-86e7-76d15010eaa6"
   },
   "outputs": [
    {
     "data": {
      "text/plain": [
       "'<pad>'"
      ]
     },
     "execution_count": 120,
     "metadata": {},
     "output_type": "execute_result"
    }
   ],
   "source": [
    "tokenizer.index_word[0]"
   ]
  },
  {
   "cell_type": "code",
   "execution_count": 121,
   "metadata": {
    "colab": {
     "base_uri": "https://localhost:8080/",
     "height": 416
    },
    "colab_type": "code",
    "id": "t0Rx4CLlB85E",
    "outputId": "9e27054a-197e-4ae6-e464-fd1e29836de3"
   },
   "outputs": [
    {
     "name": "stdout",
     "output_type": "stream",
     "text": [
      "0 <unk> 1\n",
      "1 <start> 2\n",
      "2 <end> 3\n",
      "3 di 4\n",
      "4 tugu 5\n",
      "5 jeep 6\n",
      "6 gunung 7\n",
      "7 wisata 8\n",
      "8 malioboro 9\n",
      "9 yang 10\n",
      "10 sore 11\n",
      "----------\n",
      "0 1 <unk>\n",
      "1 2 <start>\n",
      "2 3 <end>\n",
      "3 4 di\n",
      "4 5 tugu\n",
      "5 6 jeep\n",
      "6 7 gunung\n",
      "7 8 wisata\n",
      "8 9 malioboro\n",
      "9 10 yang\n",
      "10 11 sore\n"
     ]
    }
   ],
   "source": [
    "# print(tokenizer.word_index.items()[:5])\n",
    "for i, (k,v) in enumerate(tokenizer.word_index.items()):\n",
    "  print(i,k,v)\n",
    "  if i == 10:\n",
    "    break\n",
    "# print(tokenizer.index_word.items()[:5])\n",
    "print(\"-\"*10)\n",
    "for i, (k,v) in enumerate(tokenizer.index_word.items()):\n",
    "  print(i,k,v)\n",
    "  if i == 10:\n",
    "    break"
   ]
  },
  {
   "cell_type": "code",
   "execution_count": 122,
   "metadata": {
    "colab": {
     "base_uri": "https://localhost:8080/",
     "height": 34
    },
    "colab_type": "code",
    "id": "1bUul5ljrelN",
    "outputId": "964ffa15-6539-4830-924a-bc27ecb8fea6"
   },
   "outputs": [
    {
     "data": {
      "text/plain": [
       "102"
      ]
     },
     "execution_count": 122,
     "metadata": {},
     "output_type": "execute_result"
    }
   ],
   "source": [
    "len(tokenizer.word_index.items())"
   ]
  },
  {
   "cell_type": "code",
   "execution_count": 123,
   "metadata": {
    "colab": {},
    "colab_type": "code",
    "id": "0fpJb5ojRPFv"
   },
   "outputs": [],
   "source": [
    "# Create the tokenized vectors\n",
    "train_seqs = tokenizer.texts_to_sequences(train_captions)"
   ]
  },
  {
   "cell_type": "code",
   "execution_count": 124,
   "metadata": {
    "colab": {
     "base_uri": "https://localhost:8080/",
     "height": 104
    },
    "colab_type": "code",
    "id": "LD8hcDo5KcJR",
    "outputId": "e76602de-6c6c-40c9-d14d-e54fec0a4eb4"
   },
   "outputs": [
    {
     "data": {
      "text/plain": [
       "[[2, 17, 10, 87, 88, 89, 25, 26, 7, 3],\n",
       " [2, 51, 52, 7, 53, 54, 13, 55, 13, 3],\n",
       " [2, 11, 10, 43, 4, 5, 24, 3],\n",
       " [2, 60, 61, 29, 29, 32, 4, 5, 18, 3],\n",
       " [2, 14, 44, 36, 10, 45, 22, 46, 47, 3]]"
      ]
     },
     "execution_count": 124,
     "metadata": {},
     "output_type": "execute_result"
    }
   ],
   "source": [
    "train_seqs[:5]"
   ]
  },
  {
   "cell_type": "code",
   "execution_count": 125,
   "metadata": {
    "colab": {},
    "colab_type": "code",
    "id": "AidglIZVRPF4"
   },
   "outputs": [],
   "source": [
    "# Pad each vector to the max_length of the captions\n",
    "# If you do not provide a max_length value, pad_sequences calculates it automatically\n",
    "cap_vector = tf.keras.preprocessing.sequence.pad_sequences(train_seqs, padding='post')"
   ]
  },
  {
   "cell_type": "code",
   "execution_count": 126,
   "metadata": {
    "colab": {
     "base_uri": "https://localhost:8080/",
     "height": 34
    },
    "colab_type": "code",
    "id": "xKlAHampKwlJ",
    "outputId": "728405bc-63e8-4c60-f490-dbca8c8b6668"
   },
   "outputs": [
    {
     "data": {
      "text/plain": [
       "(480, 13)"
      ]
     },
     "execution_count": 126,
     "metadata": {},
     "output_type": "execute_result"
    }
   ],
   "source": [
    "cap_vector.shape"
   ]
  },
  {
   "cell_type": "code",
   "execution_count": 127,
   "metadata": {
    "colab": {
     "base_uri": "https://localhost:8080/",
     "height": 104
    },
    "colab_type": "code",
    "id": "8YbiSQ40L3sR",
    "outputId": "7dd1ed2e-fccf-4d8a-9c6d-ad66b09e69fb"
   },
   "outputs": [
    {
     "data": {
      "text/plain": [
       "array([[ 2, 17, 10, 87, 88, 89, 25, 26,  7,  3,  0,  0,  0],\n",
       "       [ 2, 51, 52,  7, 53, 54, 13, 55, 13,  3,  0,  0,  0],\n",
       "       [ 2, 11, 10, 43,  4,  5, 24,  3,  0,  0,  0,  0,  0],\n",
       "       [ 2, 60, 61, 29, 29, 32,  4,  5, 18,  3,  0,  0,  0],\n",
       "       [ 2, 14, 44, 36, 10, 45, 22, 46, 47,  3,  0,  0,  0]], dtype=int32)"
      ]
     },
     "execution_count": 127,
     "metadata": {},
     "output_type": "execute_result"
    }
   ],
   "source": [
    "cap_vector[:5]"
   ]
  },
  {
   "cell_type": "code",
   "execution_count": 128,
   "metadata": {
    "colab": {},
    "colab_type": "code",
    "id": "gL0wkttkRPGA"
   },
   "outputs": [],
   "source": [
    "# Calculates the max_length, which is used to store the attention weights\n",
    "max_length = calc_max_length(train_seqs)"
   ]
  },
  {
   "cell_type": "code",
   "execution_count": 129,
   "metadata": {
    "colab": {
     "base_uri": "https://localhost:8080/",
     "height": 34
    },
    "colab_type": "code",
    "id": "kPGrUJzKK7Da",
    "outputId": "bcfc74d9-3183-4c76-bb1e-9e4f5dccc122"
   },
   "outputs": [
    {
     "data": {
      "text/plain": [
       "13"
      ]
     },
     "execution_count": 129,
     "metadata": {},
     "output_type": "execute_result"
    }
   ],
   "source": [
    "max_length"
   ]
  },
  {
   "cell_type": "markdown",
   "metadata": {
    "colab_type": "text",
    "id": "M3CD75nDpvTI"
   },
   "source": [
    "## Split the data into training and testing"
   ]
  },
  {
   "cell_type": "code",
   "execution_count": 130,
   "metadata": {
    "colab": {},
    "colab_type": "code",
    "id": "iS7DDMszRPGF"
   },
   "outputs": [],
   "source": [
    "# Create training and validation sets using an 80-20 split\n",
    "img_name_train, img_name_val, cap_train, cap_val = train_test_split(img_name_vector,\n",
    "                                                                    cap_vector,\n",
    "                                                                    test_size=0.2,\n",
    "                                                                    random_state=0)"
   ]
  },
  {
   "cell_type": "code",
   "execution_count": 131,
   "metadata": {
    "colab": {
     "base_uri": "https://localhost:8080/",
     "height": 34
    },
    "colab_type": "code",
    "id": "XmViPkRFRPGH",
    "outputId": "4873d346-a8eb-4697-98a0-ce30252db3b9"
   },
   "outputs": [
    {
     "data": {
      "text/plain": [
       "(384, 384, 96, 96)"
      ]
     },
     "execution_count": 131,
     "metadata": {},
     "output_type": "execute_result"
    }
   ],
   "source": [
    "len(img_name_train), len(cap_train), len(img_name_val), len(cap_val)"
   ]
  },
  {
   "cell_type": "code",
   "execution_count": 132,
   "metadata": {
    "colab": {
     "base_uri": "https://localhost:8080/",
     "height": 104
    },
    "colab_type": "code",
    "id": "m0H_zrIILb5p",
    "outputId": "a9f7f963-d871-4f0d-a99e-d2e7671d210f"
   },
   "outputs": [
    {
     "data": {
      "text/plain": [
       "['/home/yurio/mainan_yurio/img_cap_to_icitda/img_caption_dl_textAnalytic/dataset_efficientNetB4/whatsapp_image_2019-06-18_at_21.32.11.jpg',\n",
       " '/home/yurio/mainan_yurio/img_cap_to_icitda/img_caption_dl_textAnalytic/dataset_efficientNetB4/caozxvjw18reuq2h09tp.png',\n",
       " '/home/yurio/mainan_yurio/img_cap_to_icitda/img_caption_dl_textAnalytic/dataset_efficientNetB4/eod0f8y6bntahxzlw2uv.jpg',\n",
       " '/home/yurio/mainan_yurio/img_cap_to_icitda/img_caption_dl_textAnalytic/dataset_efficientNetB4/9nlpyqhv5mc2j743se8r.jpeg',\n",
       " '/home/yurio/mainan_yurio/img_cap_to_icitda/img_caption_dl_textAnalytic/dataset_efficientNetB4/Jalan-Malioboro-1280x720.jpg']"
      ]
     },
     "execution_count": 132,
     "metadata": {},
     "output_type": "execute_result"
    }
   ],
   "source": [
    "img_name_train[:5]"
   ]
  },
  {
   "cell_type": "code",
   "execution_count": 133,
   "metadata": {
    "colab": {
     "base_uri": "https://localhost:8080/",
     "height": 104
    },
    "colab_type": "code",
    "id": "Xgb4UPCJLhwb",
    "outputId": "228fa8d7-5a72-46e3-9d36-2f32e49d716c"
   },
   "outputs": [
    {
     "data": {
      "text/plain": [
       "array([[ 2, 17, 75,  9, 76, 77, 78, 15,  3,  0,  0,  0,  0],\n",
       "       [ 2, 37,  4, 28, 23,  6, 38,  3,  0,  0,  0,  0,  0],\n",
       "       [ 2, 37,  4, 28, 23,  6, 38,  3,  0,  0,  0,  0,  0],\n",
       "       [ 2,  6, 27, 16, 96,  4,  8, 21,  3,  0,  0,  0,  0],\n",
       "       [ 2, 17, 75,  9, 76, 77, 78, 15,  3,  0,  0,  0,  0]], dtype=int32)"
      ]
     },
     "execution_count": 133,
     "metadata": {},
     "output_type": "execute_result"
    }
   ],
   "source": [
    "cap_train[:5]"
   ]
  },
  {
   "cell_type": "markdown",
   "metadata": {
    "colab_type": "text",
    "id": "uEWM9xrYcg45"
   },
   "source": [
    "## Create a tf.data dataset for training\n"
   ]
  },
  {
   "cell_type": "markdown",
   "metadata": {
    "colab_type": "text",
    "id": "horagNvhhZiy"
   },
   "source": [
    " Our images and captions are ready! Next, let's create a tf.data dataset to use for training our model."
   ]
  },
  {
   "cell_type": "code",
   "execution_count": 134,
   "metadata": {
    "colab": {},
    "colab_type": "code",
    "id": "Q3TnZ1ToRPGV"
   },
   "outputs": [],
   "source": [
    "# Feel free to change these parameters according to your system's configuration\n",
    "\n",
    "BATCH_SIZE = 64\n",
    "BUFFER_SIZE = 1000\n",
    "embedding_dim = 256\n",
    "units = 512\n",
    "vocab_size = top_k + 1\n",
    "num_steps = len(img_name_train) // BATCH_SIZE  # 384 / 64"
   ]
  },
  {
   "cell_type": "code",
   "execution_count": 135,
   "metadata": {
    "colab": {
     "base_uri": "https://localhost:8080/",
     "height": 34
    },
    "colab_type": "code",
    "id": "_UTQsTOEN-TD",
    "outputId": "9200b728-5ee8-48f1-b804-fd10a2bc76d7"
   },
   "outputs": [
    {
     "data": {
      "text/plain": [
       "6"
      ]
     },
     "execution_count": 135,
     "metadata": {},
     "output_type": "execute_result"
    }
   ],
   "source": [
    "num_steps"
   ]
  },
  {
   "cell_type": "code",
   "execution_count": 136,
   "metadata": {
    "colab": {},
    "colab_type": "code",
    "id": "FTegIHPWN8mq"
   },
   "outputs": [],
   "source": [
    "# Shape of the vector extracted from InceptionV3 is (144, 448)\n",
    "# These two variables represent that vector shape\n",
    "features_shape = 448\n",
    "attention_features_shape = 121"
   ]
  },
  {
   "cell_type": "code",
   "execution_count": 137,
   "metadata": {
    "colab": {},
    "colab_type": "code",
    "id": "SmZS2N0bXG3T"
   },
   "outputs": [],
   "source": [
    "# Load the numpy files\n",
    "def map_func(img_name, cap):\n",
    "  img_tensor = np.load(img_name.decode('utf-8')+'.npy')\n",
    "  return img_tensor, cap"
   ]
  },
  {
   "cell_type": "code",
   "execution_count": 138,
   "metadata": {
    "colab": {},
    "colab_type": "code",
    "id": "FDF_Nm3tRPGZ"
   },
   "outputs": [],
   "source": [
    "dataset = tf.data.Dataset.from_tensor_slices((img_name_train, cap_train))"
   ]
  },
  {
   "cell_type": "code",
   "execution_count": 139,
   "metadata": {
    "colab": {
     "base_uri": "https://localhost:8080/",
     "height": 34
    },
    "colab_type": "code",
    "id": "uYreg76zPlNR",
    "outputId": "c3441105-1128-4c0f-c8b2-dac507165b27"
   },
   "outputs": [
    {
     "data": {
      "text/plain": [
       "<TensorSliceDataset shapes: ((), (13,)), types: (tf.string, tf.int32)>"
      ]
     },
     "execution_count": 139,
     "metadata": {},
     "output_type": "execute_result"
    }
   ],
   "source": [
    "dataset"
   ]
  },
  {
   "cell_type": "code",
   "execution_count": 140,
   "metadata": {
    "colab": {},
    "colab_type": "code",
    "id": "3ctKhAAePhsV"
   },
   "outputs": [],
   "source": [
    "# Use map to load the numpy files in parallel\n",
    "dataset = dataset.map(lambda item1, item2: tf.numpy_function(\n",
    "          map_func, [item1, item2], [tf.float32, tf.int32]),\n",
    "          num_parallel_calls=tf.data.experimental.AUTOTUNE)"
   ]
  },
  {
   "cell_type": "code",
   "execution_count": 141,
   "metadata": {
    "colab": {
     "base_uri": "https://localhost:8080/",
     "height": 34
    },
    "colab_type": "code",
    "id": "uV2ukIF8QlaB",
    "outputId": "d745615f-5274-4869-da4a-db77a7c35e96"
   },
   "outputs": [
    {
     "data": {
      "text/plain": [
       "<ParallelMapDataset shapes: (<unknown>, <unknown>), types: (tf.float32, tf.int32)>"
      ]
     },
     "execution_count": 141,
     "metadata": {},
     "output_type": "execute_result"
    }
   ],
   "source": [
    "dataset"
   ]
  },
  {
   "cell_type": "code",
   "execution_count": 142,
   "metadata": {
    "colab": {},
    "colab_type": "code",
    "id": "So9A-j6dPjlC"
   },
   "outputs": [],
   "source": [
    "# Shuffle and batch\n",
    "dataset = dataset.shuffle(BUFFER_SIZE).batch(BATCH_SIZE)"
   ]
  },
  {
   "cell_type": "code",
   "execution_count": 143,
   "metadata": {
    "colab": {
     "base_uri": "https://localhost:8080/",
     "height": 34
    },
    "colab_type": "code",
    "id": "gcmA0EryRV3i",
    "outputId": "f0baf20a-516c-4a33-9e13-756997fe5de8"
   },
   "outputs": [
    {
     "data": {
      "text/plain": [
       "<BatchDataset shapes: (<unknown>, <unknown>), types: (tf.float32, tf.int32)>"
      ]
     },
     "execution_count": 143,
     "metadata": {},
     "output_type": "execute_result"
    }
   ],
   "source": [
    "dataset"
   ]
  },
  {
   "cell_type": "code",
   "execution_count": 144,
   "metadata": {
    "colab": {},
    "colab_type": "code",
    "id": "JJZmNZX-RK3T"
   },
   "outputs": [],
   "source": [
    "dataset = dataset.prefetch(buffer_size=tf.data.experimental.AUTOTUNE)"
   ]
  },
  {
   "cell_type": "code",
   "execution_count": 145,
   "metadata": {
    "colab": {
     "base_uri": "https://localhost:8080/",
     "height": 34
    },
    "colab_type": "code",
    "id": "_ykagxpQRyu1",
    "outputId": "eafbb293-d055-4909-972b-31c687564026"
   },
   "outputs": [
    {
     "data": {
      "text/plain": [
       "<PrefetchDataset shapes: (<unknown>, <unknown>), types: (tf.float32, tf.int32)>"
      ]
     },
     "execution_count": 145,
     "metadata": {},
     "output_type": "execute_result"
    }
   ],
   "source": [
    "dataset"
   ]
  },
  {
   "cell_type": "markdown",
   "metadata": {
    "colab_type": "text",
    "id": "nrvoDphgRPGd"
   },
   "source": [
    "## Model\n",
    "\n",
    "Fun fact: the decoder below is identical to the one in the example for [Neural Machine Translation with Attention](../sequences/nmt_with_attention.ipynb).\n",
    "\n",
    "The model architecture is inspired by the [Show, Attend and Tell](https://arxiv.org/pdf/1502.03044.pdf) paper.\n",
    "\n",
    "* In this example, you extract the features from the lower convolutional layer of InceptionV3 giving us a vector of shape (8, 8, 2048).\n",
    "* You squash that to a shape of (64, 2048).\n",
    "* This vector is then passed through the CNN Encoder (which consists of a single Fully connected layer).\n",
    "* The RNN (here GRU) attends over the image to predict the next word."
   ]
  },
  {
   "cell_type": "code",
   "execution_count": 146,
   "metadata": {
    "colab": {},
    "colab_type": "code",
    "id": "ja2LFTMSdeV3"
   },
   "outputs": [],
   "source": [
    "class BahdanauAttention(tf.keras.Model):\n",
    "  def __init__(self, units):\n",
    "    super(BahdanauAttention, self).__init__()\n",
    "    self.W1 = tf.keras.layers.Dense(units)\n",
    "    self.W2 = tf.keras.layers.Dense(units)\n",
    "    self.V = tf.keras.layers.Dense(1)\n",
    "\n",
    "  def call(self, features, hidden):\n",
    "    # features(CNN_encoder output) shape == (batch_size, 64, embedding_dim)\n",
    "\n",
    "    # hidden shape == (batch_size, hidden_size)\n",
    "    # hidden_with_time_axis shape == (batch_size, 1, hidden_size)\n",
    "    hidden_with_time_axis = tf.expand_dims(hidden, 1)\n",
    "\n",
    "    # score shape == (batch_size, 64, hidden_size)\n",
    "    score = tf.nn.tanh(self.W1(features) + self.W2(hidden_with_time_axis)) # vector_size 512 + vector_size 512\n",
    "\n",
    "    # attention_weights shape == (batch_size, 64, 1) # from 512 --> 1 fc\n",
    "    # you get 1 at the last axis because you are applying score to self.V\n",
    "    attention_weights = tf.nn.softmax(self.V(score), axis=1)\n",
    "    print(\"attention_weights: \",attention_weights)\n",
    "\n",
    "    # context_vector shape after sum == (batch_size, hidden_size)\n",
    "    context_vector = attention_weights * features # dot_prod feature x attention\n",
    "    context_vector = tf.reduce_sum(context_vector, axis=1) # vector sum\n",
    "\n",
    "    return context_vector, attention_weights"
   ]
  },
  {
   "cell_type": "code",
   "execution_count": 147,
   "metadata": {
    "colab": {},
    "colab_type": "code",
    "id": "AZ7R1RxHRPGf"
   },
   "outputs": [],
   "source": [
    "class CNN_Encoder(tf.keras.Model):\n",
    "    # Since you have already extracted the features and dumped it using pickle\n",
    "    # This encoder passes those features through a Fully connected layer\n",
    "    def __init__(self, embedding_dim):\n",
    "        super(CNN_Encoder, self).__init__()\n",
    "        # shape after fc == (batch_size, 64, embedding_dim)\n",
    "        self.fc = tf.keras.layers.Dense(embedding_dim)\n",
    "\n",
    "    def call(self, x):\n",
    "        x = self.fc(x)\n",
    "        x = tf.nn.relu(x)\n",
    "        return x"
   ]
  },
  {
   "cell_type": "code",
   "execution_count": 148,
   "metadata": {
    "colab": {},
    "colab_type": "code",
    "id": "V9UbGQmERPGi"
   },
   "outputs": [],
   "source": [
    "class RNN_Decoder(tf.keras.Model):\n",
    "  def __init__(self, embedding_dim, units, vocab_size):\n",
    "    super(RNN_Decoder, self).__init__()\n",
    "    self.units = units\n",
    "\n",
    "    self.embedding = tf.keras.layers.Embedding(vocab_size, embedding_dim)\n",
    "    self.gru = tf.keras.layers.GRU(self.units,\n",
    "                                   return_sequences=True,\n",
    "                                   return_state=True,\n",
    "                                   recurrent_initializer='glorot_uniform')\n",
    "    self.fc1 = tf.keras.layers.Dense(self.units)\n",
    "    self.fc2 = tf.keras.layers.Dense(vocab_size)\n",
    "\n",
    "    self.attention = BahdanauAttention(self.units)\n",
    "\n",
    "  def call(self, x, features, hidden):\n",
    "    # defining attention as a separate model\n",
    "    context_vector, attention_weights = self.attention(features, hidden)\n",
    "\n",
    "    # x shape after passing through embedding == (batch_size, 1, embedding_dim)\n",
    "    x = self.embedding(x)\n",
    "\n",
    "    # x shape after concatenation == (batch_size, 1, embedding_dim + hidden_size)\n",
    "    x = tf.concat([tf.expand_dims(context_vector, 1), x], axis=-1)\n",
    "\n",
    "    # passing the concatenated vector to the GRU\n",
    "    output, state = self.gru(x)\n",
    "\n",
    "    # shape == (batch_size, max_length, hidden_size)\n",
    "    x = self.fc1(output)\n",
    "\n",
    "    # x shape == (batch_size * max_length, hidden_size)\n",
    "    x = tf.reshape(x, (-1, x.shape[2]))\n",
    "\n",
    "    # output shape == (batch_size * max_length, vocab)\n",
    "    x = self.fc2(x)\n",
    "\n",
    "    return x, state, attention_weights\n",
    "\n",
    "  def reset_state(self, batch_size):\n",
    "    return tf.zeros((batch_size, self.units))"
   ]
  },
  {
   "cell_type": "code",
   "execution_count": 149,
   "metadata": {
    "colab": {},
    "colab_type": "code",
    "id": "Qs_Sr03wRPGk"
   },
   "outputs": [],
   "source": [
    "encoder = CNN_Encoder(embedding_dim)\n",
    "decoder = RNN_Decoder(embedding_dim, units, vocab_size)"
   ]
  },
  {
   "cell_type": "code",
   "execution_count": 150,
   "metadata": {
    "colab": {},
    "colab_type": "code",
    "id": "-bYN7xA0RPGl"
   },
   "outputs": [],
   "source": [
    "optimizer = tf.keras.optimizers.Adam()\n",
    "loss_object = tf.keras.losses.SparseCategoricalCrossentropy(\n",
    "    from_logits=True, reduction='none')\n",
    "\n",
    "def loss_function(real, pred):\n",
    "  mask = tf.math.logical_not(tf.math.equal(real, 0))\n",
    "  loss_ = loss_object(real, pred)\n",
    "\n",
    "  mask = tf.cast(mask, dtype=loss_.dtype)\n",
    "  loss_ *= mask\n",
    "\n",
    "  return tf.reduce_mean(loss_)"
   ]
  },
  {
   "cell_type": "markdown",
   "metadata": {
    "colab_type": "text",
    "id": "6A3Ni64joyab"
   },
   "source": [
    "## Checkpoint"
   ]
  },
  {
   "cell_type": "code",
   "execution_count": 151,
   "metadata": {
    "colab": {},
    "colab_type": "code",
    "id": "PpJAqPMWo0uE"
   },
   "outputs": [],
   "source": [
    "checkpoint_path = PATH + \"/checkpoints/efficientNetB4\"\n",
    "ckpt = tf.train.Checkpoint(encoder=encoder,\n",
    "                           decoder=decoder,\n",
    "                           optimizer = optimizer)\n",
    "ckpt_manager = tf.train.CheckpointManager(ckpt, checkpoint_path, max_to_keep=5)"
   ]
  },
  {
   "cell_type": "code",
   "execution_count": 152,
   "metadata": {
    "colab": {},
    "colab_type": "code",
    "id": "fUkbqhc_uObw"
   },
   "outputs": [],
   "source": [
    "start_epoch = 0\n",
    "if ckpt_manager.latest_checkpoint:\n",
    "  start_epoch = int(ckpt_manager.latest_checkpoint.split('-')[-1])\n",
    "  # restoring the latest checkpoint in checkpoint_path\n",
    "  ckpt.restore(ckpt_manager.latest_checkpoint)"
   ]
  },
  {
   "cell_type": "markdown",
   "metadata": {
    "colab_type": "text",
    "id": "PHod7t72RPGn"
   },
   "source": [
    "## Training\n",
    "\n",
    "* You extract the features stored in the respective `.npy` files and then pass those features through the encoder.\n",
    "* The encoder output, hidden state(initialized to 0) and the decoder input (which is the start token) is passed to the decoder.\n",
    "* The decoder returns the predictions and the decoder hidden state.\n",
    "* The decoder hidden state is then passed back into the model and the predictions are used to calculate the loss.\n",
    "* Use teacher forcing to decide the next input to the decoder.\n",
    "* Teacher forcing is the technique where the target word is passed as the next input to the decoder.\n",
    "* The final step is to calculate the gradients and apply it to the optimizer and backpropagate.\n"
   ]
  },
  {
   "cell_type": "code",
   "execution_count": 153,
   "metadata": {
    "colab": {},
    "colab_type": "code",
    "id": "Vt4WZ5mhJE-E"
   },
   "outputs": [],
   "source": [
    "# adding this in a separate cell because if you run the training cell\n",
    "# many times, the loss_plot array will be reset\n",
    "loss_plot = []"
   ]
  },
  {
   "cell_type": "code",
   "execution_count": 154,
   "metadata": {
    "colab": {},
    "colab_type": "code",
    "id": "sqgyz2ANKlpU"
   },
   "outputs": [],
   "source": [
    "@tf.function\n",
    "def train_step(img_tensor, target): # input from img tensor, n target word captions\n",
    "  loss = 0\n",
    "\n",
    "  # initializing the hidden state for each batch\n",
    "  # because the captions are not related from image to image\n",
    "  hidden = decoder.reset_state(batch_size=target.shape[0])\n",
    "\n",
    "  dec_input = tf.expand_dims([tokenizer.word_index['<start>']] * target.shape[0], 1) # decide input\n",
    "  \n",
    "  print(\"target.shape[0]: \", target.shape[0])\n",
    "  print(\"dec_input: \", dec_input)\n",
    "\n",
    "  with tf.GradientTape() as tape:\n",
    "      features = encoder(img_tensor)  # 64 x 256\n",
    "      print(\"target.shape[1]: \", target.shape[1])\n",
    "\n",
    "      for i in range(1, target.shape[1]): # loop over the target\n",
    "          # passing the features through the decoder\n",
    "          # overwrite hidden from attention\n",
    "          predictions, hidden, _ = decoder(dec_input, features, hidden)\n",
    "          print(i)\n",
    "\n",
    "          loss += loss_function(target[:, i], predictions)\n",
    "          print(\"target[:, i]: \", target[:, i])\n",
    "\n",
    "          # using teacher forcing # overwrite new decide_input\n",
    "          dec_input = tf.expand_dims(target[:, i], 1)\n",
    "\n",
    "  total_loss = (loss / int(target.shape[1]))\n",
    "\n",
    "  trainable_variables = encoder.trainable_variables + decoder.trainable_variables\n",
    "\n",
    "  gradients = tape.gradient(loss, trainable_variables)\n",
    "\n",
    "  optimizer.apply_gradients(zip(gradients, trainable_variables))\n",
    "\n",
    "  return loss, total_loss"
   ]
  },
  {
   "cell_type": "code",
   "execution_count": 155,
   "metadata": {
    "colab": {
     "base_uri": "https://localhost:8080/",
     "height": 1000
    },
    "colab_type": "code",
    "id": "UlA4VIQpRPGo",
    "outputId": "776b2542-959d-482e-e743-b2d705717b98"
   },
   "outputs": [
    {
     "name": "stdout",
     "output_type": "stream",
     "text": [
      "target.shape[0]:  64\n",
      "dec_input:  Tensor(\"ExpandDims:0\", shape=(64, 1), dtype=int32)\n",
      "target.shape[1]:  13\n",
      "attention_weights:  Tensor(\"rnn__decoder_1/bahdanau_attention_1/transpose_1:0\", shape=(64, 121, 1), dtype=float32)\n",
      "1\n",
      "target[:, i]:  Tensor(\"strided_slice_1:0\", shape=(64,), dtype=int32)\n",
      "attention_weights:  Tensor(\"rnn__decoder_1/bahdanau_attention_1/transpose_3:0\", shape=(64, 121, 1), dtype=float32)\n",
      "2\n",
      "target[:, i]:  Tensor(\"strided_slice_4:0\", shape=(64,), dtype=int32)\n",
      "attention_weights:  Tensor(\"rnn__decoder_1/bahdanau_attention_1/transpose_5:0\", shape=(64, 121, 1), dtype=float32)\n",
      "3\n",
      "target[:, i]:  Tensor(\"strided_slice_7:0\", shape=(64,), dtype=int32)\n",
      "attention_weights:  Tensor(\"rnn__decoder_1/bahdanau_attention_1/transpose_7:0\", shape=(64, 121, 1), dtype=float32)\n",
      "4\n",
      "target[:, i]:  Tensor(\"strided_slice_10:0\", shape=(64,), dtype=int32)\n",
      "attention_weights:  Tensor(\"rnn__decoder_1/bahdanau_attention_1/transpose_9:0\", shape=(64, 121, 1), dtype=float32)\n",
      "5\n",
      "target[:, i]:  Tensor(\"strided_slice_13:0\", shape=(64,), dtype=int32)\n",
      "attention_weights:  Tensor(\"rnn__decoder_1/bahdanau_attention_1/transpose_11:0\", shape=(64, 121, 1), dtype=float32)\n",
      "6\n",
      "target[:, i]:  Tensor(\"strided_slice_16:0\", shape=(64,), dtype=int32)\n",
      "attention_weights:  Tensor(\"rnn__decoder_1/bahdanau_attention_1/transpose_13:0\", shape=(64, 121, 1), dtype=float32)\n",
      "7\n",
      "target[:, i]:  Tensor(\"strided_slice_19:0\", shape=(64,), dtype=int32)\n",
      "attention_weights:  Tensor(\"rnn__decoder_1/bahdanau_attention_1/transpose_15:0\", shape=(64, 121, 1), dtype=float32)\n",
      "8\n",
      "target[:, i]:  Tensor(\"strided_slice_22:0\", shape=(64,), dtype=int32)\n",
      "attention_weights:  Tensor(\"rnn__decoder_1/bahdanau_attention_1/transpose_17:0\", shape=(64, 121, 1), dtype=float32)\n",
      "9\n",
      "target[:, i]:  Tensor(\"strided_slice_25:0\", shape=(64,), dtype=int32)\n",
      "attention_weights:  Tensor(\"rnn__decoder_1/bahdanau_attention_1/transpose_19:0\", shape=(64, 121, 1), dtype=float32)\n",
      "10\n",
      "target[:, i]:  Tensor(\"strided_slice_28:0\", shape=(64,), dtype=int32)\n",
      "attention_weights:  Tensor(\"rnn__decoder_1/bahdanau_attention_1/transpose_21:0\", shape=(64, 121, 1), dtype=float32)\n",
      "11\n",
      "target[:, i]:  Tensor(\"strided_slice_31:0\", shape=(64,), dtype=int32)\n",
      "attention_weights:  Tensor(\"rnn__decoder_1/bahdanau_attention_1/transpose_23:0\", shape=(64, 121, 1), dtype=float32)\n",
      "12\n",
      "target[:, i]:  Tensor(\"strided_slice_34:0\", shape=(64,), dtype=int32)\n",
      "target.shape[0]:  64\n",
      "dec_input:  Tensor(\"ExpandDims:0\", shape=(64, 1), dtype=int32)\n",
      "target.shape[1]:  13\n",
      "attention_weights:  Tensor(\"rnn__decoder_1/bahdanau_attention_1/transpose_1:0\", shape=(64, 121, 1), dtype=float32)\n",
      "1\n",
      "target[:, i]:  Tensor(\"strided_slice_1:0\", shape=(64,), dtype=int32)\n",
      "attention_weights:  Tensor(\"rnn__decoder_1/bahdanau_attention_1/transpose_3:0\", shape=(64, 121, 1), dtype=float32)\n",
      "2\n",
      "target[:, i]:  Tensor(\"strided_slice_4:0\", shape=(64,), dtype=int32)\n",
      "attention_weights:  Tensor(\"rnn__decoder_1/bahdanau_attention_1/transpose_5:0\", shape=(64, 121, 1), dtype=float32)\n",
      "3\n",
      "target[:, i]:  Tensor(\"strided_slice_7:0\", shape=(64,), dtype=int32)\n",
      "attention_weights:  Tensor(\"rnn__decoder_1/bahdanau_attention_1/transpose_7:0\", shape=(64, 121, 1), dtype=float32)\n",
      "4\n",
      "target[:, i]:  Tensor(\"strided_slice_10:0\", shape=(64,), dtype=int32)\n",
      "attention_weights:  Tensor(\"rnn__decoder_1/bahdanau_attention_1/transpose_9:0\", shape=(64, 121, 1), dtype=float32)\n",
      "5\n",
      "target[:, i]:  Tensor(\"strided_slice_13:0\", shape=(64,), dtype=int32)\n",
      "attention_weights:  Tensor(\"rnn__decoder_1/bahdanau_attention_1/transpose_11:0\", shape=(64, 121, 1), dtype=float32)\n",
      "6\n",
      "target[:, i]:  Tensor(\"strided_slice_16:0\", shape=(64,), dtype=int32)\n",
      "attention_weights:  Tensor(\"rnn__decoder_1/bahdanau_attention_1/transpose_13:0\", shape=(64, 121, 1), dtype=float32)\n",
      "7\n",
      "target[:, i]:  Tensor(\"strided_slice_19:0\", shape=(64,), dtype=int32)\n",
      "attention_weights:  Tensor(\"rnn__decoder_1/bahdanau_attention_1/transpose_15:0\", shape=(64, 121, 1), dtype=float32)\n",
      "8\n",
      "target[:, i]:  Tensor(\"strided_slice_22:0\", shape=(64,), dtype=int32)\n",
      "attention_weights:  Tensor(\"rnn__decoder_1/bahdanau_attention_1/transpose_17:0\", shape=(64, 121, 1), dtype=float32)\n",
      "9\n",
      "target[:, i]:  Tensor(\"strided_slice_25:0\", shape=(64,), dtype=int32)\n",
      "attention_weights:  Tensor(\"rnn__decoder_1/bahdanau_attention_1/transpose_19:0\", shape=(64, 121, 1), dtype=float32)\n",
      "10\n",
      "target[:, i]:  Tensor(\"strided_slice_28:0\", shape=(64,), dtype=int32)\n",
      "attention_weights:  Tensor(\"rnn__decoder_1/bahdanau_attention_1/transpose_21:0\", shape=(64, 121, 1), dtype=float32)\n",
      "11\n",
      "target[:, i]:  Tensor(\"strided_slice_31:0\", shape=(64,), dtype=int32)\n",
      "attention_weights:  Tensor(\"rnn__decoder_1/bahdanau_attention_1/transpose_23:0\", shape=(64, 121, 1), dtype=float32)\n",
      "12\n",
      "target[:, i]:  Tensor(\"strided_slice_34:0\", shape=(64,), dtype=int32)\n",
      "Epoch 1 Batch 0 Loss 3.1250\n",
      "Epoch 1 Loss 2.794720\n",
      "Time taken for 1 epoch 8.050903081893921 sec\n",
      "\n",
      "Epoch 2 Batch 0 Loss 2.5242\n",
      "Epoch 2 Loss 2.300024\n",
      "Time taken for 1 epoch 1.1989173889160156 sec\n",
      "\n",
      "Epoch 3 Batch 0 Loss 2.0806\n",
      "Epoch 3 Loss 1.911801\n",
      "Time taken for 1 epoch 0.5390684604644775 sec\n",
      "\n",
      "Epoch 4 Batch 0 Loss 1.6757\n",
      "Epoch 4 Loss 1.706067\n",
      "Time taken for 1 epoch 1.3828949928283691 sec\n",
      "\n",
      "Epoch 5 Batch 0 Loss 1.5977\n",
      "Epoch 5 Loss 1.548840\n",
      "Time taken for 1 epoch 0.5187604427337646 sec\n",
      "\n"
     ]
    }
   ],
   "source": [
    "EPOCHS = 5\n",
    "\n",
    "for epoch in range(start_epoch, EPOCHS):\n",
    "    start = time.time()\n",
    "    total_loss = 0\n",
    "\n",
    "    for (batch, (img_tensor, target)) in enumerate(dataset):\n",
    "        batch_loss, t_loss = train_step(img_tensor, target)\n",
    "        total_loss += t_loss\n",
    "\n",
    "        if batch % 100 == 0:\n",
    "            print ('Epoch {} Batch {} Loss {:.4f}'.format(\n",
    "              epoch + 1, batch, batch_loss.numpy() / int(target.shape[1])))\n",
    "    # storing the epoch end loss value to plot later\n",
    "    loss_plot.append(total_loss / num_steps)\n",
    "\n",
    "    if epoch % 5 == 0:\n",
    "      ckpt_manager.save()\n",
    "\n",
    "    print ('Epoch {} Loss {:.6f}'.format(epoch + 1,\n",
    "                                         total_loss/num_steps))\n",
    "    print ('Time taken for 1 epoch {} sec\\n'.format(time.time() - start))"
   ]
  },
  {
   "cell_type": "code",
   "execution_count": 156,
   "metadata": {
    "colab": {
     "base_uri": "https://localhost:8080/",
     "height": 294
    },
    "colab_type": "code",
    "id": "1Wm83G-ZBPcC",
    "outputId": "2733cd4e-40c2-4c91-86ad-d522c1aae45a"
   },
   "outputs": [
    {
     "data": {
      "image/png": "[encoded data removed]",
      "text/plain": [
       "<Figure size 432x288 with 1 Axes>"
      ]
     },
     "metadata": {
      "needs_background": "light"
     },
     "output_type": "display_data"
    }
   ],
   "source": [
    "plt.plot(loss_plot)\n",
    "plt.xlabel('Epochs')\n",
    "plt.ylabel('Loss')\n",
    "plt.title('Loss Plot')\n",
    "plt.show()"
   ]
  },
  {
   "cell_type": "markdown",
   "metadata": {
    "colab_type": "text",
    "id": "xGvOcLQKghXN"
   },
   "source": [
    "## Caption!\n",
    "\n",
    "* The evaluate function is similar to the training loop, except you don't use teacher forcing here. The input to the decoder at each time step is its previous predictions along with the hidden state and the encoder output.\n",
    "* Stop predicting when the model predicts the end token.\n",
    "* And store the attention weights for every time step."
   ]
  },
  {
   "cell_type": "code",
   "execution_count": 157,
   "metadata": {
    "colab": {},
    "colab_type": "code",
    "id": "RCWpDtyNRPGs"
   },
   "outputs": [],
   "source": [
    "def evaluate(image):\n",
    "    attention_plot = np.zeros((max_length, attention_features_shape))\n",
    "\n",
    "    hidden = decoder.reset_state(batch_size=1)\n",
    "\n",
    "    temp_input = tf.expand_dims(load_image(image)[0], 0)\n",
    "    img_tensor_val = image_features_extract_model(temp_input)\n",
    "    img_tensor_val = tf.reshape(img_tensor_val, (img_tensor_val.shape[0], -1, img_tensor_val.shape[3]))\n",
    "\n",
    "    features = encoder(img_tensor_val)\n",
    "\n",
    "    dec_input = tf.expand_dims([tokenizer.word_index['<start>']], 0)\n",
    "    result = []\n",
    "\n",
    "    for i in range(max_length):\n",
    "        predictions, hidden, attention_weights = decoder(dec_input, features, hidden)\n",
    "\n",
    "        attention_plot[i] = tf.reshape(attention_weights, (-1, )).numpy()\n",
    "\n",
    "        predicted_id = tf.random.categorical(predictions, 1)[0][0].numpy()\n",
    "        result.append(tokenizer.index_word[predicted_id])\n",
    "\n",
    "        if tokenizer.index_word[predicted_id] == '<end>':\n",
    "            return result, attention_plot\n",
    "\n",
    "        dec_input = tf.expand_dims([predicted_id], 0)\n",
    "\n",
    "    attention_plot = attention_plot[:len(result), :]\n",
    "    return result, attention_plot"
   ]
  },
  {
   "cell_type": "code",
   "execution_count": 158,
   "metadata": {
    "colab": {},
    "colab_type": "code",
    "id": "fD_y7PD6RPGt"
   },
   "outputs": [],
   "source": [
    "def plot_attention(image, result, attention_plot):\n",
    "    temp_image = np.array(Image.open(image))\n",
    "\n",
    "    fig = plt.figure(figsize=(10, 10))\n",
    "\n",
    "    len_result = len(result)\n",
    "    for l in range(len_result):\n",
    "        temp_att = np.resize(attention_plot[l], (8, 8))\n",
    "        ax = fig.add_subplot(len_result//2, len_result//2, l+1)\n",
    "        ax.set_title(result[l])\n",
    "        img = ax.imshow(temp_image)\n",
    "        ax.imshow(temp_att, cmap='gray', alpha=0.6, extent=img.get_extent())\n",
    "\n",
    "    plt.tight_layout()\n",
    "    plt.show()"
   ]
  },
  {
   "cell_type": "code",
   "execution_count": 159,
   "metadata": {
    "colab": {
     "base_uri": "https://localhost:8080/",
     "height": 1000
    },
    "colab_type": "code",
    "id": "7x8RiPHe_4qI",
    "outputId": "4ec7dfb6-0cf9-431a-edbb-f47391d87936"
   },
   "outputs": [
    {
     "name": "stdout",
     "output_type": "stream",
     "text": [
      "attention_weights:  tf.Tensor(\n",
      "[[[6.2897954e-08]\n",
      "  [1.6122348e-08]\n",
      "  [2.5291119e-08]\n",
      "  [2.7673632e-08]\n",
      "  [3.1808565e-08]\n",
      "  [4.8507083e-08]\n",
      "  [3.1189839e-07]\n",
      "  [2.5697567e-05]\n",
      "  [3.3251365e-06]\n",
      "  [4.3898729e-07]\n",
      "  [4.6322743e-06]\n",
      "  [1.8952507e-08]\n",
      "  [4.1372243e-08]\n",
      "  [3.5000035e-08]\n",
      "  [1.7790425e-07]\n",
      "  [2.2221349e-07]\n",
      "  [2.2206648e-05]\n",
      "  [4.2845054e-06]\n",
      "  [1.7044902e-03]\n",
      "  [2.2466238e-04]\n",
      "  [4.4423717e-04]\n",
      "  [2.3994298e-06]\n",
      "  [3.1865827e-08]\n",
      "  [1.6611560e-07]\n",
      "  [1.2233660e-06]\n",
      "  [2.0461478e-06]\n",
      "  [1.4033046e-04]\n",
      "  [2.8629678e-05]\n",
      "  [2.0761613e-03]\n",
      "  [3.4478665e-04]\n",
      "  [1.3118446e-03]\n",
      "  [5.0755130e-04]\n",
      "  [1.9317277e-03]\n",
      "  [2.2635567e-07]\n",
      "  [1.1147993e-06]\n",
      "  [4.9774862e-05]\n",
      "  [1.5231218e-03]\n",
      "  [6.5172026e-06]\n",
      "  [1.9472841e-02]\n",
      "  [7.8553855e-03]\n",
      "  [1.9827200e-02]\n",
      "  [1.9916850e-03]\n",
      "  [7.3767178e-02]\n",
      "  [3.5615202e-02]\n",
      "  [6.9804946e-07]\n",
      "  [1.8654986e-04]\n",
      "  [1.9989081e-04]\n",
      "  [5.5498839e-04]\n",
      "  [3.2517646e-02]\n",
      "  [1.9471811e-02]\n",
      "  [1.4892137e-02]\n",
      "  [1.2415500e-02]\n",
      "  [3.9406963e-02]\n",
      "  [1.3637391e-01]\n",
      "  [1.0395955e-01]\n",
      "  [2.0145733e-06]\n",
      "  [3.5587643e-04]\n",
      "  [4.6133394e-03]\n",
      "  [3.1637311e-02]\n",
      "  [6.7759734e-03]\n",
      "  [7.5577926e-03]\n",
      "  [1.1676079e-02]\n",
      "  [1.4574849e-02]\n",
      "  [3.3725627e-02]\n",
      "  [1.2229988e-01]\n",
      "  [3.0907996e-02]\n",
      "  [7.4446289e-05]\n",
      "  [5.1977127e-03]\n",
      "  [1.7807582e-02]\n",
      "  [2.3974333e-02]\n",
      "  [9.4757724e-04]\n",
      "  [2.5108478e-03]\n",
      "  [1.9250206e-03]\n",
      "  [3.2475062e-03]\n",
      "  [7.6605636e-03]\n",
      "  [3.7053127e-02]\n",
      "  [1.1732315e-02]\n",
      "  [6.1057394e-06]\n",
      "  [6.5731932e-04]\n",
      "  [2.3889737e-03]\n",
      "  [6.9079502e-03]\n",
      "  [2.6597427e-03]\n",
      "  [1.5081149e-03]\n",
      "  [1.0996980e-03]\n",
      "  [1.2142685e-03]\n",
      "  [6.0250964e-03]\n",
      "  [1.6829623e-02]\n",
      "  [1.8775150e-02]\n",
      "  [3.2774130e-07]\n",
      "  [1.9933370e-06]\n",
      "  [9.0247568e-06]\n",
      "  [4.3508000e-05]\n",
      "  [4.4787941e-03]\n",
      "  [5.6803022e-03]\n",
      "  [7.4333430e-04]\n",
      "  [2.7463920e-03]\n",
      "  [1.4991140e-03]\n",
      "  [3.2718951e-04]\n",
      "  [2.0609908e-04]\n",
      "  [3.3667058e-07]\n",
      "  [1.1303609e-06]\n",
      "  [5.2825266e-07]\n",
      "  [1.5663157e-03]\n",
      "  [7.8495983e-03]\n",
      "  [4.6833353e-03]\n",
      "  [2.4101916e-03]\n",
      "  [1.5362196e-03]\n",
      "  [2.0541043e-03]\n",
      "  [1.1973535e-05]\n",
      "  [1.4796378e-06]\n",
      "  [4.5781103e-08]\n",
      "  [2.4203354e-07]\n",
      "  [1.9205024e-07]\n",
      "  [1.3428175e-05]\n",
      "  [2.6691587e-06]\n",
      "  [7.4695701e-05]\n",
      "  [8.1961520e-04]\n",
      "  [3.5700650e-05]\n",
      "  [6.7868825e-08]\n",
      "  [3.3632401e-07]\n",
      "  [8.7430323e-08]]], shape=(1, 121, 1), dtype=float32)\n",
      "attention_weights:  tf.Tensor(\n",
      "[[[1.2977110e-07]\n",
      "  [1.5641094e-08]\n",
      "  [3.1684618e-08]\n",
      "  [3.9642732e-08]\n",
      "  [5.0134332e-08]\n",
      "  [9.5170464e-08]\n",
      "  [1.1504787e-06]\n",
      "  [1.4765546e-04]\n",
      "  [1.7787477e-05]\n",
      "  [1.6869401e-06]\n",
      "  [2.9787905e-05]\n",
      "  [2.2049527e-08]\n",
      "  [7.5508794e-08]\n",
      "  [5.9832082e-08]\n",
      "  [5.7793454e-07]\n",
      "  [7.7694057e-07]\n",
      "  [1.7559572e-04]\n",
      "  [3.0228877e-05]\n",
      "  [6.0233232e-03]\n",
      "  [1.1645193e-03]\n",
      "  [2.0590806e-03]\n",
      "  [1.3680703e-05]\n",
      "  [5.0918054e-08]\n",
      "  [5.7993049e-07]\n",
      "  [6.7794244e-06]\n",
      "  [1.0904482e-05]\n",
      "  [8.3875749e-04]\n",
      "  [1.9967640e-04]\n",
      "  [4.6084612e-03]\n",
      "  [1.9687037e-03]\n",
      "  [5.5233175e-03]\n",
      "  [2.1110254e-03]\n",
      "  [6.4558117e-03]\n",
      "  [6.0489907e-07]\n",
      "  [4.5398547e-06]\n",
      "  [2.4690686e-04]\n",
      "  [4.3231756e-03]\n",
      "  [2.2769480e-05]\n",
      "  [1.3564838e-02]\n",
      "  [8.2979370e-03]\n",
      "  [1.6883792e-02]\n",
      "  [4.7921510e-03]\n",
      "  [3.7732322e-02]\n",
      "  [3.5643455e-02]\n",
      "  [2.1553074e-06]\n",
      "  [7.1886549e-04]\n",
      "  [7.4906222e-04]\n",
      "  [1.8509012e-03]\n",
      "  [4.2777449e-02]\n",
      "  [2.6003452e-02]\n",
      "  [1.1136688e-02]\n",
      "  [1.5974479e-02]\n",
      "  [3.6148693e-02]\n",
      "  [4.7927387e-02]\n",
      "  [5.4541737e-02]\n",
      "  [8.6105392e-06]\n",
      "  [1.3937545e-03]\n",
      "  [1.1530207e-02]\n",
      "  [4.3350600e-02]\n",
      "  [1.4554724e-02]\n",
      "  [1.2651057e-02]\n",
      "  [1.2749162e-02]\n",
      "  [2.3650009e-02]\n",
      "  [5.2857872e-02]\n",
      "  [8.9577988e-02]\n",
      "  [4.9510393e-02]\n",
      "  [3.7103539e-04]\n",
      "  [1.2209443e-02]\n",
      "  [2.3262575e-02]\n",
      "  [3.1303812e-02]\n",
      "  [3.8128812e-03]\n",
      "  [4.0710391e-03]\n",
      "  [1.0181849e-03]\n",
      "  [4.8645260e-03]\n",
      "  [2.0200180e-02]\n",
      "  [4.6266817e-02]\n",
      "  [2.3064777e-02]\n",
      "  [2.9067221e-05]\n",
      "  [2.2808905e-03]\n",
      "  [5.2140141e-03]\n",
      "  [1.4406518e-02]\n",
      "  [2.8316586e-03]\n",
      "  [2.0283448e-04]\n",
      "  [8.3299608e-05]\n",
      "  [2.3673555e-04]\n",
      "  [1.0818144e-02]\n",
      "  [2.7988769e-02]\n",
      "  [3.3181459e-02]\n",
      "  [9.3684753e-07]\n",
      "  [8.9722635e-06]\n",
      "  [4.1621151e-05]\n",
      "  [2.3778780e-04]\n",
      "  [1.5054645e-03]\n",
      "  [5.4749014e-04]\n",
      "  [6.7474066e-05]\n",
      "  [6.1766792e-04]\n",
      "  [3.6754773e-03]\n",
      "  [1.0098568e-03]\n",
      "  [7.0459081e-04]\n",
      "  [9.5209720e-07]\n",
      "  [4.7549283e-06]\n",
      "  [1.9483227e-06]\n",
      "  [6.0218237e-03]\n",
      "  [4.0327050e-03]\n",
      "  [9.8410167e-04]\n",
      "  [2.8676682e-04]\n",
      "  [5.8676820e-04]\n",
      "  [5.4610777e-03]\n",
      "  [3.9668263e-05]\n",
      "  [5.2413316e-06]\n",
      "  [7.3822619e-08]\n",
      "  [6.6774419e-07]\n",
      "  [4.6993409e-07]\n",
      "  [5.0186027e-05]\n",
      "  [1.2212371e-05]\n",
      "  [3.7393812e-04]\n",
      "  [3.2392389e-03]\n",
      "  [1.9200311e-04]\n",
      "  [1.4008256e-07]\n",
      "  [9.1101623e-07]\n",
      "  [1.8665664e-07]]], shape=(1, 121, 1), dtype=float32)\n",
      "attention_weights:  tf.Tensor(\n",
      "[[[1.0934173e-07]\n",
      "  [1.4000944e-08]\n",
      "  [2.7783408e-08]\n",
      "  [3.4486444e-08]\n",
      "  [4.3449891e-08]\n",
      "  [8.1198777e-08]\n",
      "  [9.4698743e-07]\n",
      "  [1.2472738e-04]\n",
      "  [1.4591311e-05]\n",
      "  [1.3841037e-06]\n",
      "  [2.4514882e-05]\n",
      "  [1.9415786e-08]\n",
      "  [6.4565597e-08]\n",
      "  [5.1532567e-08]\n",
      "  [4.8130778e-07]\n",
      "  [6.4600982e-07]\n",
      "  [1.5059802e-04]\n",
      "  [2.5266163e-05]\n",
      "  [5.7336665e-03]\n",
      "  [1.0402309e-03]\n",
      "  [1.8809977e-03]\n",
      "  [1.1253934e-05]\n",
      "  [4.3750934e-08]\n",
      "  [4.7661541e-07]\n",
      "  [5.5214773e-06]\n",
      "  [9.0161302e-06]\n",
      "  [7.5105519e-04]\n",
      "  [1.7464577e-04]\n",
      "  [4.4466793e-03]\n",
      "  [1.7887549e-03]\n",
      "  [5.1267580e-03]\n",
      "  [1.9397207e-03]\n",
      "  [6.1038667e-03]\n",
      "  [5.0020412e-07]\n",
      "  [3.7341554e-06]\n",
      "  [2.1076371e-04]\n",
      "  [4.0084729e-03]\n",
      "  [1.9372164e-05]\n",
      "  [1.4091112e-02]\n",
      "  [8.3673755e-03]\n",
      "  [1.7144000e-02]\n",
      "  [4.5055943e-03]\n",
      "  [4.0597323e-02]\n",
      "  [3.6515597e-02]\n",
      "  [1.7784196e-06]\n",
      "  [6.3234358e-04]\n",
      "  [6.5520569e-04]\n",
      "  [1.6202778e-03]\n",
      "  [4.2479344e-02]\n",
      "  [2.6089875e-02]\n",
      "  [1.1595476e-02]\n",
      "  [1.6048998e-02]\n",
      "  [3.7191153e-02]\n",
      "  [5.2663803e-02]\n",
      "  [5.8267731e-02]\n",
      "  [7.1127565e-06]\n",
      "  [1.2366963e-03]\n",
      "  [1.0661889e-02]\n",
      "  [4.2275775e-02]\n",
      "  [1.3733013e-02]\n",
      "  [1.2650383e-02]\n",
      "  [1.3277074e-02]\n",
      "  [2.4013031e-02]\n",
      "  [5.3099480e-02]\n",
      "  [9.3904875e-02]\n",
      "  [4.8392419e-02]\n",
      "  [3.2543027e-04]\n",
      "  [1.1405563e-02]\n",
      "  [2.2473427e-02]\n",
      "  [3.0393757e-02]\n",
      "  [3.4369205e-03]\n",
      "  [4.0025651e-03]\n",
      "  [1.0613684e-03]\n",
      "  [4.7827354e-03]\n",
      "  [1.9378476e-02]\n",
      "  [4.5227390e-02]\n",
      "  [2.1566546e-02]\n",
      "  [2.4761455e-05]\n",
      "  [2.0814452e-03]\n",
      "  [4.8929662e-03]\n",
      "  [1.3487572e-02]\n",
      "  [2.6782048e-03]\n",
      "  [2.2543185e-04]\n",
      "  [9.7580400e-05]\n",
      "  [2.5771532e-04]\n",
      "  [1.0202278e-02]\n",
      "  [2.6586365e-02]\n",
      "  [3.1229360e-02]\n",
      "  [7.8021441e-07]\n",
      "  [7.5553689e-06]\n",
      "  [3.5738882e-05]\n",
      "  [2.0775778e-04]\n",
      "  [1.6191322e-03]\n",
      "  [6.5757247e-04]\n",
      "  [7.8845434e-05]\n",
      "  [6.7418948e-04]\n",
      "  [3.4710246e-03]\n",
      "  [9.0944784e-04]\n",
      "  [6.2260119e-04]\n",
      "  [7.9344704e-07]\n",
      "  [3.9603592e-06]\n",
      "  [1.6352756e-06]\n",
      "  [5.4955864e-03]\n",
      "  [4.2370846e-03]\n",
      "  [1.1139766e-03]\n",
      "  [3.3417987e-04]\n",
      "  [6.0755195e-04]\n",
      "  [5.2236333e-03]\n",
      "  [3.4980141e-05]\n",
      "  [4.5009233e-06]\n",
      "  [6.2920101e-08]\n",
      "  [5.5252985e-07]\n",
      "  [3.9255184e-07]\n",
      "  [4.2547432e-05]\n",
      "  [1.0084855e-05]\n",
      "  [3.2897570e-04]\n",
      "  [2.9707102e-03]\n",
      "  [1.6737536e-04]\n",
      "  [1.1934206e-07]\n",
      "  [7.7756403e-07]\n",
      "  [1.5804147e-07]]], shape=(1, 121, 1), dtype=float32)\n",
      "attention_weights:  tf.Tensor(\n",
      "[[[1.07297609e-07]\n",
      "  [1.38291432e-08]\n",
      "  [2.73353411e-08]\n",
      "  [3.38494175e-08]\n",
      "  [4.27235349e-08]\n",
      "  [7.94184558e-08]\n",
      "  [9.19867716e-07]\n",
      "  [1.21815494e-04]\n",
      "  [1.42418858e-05]\n",
      "  [1.35199673e-06]\n",
      "  [2.38141438e-05]\n",
      "  [1.90865670e-08]\n",
      "  [6.33901678e-08]\n",
      "  [5.05378424e-08]\n",
      "  [4.69687592e-07]\n",
      "  [6.29323608e-07]\n",
      "  [1.42755336e-04]\n",
      "  [2.37575932e-05]\n",
      "  [5.55420388e-03]\n",
      "  [1.03603327e-03]\n",
      "  [1.88316428e-03]\n",
      "  [1.09837492e-05]\n",
      "  [4.27212541e-08]\n",
      "  [4.65458584e-07]\n",
      "  [5.43550459e-06]\n",
      "  [8.87571878e-06]\n",
      "  [7.35173817e-04]\n",
      "  [1.63625562e-04]\n",
      "  [4.32100473e-03]\n",
      "  [1.71674055e-03]\n",
      "  [5.10034198e-03]\n",
      "  [1.94758654e-03]\n",
      "  [6.00208249e-03]\n",
      "  [4.92961249e-07]\n",
      "  [3.69194527e-06]\n",
      "  [2.10219034e-04]\n",
      "  [3.99403367e-03]\n",
      "  [1.92940934e-05]\n",
      "  [1.42854778e-02]\n",
      "  [8.29273742e-03]\n",
      "  [1.72062367e-02]\n",
      "  [4.43912344e-03]\n",
      "  [4.15185317e-02]\n",
      "  [3.71399969e-02]\n",
      "  [1.73647834e-06]\n",
      "  [6.20389648e-04]\n",
      "  [6.42712810e-04]\n",
      "  [1.61269249e-03]\n",
      "  [4.28410508e-02]\n",
      "  [2.60541849e-02]\n",
      "  [1.13844667e-02]\n",
      "  [1.58531684e-02]\n",
      "  [3.76986824e-02]\n",
      "  [5.52370399e-02]\n",
      "  [6.01898953e-02]\n",
      "  [6.92519143e-06]\n",
      "  [1.20170962e-03]\n",
      "  [1.04752574e-02]\n",
      "  [4.24219593e-02]\n",
      "  [1.34151010e-02]\n",
      "  [1.23338671e-02]\n",
      "  [1.28468359e-02]\n",
      "  [2.34369505e-02]\n",
      "  [5.29408492e-02]\n",
      "  [9.59697813e-02]\n",
      "  [4.85280007e-02]\n",
      "  [3.14839242e-04]\n",
      "  [1.10261552e-02]\n",
      "  [2.20339689e-02]\n",
      "  [2.98695620e-02]\n",
      "  [3.19894240e-03]\n",
      "  [3.84946843e-03]\n",
      "  [1.01798819e-03]\n",
      "  [4.50483663e-03]\n",
      "  [1.85344443e-02]\n",
      "  [4.49966937e-02]\n",
      "  [2.14924812e-02]\n",
      "  [2.41231373e-05]\n",
      "  [2.00380851e-03]\n",
      "  [4.73280950e-03]\n",
      "  [1.31662861e-02]\n",
      "  [2.65648658e-03]\n",
      "  [2.27319513e-04]\n",
      "  [1.01380232e-04]\n",
      "  [2.58432323e-04]\n",
      "  [9.90453176e-03]\n",
      "  [2.58847345e-02]\n",
      "  [3.05261798e-02]\n",
      "  [7.71810733e-07]\n",
      "  [7.32262561e-06]\n",
      "  [3.42317071e-05]\n",
      "  [1.96202600e-04]\n",
      "  [1.62356254e-03]\n",
      "  [6.78237877e-04]\n",
      "  [8.15701787e-05]\n",
      "  [6.65195053e-04]\n",
      "  [3.33759189e-03]\n",
      "  [8.82663880e-04]\n",
      "  [6.03623688e-04]\n",
      "  [7.83888083e-07]\n",
      "  [3.87981891e-06]\n",
      "  [1.59299304e-06]\n",
      "  [5.22676855e-03]\n",
      "  [4.19109967e-03]\n",
      "  [1.12271367e-03]\n",
      "  [3.41486098e-04]\n",
      "  [6.00013067e-04]\n",
      "  [4.99476399e-03]\n",
      "  [3.36650046e-05]\n",
      "  [4.35779839e-06]\n",
      "  [6.23972198e-08]\n",
      "  [5.48470382e-07]\n",
      "  [3.86439950e-07]\n",
      "  [4.13206471e-05]\n",
      "  [9.82083384e-06]\n",
      "  [3.17199156e-04]\n",
      "  [2.87182350e-03]\n",
      "  [1.61137257e-04]\n",
      "  [1.16695830e-07]\n",
      "  [7.57364887e-07]\n",
      "  [1.54630612e-07]]], shape=(1, 121, 1), dtype=float32)\n",
      "attention_weights:  tf.Tensor(\n",
      "[[[1.09493342e-07]\n",
      "  [1.40469130e-08]\n",
      "  [2.78466477e-08]\n",
      "  [3.45302844e-08]\n",
      "  [4.35179466e-08]\n",
      "  [8.13852239e-08]\n",
      "  [9.48029310e-07]\n",
      "  [1.24959857e-04]\n",
      "  [1.46328948e-05]\n",
      "  [1.38993585e-06]\n",
      "  [2.43445284e-05]\n",
      "  [1.94713756e-08]\n",
      "  [6.48409326e-08]\n",
      "  [5.17582954e-08]\n",
      "  [4.82487110e-07]\n",
      "  [6.46303135e-07]\n",
      "  [1.48426770e-04]\n",
      "  [2.50234880e-05]\n",
      "  [5.67289162e-03]\n",
      "  [1.04396068e-03]\n",
      "  [1.88673136e-03]\n",
      "  [1.12462212e-05]\n",
      "  [4.38359677e-08]\n",
      "  [4.78647394e-07]\n",
      "  [5.55702900e-06]\n",
      "  [9.06407331e-06]\n",
      "  [7.46799167e-04]\n",
      "  [1.71953579e-04]\n",
      "  [4.44150250e-03]\n",
      "  [1.76983490e-03]\n",
      "  [5.12503227e-03]\n",
      "  [1.95504609e-03]\n",
      "  [6.09308388e-03]\n",
      "  [5.04483694e-07]\n",
      "  [3.76620710e-06]\n",
      "  [2.12055165e-04]\n",
      "  [4.02631145e-03]\n",
      "  [1.95684679e-05]\n",
      "  [1.42022129e-02]\n",
      "  [8.34951177e-03]\n",
      "  [1.72168799e-02]\n",
      "  [4.52099647e-03]\n",
      "  [4.10614200e-02]\n",
      "  [3.69926021e-02]\n",
      "  [1.79139226e-06]\n",
      "  [6.32378855e-04]\n",
      "  [6.54927106e-04]\n",
      "  [1.62080245e-03]\n",
      "  [4.28909361e-02]\n",
      "  [2.61710901e-02]\n",
      "  [1.15086315e-02]\n",
      "  [1.59875732e-02]\n",
      "  [3.74228433e-02]\n",
      "  [5.32555319e-02]\n",
      "  [5.87463528e-02]\n",
      "  [7.13001373e-06]\n",
      "  [1.22384960e-03]\n",
      "  [1.05742468e-02]\n",
      "  [4.22130115e-02]\n",
      "  [1.36423577e-02]\n",
      "  [1.24883922e-02]\n",
      "  [1.30447559e-02]\n",
      "  [2.36814283e-02]\n",
      "  [5.34710512e-02]\n",
      "  [9.47582498e-02]\n",
      "  [4.85716313e-02]\n",
      "  [3.20545863e-04]\n",
      "  [1.11490926e-02]\n",
      "  [2.21363213e-02]\n",
      "  [2.99374741e-02]\n",
      "  [3.34827811e-03]\n",
      "  [3.90997855e-03]\n",
      "  [1.04690297e-03]\n",
      "  [4.65962663e-03]\n",
      "  [1.91866048e-02]\n",
      "  [4.52449508e-02]\n",
      "  [2.15265397e-02]\n",
      "  [2.45073115e-05]\n",
      "  [2.03918712e-03]\n",
      "  [4.80137672e-03]\n",
      "  [1.32960938e-02]\n",
      "  [2.63489597e-03]\n",
      "  [2.25257463e-04]\n",
      "  [9.98353717e-05]\n",
      "  [2.58131011e-04]\n",
      "  [1.00765256e-02]\n",
      "  [2.63600051e-02]\n",
      "  [3.09857149e-02]\n",
      "  [7.80361802e-07]\n",
      "  [7.49171204e-06]\n",
      "  [3.52809329e-05]\n",
      "  [2.01936738e-04]\n",
      "  [1.61146547e-03]\n",
      "  [6.70233800e-04]\n",
      "  [8.00367197e-05]\n",
      "  [6.70370646e-04]\n",
      "  [3.37817101e-03]\n",
      "  [8.97761143e-04]\n",
      "  [6.15128491e-04]\n",
      "  [7.94555660e-07]\n",
      "  [3.94284325e-06]\n",
      "  [1.62850586e-06]\n",
      "  [5.31112589e-03]\n",
      "  [4.19187872e-03]\n",
      "  [1.12082053e-03]\n",
      "  [3.40192375e-04]\n",
      "  [6.03166118e-04]\n",
      "  [5.06860297e-03]\n",
      "  [3.45305671e-05]\n",
      "  [4.46611830e-06]\n",
      "  [6.31851620e-08]\n",
      "  [5.54736857e-07]\n",
      "  [3.93636043e-07]\n",
      "  [4.21036275e-05]\n",
      "  [1.00196376e-05]\n",
      "  [3.24576686e-04]\n",
      "  [2.89026625e-03]\n",
      "  [1.63985940e-04]\n",
      "  [1.19346055e-07]\n",
      "  [7.74533305e-07]\n",
      "  [1.57765925e-07]]], shape=(1, 121, 1), dtype=float32)\n",
      "attention_weights:  tf.Tensor(\n",
      "[[[1.06718844e-07]\n",
      "  [1.36618468e-08]\n",
      "  [2.71345861e-08]\n",
      "  [3.37831949e-08]\n",
      "  [4.25449400e-08]\n",
      "  [7.96853215e-08]\n",
      "  [9.29761256e-07]\n",
      "  [1.22405108e-04]\n",
      "  [1.43301504e-05]\n",
      "  [1.35699133e-06]\n",
      "  [2.37751956e-05]\n",
      "  [1.89514129e-08]\n",
      "  [6.32862509e-08]\n",
      "  [5.05561424e-08]\n",
      "  [4.73518412e-07]\n",
      "  [6.33273430e-07]\n",
      "  [1.47950530e-04]\n",
      "  [2.47662083e-05]\n",
      "  [5.72046172e-03]\n",
      "  [1.02653168e-03]\n",
      "  [1.85916096e-03]\n",
      "  [1.10033825e-05]\n",
      "  [4.26845830e-08]\n",
      "  [4.68274095e-07]\n",
      "  [5.44578143e-06]\n",
      "  [8.91827494e-06]\n",
      "  [7.43320503e-04]\n",
      "  [1.73381530e-04]\n",
      "  [4.52009216e-03]\n",
      "  [1.78289833e-03]\n",
      "  [5.11582429e-03]\n",
      "  [1.93533266e-03]\n",
      "  [6.07000804e-03]\n",
      "  [4.88014507e-07]\n",
      "  [3.66876156e-06]\n",
      "  [2.08118756e-04]\n",
      "  [3.99960298e-03]\n",
      "  [1.91418385e-05]\n",
      "  [1.44240111e-02]\n",
      "  [8.63685645e-03]\n",
      "  [1.73185728e-02]\n",
      "  [4.45967820e-03]\n",
      "  [4.10843454e-02]\n",
      "  [3.69754322e-02]\n",
      "  [1.73975980e-06]\n",
      "  [6.24246139e-04]\n",
      "  [6.44880522e-04]\n",
      "  [1.59605360e-03]\n",
      "  [4.24620584e-02]\n",
      "  [2.61568222e-02]\n",
      "  [1.16510140e-02]\n",
      "  [1.61609985e-02]\n",
      "  [3.78787890e-02]\n",
      "  [5.38526811e-02]\n",
      "  [5.91733046e-02]\n",
      "  [6.97140058e-06]\n",
      "  [1.21067406e-03]\n",
      "  [1.04922298e-02]\n",
      "  [4.19769622e-02]\n",
      "  [1.36308754e-02]\n",
      "  [1.25913005e-02]\n",
      "  [1.32617531e-02]\n",
      "  [2.39287280e-02]\n",
      "  [5.35584912e-02]\n",
      "  [9.47611555e-02]\n",
      "  [4.82902266e-02]\n",
      "  [3.17612983e-04]\n",
      "  [1.12056648e-02]\n",
      "  [2.21385397e-02]\n",
      "  [2.99114827e-02]\n",
      "  [3.35132028e-03]\n",
      "  [3.97816906e-03]\n",
      "  [1.08459452e-03]\n",
      "  [4.80402727e-03]\n",
      "  [1.91071052e-02]\n",
      "  [4.47657146e-02]\n",
      "  [2.11055744e-02]\n",
      "  [2.42071310e-05]\n",
      "  [2.03935383e-03]\n",
      "  [4.80320491e-03]\n",
      "  [1.33023746e-02]\n",
      "  [2.57511111e-03]\n",
      "  [2.24082309e-04]\n",
      "  [9.87105741e-05]\n",
      "  [2.56599043e-04]\n",
      "  [9.96021554e-03]\n",
      "  [2.60732174e-02]\n",
      "  [3.03780865e-02]\n",
      "  [7.65705693e-07]\n",
      "  [7.44854924e-06]\n",
      "  [3.51259332e-05]\n",
      "  [2.01767456e-04]\n",
      "  [1.57433748e-03]\n",
      "  [6.52200892e-04]\n",
      "  [7.76037487e-05]\n",
      "  [6.59658981e-04]\n",
      "  [3.34708788e-03]\n",
      "  [8.87704082e-04]\n",
      "  [6.03172870e-04]\n",
      "  [7.80687174e-07]\n",
      "  [3.89614706e-06]\n",
      "  [1.61818787e-06]\n",
      "  [5.31319901e-03]\n",
      "  [4.20789700e-03]\n",
      "  [1.11649325e-03]\n",
      "  [3.33536154e-04]\n",
      "  [5.93523204e-04]\n",
      "  [5.07416576e-03]\n",
      "  [3.41593295e-05]\n",
      "  [4.40944268e-06]\n",
      "  [6.18529015e-08]\n",
      "  [5.44312570e-07]\n",
      "  [3.87087880e-07]\n",
      "  [4.11753208e-05]\n",
      "  [9.76044703e-06]\n",
      "  [3.16054444e-04]\n",
      "  [2.88205920e-03]\n",
      "  [1.61619144e-04]\n",
      "  [1.16969204e-07]\n",
      "  [7.66470635e-07]\n",
      "  [1.55389358e-07]]], shape=(1, 121, 1), dtype=float32)\n",
      "Real Caption: <start> pendaki wanita di saat mendaki gunung <end>\n",
      "Prediction Caption: iya di itu aku gunung <end>\n"
     ]
    },
    {
     "data": {
      "image/png": "[encoded data removed]",
      "text/plain": [
       "<Figure size 720x720 with 6 Axes>"
      ]
     },
     "metadata": {
      "needs_background": "light"
     },
     "output_type": "display_data"
    }
   ],
   "source": [
    "# captions on the validation set\n",
    "rid = np.random.randint(0, len(img_name_val))\n",
    "image = img_name_val[rid]\n",
    "real_caption = ' '.join([tokenizer.index_word[i] for i in cap_val[rid] if i not in [0]])\n",
    "result, attention_plot = evaluate(image)\n",
    "\n",
    "print ('Real Caption:', real_caption)\n",
    "print ('Prediction Caption:', ' '.join(result))\n",
    "plot_attention(image, result, attention_plot)\n"
   ]
  },
  {
   "cell_type": "markdown",
   "metadata": {
    "colab_type": "text",
    "id": "Rprk3HEvZuxb"
   },
   "source": [
    "## Try it on your own images\n",
    "For fun, below we've provided a method you can use to caption your own images with the model we've just trained. Keep in mind, it was trained on a relatively small amount of data, and your images may be different from the training data (so be prepared for weird results!)\n"
   ]
  },
  {
   "cell_type": "code",
   "execution_count": null,
   "metadata": {
    "colab": {
     "base_uri": "https://localhost:8080/",
     "height": 1000
    },
    "colab_type": "code",
    "id": "9Psd1quzaAWg",
    "outputId": "0ff90702-6cea-47ac-b1d1-dc9f19899339"
   },
   "outputs": [],
   "source": [
    "image_path = '/content/drive/My Drive/img_caption/data_test/IC5.jpg'\n",
    "# image_extension = image_url[-4:]\n",
    "# image_path = tf.keras.utils.get_file('image'+image_extension,\n",
    "#                                      origin=image_url)\n",
    "\n",
    "result, attention_plot = evaluate(image_path)\n",
    "print ('Prediction Caption:', ' '.join(result))\n",
    "plot_attention(image_path, result, attention_plot)\n",
    "# opening the image\n",
    "Image.open(image_path)"
   ]
  },
  {
   "cell_type": "code",
   "execution_count": null,
   "metadata": {
    "colab": {
     "base_uri": "https://localhost:8080/",
     "height": 1000
    },
    "colab_type": "code",
    "id": "sJdO2_1uUpB_",
    "outputId": "064977d5-f0a9-4714-ba3a-9969173b4314"
   },
   "outputs": [],
   "source": [
    "image_path = '/content/drive/My Drive/img_caption/data_test/IC4.jpg'\n",
    "# image_extension = image_url[-4:]\n",
    "# image_path = tf.keras.utils.get_file('image'+image_extension,\n",
    "#                                      origin=image_url)\n",
    "\n",
    "result, attention_plot = evaluate(image_path)\n",
    "print ('Prediction Caption:', ' '.join(result))\n",
    "plot_attention(image_path, result, attention_plot)\n",
    "# opening the image\n",
    "Image.open(image_path)"
   ]
  },
  {
   "cell_type": "code",
   "execution_count": null,
   "metadata": {
    "colab": {
     "base_uri": "https://localhost:8080/",
     "height": 1000
    },
    "colab_type": "code",
    "id": "8ZEwFQjwVmVn",
    "outputId": "286aa794-0d06-44b0-dea0-fa1c5be6e18f"
   },
   "outputs": [],
   "source": [
    "image_path = '/content/drive/My Drive/img_caption/data_test/IC3.JPG'\n",
    "# image_extension = image_url[-4:]\n",
    "# image_path = tf.keras.utils.get_file('image'+image_extension,\n",
    "#                                      origin=image_url)\n",
    "\n",
    "result, attention_plot = evaluate(image_path)\n",
    "print ('Prediction Caption:', ' '.join(result))\n",
    "plot_attention(image_path, result, attention_plot)\n",
    "# opening the image\n",
    "Image.open(image_path)"
   ]
  },
  {
   "cell_type": "code",
   "execution_count": null,
   "metadata": {
    "colab": {
     "base_uri": "https://localhost:8080/",
     "height": 1000
    },
    "colab_type": "code",
    "id": "OmTtYp4xV6WI",
    "outputId": "82373465-8958-415a-9f88-8e98f0bb26fa"
   },
   "outputs": [],
   "source": [
    "image_path = '/content/drive/My Drive/img_caption/data_test/IC2.jpg'\n",
    "# image_extension = image_url[-4:]\n",
    "# image_path = tf.keras.utils.get_file('image'+image_extension,\n",
    "#                                      origin=image_url)\n",
    "\n",
    "result, attention_plot = evaluate(image_path)\n",
    "print ('Prediction Caption:', ' '.join(result))\n",
    "plot_attention(image_path, result, attention_plot)\n",
    "# opening the image\n",
    "Image.open(image_path)"
   ]
  },
  {
   "cell_type": "code",
   "execution_count": null,
   "metadata": {
    "colab": {
     "base_uri": "https://localhost:8080/",
     "height": 1000
    },
    "colab_type": "code",
    "id": "QKVqriBPWJVx",
    "outputId": "4b1b6cba-935f-4ce0-91e1-1d23477f4f92"
   },
   "outputs": [],
   "source": [
    "image_path = '/content/drive/My Drive/img_caption/data_test/IC1.jpg'\n",
    "# image_extension = image_url[-4:]\n",
    "# image_path = tf.keras.utils.get_file('image'+image_extension,\n",
    "#                                      origin=image_url)\n",
    "\n",
    "result, attention_plot = evaluate(image_path)\n",
    "print ('Prediction Caption:', ' '.join(result))\n",
    "plot_attention(image_path, result, attention_plot)\n",
    "# opening the image\n",
    "Image.open(image_path)"
   ]
  },
  {
   "cell_type": "markdown",
   "metadata": {
    "colab_type": "text",
    "id": "VJZXyJco6uLO"
   },
   "source": [
    "# Next steps\n",
    "\n",
    "Congrats! You've just trained an image captioning model with attention. Next, take a look at this example [Neural Machine Translation with Attention](../sequences/nmt_with_attention.ipynb). It uses a similar architecture to translate between Spanish and English sentences. You can also experiment with training the code in this notebook on a different dataset."
   ]
  }
 ],
 "metadata": {
  "accelerator": "GPU",
  "colab": {
   "collapsed_sections": [],
   "name": "Salinan_yurio_cp_image_captioning.ipynb",
   "provenance": [],
   "toc_visible": true
  },
  "kernelspec": {
   "display_name": "Python 3.7.7 64-bit",
   "language": "python",
   "name": "python37764bitcacf4f5e383b409fad686b20c508589d"
  },
  "language_info": {
   "codemirror_mode": {
    "name": "ipython",
    "version": 3
   },
   "file_extension": ".py",
   "mimetype": "text/x-python",
   "name": "python",
   "nbconvert_exporter": "python",
   "pygments_lexer": "ipython3",
   "version": "3.7.7"
  }
 },
 "nbformat": 4,
 "nbformat_minor": 1
}
