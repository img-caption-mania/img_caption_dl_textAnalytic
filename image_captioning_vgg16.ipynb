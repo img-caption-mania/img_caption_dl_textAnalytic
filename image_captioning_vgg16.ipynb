{
 "cells": [
  {
   "cell_type": "markdown",
   "metadata": {
    "colab_type": "text",
    "id": "K2s1A9eLRPEj"
   },
   "source": [
    "##### Copyright 2018 The TensorFlow Authors.\n"
   ]
  },
  {
   "cell_type": "code",
   "execution_count": null,
   "metadata": {
    "cellView": "form",
    "colab": {},
    "colab_type": "code",
    "id": "VRLVEKiTEn04"
   },
   "outputs": [],
   "source": [
    "#@title Licensed under the Apache License, Version 2.0 (the \"License\");\n",
    "# you may not use this file except in compliance with the License.\n",
    "# You may obtain a copy of the License at\n",
    "#\n",
    "# https://www.apache.org/licenses/LICENSE-2.0\n",
    "#\n",
    "# Unless required by applicable law or agreed to in writing, software\n",
    "# distributed under the License is distributed on an \"AS IS\" BASIS,\n",
    "# WITHOUT WARRANTIES OR CONDITIONS OF ANY KIND, either express or implied.\n",
    "# See the License for the specific language governing permissions and\n",
    "# limitations under the License."
   ]
  },
  {
   "cell_type": "markdown",
   "metadata": {
    "colab_type": "text",
    "id": "Cffg2i257iMS"
   },
   "source": [
    "# Image captioning with visual attention\n",
    "\n"
   ]
  },
  {
   "cell_type": "markdown",
   "metadata": {
    "colab_type": "text",
    "id": "QASbY_HGo4Lq"
   },
   "source": [
    "Given an image like the example below, our goal is to generate a caption such as \"a surfer riding on a wave\".\n",
    "\n",
    "*[Image Source](https://commons.wikimedia.org/wiki/Surfing#/media/File:Surfing_in_Hawaii.jpg); License: Public Domain*\n",
    "\n",
    "To accomplish this, you'll use an attention-based model, which enables us to see what parts of the image the model focuses on as it generates a caption.\n",
    "\n",
    "The model architecture is similar to [Show, Attend and Tell: Neural Image Caption Generation with Visual Attention](https://arxiv.org/abs/1502.03044).\n",
    "\n"
   ]
  },
  {
   "cell_type": "code",
   "execution_count": null,
   "metadata": {
    "colab": {},
    "colab_type": "code",
    "id": "tbZAa_xRpnOo"
   },
   "outputs": [],
   "source": [
    "# from google.colab import drive\n",
    "# drive.mount('/content/drive')"
   ]
  },
  {
   "cell_type": "code",
   "execution_count": 1,
   "metadata": {
    "colab": {},
    "colab_type": "code",
    "id": "U8l4RJ0XRPEm"
   },
   "outputs": [],
   "source": [
    "import tensorflow as tf\n",
    "\n",
    "# You'll generate plots of attention in order to see which parts of an image\n",
    "# our model focuses on during captioning\n",
    "import matplotlib.pyplot as plt\n",
    "\n",
    "# Scikit-learn includes many helpful utilities\n",
    "from sklearn.model_selection import train_test_split\n",
    "from sklearn.utils import shuffle\n",
    "\n",
    "import re\n",
    "import numpy as np\n",
    "import os\n",
    "import time\n",
    "import json\n",
    "from glob import glob\n",
    "from PIL import Image\n",
    "import pickle"
   ]
  },
  {
   "cell_type": "code",
   "execution_count": 2,
   "metadata": {
    "colab": {
     "base_uri": "https://localhost:8080/",
     "height": 34
    },
    "colab_type": "code",
    "id": "wgMhxSCeWdc9",
    "outputId": "e08dd14b-4dd5-4c70-c789-e1000e91f50b"
   },
   "outputs": [
    {
     "data": {
      "text/plain": [
       "'2.3.0'"
      ]
     },
     "execution_count": 2,
     "metadata": {},
     "output_type": "execute_result"
    }
   ],
   "source": [
    "tf.__version__"
   ]
  },
  {
   "cell_type": "code",
   "execution_count": 3,
   "metadata": {
    "colab": {},
    "colab_type": "code",
    "id": "u3IhMP10arpL"
   },
   "outputs": [],
   "source": [
    "# PATH = \"/content/drive/My Drive/img_caption/clean_data\""
   ]
  },
  {
   "cell_type": "code",
   "execution_count": 4,
   "metadata": {},
   "outputs": [],
   "source": [
    "PATH= \"/home/yurio/mainan_yurio/img_cap_to_icitda/img_caption_dl_textAnalytic\""
   ]
  },
  {
   "cell_type": "markdown",
   "metadata": {
    "colab_type": "text",
    "id": "aANEzb5WwSzg"
   },
   "source": [
    "## Read annotation json file "
   ]
  },
  {
   "cell_type": "code",
   "execution_count": 5,
   "metadata": {
    "colab": {},
    "colab_type": "code",
    "id": "4G3b8x8_RPFD"
   },
   "outputs": [],
   "source": [
    "# # Read the json file\n",
    "# with open(PATH + \"/caption_tugu.json\", 'r') as f:\n",
    "#     annotations_tugu = json.load(f)\n",
    "\n",
    "# # Read the json file\n",
    "# with open(PATH + \"/jeram.json\", 'r') as f:\n",
    "#     annotations_jeram = json.load(f)\n",
    "\n",
    "# # Read the json file\n",
    "# with open(PATH + \"/malioboro_1.json\", 'r') as f:\n",
    "#     annotations_malioboro = json.load(f)\n",
    "\n",
    "# # Read the json file\n",
    "# with open(PATH + \"/pendaki.json\", 'r') as f:\n",
    "#     annotations_pendaki = json.load(f)\n",
    "\n",
    "# # Read the json file\n",
    "# with open(PATH + \"/wisata_jeep.json\", 'r') as f:\n",
    "#     annotations_wj = json.load(f)\n"
   ]
  },
  {
   "cell_type": "code",
   "execution_count": 6,
   "metadata": {
    "colab": {
     "base_uri": "https://localhost:8080/",
     "height": 104
    },
    "colab_type": "code",
    "id": "3_eGidc_I9jG",
    "outputId": "2a1c4248-882d-4c49-d138-243340c898b5"
   },
   "outputs": [],
   "source": [
    "# print(len(annotations_tugu))\n",
    "# print(len(annotations_jeram))\n",
    "# print(len(annotations_malioboro))\n",
    "# print(len(annotations_pendaki))\n",
    "# print(len(annotations_wj))"
   ]
  },
  {
   "cell_type": "code",
   "execution_count": 7,
   "metadata": {
    "colab": {},
    "colab_type": "code",
    "id": "H22vKSM2JOvu"
   },
   "outputs": [],
   "source": [
    "# annotations = annotations_tugu + annotations_jeram + annotations_malioboro + annotations_pendaki + annotations_wj"
   ]
  },
  {
   "cell_type": "code",
   "execution_count": 8,
   "metadata": {
    "colab": {},
    "colab_type": "code",
    "id": "P_r7g4fPHOCd"
   },
   "outputs": [],
   "source": [
    "# with open('/content/drive/My Drive/img_caption/clean_data/all_caption.json', 'w') as fp:\n",
    "#     json.dump(annotations, fp)"
   ]
  },
  {
   "cell_type": "code",
   "execution_count": 9,
   "metadata": {
    "colab": {},
    "colab_type": "code",
    "id": "TVOAOlGfqxS1"
   },
   "outputs": [],
   "source": [
    "with open(PATH + \"/all_caption.json\", 'r') as f:\n",
    "  annotations = json.load(f)"
   ]
  },
  {
   "cell_type": "code",
   "execution_count": 10,
   "metadata": {
    "colab": {
     "base_uri": "https://localhost:8080/",
     "height": 34
    },
    "colab_type": "code",
    "id": "d5veRUD_JgjB",
    "outputId": "cac40642-2718-47f6-b44b-fb27a2a312da"
   },
   "outputs": [
    {
     "data": {
      "text/plain": [
       "502"
      ]
     },
     "execution_count": 10,
     "metadata": {},
     "output_type": "execute_result"
    }
   ],
   "source": [
    "len(annotations)"
   ]
  },
  {
   "cell_type": "code",
   "execution_count": 11,
   "metadata": {
    "colab": {
     "base_uri": "https://localhost:8080/",
     "height": 364
    },
    "colab_type": "code",
    "id": "o1J49tEjdNc-",
    "outputId": "787ea0a5-914e-4c5c-92cc-67a9725740ee"
   },
   "outputs": [
    {
     "data": {
      "text/plain": [
       "[{'caption': 'wisata Merapi Kaliadem Private Jeep Tour Yogyakarta',\n",
       "  'image_id': 'bpxyq3gif29ueadrjsk4.jpeg'},\n",
       " {'caption': 'wisata Merapi Kaliadem Private Jeep Tour Yogyakarta',\n",
       "  'image_id': 'wzp84130cv97ehfjod65.jpg'},\n",
       " {'caption': 'foto di atas mobil jeep keren',\n",
       "  'image_id': 'oalhni36vc54x71ywdzm.jpg'},\n",
       " {'caption': 'wisata jeep gunung merapi sleman',\n",
       "  'image_id': '10xw7yod4hm6ucqf3tik.jpg'},\n",
       " {'caption': 'foto di atas mobil jeep keren',\n",
       "  'image_id': '2t5v3lbxsrzuckwhp4oi.jpg'},\n",
       " {'caption': 'wisata jeep gunung merapi sleman',\n",
       "  'image_id': 'fno8gyi0q419dtphs7v2.jpg'},\n",
       " {'caption': 'wisata jeep gunung merapi sleman',\n",
       "  'image_id': '8zy0to4ar1pscw6f5l9k.jpeg'},\n",
       " {'caption': 'serunya naik mobil jeep di medan batu',\n",
       "  'image_id': '8au3feqcg5416z07owml.jpg'},\n",
       " {'caption': 'foto di atas mobil jeep keren',\n",
       "  'image_id': 'mgof6y583zu0itv7cq2w.jpeg'},\n",
       " {'caption': 'foto di atas mobil jeep keren',\n",
       "  'image_id': 'r73sufm4nh0gc9jy2klb.jpg'}]"
      ]
     },
     "execution_count": 11,
     "metadata": {},
     "output_type": "execute_result"
    }
   ],
   "source": [
    "annotations[-10:]"
   ]
  },
  {
   "cell_type": "code",
   "execution_count": 12,
   "metadata": {
    "colab": {},
    "colab_type": "code",
    "id": "ImvqO-8fcdYD"
   },
   "outputs": [],
   "source": [
    "# Store captions and image names in vectors\n",
    "all_captions = []\n",
    "all_img_name_vector = []\n",
    "\n",
    "for annot in annotations:\n",
    "    caption = '<start> ' + annot['caption'] + ' <end>'\n",
    "    image_id = annot['image_id']\n",
    "    full_image_path = PATH + '/dataset_vgg16/' + '{IMG}'.format(IMG=image_id)\n",
    "# /content/drive/My Drive/img_caption/clean_data/img_gabung\n",
    "    all_img_name_vector.append(full_image_path)\n",
    "    all_captions.append(caption)\n",
    "\n",
    "# Shuffle captions and image_names together\n",
    "# Set a random state\n",
    "train_captions, img_name_vector = shuffle(all_captions,\n",
    "                                          all_img_name_vector,\n",
    "                                          random_state=1)\n",
    "\n",
    "num_examples = 480\n",
    "train_captions = train_captions[:num_examples]\n",
    "img_name_vector = img_name_vector[:num_examples]"
   ]
  },
  {
   "cell_type": "code",
   "execution_count": 13,
   "metadata": {
    "colab": {
     "base_uri": "https://localhost:8080/",
     "height": 190
    },
    "colab_type": "code",
    "id": "cnuDvwJ-ehdO",
    "outputId": "9185a08d-e10e-4a0a-b1ea-36d480b8b580"
   },
   "outputs": [
    {
     "data": {
      "text/plain": [
       "['<start> suasana yang Hanya Bisa Dirasakan Saat Mendaki gunung <end>',\n",
       " '<start> main ke gunung yuk bersama aku iya aku <end>',\n",
       " '<start> sore yang cerah di tugu jogja <end>',\n",
       " '<start> eh ada bapak-bapak bersepeda di tugu jogjakarta <end>',\n",
       " '<start> pendaki perempuan cantik yang buktikan wanita itu tangguh <end>',\n",
       " '<start> tukang becak membawa penumpang di siang hari <end>',\n",
       " '<start> pendaki perempuan cantik yang buktikan wanita itu tangguh <end>',\n",
       " '<start> suasana tugu jogja di sore hari <end>',\n",
       " '<start> tukang becak membawa penumpang di siang hari <end>',\n",
       " '<start> sore yang cerah di tugu jogja <end>']"
      ]
     },
     "execution_count": 13,
     "metadata": {},
     "output_type": "execute_result"
    }
   ],
   "source": [
    "train_captions[:10]"
   ]
  },
  {
   "cell_type": "code",
   "execution_count": 14,
   "metadata": {
    "colab": {
     "base_uri": "https://localhost:8080/",
     "height": 190
    },
    "colab_type": "code",
    "id": "8oD6z2oFej-t",
    "outputId": "df399682-25c0-4897-ee48-b7cee46e651d"
   },
   "outputs": [
    {
     "data": {
      "text/plain": [
       "['/home/yurio/mainan_yurio/img_cap_to_icitda/img_caption_dl_textAnalytic/dataset_vgg16/2zlw9eoxp4msfn6qakhu.jpg',\n",
       " '/home/yurio/mainan_yurio/img_cap_to_icitda/img_caption_dl_textAnalytic/dataset_vgg16/gmt8r0ohyk91fzejulbn.jpg',\n",
       " '/home/yurio/mainan_yurio/img_cap_to_icitda/img_caption_dl_textAnalytic/dataset_vgg16/dp8hgn1735lkvrquioza.jpg',\n",
       " '/home/yurio/mainan_yurio/img_cap_to_icitda/img_caption_dl_textAnalytic/dataset_vgg16/krucsed29oyvw17zhai6.jpg',\n",
       " '/home/yurio/mainan_yurio/img_cap_to_icitda/img_caption_dl_textAnalytic/dataset_vgg16/odsibz7uqryf30a8g6xw.jpg',\n",
       " '/home/yurio/mainan_yurio/img_cap_to_icitda/img_caption_dl_textAnalytic/dataset_vgg16/IMG-20200116-WA0043-1200x900.jpg',\n",
       " '/home/yurio/mainan_yurio/img_cap_to_icitda/img_caption_dl_textAnalytic/dataset_vgg16/8zox6fsaldq1vcb7eh59.jpg',\n",
       " '/home/yurio/mainan_yurio/img_cap_to_icitda/img_caption_dl_textAnalytic/dataset_vgg16/57j8ni64gm2tqucdbzv9.jpg',\n",
       " '/home/yurio/mainan_yurio/img_cap_to_icitda/img_caption_dl_textAnalytic/dataset_vgg16/Maret-2020-Jalan-Malioboro-bakal-bebas-asap-rokok.jpg',\n",
       " '/home/yurio/mainan_yurio/img_cap_to_icitda/img_caption_dl_textAnalytic/dataset_vgg16/wprxejb97ik5gou2dz41.jpg']"
      ]
     },
     "execution_count": 14,
     "metadata": {},
     "output_type": "execute_result"
    }
   ],
   "source": [
    "img_name_vector[:10]"
   ]
  },
  {
   "cell_type": "code",
   "execution_count": 15,
   "metadata": {
    "colab": {
     "base_uri": "https://localhost:8080/",
     "height": 1000
    },
    "colab_type": "code",
    "id": "n1j2ULHWe0aP",
    "outputId": "aaea9a1f-33d3-4810-8fab-3cb5e588c702",
    "tags": []
   },
   "outputs": [
    {
     "name": "stdout",
     "output_type": "stream",
     "text": [
      "Populating the interactive namespace from numpy and matplotlib\n"
     ]
    },
    {
     "name": "stderr",
     "output_type": "stream",
     "text": [
      "/home/yurio/anaconda3/envs/img_cap/lib/python3.7/site-packages/IPython/core/magics/pylab.py:160: UserWarning: pylab import has clobbered these variables: ['shuffle', 'f']\n",
      "`%matplotlib` prevents importing * from pylab and numpy\n",
      "  \"\\n`%matplotlib` prevents importing * from pylab and numpy\"\n"
     ]
    },
    {
     "data": {
      "image/png": "[encoded data removed]",
      "text/plain": [
       "<Figure size 432x288 with 1 Axes>"
      ]
     },
     "metadata": {
      "needs_background": "light"
     },
     "output_type": "display_data"
    },
    {
     "name": "stdout",
     "output_type": "stream",
     "text": [
      "<start> suasana tugu jogja di sore hari <end>\n",
      "(556, 830, 3)\n",
      "[[[ 49  45  44]\n",
      "  [ 48  44  43]\n",
      "  [ 48  44  43]\n",
      "  ...\n",
      "  [224 229 232]\n",
      "  [224 229 232]\n",
      "  [224 229 232]]\n",
      "\n",
      " [[ 49  45  44]\n",
      "  [ 49  45  44]\n",
      "  [ 50  46  45]\n",
      "  ...\n",
      "  [224 229 232]\n",
      "  [224 229 232]\n",
      "  [224 229 232]]\n",
      "\n",
      " [[ 49  45  44]\n",
      "  [ 50  46  45]\n",
      "  [ 51  47  46]\n",
      "  ...\n",
      "  [224 229 232]\n",
      "  [223 228 231]\n",
      "  [224 229 232]]\n",
      "\n",
      " ...\n",
      "\n",
      " [[248 255 255]\n",
      "  [247 255 255]\n",
      "  [246 254 255]\n",
      "  ...\n",
      "  [ 58  78  69]\n",
      "  [ 57  77  68]\n",
      "  [ 56  76  67]]\n",
      "\n",
      " [[245 253 255]\n",
      "  [245 253 255]\n",
      "  [244 252 254]\n",
      "  ...\n",
      "  [ 55  75  66]\n",
      "  [ 57  77  68]\n",
      "  [ 58  78  69]]\n",
      "\n",
      " [[235 243 245]\n",
      "  [235 243 245]\n",
      "  [235 243 245]\n",
      "  ...\n",
      "  [ 56  76  67]\n",
      "  [ 59  79  70]\n",
      "  [ 61  81  72]]]\n"
     ]
    },
    {
     "data": {
      "image/png": "[encoded data removed]",
      "text/plain": [
       "<Figure size 432x288 with 1 Axes>"
      ]
     },
     "metadata": {
      "needs_background": "light"
     },
     "output_type": "display_data"
    },
    {
     "name": "stdout",
     "output_type": "stream",
     "text": [
      "<start> sore yang cerah di tugu jogja <end>\n",
      "(168, 299, 3)\n",
      "[[[159 163 172]\n",
      "  [152 156 165]\n",
      "  [138 142 151]\n",
      "  ...\n",
      "  [126 141 162]\n",
      "  [126 141 162]\n",
      "  [126 141 162]]\n",
      "\n",
      " [[153 157 166]\n",
      "  [168 172 181]\n",
      "  [149 153 162]\n",
      "  ...\n",
      "  [126 141 162]\n",
      "  [126 141 162]\n",
      "  [126 141 162]]\n",
      "\n",
      " [[146 150 161]\n",
      "  [150 154 165]\n",
      "  [174 178 189]\n",
      "  ...\n",
      "  [126 141 162]\n",
      "  [126 141 162]\n",
      "  [126 141 162]]\n",
      "\n",
      " ...\n",
      "\n",
      " [[ 53  51  52]\n",
      "  [ 53  51  52]\n",
      "  [ 54  52  53]\n",
      "  ...\n",
      "  [ 91  90  88]\n",
      "  [126 125 123]\n",
      "  [ 47  46  44]]\n",
      "\n",
      " [[ 55  53  54]\n",
      "  [ 55  53  54]\n",
      "  [ 55  53  54]\n",
      "  ...\n",
      "  [ 71  70  68]\n",
      "  [ 84  83  81]\n",
      "  [ 54  53  51]]\n",
      "\n",
      " [[ 60  58  59]\n",
      "  [ 60  58  59]\n",
      "  [ 60  58  59]\n",
      "  ...\n",
      "  [ 59  58  56]\n",
      "  [ 57  56  54]\n",
      "  [ 63  62  60]]]\n"
     ]
    }
   ],
   "source": [
    "%pylab inline\n",
    "import matplotlib.image as mpimg\n",
    "img=mpimg.imread(img_name_vector[220])\n",
    "imgplot = plt.imshow(img)\n",
    "plt.show()\n",
    "\n",
    "print(train_captions[220])\n",
    "print(img.shape)\n",
    "print(img)\n",
    "\n",
    "img=mpimg.imread(img_name_vector[370])\n",
    "imgplot = plt.imshow(img)\n",
    "plt.show()\n",
    "\n",
    "print(train_captions[370])\n",
    "print(img.shape)\n",
    "print(img)"
   ]
  },
  {
   "cell_type": "code",
   "execution_count": 16,
   "metadata": {
    "colab": {
     "base_uri": "https://localhost:8080/",
     "height": 34
    },
    "colab_type": "code",
    "id": "mPBMgK34RPFL",
    "outputId": "2f6bde3c-c468-41b3-dc0c-e1cdc1fbe56d"
   },
   "outputs": [
    {
     "data": {
      "text/plain": [
       "(480, 502)"
      ]
     },
     "execution_count": 16,
     "metadata": {},
     "output_type": "execute_result"
    }
   ],
   "source": [
    "len(train_captions), len(all_captions)"
   ]
  },
  {
   "cell_type": "markdown",
   "metadata": {
    "colab_type": "text",
    "id": "8cSW4u-ORPFQ"
   },
   "source": [
    "## Preprocess the images using InceptionV3\n",
    "Next, you will use InceptionV3 (which is pretrained on Imagenet) to classify each image. You will extract features from the last convolutional layer.\n",
    "\n",
    "First, you will convert the images into InceptionV3's expected format by:\n",
    "* Resizing the image to 299px by 299px\n",
    "* [Preprocess the images](https://cloud.google.com/tpu/docs/inception-v3-advanced#preprocessing_stage) using the [preprocess_input](https://www.tensorflow.org/api_docs/python/tf/keras/applications/inception_v3/preprocess_input) method to normalize the image so that it contains pixels in the range of -1 to 1, which matches the format of the images used to train InceptionV3."
   ]
  },
  {
   "cell_type": "code",
   "execution_count": 13,
   "metadata": {
    "colab": {},
    "colab_type": "code",
    "id": "zXR0217aRPFR"
   },
   "outputs": [],
   "source": [
    "# def load_image(image_path):\n",
    "#     img = tf.io.read_file(image_path)\n",
    "#     img = tf.image.decode_jpeg(img, channels=3)\n",
    "#     img = tf.image.resize(img, (299, 299))\n",
    "#     img = tf.keras.applications.inception_v3.preprocess_input(img)\n",
    "#     return img, image_path"
   ]
  },
  {
   "cell_type": "code",
   "execution_count": 17,
   "metadata": {},
   "outputs": [],
   "source": [
    "def load_image(image_path):\n",
    "    img = tf.io.read_file(image_path)\n",
    "    img = tf.image.decode_jpeg(img, channels=3)\n",
    "    img = tf.image.resize(img, (224, 224))\n",
    "    img = tf.keras.applications.vgg16.preprocess_input(img)\n",
    "    return img, image_path"
   ]
  },
  {
   "cell_type": "code",
   "execution_count": null,
   "metadata": {},
   "outputs": [],
   "source": [
    "# def load_image(image_path):\n",
    "#     img = tf.io.read_file(image_path)\n",
    "#     img = tf.image.decode_jpeg(img, channels=3)\n",
    "#     img = tf.image.resize(img, (224, 224))\n",
    "#     img = tf.keras.applications.efficientnet.preprocess_input(img)\n",
    "#     return img, image_path"
   ]
  },
  {
   "cell_type": "markdown",
   "metadata": {
    "colab_type": "text",
    "id": "MDvIu4sXRPFV"
   },
   "source": [
    "## Initialize VGG16 and load the pretrained Imagenet weights\n",
    "\n",
    "Now you'll create a tf.keras model where the output layer is the last convolutional layer in the InceptionV3 architecture. The shape of the output of this layer is ```7, 7, 512```. You use the last convolutional layer because you are using attention in this example. You don't perform this initialization during training because it could become a bottleneck.\n",
    "\n",
    "* You forward each image through the network and store the resulting vector in a dictionary (image_name --> feature_vector).\n",
    "* After all the images are passed through the network, you pickle the dictionary and save it to disk.\n",
    "\n",
    "#### help(tf.keras.Model)\n",
    "\n",
    "`Model` groups layers into an object with training and inference features.\n",
    "There are two ways to instantiate a `Model`:\n",
    "\n",
    "1. With the \"functional API\", where you start from `Input`,\n",
    "you chain layer calls to specify the model's forward pass,\n",
    "and finally you create your model from inputs and outputs:\n",
    "\n",
    "### it's use this form\n",
    "```python\n",
    "import tensorflow as tf\n",
    "\n",
    "inputs = tf.keras.Input(shape=(3,))\n",
    "x = tf.keras.layers.Dense(4, activation=tf.nn.relu)(inputs)\n",
    "outputs = tf.keras.layers.Dense(5, activation=tf.nn.softmax)(x)\n",
    "model = tf.keras.Model(inputs=inputs, outputs=outputs)\n"
   ]
  },
  {
   "cell_type": "code",
   "execution_count": 18,
   "metadata": {
    "colab": {},
    "colab_type": "code",
    "id": "RD3vW4SsRPFW"
   },
   "outputs": [],
   "source": [
    "# image_model = tf.keras.applications.InceptionV3(include_top=False,\n",
    "#                                                 weights='imagenet')\n",
    "# # tf.keras.applications.InceptionV3(weights='imagenet').summary()\n",
    "# new_input = image_model.input\n",
    "# hidden_layer = image_model.layers[-1].output\n",
    "\n",
    "# image_features_extract_model = tf.keras.Model(new_input, hidden_layer)\n",
    "# # image_features_extract_model # image features extractor\n",
    "\n",
    "# image_features_extract_model.summary()"
   ]
  },
  {
   "cell_type": "code",
   "execution_count": 19,
   "metadata": {
    "tags": []
   },
   "outputs": [
    {
     "name": "stdout",
     "output_type": "stream",
     "text": [
      "Model: \"functional_1\"\n",
      "_________________________________________________________________\n",
      "Layer (type)                 Output Shape              Param #   \n",
      "=================================================================\n",
      "input_1 (InputLayer)         [(None, None, None, 3)]   0         \n",
      "_________________________________________________________________\n",
      "block1_conv1 (Conv2D)        (None, None, None, 64)    1792      \n",
      "_________________________________________________________________\n",
      "block1_conv2 (Conv2D)        (None, None, None, 64)    36928     \n",
      "_________________________________________________________________\n",
      "block1_pool (MaxPooling2D)   (None, None, None, 64)    0         \n",
      "_________________________________________________________________\n",
      "block2_conv1 (Conv2D)        (None, None, None, 128)   73856     \n",
      "_________________________________________________________________\n",
      "block2_conv2 (Conv2D)        (None, None, None, 128)   147584    \n",
      "_________________________________________________________________\n",
      "block2_pool (MaxPooling2D)   (None, None, None, 128)   0         \n",
      "_________________________________________________________________\n",
      "block3_conv1 (Conv2D)        (None, None, None, 256)   295168    \n",
      "_________________________________________________________________\n",
      "block3_conv2 (Conv2D)        (None, None, None, 256)   590080    \n",
      "_________________________________________________________________\n",
      "block3_conv3 (Conv2D)        (None, None, None, 256)   590080    \n",
      "_________________________________________________________________\n",
      "block3_pool (MaxPooling2D)   (None, None, None, 256)   0         \n",
      "_________________________________________________________________\n",
      "block4_conv1 (Conv2D)        (None, None, None, 512)   1180160   \n",
      "_________________________________________________________________\n",
      "block4_conv2 (Conv2D)        (None, None, None, 512)   2359808   \n",
      "_________________________________________________________________\n",
      "block4_conv3 (Conv2D)        (None, None, None, 512)   2359808   \n",
      "_________________________________________________________________\n",
      "block4_pool (MaxPooling2D)   (None, None, None, 512)   0         \n",
      "_________________________________________________________________\n",
      "block5_conv1 (Conv2D)        (None, None, None, 512)   2359808   \n",
      "_________________________________________________________________\n",
      "block5_conv2 (Conv2D)        (None, None, None, 512)   2359808   \n",
      "_________________________________________________________________\n",
      "block5_conv3 (Conv2D)        (None, None, None, 512)   2359808   \n",
      "_________________________________________________________________\n",
      "block5_pool (MaxPooling2D)   (None, None, None, 512)   0         \n",
      "=================================================================\n",
      "Total params: 14,714,688\n",
      "Trainable params: 14,714,688\n",
      "Non-trainable params: 0\n",
      "_________________________________________________________________\n"
     ]
    }
   ],
   "source": [
    "image_model = tf.keras.applications.VGG16(include_top=False,\n",
    "                                                weights='imagenet')\n",
    "new_input = image_model.input\n",
    "hidden_layer = image_model.layers[-1].output\n",
    "\n",
    "image_features_extract_model = tf.keras.Model(new_input, hidden_layer)\n",
    "image_features_extract_model.summary()"
   ]
  },
  {
   "cell_type": "code",
   "execution_count": null,
   "metadata": {},
   "outputs": [],
   "source": [
    "# image_model = tf.keras.applications.EfficientNetB0(include_top=False,weights='imagenet')\n",
    "#\n",
    "# new_input = image_model.input\n",
    "# hidden_layer = image_model.layers[-1].output\n",
    "\n",
    "# image_features_extract_model = tf.keras.Model(new_input, hidden_layer)\n",
    "# image_features_extract_model.summary()\n",
    "\n",
    "# tf.keras.applications.EfficientNetB0(weights='imagenet').summary()\n",
    "\n"
   ]
  },
  {
   "cell_type": "markdown",
   "metadata": {
    "colab_type": "text",
    "id": "rERqlR3WRPGO"
   },
   "source": [
    "## Caching the features extracted from InceptionV3\n",
    "\n",
    "You will pre-process each image with InceptionV3 and cache the output to disk. Caching the output in RAM would be faster but also memory intensive, requiring 8 \\* 8 \\* 2048 floats per image. At the time of writing, this exceeds the memory limitations of Colab (currently 12GB of memory).\n",
    "\n",
    "Performance could be improved with a more sophisticated caching strategy (for example, by sharding the images to reduce random access disk I/O), but that would require more code.\n",
    "\n",
    "The caching will take about 10 minutes to run in Colab with a GPU. If you'd like to see a progress bar, you can: \n",
    "\n",
    "1. install [tqdm](https://github.com/tqdm/tqdm):\n",
    "\n",
    "    `!pip install tqdm`\n",
    "\n",
    "2. Import tqdm:\n",
    "\n",
    "    `from tqdm import tqdm`\n",
    "\n",
    "3. Change the following line:\n",
    "\n",
    "    `for img, path in image_dataset:`\n",
    "\n",
    "    to:\n",
    "\n",
    "    `for img, path in tqdm(image_dataset):`\n"
   ]
  },
  {
   "cell_type": "code",
   "execution_count": null,
   "metadata": {
    "colab": {},
    "colab_type": "code",
    "id": "WX_fFWO0POom"
   },
   "outputs": [],
   "source": [
    "# !pip install tqdm"
   ]
  },
  {
   "cell_type": "code",
   "execution_count": 20,
   "metadata": {
    "colab": {},
    "colab_type": "code",
    "id": "5uimmiiQ_oYZ"
   },
   "outputs": [],
   "source": [
    "from tqdm import tqdm"
   ]
  },
  {
   "cell_type": "code",
   "execution_count": 21,
   "metadata": {
    "colab": {},
    "colab_type": "code",
    "id": "Dx_fvbVgRPGQ"
   },
   "outputs": [],
   "source": [
    "# Get unique images\n",
    "encode_train = sorted(set(img_name_vector))"
   ]
  },
  {
   "cell_type": "code",
   "execution_count": 22,
   "metadata": {
    "colab": {
     "base_uri": "https://localhost:8080/",
     "height": 34
    },
    "colab_type": "code",
    "id": "2WWAA3jN7sfd",
    "outputId": "93c7a2ea-79cc-4717-a4c6-e2e964bc95d8"
   },
   "outputs": [
    {
     "data": {
      "text/plain": [
       "480"
      ]
     },
     "execution_count": 22,
     "metadata": {},
     "output_type": "execute_result"
    }
   ],
   "source": [
    "len(encode_train) # "
   ]
  },
  {
   "cell_type": "code",
   "execution_count": 23,
   "metadata": {
    "colab": {
     "base_uri": "https://localhost:8080/",
     "height": 104
    },
    "colab_type": "code",
    "id": "Nl-O8D4B8O3v",
    "outputId": "e07c2516-18d7-47bf-a9ce-1168ef15bbe5"
   },
   "outputs": [
    {
     "data": {
      "text/plain": [
       "['/home/yurio/mainan_yurio/img_cap_to_icitda/img_caption_dl_textAnalytic/dataset_vgg16/02jsutdihcmo58exvz7q.jpeg',\n",
       " '/home/yurio/mainan_yurio/img_cap_to_icitda/img_caption_dl_textAnalytic/dataset_vgg16/04z6v1thy3xomadl5s7i.jpg',\n",
       " '/home/yurio/mainan_yurio/img_cap_to_icitda/img_caption_dl_textAnalytic/dataset_vgg16/07ei89fazvcts1rdnuhb.jpg',\n",
       " '/home/yurio/mainan_yurio/img_cap_to_icitda/img_caption_dl_textAnalytic/dataset_vgg16/0boltxze17pvqajg4ink.jpeg',\n",
       " '/home/yurio/mainan_yurio/img_cap_to_icitda/img_caption_dl_textAnalytic/dataset_vgg16/0dkmsct9n2f63raxqp7v.jpg']"
      ]
     },
     "execution_count": 23,
     "metadata": {},
     "output_type": "execute_result"
    }
   ],
   "source": [
    "encode_train[:5]"
   ]
  },
  {
   "cell_type": "code",
   "execution_count": 24,
   "metadata": {
    "colab": {},
    "colab_type": "code",
    "id": "RNWvi_9T7qhy"
   },
   "outputs": [],
   "source": [
    "image_dataset = tf.data.Dataset.from_tensor_slices(encode_train)"
   ]
  },
  {
   "cell_type": "code",
   "execution_count": 25,
   "metadata": {
    "colab": {
     "base_uri": "https://localhost:8080/",
     "height": 34
    },
    "colab_type": "code",
    "id": "9fuNC3fs9DBp",
    "outputId": "514e5783-3160-4aca-cab4-ed7e67fab088"
   },
   "outputs": [
    {
     "data": {
      "text/plain": [
       "<TensorSliceDataset shapes: (), types: tf.string>"
      ]
     },
     "execution_count": 25,
     "metadata": {},
     "output_type": "execute_result"
    }
   ],
   "source": [
    "image_dataset"
   ]
  },
  {
   "cell_type": "code",
   "execution_count": 26,
   "metadata": {
    "colab": {},
    "colab_type": "code",
    "id": "RM-w5n558_dh"
   },
   "outputs": [],
   "source": [
    "image_dataset = image_dataset.map(\n",
    "  load_image, num_parallel_calls=tf.data.experimental.AUTOTUNE).batch(16) # map functional programming\n"
   ]
  },
  {
   "cell_type": "code",
   "execution_count": 27,
   "metadata": {
    "colab": {
     "base_uri": "https://localhost:8080/",
     "height": 34
    },
    "colab_type": "code",
    "id": "WuHJ7r5D_Pbr",
    "outputId": "7ebe02f8-d218-4d25-b0fe-d506038c676b"
   },
   "outputs": [
    {
     "data": {
      "text/plain": [
       "<BatchDataset shapes: ((None, 224, 224, 3), (None,)), types: (tf.float32, tf.string)>"
      ]
     },
     "execution_count": 27,
     "metadata": {},
     "output_type": "execute_result"
    }
   ],
   "source": [
    "image_dataset"
   ]
  },
  {
   "cell_type": "code",
   "execution_count": 28,
   "metadata": {
    "colab": {},
    "colab_type": "code",
    "id": "T-5dJ7fO9Btx"
   },
   "outputs": [
    {
     "name": "stderr",
     "output_type": "stream",
     "text": [
      "100%|██████████| 30/30 [00:49<00:00,  1.63s/it]\n"
     ]
    }
   ],
   "source": [
    "for img, path in tqdm(image_dataset):\n",
    "  batch_features = image_features_extract_model(img) # image features extractor model\n",
    "  batch_features = tf.reshape(batch_features,\n",
    "                              (batch_features.shape[0], -1, batch_features.shape[3]))\n",
    "\n",
    "  for bf, p in zip(batch_features, path): # bf : batch feature , p : path\n",
    "    path_of_feature = p.numpy().decode(\"utf-8\")\n",
    "    np.save(path_of_feature, bf.numpy())\n",
    "# - `store the resulting vector` `in a dictionary` (image_name --> feature_vector).\n",
    "# - you pickle the dictionary and save it to disk."
   ]
  },
  {
   "cell_type": "markdown",
   "metadata": {
    "colab_type": "text",
    "id": "nyqH3zFwRPFi"
   },
   "source": [
    "## Preprocess and tokenize the captions\n",
    "\n",
    "* First, you'll tokenize the captions (for example, by splitting on spaces). This gives us a  vocabulary of all of the unique words in the data (for example, \"surfing\", \"football\", and so on).\n",
    "* Next, you'll limit the vocabulary size to the top 5,000 words (to save memory). You'll replace all other words with the token \"UNK\" (unknown).\n",
    "* You then create word-to-index and index-to-word mappings.\n",
    "* Finally, you pad all sequences to be the same length as the longest one."
   ]
  },
  {
   "cell_type": "code",
   "execution_count": 29,
   "metadata": {
    "colab": {},
    "colab_type": "code",
    "id": "HZfK8RhQRPFj"
   },
   "outputs": [],
   "source": [
    "# Find the maximum length of any caption in our dataset\n",
    "def calc_max_length(tensor):\n",
    "    return max(len(t) for t in tensor)"
   ]
  },
  {
   "cell_type": "code",
   "execution_count": 30,
   "metadata": {
    "colab": {},
    "colab_type": "code",
    "id": "oJGE34aiRPFo"
   },
   "outputs": [],
   "source": [
    "# Choose the top 5000 words from the vocabulary\n",
    "top_k = 200\n",
    "tokenizer = tf.keras.preprocessing.text.Tokenizer(num_words=top_k,\n",
    "                                                  oov_token=\"<unk>\",\n",
    "                                                  filters='!\"#$%&()*+.,-/:;=?@[\\]^_`{|}~ ')\n",
    "tokenizer.fit_on_texts(train_captions)\n",
    "train_seqs = tokenizer.texts_to_sequences(train_captions)"
   ]
  },
  {
   "cell_type": "code",
   "execution_count": 31,
   "metadata": {
    "colab": {
     "base_uri": "https://localhost:8080/",
     "height": 104
    },
    "colab_type": "code",
    "id": "JtRJBtkuBv5q",
    "outputId": "11b3d3b0-a102-45bc-95f7-c28c2f3012b9"
   },
   "outputs": [
    {
     "data": {
      "text/plain": [
       "[[2, 17, 10, 87, 88, 89, 25, 26, 7, 3],\n",
       " [2, 51, 52, 7, 53, 54, 13, 55, 13, 3],\n",
       " [2, 11, 10, 43, 4, 5, 24, 3],\n",
       " [2, 60, 61, 29, 29, 32, 4, 5, 18, 3],\n",
       " [2, 14, 44, 36, 10, 45, 22, 46, 47, 3]]"
      ]
     },
     "execution_count": 31,
     "metadata": {},
     "output_type": "execute_result"
    }
   ],
   "source": [
    "train_seqs[:5]"
   ]
  },
  {
   "cell_type": "code",
   "execution_count": 32,
   "metadata": {
    "colab": {},
    "colab_type": "code",
    "id": "8Q44tNQVRPFt"
   },
   "outputs": [],
   "source": [
    "tokenizer.word_index['<pad>'] = 0\n",
    "tokenizer.index_word[0] = '<pad>'"
   ]
  },
  {
   "cell_type": "code",
   "execution_count": 33,
   "metadata": {
    "colab": {
     "base_uri": "https://localhost:8080/",
     "height": 34
    },
    "colab_type": "code",
    "id": "Sr055W_YD4R3",
    "outputId": "565a97bc-96c8-467b-86e7-76d15010eaa6"
   },
   "outputs": [
    {
     "data": {
      "text/plain": [
       "'<pad>'"
      ]
     },
     "execution_count": 33,
     "metadata": {},
     "output_type": "execute_result"
    }
   ],
   "source": [
    "tokenizer.index_word[0]"
   ]
  },
  {
   "cell_type": "code",
   "execution_count": 34,
   "metadata": {
    "colab": {
     "base_uri": "https://localhost:8080/",
     "height": 416
    },
    "colab_type": "code",
    "id": "t0Rx4CLlB85E",
    "outputId": "9e27054a-197e-4ae6-e464-fd1e29836de3"
   },
   "outputs": [
    {
     "name": "stdout",
     "output_type": "stream",
     "text": [
      "0 <unk> 1\n",
      "1 <start> 2\n",
      "2 <end> 3\n",
      "3 di 4\n",
      "4 tugu 5\n",
      "5 jeep 6\n",
      "6 gunung 7\n",
      "7 wisata 8\n",
      "8 malioboro 9\n",
      "9 yang 10\n",
      "10 sore 11\n",
      "----------\n",
      "0 1 <unk>\n",
      "1 2 <start>\n",
      "2 3 <end>\n",
      "3 4 di\n",
      "4 5 tugu\n",
      "5 6 jeep\n",
      "6 7 gunung\n",
      "7 8 wisata\n",
      "8 9 malioboro\n",
      "9 10 yang\n",
      "10 11 sore\n"
     ]
    }
   ],
   "source": [
    "# print(tokenizer.word_index.items()[:5])\n",
    "for i, (k,v) in enumerate(tokenizer.word_index.items()):\n",
    "  print(i,k,v)\n",
    "  if i == 10:\n",
    "    break\n",
    "# print(tokenizer.index_word.items()[:5])\n",
    "print(\"-\"*10)\n",
    "for i, (k,v) in enumerate(tokenizer.index_word.items()):\n",
    "  print(i,k,v)\n",
    "  if i == 10:\n",
    "    break"
   ]
  },
  {
   "cell_type": "code",
   "execution_count": 35,
   "metadata": {
    "colab": {
     "base_uri": "https://localhost:8080/",
     "height": 34
    },
    "colab_type": "code",
    "id": "1bUul5ljrelN",
    "outputId": "964ffa15-6539-4830-924a-bc27ecb8fea6"
   },
   "outputs": [
    {
     "data": {
      "text/plain": [
       "102"
      ]
     },
     "execution_count": 35,
     "metadata": {},
     "output_type": "execute_result"
    }
   ],
   "source": [
    "len(tokenizer.word_index.items())"
   ]
  },
  {
   "cell_type": "code",
   "execution_count": 36,
   "metadata": {
    "colab": {},
    "colab_type": "code",
    "id": "0fpJb5ojRPFv"
   },
   "outputs": [],
   "source": [
    "# Create the tokenized vectors\n",
    "train_seqs = tokenizer.texts_to_sequences(train_captions)"
   ]
  },
  {
   "cell_type": "code",
   "execution_count": 37,
   "metadata": {
    "colab": {
     "base_uri": "https://localhost:8080/",
     "height": 104
    },
    "colab_type": "code",
    "id": "LD8hcDo5KcJR",
    "outputId": "e76602de-6c6c-40c9-d14d-e54fec0a4eb4"
   },
   "outputs": [
    {
     "data": {
      "text/plain": [
       "[[2, 17, 10, 87, 88, 89, 25, 26, 7, 3],\n",
       " [2, 51, 52, 7, 53, 54, 13, 55, 13, 3],\n",
       " [2, 11, 10, 43, 4, 5, 24, 3],\n",
       " [2, 60, 61, 29, 29, 32, 4, 5, 18, 3],\n",
       " [2, 14, 44, 36, 10, 45, 22, 46, 47, 3]]"
      ]
     },
     "execution_count": 37,
     "metadata": {},
     "output_type": "execute_result"
    }
   ],
   "source": [
    "train_seqs[:5]"
   ]
  },
  {
   "cell_type": "code",
   "execution_count": 38,
   "metadata": {
    "colab": {},
    "colab_type": "code",
    "id": "AidglIZVRPF4"
   },
   "outputs": [],
   "source": [
    "# Pad each vector to the max_length of the captions\n",
    "# If you do not provide a max_length value, pad_sequences calculates it automatically\n",
    "cap_vector = tf.keras.preprocessing.sequence.pad_sequences(train_seqs, padding='post')"
   ]
  },
  {
   "cell_type": "code",
   "execution_count": 39,
   "metadata": {
    "colab": {
     "base_uri": "https://localhost:8080/",
     "height": 34
    },
    "colab_type": "code",
    "id": "xKlAHampKwlJ",
    "outputId": "728405bc-63e8-4c60-f490-dbca8c8b6668"
   },
   "outputs": [
    {
     "data": {
      "text/plain": [
       "(480, 13)"
      ]
     },
     "execution_count": 39,
     "metadata": {},
     "output_type": "execute_result"
    }
   ],
   "source": [
    "cap_vector.shape"
   ]
  },
  {
   "cell_type": "code",
   "execution_count": 40,
   "metadata": {
    "colab": {
     "base_uri": "https://localhost:8080/",
     "height": 104
    },
    "colab_type": "code",
    "id": "8YbiSQ40L3sR",
    "outputId": "7dd1ed2e-fccf-4d8a-9c6d-ad66b09e69fb"
   },
   "outputs": [
    {
     "data": {
      "text/plain": [
       "array([[ 2, 17, 10, 87, 88, 89, 25, 26,  7,  3,  0,  0,  0],\n",
       "       [ 2, 51, 52,  7, 53, 54, 13, 55, 13,  3,  0,  0,  0],\n",
       "       [ 2, 11, 10, 43,  4,  5, 24,  3,  0,  0,  0,  0,  0],\n",
       "       [ 2, 60, 61, 29, 29, 32,  4,  5, 18,  3,  0,  0,  0],\n",
       "       [ 2, 14, 44, 36, 10, 45, 22, 46, 47,  3,  0,  0,  0]], dtype=int32)"
      ]
     },
     "execution_count": 40,
     "metadata": {},
     "output_type": "execute_result"
    }
   ],
   "source": [
    "cap_vector[:5]"
   ]
  },
  {
   "cell_type": "code",
   "execution_count": 41,
   "metadata": {
    "colab": {},
    "colab_type": "code",
    "id": "gL0wkttkRPGA"
   },
   "outputs": [],
   "source": [
    "# Calculates the max_length, which is used to store the attention weights\n",
    "max_length = calc_max_length(train_seqs)"
   ]
  },
  {
   "cell_type": "code",
   "execution_count": 42,
   "metadata": {
    "colab": {
     "base_uri": "https://localhost:8080/",
     "height": 34
    },
    "colab_type": "code",
    "id": "kPGrUJzKK7Da",
    "outputId": "bcfc74d9-3183-4c76-bb1e-9e4f5dccc122"
   },
   "outputs": [
    {
     "data": {
      "text/plain": [
       "13"
      ]
     },
     "execution_count": 42,
     "metadata": {},
     "output_type": "execute_result"
    }
   ],
   "source": [
    "max_length"
   ]
  },
  {
   "cell_type": "markdown",
   "metadata": {
    "colab_type": "text",
    "id": "M3CD75nDpvTI"
   },
   "source": [
    "## Split the data into training and testing"
   ]
  },
  {
   "cell_type": "code",
   "execution_count": 43,
   "metadata": {
    "colab": {},
    "colab_type": "code",
    "id": "iS7DDMszRPGF"
   },
   "outputs": [],
   "source": [
    "# Create training and validation sets using an 80-20 split\n",
    "img_name_train, img_name_val, cap_train, cap_val = train_test_split(img_name_vector,\n",
    "                                                                    cap_vector,\n",
    "                                                                    test_size=0.2,\n",
    "                                                                    random_state=0)"
   ]
  },
  {
   "cell_type": "code",
   "execution_count": 44,
   "metadata": {
    "colab": {
     "base_uri": "https://localhost:8080/",
     "height": 34
    },
    "colab_type": "code",
    "id": "XmViPkRFRPGH",
    "outputId": "4873d346-a8eb-4697-98a0-ce30252db3b9"
   },
   "outputs": [
    {
     "data": {
      "text/plain": [
       "(384, 384, 96, 96)"
      ]
     },
     "execution_count": 44,
     "metadata": {},
     "output_type": "execute_result"
    }
   ],
   "source": [
    "len(img_name_train), len(cap_train), len(img_name_val), len(cap_val)"
   ]
  },
  {
   "cell_type": "code",
   "execution_count": 45,
   "metadata": {
    "colab": {
     "base_uri": "https://localhost:8080/",
     "height": 104
    },
    "colab_type": "code",
    "id": "m0H_zrIILb5p",
    "outputId": "a9f7f963-d871-4f0d-a99e-d2e7671d210f"
   },
   "outputs": [
    {
     "data": {
      "text/plain": [
       "['/home/yurio/mainan_yurio/img_cap_to_icitda/img_caption_dl_textAnalytic/dataset_vgg16/whatsapp_image_2019-06-18_at_21.32.11.jpg',\n",
       " '/home/yurio/mainan_yurio/img_cap_to_icitda/img_caption_dl_textAnalytic/dataset_vgg16/caozxvjw18reuq2h09tp.png',\n",
       " '/home/yurio/mainan_yurio/img_cap_to_icitda/img_caption_dl_textAnalytic/dataset_vgg16/eod0f8y6bntahxzlw2uv.jpg',\n",
       " '/home/yurio/mainan_yurio/img_cap_to_icitda/img_caption_dl_textAnalytic/dataset_vgg16/9nlpyqhv5mc2j743se8r.jpeg',\n",
       " '/home/yurio/mainan_yurio/img_cap_to_icitda/img_caption_dl_textAnalytic/dataset_vgg16/Jalan-Malioboro-1280x720.jpg']"
      ]
     },
     "execution_count": 45,
     "metadata": {},
     "output_type": "execute_result"
    }
   ],
   "source": [
    "img_name_train[:5]"
   ]
  },
  {
   "cell_type": "code",
   "execution_count": 46,
   "metadata": {
    "colab": {
     "base_uri": "https://localhost:8080/",
     "height": 104
    },
    "colab_type": "code",
    "id": "Xgb4UPCJLhwb",
    "outputId": "228fa8d7-5a72-46e3-9d36-2f32e49d716c"
   },
   "outputs": [
    {
     "data": {
      "text/plain": [
       "array([[ 2, 17, 75,  9, 76, 77, 78, 15,  3,  0,  0,  0,  0],\n",
       "       [ 2, 37,  4, 28, 23,  6, 38,  3,  0,  0,  0,  0,  0],\n",
       "       [ 2, 37,  4, 28, 23,  6, 38,  3,  0,  0,  0,  0,  0],\n",
       "       [ 2,  6, 27, 16, 96,  4,  8, 21,  3,  0,  0,  0,  0],\n",
       "       [ 2, 17, 75,  9, 76, 77, 78, 15,  3,  0,  0,  0,  0]], dtype=int32)"
      ]
     },
     "execution_count": 46,
     "metadata": {},
     "output_type": "execute_result"
    }
   ],
   "source": [
    "cap_train[:5]"
   ]
  },
  {
   "cell_type": "markdown",
   "metadata": {
    "colab_type": "text",
    "id": "uEWM9xrYcg45"
   },
   "source": [
    "## Create a tf.data dataset for training\n"
   ]
  },
  {
   "cell_type": "markdown",
   "metadata": {
    "colab_type": "text",
    "id": "horagNvhhZiy"
   },
   "source": [
    " Our images and captions are ready! Next, let's create a tf.data dataset to use for training our model."
   ]
  },
  {
   "cell_type": "code",
   "execution_count": 47,
   "metadata": {
    "colab": {},
    "colab_type": "code",
    "id": "Q3TnZ1ToRPGV"
   },
   "outputs": [],
   "source": [
    "# Feel free to change these parameters according to your system's configuration\n",
    "\n",
    "BATCH_SIZE = 64\n",
    "BUFFER_SIZE = 1000\n",
    "embedding_dim = 256\n",
    "units = 512\n",
    "vocab_size = top_k + 1\n",
    "num_steps = len(img_name_train) // BATCH_SIZE  # 384 / 64"
   ]
  },
  {
   "cell_type": "code",
   "execution_count": 48,
   "metadata": {
    "colab": {
     "base_uri": "https://localhost:8080/",
     "height": 34
    },
    "colab_type": "code",
    "id": "_UTQsTOEN-TD",
    "outputId": "9200b728-5ee8-48f1-b804-fd10a2bc76d7"
   },
   "outputs": [
    {
     "data": {
      "text/plain": [
       "6"
      ]
     },
     "execution_count": 48,
     "metadata": {},
     "output_type": "execute_result"
    }
   ],
   "source": [
    "num_steps"
   ]
  },
  {
   "cell_type": "code",
   "execution_count": 49,
   "metadata": {
    "colab": {},
    "colab_type": "code",
    "id": "FTegIHPWN8mq"
   },
   "outputs": [],
   "source": [
    "# Shape of the vector extracted from VGG16 is (49, 512)\n",
    "# These two variables represent that vector shape\n",
    "features_shape = 512\n",
    "attention_features_shape = 49"
   ]
  },
  {
   "cell_type": "code",
   "execution_count": 50,
   "metadata": {
    "colab": {},
    "colab_type": "code",
    "id": "SmZS2N0bXG3T"
   },
   "outputs": [],
   "source": [
    "# Load the numpy files\n",
    "def map_func(img_name, cap):\n",
    "  img_tensor = np.load(img_name.decode('utf-8')+'.npy')\n",
    "  return img_tensor, cap"
   ]
  },
  {
   "cell_type": "code",
   "execution_count": 51,
   "metadata": {
    "colab": {},
    "colab_type": "code",
    "id": "FDF_Nm3tRPGZ"
   },
   "outputs": [],
   "source": [
    "dataset = tf.data.Dataset.from_tensor_slices((img_name_train, cap_train))"
   ]
  },
  {
   "cell_type": "code",
   "execution_count": 52,
   "metadata": {
    "colab": {
     "base_uri": "https://localhost:8080/",
     "height": 34
    },
    "colab_type": "code",
    "id": "uYreg76zPlNR",
    "outputId": "c3441105-1128-4c0f-c8b2-dac507165b27"
   },
   "outputs": [
    {
     "data": {
      "text/plain": [
       "<TensorSliceDataset shapes: ((), (13,)), types: (tf.string, tf.int32)>"
      ]
     },
     "execution_count": 52,
     "metadata": {},
     "output_type": "execute_result"
    }
   ],
   "source": [
    "dataset"
   ]
  },
  {
   "cell_type": "code",
   "execution_count": 53,
   "metadata": {
    "colab": {},
    "colab_type": "code",
    "id": "3ctKhAAePhsV"
   },
   "outputs": [],
   "source": [
    "# Use map to load the numpy files in parallel\n",
    "dataset = dataset.map(lambda item1, item2: tf.numpy_function(\n",
    "          map_func, [item1, item2], [tf.float32, tf.int32]),\n",
    "          num_parallel_calls=tf.data.experimental.AUTOTUNE)"
   ]
  },
  {
   "cell_type": "code",
   "execution_count": 54,
   "metadata": {
    "colab": {
     "base_uri": "https://localhost:8080/",
     "height": 34
    },
    "colab_type": "code",
    "id": "uV2ukIF8QlaB",
    "outputId": "d745615f-5274-4869-da4a-db77a7c35e96"
   },
   "outputs": [
    {
     "data": {
      "text/plain": [
       "<ParallelMapDataset shapes: (<unknown>, <unknown>), types: (tf.float32, tf.int32)>"
      ]
     },
     "execution_count": 54,
     "metadata": {},
     "output_type": "execute_result"
    }
   ],
   "source": [
    "dataset"
   ]
  },
  {
   "cell_type": "code",
   "execution_count": 55,
   "metadata": {
    "colab": {},
    "colab_type": "code",
    "id": "So9A-j6dPjlC"
   },
   "outputs": [],
   "source": [
    "# Shuffle and batch\n",
    "dataset = dataset.shuffle(BUFFER_SIZE).batch(BATCH_SIZE)"
   ]
  },
  {
   "cell_type": "code",
   "execution_count": 56,
   "metadata": {
    "colab": {
     "base_uri": "https://localhost:8080/",
     "height": 34
    },
    "colab_type": "code",
    "id": "gcmA0EryRV3i",
    "outputId": "f0baf20a-516c-4a33-9e13-756997fe5de8"
   },
   "outputs": [
    {
     "data": {
      "text/plain": [
       "<BatchDataset shapes: (<unknown>, <unknown>), types: (tf.float32, tf.int32)>"
      ]
     },
     "execution_count": 56,
     "metadata": {},
     "output_type": "execute_result"
    }
   ],
   "source": [
    "dataset"
   ]
  },
  {
   "cell_type": "code",
   "execution_count": 57,
   "metadata": {
    "colab": {},
    "colab_type": "code",
    "id": "JJZmNZX-RK3T"
   },
   "outputs": [],
   "source": [
    "dataset = dataset.prefetch(buffer_size=tf.data.experimental.AUTOTUNE)"
   ]
  },
  {
   "cell_type": "code",
   "execution_count": 58,
   "metadata": {
    "colab": {
     "base_uri": "https://localhost:8080/",
     "height": 34
    },
    "colab_type": "code",
    "id": "_ykagxpQRyu1",
    "outputId": "eafbb293-d055-4909-972b-31c687564026"
   },
   "outputs": [
    {
     "data": {
      "text/plain": [
       "<PrefetchDataset shapes: (<unknown>, <unknown>), types: (tf.float32, tf.int32)>"
      ]
     },
     "execution_count": 58,
     "metadata": {},
     "output_type": "execute_result"
    }
   ],
   "source": [
    "dataset"
   ]
  },
  {
   "cell_type": "markdown",
   "metadata": {
    "colab_type": "text",
    "id": "nrvoDphgRPGd"
   },
   "source": [
    "## Model\n",
    "\n",
    "Fun fact: the decoder below is identical to the one in the example for [Neural Machine Translation with Attention](../sequences/nmt_with_attention.ipynb).\n",
    "\n",
    "The model architecture is inspired by the [Show, Attend and Tell](https://arxiv.org/pdf/1502.03044.pdf) paper.\n",
    "\n",
    "* In this example, you extract the features from the lower convolutional layer of InceptionV3 giving us a vector of shape (8, 8, 2048).\n",
    "* You squash that to a shape of (64, 2048).\n",
    "* This vector is then passed through the CNN Encoder (which consists of a single Fully connected layer).\n",
    "* The RNN (here GRU) attends over the image to predict the next word."
   ]
  },
  {
   "cell_type": "code",
   "execution_count": 59,
   "metadata": {
    "colab": {},
    "colab_type": "code",
    "id": "ja2LFTMSdeV3"
   },
   "outputs": [],
   "source": [
    "class BahdanauAttention(tf.keras.Model):\n",
    "  def __init__(self, units):\n",
    "    super(BahdanauAttention, self).__init__()\n",
    "    self.W1 = tf.keras.layers.Dense(units)\n",
    "    self.W2 = tf.keras.layers.Dense(units)\n",
    "    self.V = tf.keras.layers.Dense(1)\n",
    "\n",
    "  def call(self, features, hidden):\n",
    "    # features(CNN_encoder output) shape == (batch_size, 64, embedding_dim)\n",
    "\n",
    "    # hidden shape == (batch_size, hidden_size)\n",
    "    # hidden_with_time_axis shape == (batch_size, 1, hidden_size)\n",
    "    hidden_with_time_axis = tf.expand_dims(hidden, 1)\n",
    "\n",
    "    # score shape == (batch_size, 64, hidden_size)\n",
    "    score = tf.nn.tanh(self.W1(features) + self.W2(hidden_with_time_axis)) # vector_size 512 + vector_size 512\n",
    "\n",
    "    # attention_weights shape == (batch_size, 64, 1) # from 512 --> 1 fc\n",
    "    # you get 1 at the last axis because you are applying score to self.V\n",
    "    attention_weights = tf.nn.softmax(self.V(score), axis=1)\n",
    "    print(\"attention_weights: \",attention_weights)\n",
    "\n",
    "    # context_vector shape after sum == (batch_size, hidden_size)\n",
    "    context_vector = attention_weights * features # dot_prod feature x attention\n",
    "    context_vector = tf.reduce_sum(context_vector, axis=1) # vector sum\n",
    "\n",
    "    return context_vector, attention_weights"
   ]
  },
  {
   "cell_type": "code",
   "execution_count": 60,
   "metadata": {
    "colab": {},
    "colab_type": "code",
    "id": "AZ7R1RxHRPGf"
   },
   "outputs": [],
   "source": [
    "class CNN_Encoder(tf.keras.Model):\n",
    "    # Since you have already extracted the features and dumped it using pickle\n",
    "    # This encoder passes those features through a Fully connected layer\n",
    "    def __init__(self, embedding_dim):\n",
    "        super(CNN_Encoder, self).__init__()\n",
    "        # shape after fc == (batch_size, 64, embedding_dim)\n",
    "        self.fc = tf.keras.layers.Dense(embedding_dim)\n",
    "\n",
    "    def call(self, x):\n",
    "        x = self.fc(x)\n",
    "        x = tf.nn.relu(x)\n",
    "        return x"
   ]
  },
  {
   "cell_type": "code",
   "execution_count": 61,
   "metadata": {
    "colab": {},
    "colab_type": "code",
    "id": "V9UbGQmERPGi"
   },
   "outputs": [],
   "source": [
    "class RNN_Decoder(tf.keras.Model):\n",
    "  def __init__(self, embedding_dim, units, vocab_size):\n",
    "    super(RNN_Decoder, self).__init__()\n",
    "    self.units = units\n",
    "\n",
    "    self.embedding = tf.keras.layers.Embedding(vocab_size, embedding_dim)\n",
    "    self.gru = tf.keras.layers.GRU(self.units,\n",
    "                                   return_sequences=True,\n",
    "                                   return_state=True,\n",
    "                                   recurrent_initializer='glorot_uniform')\n",
    "    self.fc1 = tf.keras.layers.Dense(self.units)\n",
    "    self.fc2 = tf.keras.layers.Dense(vocab_size)\n",
    "\n",
    "    self.attention = BahdanauAttention(self.units)\n",
    "\n",
    "  def call(self, x, features, hidden):\n",
    "    # defining attention as a separate model\n",
    "    context_vector, attention_weights = self.attention(features, hidden)\n",
    "\n",
    "    # x shape after passing through embedding == (batch_size, 1, embedding_dim)\n",
    "    x = self.embedding(x)\n",
    "\n",
    "    # x shape after concatenation == (batch_size, 1, embedding_dim + hidden_size)\n",
    "    x = tf.concat([tf.expand_dims(context_vector, 1), x], axis=-1)\n",
    "\n",
    "    # passing the concatenated vector to the GRU\n",
    "    output, state = self.gru(x)\n",
    "\n",
    "    # shape == (batch_size, max_length, hidden_size)\n",
    "    x = self.fc1(output)\n",
    "\n",
    "    # x shape == (batch_size * max_length, hidden_size)\n",
    "    x = tf.reshape(x, (-1, x.shape[2]))\n",
    "\n",
    "    # output shape == (batch_size * max_length, vocab)\n",
    "    x = self.fc2(x)\n",
    "\n",
    "    return x, state, attention_weights\n",
    "\n",
    "  def reset_state(self, batch_size):\n",
    "    return tf.zeros((batch_size, self.units))"
   ]
  },
  {
   "cell_type": "code",
   "execution_count": 62,
   "metadata": {
    "colab": {},
    "colab_type": "code",
    "id": "Qs_Sr03wRPGk"
   },
   "outputs": [],
   "source": [
    "encoder = CNN_Encoder(embedding_dim)\n",
    "decoder = RNN_Decoder(embedding_dim, units, vocab_size)"
   ]
  },
  {
   "cell_type": "code",
   "execution_count": 63,
   "metadata": {
    "colab": {},
    "colab_type": "code",
    "id": "-bYN7xA0RPGl"
   },
   "outputs": [],
   "source": [
    "optimizer = tf.keras.optimizers.Adam()\n",
    "loss_object = tf.keras.losses.SparseCategoricalCrossentropy(\n",
    "    from_logits=True, reduction='none')\n",
    "\n",
    "def loss_function(real, pred):\n",
    "  mask = tf.math.logical_not(tf.math.equal(real, 0))\n",
    "  loss_ = loss_object(real, pred)\n",
    "\n",
    "  mask = tf.cast(mask, dtype=loss_.dtype)\n",
    "  loss_ *= mask\n",
    "\n",
    "  return tf.reduce_mean(loss_)"
   ]
  },
  {
   "cell_type": "markdown",
   "metadata": {
    "colab_type": "text",
    "id": "6A3Ni64joyab"
   },
   "source": [
    "## Checkpoint"
   ]
  },
  {
   "cell_type": "code",
   "execution_count": 64,
   "metadata": {
    "colab": {},
    "colab_type": "code",
    "id": "PpJAqPMWo0uE"
   },
   "outputs": [],
   "source": [
    "checkpoint_path = PATH + \"/checkpoints/ivgg16\"\n",
    "ckpt = tf.train.Checkpoint(encoder=encoder,\n",
    "                           decoder=decoder,\n",
    "                           optimizer = optimizer)\n",
    "ckpt_manager = tf.train.CheckpointManager(ckpt, checkpoint_path, max_to_keep=5)"
   ]
  },
  {
   "cell_type": "code",
   "execution_count": 65,
   "metadata": {
    "colab": {},
    "colab_type": "code",
    "id": "fUkbqhc_uObw"
   },
   "outputs": [],
   "source": [
    "start_epoch = 0\n",
    "if ckpt_manager.latest_checkpoint:\n",
    "  start_epoch = int(ckpt_manager.latest_checkpoint.split('-')[-1])\n",
    "  # restoring the latest checkpoint in checkpoint_path\n",
    "  ckpt.restore(ckpt_manager.latest_checkpoint)"
   ]
  },
  {
   "cell_type": "markdown",
   "metadata": {
    "colab_type": "text",
    "id": "PHod7t72RPGn"
   },
   "source": [
    "## Training\n",
    "\n",
    "* You extract the features stored in the respective `.npy` files and then pass those features through the encoder.\n",
    "* The encoder output, hidden state(initialized to 0) and the decoder input (which is the start token) is passed to the decoder.\n",
    "* The decoder returns the predictions and the decoder hidden state.\n",
    "* The decoder hidden state is then passed back into the model and the predictions are used to calculate the loss.\n",
    "* Use teacher forcing to decide the next input to the decoder.\n",
    "* Teacher forcing is the technique where the target word is passed as the next input to the decoder.\n",
    "* The final step is to calculate the gradients and apply it to the optimizer and backpropagate.\n"
   ]
  },
  {
   "cell_type": "code",
   "execution_count": 66,
   "metadata": {
    "colab": {},
    "colab_type": "code",
    "id": "Vt4WZ5mhJE-E"
   },
   "outputs": [],
   "source": [
    "# adding this in a separate cell because if you run the training cell\n",
    "# many times, the loss_plot array will be reset\n",
    "loss_plot = []"
   ]
  },
  {
   "cell_type": "code",
   "execution_count": 67,
   "metadata": {
    "colab": {},
    "colab_type": "code",
    "id": "sqgyz2ANKlpU"
   },
   "outputs": [],
   "source": [
    "@tf.function\n",
    "def train_step(img_tensor, target): # input from img tensor, n target word captions\n",
    "  loss = 0\n",
    "\n",
    "  # initializing the hidden state for each batch\n",
    "  # because the captions are not related from image to image\n",
    "  hidden = decoder.reset_state(batch_size=target.shape[0])\n",
    "\n",
    "  dec_input = tf.expand_dims([tokenizer.word_index['<start>']] * target.shape[0], 1) # decide input\n",
    "  \n",
    "  print(\"target.shape[0]: \", target.shape[0])\n",
    "  print(\"dec_input: \", dec_input)\n",
    "\n",
    "  with tf.GradientTape() as tape:\n",
    "      features = encoder(img_tensor)  # 64 x 256\n",
    "      print(\"target.shape[1]: \", target.shape[1])\n",
    "\n",
    "      for i in range(1, target.shape[1]): # loop over the target\n",
    "          # passing the features through the decoder\n",
    "          # overwrite hidden from attention\n",
    "          predictions, hidden, _ = decoder(dec_input, features, hidden)\n",
    "          print(i)\n",
    "\n",
    "          loss += loss_function(target[:, i], predictions)\n",
    "          print(\"target[:, i]: \", target[:, i])\n",
    "\n",
    "          # using teacher forcing # overwrite new decide_input\n",
    "          dec_input = tf.expand_dims(target[:, i], 1)\n",
    "\n",
    "  total_loss = (loss / int(target.shape[1]))\n",
    "\n",
    "  trainable_variables = encoder.trainable_variables + decoder.trainable_variables\n",
    "\n",
    "  gradients = tape.gradient(loss, trainable_variables)\n",
    "\n",
    "  optimizer.apply_gradients(zip(gradients, trainable_variables))\n",
    "\n",
    "  return loss, total_loss"
   ]
  },
  {
   "cell_type": "code",
   "execution_count": 68,
   "metadata": {
    "colab": {
     "base_uri": "https://localhost:8080/",
     "height": 1000
    },
    "colab_type": "code",
    "id": "UlA4VIQpRPGo",
    "outputId": "776b2542-959d-482e-e743-b2d705717b98"
   },
   "outputs": [
    {
     "name": "stdout",
     "output_type": "stream",
     "text": [
      "target.shape[0]:  64\n",
      "dec_input:  Tensor(\"ExpandDims:0\", shape=(64, 1), dtype=int32)\n",
      "target.shape[1]:  13\n",
      "attention_weights:  Tensor(\"rnn__decoder/bahdanau_attention/transpose_1:0\", shape=(64, 49, 1), dtype=float32)\n",
      "1\n",
      "target[:, i]:  Tensor(\"strided_slice_1:0\", shape=(64,), dtype=int32)\n",
      "attention_weights:  Tensor(\"rnn__decoder/bahdanau_attention/transpose_3:0\", shape=(64, 49, 1), dtype=float32)\n",
      "2\n",
      "target[:, i]:  Tensor(\"strided_slice_4:0\", shape=(64,), dtype=int32)\n",
      "attention_weights:  Tensor(\"rnn__decoder/bahdanau_attention/transpose_5:0\", shape=(64, 49, 1), dtype=float32)\n",
      "3\n",
      "target[:, i]:  Tensor(\"strided_slice_7:0\", shape=(64,), dtype=int32)\n",
      "attention_weights:  Tensor(\"rnn__decoder/bahdanau_attention/transpose_7:0\", shape=(64, 49, 1), dtype=float32)\n",
      "4\n",
      "target[:, i]:  Tensor(\"strided_slice_10:0\", shape=(64,), dtype=int32)\n",
      "attention_weights:  Tensor(\"rnn__decoder/bahdanau_attention/transpose_9:0\", shape=(64, 49, 1), dtype=float32)\n",
      "5\n",
      "target[:, i]:  Tensor(\"strided_slice_13:0\", shape=(64,), dtype=int32)\n",
      "attention_weights:  Tensor(\"rnn__decoder/bahdanau_attention/transpose_11:0\", shape=(64, 49, 1), dtype=float32)\n",
      "6\n",
      "target[:, i]:  Tensor(\"strided_slice_16:0\", shape=(64,), dtype=int32)\n",
      "attention_weights:  Tensor(\"rnn__decoder/bahdanau_attention/transpose_13:0\", shape=(64, 49, 1), dtype=float32)\n",
      "7\n",
      "target[:, i]:  Tensor(\"strided_slice_19:0\", shape=(64,), dtype=int32)\n",
      "attention_weights:  Tensor(\"rnn__decoder/bahdanau_attention/transpose_15:0\", shape=(64, 49, 1), dtype=float32)\n",
      "8\n",
      "target[:, i]:  Tensor(\"strided_slice_22:0\", shape=(64,), dtype=int32)\n",
      "attention_weights:  Tensor(\"rnn__decoder/bahdanau_attention/transpose_17:0\", shape=(64, 49, 1), dtype=float32)\n",
      "9\n",
      "target[:, i]:  Tensor(\"strided_slice_25:0\", shape=(64,), dtype=int32)\n",
      "attention_weights:  Tensor(\"rnn__decoder/bahdanau_attention/transpose_19:0\", shape=(64, 49, 1), dtype=float32)\n",
      "10\n",
      "target[:, i]:  Tensor(\"strided_slice_28:0\", shape=(64,), dtype=int32)\n",
      "attention_weights:  Tensor(\"rnn__decoder/bahdanau_attention/transpose_21:0\", shape=(64, 49, 1), dtype=float32)\n",
      "11\n",
      "target[:, i]:  Tensor(\"strided_slice_31:0\", shape=(64,), dtype=int32)\n",
      "attention_weights:  Tensor(\"rnn__decoder/bahdanau_attention/transpose_23:0\", shape=(64, 49, 1), dtype=float32)\n",
      "12\n",
      "target[:, i]:  Tensor(\"strided_slice_34:0\", shape=(64,), dtype=int32)\n",
      "target.shape[0]:  64\n",
      "dec_input:  Tensor(\"ExpandDims:0\", shape=(64, 1), dtype=int32)\n",
      "target.shape[1]:  13\n",
      "attention_weights:  Tensor(\"rnn__decoder/bahdanau_attention/transpose_1:0\", shape=(64, 49, 1), dtype=float32)\n",
      "1\n",
      "target[:, i]:  Tensor(\"strided_slice_1:0\", shape=(64,), dtype=int32)\n",
      "attention_weights:  Tensor(\"rnn__decoder/bahdanau_attention/transpose_3:0\", shape=(64, 49, 1), dtype=float32)\n",
      "2\n",
      "target[:, i]:  Tensor(\"strided_slice_4:0\", shape=(64,), dtype=int32)\n",
      "attention_weights:  Tensor(\"rnn__decoder/bahdanau_attention/transpose_5:0\", shape=(64, 49, 1), dtype=float32)\n",
      "3\n",
      "target[:, i]:  Tensor(\"strided_slice_7:0\", shape=(64,), dtype=int32)\n",
      "attention_weights:  Tensor(\"rnn__decoder/bahdanau_attention/transpose_7:0\", shape=(64, 49, 1), dtype=float32)\n",
      "4\n",
      "target[:, i]:  Tensor(\"strided_slice_10:0\", shape=(64,), dtype=int32)\n",
      "attention_weights:  Tensor(\"rnn__decoder/bahdanau_attention/transpose_9:0\", shape=(64, 49, 1), dtype=float32)\n",
      "5\n",
      "target[:, i]:  Tensor(\"strided_slice_13:0\", shape=(64,), dtype=int32)\n",
      "attention_weights:  Tensor(\"rnn__decoder/bahdanau_attention/transpose_11:0\", shape=(64, 49, 1), dtype=float32)\n",
      "6\n",
      "target[:, i]:  Tensor(\"strided_slice_16:0\", shape=(64,), dtype=int32)\n",
      "attention_weights:  Tensor(\"rnn__decoder/bahdanau_attention/transpose_13:0\", shape=(64, 49, 1), dtype=float32)\n",
      "7\n",
      "target[:, i]:  Tensor(\"strided_slice_19:0\", shape=(64,), dtype=int32)\n",
      "attention_weights:  Tensor(\"rnn__decoder/bahdanau_attention/transpose_15:0\", shape=(64, 49, 1), dtype=float32)\n",
      "8\n",
      "target[:, i]:  Tensor(\"strided_slice_22:0\", shape=(64,), dtype=int32)\n",
      "attention_weights:  Tensor(\"rnn__decoder/bahdanau_attention/transpose_17:0\", shape=(64, 49, 1), dtype=float32)\n",
      "9\n",
      "target[:, i]:  Tensor(\"strided_slice_25:0\", shape=(64,), dtype=int32)\n",
      "attention_weights:  Tensor(\"rnn__decoder/bahdanau_attention/transpose_19:0\", shape=(64, 49, 1), dtype=float32)\n",
      "10\n",
      "target[:, i]:  Tensor(\"strided_slice_28:0\", shape=(64,), dtype=int32)\n",
      "attention_weights:  Tensor(\"rnn__decoder/bahdanau_attention/transpose_21:0\", shape=(64, 49, 1), dtype=float32)\n",
      "11\n",
      "target[:, i]:  Tensor(\"strided_slice_31:0\", shape=(64,), dtype=int32)\n",
      "attention_weights:  Tensor(\"rnn__decoder/bahdanau_attention/transpose_23:0\", shape=(64, 49, 1), dtype=float32)\n",
      "12\n",
      "target[:, i]:  Tensor(\"strided_slice_34:0\", shape=(64,), dtype=int32)\n",
      "Epoch 1 Batch 0 Loss 3.2016\n",
      "Epoch 1 Loss 2.709948\n",
      "Time taken for 1 epoch 6.9780638217926025 sec\n",
      "\n",
      "Epoch 2 Batch 0 Loss 2.2660\n",
      "Epoch 2 Loss 2.125890\n",
      "Time taken for 1 epoch 0.2863943576812744 sec\n",
      "\n",
      "Epoch 3 Batch 0 Loss 1.9706\n",
      "Epoch 3 Loss 1.875646\n",
      "Time taken for 1 epoch 0.2867007255554199 sec\n",
      "\n",
      "Epoch 4 Batch 0 Loss 1.7588\n",
      "Epoch 4 Loss 1.709457\n",
      "Time taken for 1 epoch 0.2877323627471924 sec\n",
      "\n",
      "Epoch 5 Batch 0 Loss 1.6385\n",
      "Epoch 5 Loss 1.605129\n",
      "Time taken for 1 epoch 0.2806072235107422 sec\n",
      "\n"
     ]
    }
   ],
   "source": [
    "EPOCHS = 5\n",
    "\n",
    "for epoch in range(start_epoch, EPOCHS):\n",
    "    start = time.time()\n",
    "    total_loss = 0\n",
    "\n",
    "    for (batch, (img_tensor, target)) in enumerate(dataset):\n",
    "        batch_loss, t_loss = train_step(img_tensor, target)\n",
    "        total_loss += t_loss\n",
    "\n",
    "        if batch % 100 == 0:\n",
    "            print ('Epoch {} Batch {} Loss {:.4f}'.format(\n",
    "              epoch + 1, batch, batch_loss.numpy() / int(target.shape[1])))\n",
    "    # storing the epoch end loss value to plot later\n",
    "    loss_plot.append(total_loss / num_steps)\n",
    "\n",
    "    if epoch % 5 == 0:\n",
    "      ckpt_manager.save()\n",
    "\n",
    "    print ('Epoch {} Loss {:.6f}'.format(epoch + 1,\n",
    "                                         total_loss/num_steps))\n",
    "    print ('Time taken for 1 epoch {} sec\\n'.format(time.time() - start))"
   ]
  },
  {
   "cell_type": "code",
   "execution_count": 69,
   "metadata": {
    "colab": {
     "base_uri": "https://localhost:8080/",
     "height": 294
    },
    "colab_type": "code",
    "id": "1Wm83G-ZBPcC",
    "outputId": "2733cd4e-40c2-4c91-86ad-d522c1aae45a"
   },
   "outputs": [
    {
     "data": {
      "image/png": "[encoded data removed]",
      "text/plain": [
       "<Figure size 432x288 with 1 Axes>"
      ]
     },
     "metadata": {
      "needs_background": "light"
     },
     "output_type": "display_data"
    }
   ],
   "source": [
    "plt.plot(loss_plot)\n",
    "plt.xlabel('Epochs')\n",
    "plt.ylabel('Loss')\n",
    "plt.title('Loss Plot')\n",
    "plt.show()"
   ]
  },
  {
   "cell_type": "markdown",
   "metadata": {
    "colab_type": "text",
    "id": "xGvOcLQKghXN"
   },
   "source": [
    "## Caption!\n",
    "\n",
    "* The evaluate function is similar to the training loop, except you don't use teacher forcing here. The input to the decoder at each time step is its previous predictions along with the hidden state and the encoder output.\n",
    "* Stop predicting when the model predicts the end token.\n",
    "* And store the attention weights for every time step."
   ]
  },
  {
   "cell_type": "code",
   "execution_count": 70,
   "metadata": {
    "colab": {},
    "colab_type": "code",
    "id": "RCWpDtyNRPGs"
   },
   "outputs": [],
   "source": [
    "def evaluate(image):\n",
    "    attention_plot = np.zeros((max_length, attention_features_shape))\n",
    "\n",
    "    hidden = decoder.reset_state(batch_size=1)\n",
    "\n",
    "    temp_input = tf.expand_dims(load_image(image)[0], 0)\n",
    "    img_tensor_val = image_features_extract_model(temp_input)\n",
    "    img_tensor_val = tf.reshape(img_tensor_val, (img_tensor_val.shape[0], -1, img_tensor_val.shape[3]))\n",
    "\n",
    "    features = encoder(img_tensor_val)\n",
    "\n",
    "    dec_input = tf.expand_dims([tokenizer.word_index['<start>']], 0)\n",
    "    result = []\n",
    "\n",
    "    for i in range(max_length):\n",
    "        predictions, hidden, attention_weights = decoder(dec_input, features, hidden)\n",
    "\n",
    "        attention_plot[i] = tf.reshape(attention_weights, (-1, )).numpy()\n",
    "\n",
    "        predicted_id = tf.random.categorical(predictions, 1)[0][0].numpy()\n",
    "        result.append(tokenizer.index_word[predicted_id])\n",
    "\n",
    "        if tokenizer.index_word[predicted_id] == '<end>':\n",
    "            return result, attention_plot\n",
    "\n",
    "        dec_input = tf.expand_dims([predicted_id], 0)\n",
    "\n",
    "    attention_plot = attention_plot[:len(result), :]\n",
    "    return result, attention_plot"
   ]
  },
  {
   "cell_type": "code",
   "execution_count": 71,
   "metadata": {
    "colab": {},
    "colab_type": "code",
    "id": "fD_y7PD6RPGt"
   },
   "outputs": [],
   "source": [
    "def plot_attention(image, result, attention_plot):\n",
    "    temp_image = np.array(Image.open(image))\n",
    "\n",
    "    fig = plt.figure(figsize=(10, 10))\n",
    "\n",
    "    len_result = len(result)\n",
    "    for l in range(len_result):\n",
    "        temp_att = np.resize(attention_plot[l], (8, 8))\n",
    "        ax = fig.add_subplot(len_result//2, len_result//2, l+1)\n",
    "        ax.set_title(result[l])\n",
    "        img = ax.imshow(temp_image)\n",
    "        ax.imshow(temp_att, cmap='gray', alpha=0.6, extent=img.get_extent())\n",
    "\n",
    "    plt.tight_layout()\n",
    "    plt.show()"
   ]
  },
  {
   "cell_type": "code",
   "execution_count": 72,
   "metadata": {
    "colab": {
     "base_uri": "https://localhost:8080/",
     "height": 1000
    },
    "colab_type": "code",
    "id": "7x8RiPHe_4qI",
    "outputId": "4ec7dfb6-0cf9-431a-edbb-f47391d87936"
   },
   "outputs": [
    {
     "name": "stdout",
     "output_type": "stream",
     "text": [
      "attention_weights:  tf.Tensor(\n",
      "[[[0.01071683]\n",
      "  [0.01832492]\n",
      "  [0.01687386]\n",
      "  [0.02602408]\n",
      "  [0.02917871]\n",
      "  [0.02188519]\n",
      "  [0.01437874]\n",
      "  [0.00661689]\n",
      "  [0.02095448]\n",
      "  [0.0218557 ]\n",
      "  [0.11609107]\n",
      "  [0.01492829]\n",
      "  [0.01407416]\n",
      "  [0.03634207]\n",
      "  [0.00715676]\n",
      "  [0.00926789]\n",
      "  [0.01954273]\n",
      "  [0.04154238]\n",
      "  [0.01646854]\n",
      "  [0.03681174]\n",
      "  [0.01526936]\n",
      "  [0.01229433]\n",
      "  [0.00905893]\n",
      "  [0.02512572]\n",
      "  [0.05666037]\n",
      "  [0.1275988 ]\n",
      "  [0.01509757]\n",
      "  [0.06552129]\n",
      "  [0.00542474]\n",
      "  [0.02498573]\n",
      "  [0.00792013]\n",
      "  [0.00214142]\n",
      "  [0.04361026]\n",
      "  [0.02351889]\n",
      "  [0.00883831]\n",
      "  [0.01943947]\n",
      "  [0.00698508]\n",
      "  [0.00209895]\n",
      "  [0.00065554]\n",
      "  [0.00535424]\n",
      "  [0.00223525]\n",
      "  [0.00321549]\n",
      "  [0.00713241]\n",
      "  [0.00063863]\n",
      "  [0.00098784]\n",
      "  [0.00314739]\n",
      "  [0.00424887]\n",
      "  [0.00071445]\n",
      "  [0.0010455 ]]], shape=(1, 49, 1), dtype=float32)\n",
      "attention_weights:  tf.Tensor(\n",
      "[[[1.02789765e-02]\n",
      "  [5.42880893e-02]\n",
      "  [7.40789920e-02]\n",
      "  [8.70507509e-02]\n",
      "  [1.00904398e-01]\n",
      "  [1.15384601e-01]\n",
      "  [1.00575797e-02]\n",
      "  [5.42731397e-03]\n",
      "  [4.47100773e-02]\n",
      "  [1.21797686e-02]\n",
      "  [2.10768804e-02]\n",
      "  [2.36283010e-03]\n",
      "  [1.38221271e-02]\n",
      "  [2.29584631e-02]\n",
      "  [1.33730387e-02]\n",
      "  [3.02506257e-02]\n",
      "  [3.70694208e-03]\n",
      "  [6.13196334e-03]\n",
      "  [2.82144640e-03]\n",
      "  [7.14055002e-02]\n",
      "  [1.13226259e-02]\n",
      "  [1.13402568e-02]\n",
      "  [1.05961245e-02]\n",
      "  [5.17467642e-03]\n",
      "  [8.40224884e-03]\n",
      "  [4.31144461e-02]\n",
      "  [6.22118749e-02]\n",
      "  [6.62531182e-02]\n",
      "  [9.18357167e-03]\n",
      "  [5.04903821e-03]\n",
      "  [1.16064982e-03]\n",
      "  [3.81728285e-04]\n",
      "  [1.27969496e-02]\n",
      "  [1.97166391e-02]\n",
      "  [5.98695129e-03]\n",
      "  [1.10335909e-02]\n",
      "  [1.41494290e-03]\n",
      "  [3.99633311e-04]\n",
      "  [1.03395796e-04]\n",
      "  [8.30356323e-04]\n",
      "  [6.45885535e-04]\n",
      "  [9.31829447e-04]\n",
      "  [2.99127284e-03]\n",
      "  [2.11843682e-04]\n",
      "  [2.91296310e-04]\n",
      "  [1.77180697e-03]\n",
      "  [3.87911452e-03]\n",
      "  [2.37408021e-04]\n",
      "  [2.96356564e-04]]], shape=(1, 49, 1), dtype=float32)\n",
      "attention_weights:  tf.Tensor(\n",
      "[[[0.00968327]\n",
      "  [0.05344743]\n",
      "  [0.07905984]\n",
      "  [0.08819252]\n",
      "  [0.09834632]\n",
      "  [0.09927106]\n",
      "  [0.00999411]\n",
      "  [0.00536001]\n",
      "  [0.03893945]\n",
      "  [0.01206689]\n",
      "  [0.0215677 ]\n",
      "  [0.00303756]\n",
      "  [0.01471344]\n",
      "  [0.02581345]\n",
      "  [0.01647593]\n",
      "  [0.02796729]\n",
      "  [0.00414558]\n",
      "  [0.00738765]\n",
      "  [0.0031312 ]\n",
      "  [0.06576415]\n",
      "  [0.01169831]\n",
      "  [0.01174017]\n",
      "  [0.00868412]\n",
      "  [0.00545577]\n",
      "  [0.00991769]\n",
      "  [0.04150806]\n",
      "  [0.07099877]\n",
      "  [0.06685122]\n",
      "  [0.011714  ]\n",
      "  [0.00659789]\n",
      "  [0.00136699]\n",
      "  [0.00046349]\n",
      "  [0.01355478]\n",
      "  [0.02147177]\n",
      "  [0.00626955]\n",
      "  [0.0115104 ]\n",
      "  [0.00193624]\n",
      "  [0.00056106]\n",
      "  [0.00011713]\n",
      "  [0.00096981]\n",
      "  [0.00070925]\n",
      "  [0.0010435 ]\n",
      "  [0.003488  ]\n",
      "  [0.0002262 ]\n",
      "  [0.00037961]\n",
      "  [0.0022216 ]\n",
      "  [0.00362827]\n",
      "  [0.0002206 ]\n",
      "  [0.00033088]]], shape=(1, 49, 1), dtype=float32)\n",
      "attention_weights:  tf.Tensor(\n",
      "[[[0.00954581]\n",
      "  [0.05368863]\n",
      "  [0.07980082]\n",
      "  [0.08926582]\n",
      "  [0.09907883]\n",
      "  [0.10044891]\n",
      "  [0.0099076 ]\n",
      "  [0.00532008]\n",
      "  [0.03941629]\n",
      "  [0.01175429]\n",
      "  [0.02098506]\n",
      "  [0.00298462]\n",
      "  [0.01473515]\n",
      "  [0.02542302]\n",
      "  [0.01657423]\n",
      "  [0.02827038]\n",
      "  [0.00403831]\n",
      "  [0.00712649]\n",
      "  [0.00303222]\n",
      "  [0.06633158]\n",
      "  [0.01162007]\n",
      "  [0.01169411]\n",
      "  [0.00863999]\n",
      "  [0.00531821]\n",
      "  [0.00965562]\n",
      "  [0.04086407]\n",
      "  [0.07096086]\n",
      "  [0.06615899]\n",
      "  [0.0115554 ]\n",
      "  [0.00644577]\n",
      "  [0.00131691]\n",
      "  [0.00044653]\n",
      "  [0.01353968]\n",
      "  [0.02095828]\n",
      "  [0.00612689]\n",
      "  [0.01138346]\n",
      "  [0.00189336]\n",
      "  [0.00054557]\n",
      "  [0.00011423]\n",
      "  [0.0009437 ]\n",
      "  [0.00069691]\n",
      "  [0.00102096]\n",
      "  [0.00345553]\n",
      "  [0.00022282]\n",
      "  [0.00036583]\n",
      "  [0.00217444]\n",
      "  [0.00360634]\n",
      "  [0.00021866]\n",
      "  [0.00032876]]], shape=(1, 49, 1), dtype=float32)\n",
      "attention_weights:  tf.Tensor(\n",
      "[[[0.00961944]\n",
      "  [0.05315866]\n",
      "  [0.07942707]\n",
      "  [0.08889164]\n",
      "  [0.09832322]\n",
      "  [0.09926908]\n",
      "  [0.00992421]\n",
      "  [0.00535831]\n",
      "  [0.0391853 ]\n",
      "  [0.01189162]\n",
      "  [0.021342  ]\n",
      "  [0.00301956]\n",
      "  [0.0147056 ]\n",
      "  [0.02559901]\n",
      "  [0.0165672 ]\n",
      "  [0.0281632 ]\n",
      "  [0.00411377]\n",
      "  [0.00732809]\n",
      "  [0.00308107]\n",
      "  [0.0662315 ]\n",
      "  [0.01173711]\n",
      "  [0.01179321]\n",
      "  [0.00871637]\n",
      "  [0.0054089 ]\n",
      "  [0.0098806 ]\n",
      "  [0.04149013]\n",
      "  [0.0708001 ]\n",
      "  [0.06665961]\n",
      "  [0.01167447]\n",
      "  [0.00655037]\n",
      "  [0.0013434 ]\n",
      "  [0.00045307]\n",
      "  [0.01376798]\n",
      "  [0.02117367]\n",
      "  [0.00620653]\n",
      "  [0.01141287]\n",
      "  [0.00191162]\n",
      "  [0.00055716]\n",
      "  [0.00011594]\n",
      "  [0.00096066]\n",
      "  [0.00070484]\n",
      "  [0.0010343 ]\n",
      "  [0.00346505]\n",
      "  [0.00022518]\n",
      "  [0.00037053]\n",
      "  [0.00220657]\n",
      "  [0.00362613]\n",
      "  [0.00022112]\n",
      "  [0.0003329 ]]], shape=(1, 49, 1), dtype=float32)\n",
      "attention_weights:  tf.Tensor(\n",
      "[[[0.0096101 ]\n",
      "  [0.05327328]\n",
      "  [0.07966306]\n",
      "  [0.0886286 ]\n",
      "  [0.09824722]\n",
      "  [0.09938218]\n",
      "  [0.00999822]\n",
      "  [0.00538142]\n",
      "  [0.03928258]\n",
      "  [0.01200533]\n",
      "  [0.02126052]\n",
      "  [0.00300375]\n",
      "  [0.01446778]\n",
      "  [0.0254993 ]\n",
      "  [0.01669163]\n",
      "  [0.02829842]\n",
      "  [0.00414968]\n",
      "  [0.00738025]\n",
      "  [0.0030786 ]\n",
      "  [0.06588577]\n",
      "  [0.01166188]\n",
      "  [0.01173701]\n",
      "  [0.00878119]\n",
      "  [0.00550057]\n",
      "  [0.00988079]\n",
      "  [0.04161181]\n",
      "  [0.07098909]\n",
      "  [0.06631784]\n",
      "  [0.01158807]\n",
      "  [0.00655201]\n",
      "  [0.00134378]\n",
      "  [0.00045882]\n",
      "  [0.01358233]\n",
      "  [0.02132476]\n",
      "  [0.00621493]\n",
      "  [0.01150021]\n",
      "  [0.00190559]\n",
      "  [0.00055465]\n",
      "  [0.00011448]\n",
      "  [0.00096554]\n",
      "  [0.00071356]\n",
      "  [0.00103616]\n",
      "  [0.00345921]\n",
      "  [0.00022492]\n",
      "  [0.00037233]\n",
      "  [0.00219919]\n",
      "  [0.00367136]\n",
      "  [0.00022078]\n",
      "  [0.00032945]]], shape=(1, 49, 1), dtype=float32)\n",
      "attention_weights:  tf.Tensor(\n",
      "[[[0.00961055]\n",
      "  [0.05327609]\n",
      "  [0.07967101]\n",
      "  [0.08863454]\n",
      "  [0.09825841]\n",
      "  [0.09939407]\n",
      "  [0.00999794]\n",
      "  [0.00538077]\n",
      "  [0.03928588]\n",
      "  [0.01200373]\n",
      "  [0.02125893]\n",
      "  [0.0030034 ]\n",
      "  [0.0144673 ]\n",
      "  [0.02549727]\n",
      "  [0.01669146]\n",
      "  [0.02829633]\n",
      "  [0.00414901]\n",
      "  [0.00737833]\n",
      "  [0.00307862]\n",
      "  [0.06588441]\n",
      "  [0.01166011]\n",
      "  [0.01173729]\n",
      "  [0.0087807 ]\n",
      "  [0.00550043]\n",
      "  [0.00987943]\n",
      "  [0.04161192]\n",
      "  [0.07098074]\n",
      "  [0.06630836]\n",
      "  [0.01158725]\n",
      "  [0.00655101]\n",
      "  [0.00134371]\n",
      "  [0.0004588 ]\n",
      "  [0.01358323]\n",
      "  [0.02132215]\n",
      "  [0.00621398]\n",
      "  [0.01149789]\n",
      "  [0.00190511]\n",
      "  [0.00055455]\n",
      "  [0.00011448]\n",
      "  [0.00096548]\n",
      "  [0.00071354]\n",
      "  [0.00103598]\n",
      "  [0.0034585 ]\n",
      "  [0.00022487]\n",
      "  [0.00037228]\n",
      "  [0.00219856]\n",
      "  [0.0036714 ]\n",
      "  [0.00022072]\n",
      "  [0.00032939]]], shape=(1, 49, 1), dtype=float32)\n",
      "attention_weights:  tf.Tensor(\n",
      "[[[0.0096503 ]\n",
      "  [0.05332429]\n",
      "  [0.07931439]\n",
      "  [0.08829642]\n",
      "  [0.09818994]\n",
      "  [0.09964722]\n",
      "  [0.00995567]\n",
      "  [0.00538775]\n",
      "  [0.03921947]\n",
      "  [0.01193817]\n",
      "  [0.02148113]\n",
      "  [0.00301155]\n",
      "  [0.01465127]\n",
      "  [0.02568574]\n",
      "  [0.01663297]\n",
      "  [0.02828907]\n",
      "  [0.00412327]\n",
      "  [0.0073194 ]\n",
      "  [0.00310957]\n",
      "  [0.06645212]\n",
      "  [0.01168847]\n",
      "  [0.01179479]\n",
      "  [0.00882523]\n",
      "  [0.00545987]\n",
      "  [0.00984867]\n",
      "  [0.04139863]\n",
      "  [0.07069127]\n",
      "  [0.06640157]\n",
      "  [0.01164463]\n",
      "  [0.00654312]\n",
      "  [0.00134508]\n",
      "  [0.0004572 ]\n",
      "  [0.01368505]\n",
      "  [0.02122516]\n",
      "  [0.00625796]\n",
      "  [0.01133911]\n",
      "  [0.00191863]\n",
      "  [0.00055305]\n",
      "  [0.00011554]\n",
      "  [0.00096106]\n",
      "  [0.00070516]\n",
      "  [0.00103379]\n",
      "  [0.00346028]\n",
      "  [0.00022745]\n",
      "  [0.00037122]\n",
      "  [0.00220338]\n",
      "  [0.00361379]\n",
      "  [0.00021958]\n",
      "  [0.00033148]]], shape=(1, 49, 1), dtype=float32)\n",
      "attention_weights:  tf.Tensor(\n",
      "[[[0.00954812]\n",
      "  [0.05367163]\n",
      "  [0.07978527]\n",
      "  [0.089246  ]\n",
      "  [0.09905966]\n",
      "  [0.10042552]\n",
      "  [0.00990963]\n",
      "  [0.0053208 ]\n",
      "  [0.03940076]\n",
      "  [0.01175869]\n",
      "  [0.02099108]\n",
      "  [0.00298635]\n",
      "  [0.01473683]\n",
      "  [0.02543383]\n",
      "  [0.01656859]\n",
      "  [0.02826067]\n",
      "  [0.00404155]\n",
      "  [0.00713206]\n",
      "  [0.00303398]\n",
      "  [0.0663308 ]\n",
      "  [0.01162094]\n",
      "  [0.01169272]\n",
      "  [0.00863967]\n",
      "  [0.00532079]\n",
      "  [0.00966485]\n",
      "  [0.04088404]\n",
      "  [0.07096891]\n",
      "  [0.06617459]\n",
      "  [0.01155917]\n",
      "  [0.00644954]\n",
      "  [0.00131778]\n",
      "  [0.0004469 ]\n",
      "  [0.01354186]\n",
      "  [0.02096855]\n",
      "  [0.00612846]\n",
      "  [0.01138551]\n",
      "  [0.00189482]\n",
      "  [0.00054601]\n",
      "  [0.00011432]\n",
      "  [0.00094399]\n",
      "  [0.00069727]\n",
      "  [0.00102153]\n",
      "  [0.00345658]\n",
      "  [0.00022295]\n",
      "  [0.00036616]\n",
      "  [0.00217591]\n",
      "  [0.00360682]\n",
      "  [0.00021871]\n",
      "  [0.00032885]]], shape=(1, 49, 1), dtype=float32)\n",
      "attention_weights:  tf.Tensor(\n",
      "[[[0.00962205]\n",
      "  [0.05305045]\n",
      "  [0.07916236]\n",
      "  [0.08866981]\n",
      "  [0.098446  ]\n",
      "  [0.09966223]\n",
      "  [0.00988115]\n",
      "  [0.00536782]\n",
      "  [0.03918627]\n",
      "  [0.01200544]\n",
      "  [0.02154038]\n",
      "  [0.00302566]\n",
      "  [0.01461727]\n",
      "  [0.02563362]\n",
      "  [0.01651539]\n",
      "  [0.02828495]\n",
      "  [0.00417642]\n",
      "  [0.00742205]\n",
      "  [0.00311916]\n",
      "  [0.0659614 ]\n",
      "  [0.01172246]\n",
      "  [0.01169709]\n",
      "  [0.0088146 ]\n",
      "  [0.0054506 ]\n",
      "  [0.00993251]\n",
      "  [0.04177192]\n",
      "  [0.07055298]\n",
      "  [0.06631929]\n",
      "  [0.01157403]\n",
      "  [0.00654922]\n",
      "  [0.00134847]\n",
      "  [0.00045742]\n",
      "  [0.01371812]\n",
      "  [0.02133027]\n",
      "  [0.00623259]\n",
      "  [0.01141102]\n",
      "  [0.0019207 ]\n",
      "  [0.00055546]\n",
      "  [0.00011628]\n",
      "  [0.00096741]\n",
      "  [0.0007081 ]\n",
      "  [0.00103518]\n",
      "  [0.00347642]\n",
      "  [0.00022727]\n",
      "  [0.00037552]\n",
      "  [0.00221237]\n",
      "  [0.00362257]\n",
      "  [0.00021909]\n",
      "  [0.00033119]]], shape=(1, 49, 1), dtype=float32)\n",
      "attention_weights:  tf.Tensor(\n",
      "[[[0.00972793]\n",
      "  [0.05259516]\n",
      "  [0.07844291]\n",
      "  [0.08830312]\n",
      "  [0.09819669]\n",
      "  [0.09943546]\n",
      "  [0.00999398]\n",
      "  [0.00540295]\n",
      "  [0.0393483 ]\n",
      "  [0.01195547]\n",
      "  [0.02170921]\n",
      "  [0.00304435]\n",
      "  [0.01474376]\n",
      "  [0.02565073]\n",
      "  [0.01680776]\n",
      "  [0.02809016]\n",
      "  [0.00415529]\n",
      "  [0.00740476]\n",
      "  [0.00314809]\n",
      "  [0.06618537]\n",
      "  [0.01166445]\n",
      "  [0.01175392]\n",
      "  [0.00876141]\n",
      "  [0.00551248]\n",
      "  [0.00999661]\n",
      "  [0.04191801]\n",
      "  [0.07067422]\n",
      "  [0.06650703]\n",
      "  [0.01157117]\n",
      "  [0.00662012]\n",
      "  [0.00135888]\n",
      "  [0.00046162]\n",
      "  [0.01384373]\n",
      "  [0.02145541]\n",
      "  [0.00625006]\n",
      "  [0.01149558]\n",
      "  [0.00192189]\n",
      "  [0.00055648]\n",
      "  [0.00011694]\n",
      "  [0.00097325]\n",
      "  [0.00071512]\n",
      "  [0.00104369]\n",
      "  [0.00345364]\n",
      "  [0.00022595]\n",
      "  [0.00037564]\n",
      "  [0.00221862]\n",
      "  [0.00366132]\n",
      "  [0.00022088]\n",
      "  [0.00033038]]], shape=(1, 49, 1), dtype=float32)\n",
      "attention_weights:  tf.Tensor(\n",
      "[[[0.00954896]\n",
      "  [0.05372338]\n",
      "  [0.07982232]\n",
      "  [0.08928776]\n",
      "  [0.09911244]\n",
      "  [0.1005627 ]\n",
      "  [0.00990881]\n",
      "  [0.00531799]\n",
      "  [0.03942362]\n",
      "  [0.01174807]\n",
      "  [0.0209559 ]\n",
      "  [0.00298056]\n",
      "  [0.0147206 ]\n",
      "  [0.02540779]\n",
      "  [0.01656655]\n",
      "  [0.02827791]\n",
      "  [0.00403267]\n",
      "  [0.00711659]\n",
      "  [0.00302891]\n",
      "  [0.06635717]\n",
      "  [0.01161023]\n",
      "  [0.01168667]\n",
      "  [0.00864212]\n",
      "  [0.00531427]\n",
      "  [0.00964498]\n",
      "  [0.04084719]\n",
      "  [0.07095985]\n",
      "  [0.06609985]\n",
      "  [0.01154748]\n",
      "  [0.0064339 ]\n",
      "  [0.00131524]\n",
      "  [0.00044598]\n",
      "  [0.01352668]\n",
      "  [0.02095317]\n",
      "  [0.00612334]\n",
      "  [0.01137442]\n",
      "  [0.00189097]\n",
      "  [0.00054457]\n",
      "  [0.00011413]\n",
      "  [0.00094226]\n",
      "  [0.00069601]\n",
      "  [0.00101949]\n",
      "  [0.00345241]\n",
      "  [0.00022259]\n",
      "  [0.00036541]\n",
      "  [0.00217272]\n",
      "  [0.00360648]\n",
      "  [0.00021856]\n",
      "  [0.00032833]]], shape=(1, 49, 1), dtype=float32)\n",
      "attention_weights:  tf.Tensor(\n",
      "[[[0.00964927]\n",
      "  [0.05323388]\n",
      "  [0.07924359]\n",
      "  [0.08821411]\n",
      "  [0.0980915 ]\n",
      "  [0.09942378]\n",
      "  [0.00995887]\n",
      "  [0.005393  ]\n",
      "  [0.03917463]\n",
      "  [0.01195839]\n",
      "  [0.02153593]\n",
      "  [0.0030216 ]\n",
      "  [0.01467529]\n",
      "  [0.02573606]\n",
      "  [0.01663166]\n",
      "  [0.02825882]\n",
      "  [0.00413929]\n",
      "  [0.00734752]\n",
      "  [0.003119  ]\n",
      "  [0.06640597]\n",
      "  [0.01170694]\n",
      "  [0.01180416]\n",
      "  [0.00882061]\n",
      "  [0.00547216]\n",
      "  [0.00988337]\n",
      "  [0.04146627]\n",
      "  [0.07071813]\n",
      "  [0.06652655]\n",
      "  [0.01166867]\n",
      "  [0.00656914]\n",
      "  [0.0013495 ]\n",
      "  [0.00045888]\n",
      "  [0.01370784]\n",
      "  [0.02125567]\n",
      "  [0.0062688 ]\n",
      "  [0.01136031]\n",
      "  [0.00192559]\n",
      "  [0.0005556 ]\n",
      "  [0.0001159 ]\n",
      "  [0.00096387]\n",
      "  [0.00070739]\n",
      "  [0.00103744]\n",
      "  [0.00346784]\n",
      "  [0.00022811]\n",
      "  [0.00037256]\n",
      "  [0.00220967]\n",
      "  [0.00361473]\n",
      "  [0.00021986]\n",
      "  [0.0003323 ]]], shape=(1, 49, 1), dtype=float32)\n",
      "Real Caption: <start> pendaki perempuan cantik yang buktikan wanita itu tangguh <end>\n",
      "Prediction Caption: pendaki wanita cantik gunung gunung iya wanita perempuan dirasakan wanita iya dirasakan <end>\n"
     ]
    },
    {
     "data": {
      "image/png": "[encoded data removed]",
      "text/plain": [
       "<Figure size 720x720 with 13 Axes>"
      ]
     },
     "metadata": {
      "needs_background": "light"
     },
     "output_type": "display_data"
    }
   ],
   "source": [
    "# captions on the validation set\n",
    "rid = np.random.randint(0, len(img_name_val))\n",
    "image = img_name_val[rid]\n",
    "real_caption = ' '.join([tokenizer.index_word[i] for i in cap_val[rid] if i not in [0]])\n",
    "result, attention_plot = evaluate(image)\n",
    "\n",
    "print ('Real Caption:', real_caption)\n",
    "print ('Prediction Caption:', ' '.join(result))\n",
    "plot_attention(image, result, attention_plot)\n"
   ]
  },
  {
   "cell_type": "markdown",
   "metadata": {
    "colab_type": "text",
    "id": "Rprk3HEvZuxb"
   },
   "source": [
    "## Try it on your own images\n",
    "For fun, below we've provided a method you can use to caption your own images with the model we've just trained. Keep in mind, it was trained on a relatively small amount of data, and your images may be different from the training data (so be prepared for weird results!)\n"
   ]
  },
  {
   "cell_type": "code",
   "execution_count": null,
   "metadata": {
    "colab": {
     "base_uri": "https://localhost:8080/",
     "height": 1000
    },
    "colab_type": "code",
    "id": "9Psd1quzaAWg",
    "outputId": "0ff90702-6cea-47ac-b1d1-dc9f19899339"
   },
   "outputs": [],
   "source": [
    "image_path = '/content/drive/My Drive/img_caption/data_test/IC5.jpg'\n",
    "# image_extension = image_url[-4:]\n",
    "# image_path = tf.keras.utils.get_file('image'+image_extension,\n",
    "#                                      origin=image_url)\n",
    "\n",
    "result, attention_plot = evaluate(image_path)\n",
    "print ('Prediction Caption:', ' '.join(result))\n",
    "plot_attention(image_path, result, attention_plot)\n",
    "# opening the image\n",
    "Image.open(image_path)"
   ]
  },
  {
   "cell_type": "code",
   "execution_count": null,
   "metadata": {
    "colab": {
     "base_uri": "https://localhost:8080/",
     "height": 1000
    },
    "colab_type": "code",
    "id": "sJdO2_1uUpB_",
    "outputId": "064977d5-f0a9-4714-ba3a-9969173b4314"
   },
   "outputs": [],
   "source": [
    "image_path = '/content/drive/My Drive/img_caption/data_test/IC4.jpg'\n",
    "# image_extension = image_url[-4:]\n",
    "# image_path = tf.keras.utils.get_file('image'+image_extension,\n",
    "#                                      origin=image_url)\n",
    "\n",
    "result, attention_plot = evaluate(image_path)\n",
    "print ('Prediction Caption:', ' '.join(result))\n",
    "plot_attention(image_path, result, attention_plot)\n",
    "# opening the image\n",
    "Image.open(image_path)"
   ]
  },
  {
   "cell_type": "code",
   "execution_count": null,
   "metadata": {
    "colab": {
     "base_uri": "https://localhost:8080/",
     "height": 1000
    },
    "colab_type": "code",
    "id": "8ZEwFQjwVmVn",
    "outputId": "286aa794-0d06-44b0-dea0-fa1c5be6e18f"
   },
   "outputs": [],
   "source": [
    "image_path = '/content/drive/My Drive/img_caption/data_test/IC3.JPG'\n",
    "# image_extension = image_url[-4:]\n",
    "# image_path = tf.keras.utils.get_file('image'+image_extension,\n",
    "#                                      origin=image_url)\n",
    "\n",
    "result, attention_plot = evaluate(image_path)\n",
    "print ('Prediction Caption:', ' '.join(result))\n",
    "plot_attention(image_path, result, attention_plot)\n",
    "# opening the image\n",
    "Image.open(image_path)"
   ]
  },
  {
   "cell_type": "code",
   "execution_count": null,
   "metadata": {
    "colab": {
     "base_uri": "https://localhost:8080/",
     "height": 1000
    },
    "colab_type": "code",
    "id": "OmTtYp4xV6WI",
    "outputId": "82373465-8958-415a-9f88-8e98f0bb26fa"
   },
   "outputs": [],
   "source": [
    "image_path = '/content/drive/My Drive/img_caption/data_test/IC2.jpg'\n",
    "# image_extension = image_url[-4:]\n",
    "# image_path = tf.keras.utils.get_file('image'+image_extension,\n",
    "#                                      origin=image_url)\n",
    "\n",
    "result, attention_plot = evaluate(image_path)\n",
    "print ('Prediction Caption:', ' '.join(result))\n",
    "plot_attention(image_path, result, attention_plot)\n",
    "# opening the image\n",
    "Image.open(image_path)"
   ]
  },
  {
   "cell_type": "code",
   "execution_count": null,
   "metadata": {
    "colab": {
     "base_uri": "https://localhost:8080/",
     "height": 1000
    },
    "colab_type": "code",
    "id": "QKVqriBPWJVx",
    "outputId": "4b1b6cba-935f-4ce0-91e1-1d23477f4f92"
   },
   "outputs": [],
   "source": [
    "image_path = '/content/drive/My Drive/img_caption/data_test/IC1.jpg'\n",
    "# image_extension = image_url[-4:]\n",
    "# image_path = tf.keras.utils.get_file('image'+image_extension,\n",
    "#                                      origin=image_url)\n",
    "\n",
    "result, attention_plot = evaluate(image_path)\n",
    "print ('Prediction Caption:', ' '.join(result))\n",
    "plot_attention(image_path, result, attention_plot)\n",
    "# opening the image\n",
    "Image.open(image_path)"
   ]
  },
  {
   "cell_type": "markdown",
   "metadata": {
    "colab_type": "text",
    "id": "VJZXyJco6uLO"
   },
   "source": [
    "# Next steps\n",
    "\n",
    "Congrats! You've just trained an image captioning model with attention. Next, take a look at this example [Neural Machine Translation with Attention](../sequences/nmt_with_attention.ipynb). It uses a similar architecture to translate between Spanish and English sentences. You can also experiment with training the code in this notebook on a different dataset."
   ]
  }
 ],
 "metadata": {
  "accelerator": "GPU",
  "colab": {
   "collapsed_sections": [],
   "name": "Salinan_yurio_cp_image_captioning.ipynb",
   "provenance": [],
   "toc_visible": true
  },
  "kernelspec": {
   "display_name": "Python 3.7.7 64-bit",
   "language": "python",
   "name": "python37764bitcacf4f5e383b409fad686b20c508589d"
  },
  "language_info": {
   "codemirror_mode": {
    "name": "ipython",
    "version": 3
   },
   "file_extension": ".py",
   "mimetype": "text/x-python",
   "name": "python",
   "nbconvert_exporter": "python",
   "pygments_lexer": "ipython3",
   "version": "3.7.7"
  }
 },
 "nbformat": 4,
 "nbformat_minor": 1
}
